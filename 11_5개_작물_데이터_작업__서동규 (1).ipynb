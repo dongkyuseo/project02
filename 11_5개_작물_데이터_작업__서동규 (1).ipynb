{
  "cells": [
    {
      "cell_type": "markdown",
      "metadata": {
        "id": "r2m1RshB3aNo"
      },
      "source": [
        "# 병충해 분석 AI 프로젝트"
      ]
    },
    {
      "cell_type": "code",
      "execution_count": 1,
      "metadata": {
        "id": "5Tvj7ePMuiJU"
      },
      "outputs": [],
      "source": [
        "import numpy as np\n",
        "import pandas as pd\n",
        "import seaborn as sns\n",
        "import matplotlib as mpl\n",
        "import matplotlib.pyplot as plt\n",
        "!apt-get install -y fonts-nanum > /dev/null\n",
        "!fc-cache -fv > /dev/null\n",
        "!rm -rf ~/.cache/matplotlib > /dev/null\n",
        "mpl.rcParams['axes.unicode_minus'] = False\n",
        "plt.rc('font', family = 'NanumBarunGothic')\n",
        "import warnings\n",
        "warnings.filterwarnings('ignore')"
      ]
    },
    {
      "cell_type": "code",
      "execution_count": 2,
      "metadata": {
        "id": "HphTAmsRujLj"
      },
      "outputs": [],
      "source": [
        "import os\n",
        "import cv2\n",
        "from PIL import Image\n",
        "from tqdm import tqdm\n",
        "import tensorflow as tf\n",
        "from tensorflow import keras"
      ]
    },
    {
      "cell_type": "code",
      "execution_count": 3,
      "metadata": {
        "colab": {
          "base_uri": "https://localhost:8080/"
        },
        "id": "Fzc-UD9dujrs",
        "outputId": "492de502-9e79-4927-d067-311164a6d19b"
      },
      "outputs": [
        {
          "name": "stdout",
          "output_type": "stream",
          "text": [
            "Mounted at /content/drive\n"
          ]
        }
      ],
      "source": [
        "from google.colab import drive\n",
        "drive.mount('/content/drive')"
      ]
    },
    {
      "cell_type": "code",
      "execution_count": 4,
      "metadata": {
        "colab": {
          "base_uri": "https://localhost:8080/"
        },
        "id": "nDjsFa6tukzT",
        "outputId": "108b5f32-bfe1-4023-e976-6525984e16b4"
      },
      "outputs": [
        {
          "name": "stdout",
          "output_type": "stream",
          "text": [
            "/content/drive/MyDrive/data/project02\n"
          ]
        }
      ],
      "source": [
        "cd /content/drive/MyDrive/data/project02"
      ]
    },
    {
      "cell_type": "markdown",
      "metadata": {
        "id": "zOYA517uu4Mm"
      },
      "source": [
        "# 0. 압축풀기"
      ]
    },
    {
      "cell_type": "code",
      "execution_count": 25,
      "metadata": {
        "id": "E7OXUNwxu6d5"
      },
      "outputs": [],
      "source": [
        "# 압축파일 폴더별 정리\n",
        "import os\n",
        "import zipfile\n",
        "with zipfile.ZipFile('data.zip', 'r') as existing_zip: # 압축파일 경로 설정\n",
        "        existing_zip.extractall(f'data/') #압축을 풀어 폴더에 넣기"
      ]
    },
    {
      "cell_type": "markdown",
      "metadata": {
        "id": "3kKHu9gP3aNu"
      },
      "source": [
        "## 1. 파일읽기"
      ]
    },
    {
      "cell_type": "code",
      "execution_count": 6,
      "metadata": {
        "colab": {
          "base_uri": "https://localhost:8080/"
        },
        "id": "ld7MseU1xaPo",
        "outputId": "c7fe94ed-9b6b-426a-85cc-3c79d4ee3fcc"
      },
      "outputs": [
        {
          "name": "stdout",
          "output_type": "stream",
          "text": [
            "data\t   train_df_csv.csv\ttrain_plant.npz    val_plant.npz\n",
            "data.zip   train_plant_5.npz\tval_df_csv.csv\n",
            "pepper.h5  train_plant_all.npz\tval_plant_all.npz\n"
          ]
        }
      ],
      "source": [
        "!ls"
      ]
    },
    {
      "cell_type": "code",
      "execution_count": 7,
      "metadata": {
        "colab": {
          "base_uri": "https://localhost:8080/"
        },
        "id": "0AT_HPle3aNw",
        "outputId": "d8073224-a51e-4dfc-d4a9-4cb00d05edf4"
      },
      "outputs": [
        {
          "name": "stdout",
          "output_type": "stream",
          "text": [
            "end\n"
          ]
        }
      ],
      "source": [
        "import numpy as np\n",
        "import pandas as pd\n",
        "import os\n",
        "\n",
        "\n",
        "train_csv = pd.read_csv('train_df_csv.csv')\n",
        "val_csv = pd.read_csv('val_df_csv.csv')\n",
        "\n",
        "print('end')"
      ]
    },
    {
      "cell_type": "markdown",
      "metadata": {
        "id": "J9v-bOrXug9s"
      },
      "source": [
        "# for문으로 각 작물당 2000개씩 샘플 묶기\n",
        "- 1 고추\n",
        "- 2 토마토 삭제\n",
        "- 3 오이\n",
        "- 4 양배추 삭제\n",
        "- 5 배추\n",
        "- 6 애호박 삭제\n",
        "- 7 콩 삭제\n",
        "- 8 무\n",
        "- 9 파\n",
        "- 10 호박 삭제\n",
        "\n",
        "> 총 8개의 작물 (곤충과 겹치는 작물)\n"
      ]
    },
    {
      "cell_type": "code",
      "execution_count": 8,
      "metadata": {
        "colab": {
          "base_uri": "https://localhost:8080/",
          "height": 589
        },
        "id": "UjznFz2hug9t",
        "outputId": "a1be8979-c7cd-4e47-b8f1-3c54aab739e3"
      },
      "outputs": [
        {
          "data": {
            "text/html": [
              "<div>\n",
              "<style scoped>\n",
              "    .dataframe tbody tr th:only-of-type {\n",
              "        vertical-align: middle;\n",
              "    }\n",
              "\n",
              "    .dataframe tbody tr th {\n",
              "        vertical-align: top;\n",
              "    }\n",
              "\n",
              "    .dataframe thead th {\n",
              "        text-align: right;\n",
              "    }\n",
              "</style>\n",
              "<table border=\"1\" class=\"dataframe\">\n",
              "  <thead>\n",
              "    <tr style=\"text-align: right;\">\n",
              "      <th></th>\n",
              "      <th>image</th>\n",
              "      <th>disease</th>\n",
              "      <th>crop</th>\n",
              "      <th>grow</th>\n",
              "      <th>risk</th>\n",
              "      <th>points</th>\n",
              "      <th>name</th>\n",
              "    </tr>\n",
              "  </thead>\n",
              "  <tbody>\n",
              "    <tr>\n",
              "      <th>0</th>\n",
              "      <td>V006_79_0_00_01_01_13_0_a01_20201102_0000_S01_...</td>\n",
              "      <td>0</td>\n",
              "      <td>1</td>\n",
              "      <td>13</td>\n",
              "      <td>0</td>\n",
              "      <td>[{'xtl': 1118, 'ytl': 1294, 'xbr': 2900, 'ybr'...</td>\n",
              "      <td>고추_0.정상</td>\n",
              "    </tr>\n",
              "    <tr>\n",
              "      <th>1</th>\n",
              "      <td>V006_79_0_00_01_01_13_0_a01_20201102_0002_S01_...</td>\n",
              "      <td>0</td>\n",
              "      <td>1</td>\n",
              "      <td>13</td>\n",
              "      <td>0</td>\n",
              "      <td>[{'xtl': 1033, 'ytl': 1533, 'xbr': 2829, 'ybr'...</td>\n",
              "      <td>고추_0.정상</td>\n",
              "    </tr>\n",
              "    <tr>\n",
              "      <th>2</th>\n",
              "      <td>V006_79_0_00_01_01_13_0_a01_20201103_0001_S01_...</td>\n",
              "      <td>0</td>\n",
              "      <td>1</td>\n",
              "      <td>13</td>\n",
              "      <td>0</td>\n",
              "      <td>[{'xtl': 484, 'ytl': 1227, 'xbr': 3879, 'ybr':...</td>\n",
              "      <td>고추_0.정상</td>\n",
              "    </tr>\n",
              "    <tr>\n",
              "      <th>3</th>\n",
              "      <td>V006_79_0_00_01_01_13_0_a01_20201103_0003_S01_...</td>\n",
              "      <td>0</td>\n",
              "      <td>1</td>\n",
              "      <td>13</td>\n",
              "      <td>0</td>\n",
              "      <td>[{'xtl': 1241, 'ytl': 103, 'xbr': 2344, 'ybr':...</td>\n",
              "      <td>고추_0.정상</td>\n",
              "    </tr>\n",
              "    <tr>\n",
              "      <th>4</th>\n",
              "      <td>V006_79_0_00_01_01_13_0_a05_20201111_0000_S01_...</td>\n",
              "      <td>0</td>\n",
              "      <td>1</td>\n",
              "      <td>13</td>\n",
              "      <td>0</td>\n",
              "      <td>[{'xtl': 1382, 'ytl': 978, 'xbr': 3226, 'ybr':...</td>\n",
              "      <td>고추_0.정상</td>\n",
              "    </tr>\n",
              "    <tr>\n",
              "      <th>...</th>\n",
              "      <td>...</td>\n",
              "      <td>...</td>\n",
              "      <td>...</td>\n",
              "      <td>...</td>\n",
              "      <td>...</td>\n",
              "      <td>...</td>\n",
              "      <td>...</td>\n",
              "    </tr>\n",
              "    <tr>\n",
              "      <th>14434</th>\n",
              "      <td>V006_79_1_18_09_03_13_1_0819e_20201117_133.jpg</td>\n",
              "      <td>18</td>\n",
              "      <td>9</td>\n",
              "      <td>13</td>\n",
              "      <td>1</td>\n",
              "      <td>[{'xtl': 135, 'ytl': 0, 'xbr': 875, 'ybr': 961}]</td>\n",
              "      <td>파_1.질병</td>\n",
              "    </tr>\n",
              "    <tr>\n",
              "      <th>14435</th>\n",
              "      <td>V006_79_1_18_09_03_13_1_0819e_20201117_134.jpg</td>\n",
              "      <td>18</td>\n",
              "      <td>9</td>\n",
              "      <td>13</td>\n",
              "      <td>1</td>\n",
              "      <td>[{'xtl': 293, 'ytl': 0, 'xbr': 520, 'ybr': 961}]</td>\n",
              "      <td>파_1.질병</td>\n",
              "    </tr>\n",
              "    <tr>\n",
              "      <th>14436</th>\n",
              "      <td>V006_79_1_18_09_03_13_1_0819e_20201118_137.jpg</td>\n",
              "      <td>18</td>\n",
              "      <td>9</td>\n",
              "      <td>13</td>\n",
              "      <td>1</td>\n",
              "      <td>[{'xtl': 2, 'ytl': 0, 'xbr': 722, 'ybr': 878}]</td>\n",
              "      <td>파_1.질병</td>\n",
              "    </tr>\n",
              "    <tr>\n",
              "      <th>14437</th>\n",
              "      <td>V006_79_1_18_09_03_13_1_0819e_20201118_139.jpg</td>\n",
              "      <td>18</td>\n",
              "      <td>9</td>\n",
              "      <td>13</td>\n",
              "      <td>1</td>\n",
              "      <td>[{'xtl': 192, 'ytl': 0, 'xbr': 636, 'ybr': 961}]</td>\n",
              "      <td>파_1.질병</td>\n",
              "    </tr>\n",
              "    <tr>\n",
              "      <th>14438</th>\n",
              "      <td>V006_79_1_18_09_03_13_1_0819e_20201118_140.jpg</td>\n",
              "      <td>18</td>\n",
              "      <td>9</td>\n",
              "      <td>13</td>\n",
              "      <td>1</td>\n",
              "      <td>[{'xtl': 294, 'ytl': 0, 'xbr': 961, 'ybr': 961}]</td>\n",
              "      <td>파_1.질병</td>\n",
              "    </tr>\n",
              "  </tbody>\n",
              "</table>\n",
              "<p>14439 rows × 7 columns</p>\n",
              "</div>"
            ],
            "text/plain": [
              "                                                   image  ...     name\n",
              "0      V006_79_0_00_01_01_13_0_a01_20201102_0000_S01_...  ...  고추_0.정상\n",
              "1      V006_79_0_00_01_01_13_0_a01_20201102_0002_S01_...  ...  고추_0.정상\n",
              "2      V006_79_0_00_01_01_13_0_a01_20201103_0001_S01_...  ...  고추_0.정상\n",
              "3      V006_79_0_00_01_01_13_0_a01_20201103_0003_S01_...  ...  고추_0.정상\n",
              "4      V006_79_0_00_01_01_13_0_a05_20201111_0000_S01_...  ...  고추_0.정상\n",
              "...                                                  ...  ...      ...\n",
              "14434     V006_79_1_18_09_03_13_1_0819e_20201117_133.jpg  ...   파_1.질병\n",
              "14435     V006_79_1_18_09_03_13_1_0819e_20201117_134.jpg  ...   파_1.질병\n",
              "14436     V006_79_1_18_09_03_13_1_0819e_20201118_137.jpg  ...   파_1.질병\n",
              "14437     V006_79_1_18_09_03_13_1_0819e_20201118_139.jpg  ...   파_1.질병\n",
              "14438     V006_79_1_18_09_03_13_1_0819e_20201118_140.jpg  ...   파_1.질병\n",
              "\n",
              "[14439 rows x 7 columns]"
            ]
          },
          "execution_count": 8,
          "metadata": {},
          "output_type": "execute_result"
        }
      ],
      "source": [
        "tc = train_csv[['image', 'disease', 'crop', 'grow', 'risk', 'points', 'name']]\n",
        "tc"
      ]
    },
    {
      "cell_type": "code",
      "execution_count": 9,
      "metadata": {
        "id": "d-kNZKUOug9t"
      },
      "outputs": [],
      "source": [
        "tc = train_csv[['image', 'disease', 'crop', 'grow', 'risk', 'points', 'name']]\n",
        "df = pd.DataFrame(index=range(0,), columns=['image', 'disease', 'crop', 'grow', 'risk', 'points', 'name'])\n",
        "\n",
        "for i in [1,3,5,8,9]:\n",
        "    for k in range(19):\n",
        "        if k == 0:\n",
        "            tmp = tc[(tc['crop'] == i)&(tc['disease'] == k)][:1000]\n",
        "            df = pd.concat([df, tmp])\n",
        "        else:\n",
        "            tmp = tc[(tc['crop'] == i)&(tc['disease'] == k)][:500]\n",
        "            df = pd.concat([df, tmp])\n",
        "\n",
        "\n",
        "train_df = df"
      ]
    },
    {
      "cell_type": "code",
      "execution_count": 10,
      "metadata": {
        "id": "mpQ5PGivug9t"
      },
      "outputs": [],
      "source": [
        "train_df = train_df[['image', 'disease', 'crop', 'grow', 'risk']]\n",
        "train_df.reset_index(drop=True, inplace=True)"
      ]
    },
    {
      "cell_type": "code",
      "execution_count": 11,
      "metadata": {
        "colab": {
          "base_uri": "https://localhost:8080/",
          "height": 419
        },
        "id": "5nhYfCx5zErB",
        "outputId": "f8cbaf1a-1cfc-404a-eff6-78ca29acbdbb"
      },
      "outputs": [
        {
          "data": {
            "text/html": [
              "<div>\n",
              "<style scoped>\n",
              "    .dataframe tbody tr th:only-of-type {\n",
              "        vertical-align: middle;\n",
              "    }\n",
              "\n",
              "    .dataframe tbody tr th {\n",
              "        vertical-align: top;\n",
              "    }\n",
              "\n",
              "    .dataframe thead th {\n",
              "        text-align: right;\n",
              "    }\n",
              "</style>\n",
              "<table border=\"1\" class=\"dataframe\">\n",
              "  <thead>\n",
              "    <tr style=\"text-align: right;\">\n",
              "      <th></th>\n",
              "      <th>image</th>\n",
              "      <th>disease</th>\n",
              "      <th>crop</th>\n",
              "      <th>grow</th>\n",
              "      <th>risk</th>\n",
              "    </tr>\n",
              "  </thead>\n",
              "  <tbody>\n",
              "    <tr>\n",
              "      <th>0</th>\n",
              "      <td>V006_79_0_00_01_01_13_0_a01_20201102_0000_S01_...</td>\n",
              "      <td>0</td>\n",
              "      <td>1</td>\n",
              "      <td>13</td>\n",
              "      <td>0</td>\n",
              "    </tr>\n",
              "    <tr>\n",
              "      <th>1</th>\n",
              "      <td>V006_79_0_00_01_01_13_0_a01_20201102_0002_S01_...</td>\n",
              "      <td>0</td>\n",
              "      <td>1</td>\n",
              "      <td>13</td>\n",
              "      <td>0</td>\n",
              "    </tr>\n",
              "    <tr>\n",
              "      <th>2</th>\n",
              "      <td>V006_79_0_00_01_01_13_0_a01_20201103_0001_S01_...</td>\n",
              "      <td>0</td>\n",
              "      <td>1</td>\n",
              "      <td>13</td>\n",
              "      <td>0</td>\n",
              "    </tr>\n",
              "    <tr>\n",
              "      <th>3</th>\n",
              "      <td>V006_79_0_00_01_01_13_0_a01_20201103_0003_S01_...</td>\n",
              "      <td>0</td>\n",
              "      <td>1</td>\n",
              "      <td>13</td>\n",
              "      <td>0</td>\n",
              "    </tr>\n",
              "    <tr>\n",
              "      <th>4</th>\n",
              "      <td>V006_79_0_00_01_01_13_0_a05_20201111_0000_S01_...</td>\n",
              "      <td>0</td>\n",
              "      <td>1</td>\n",
              "      <td>13</td>\n",
              "      <td>0</td>\n",
              "    </tr>\n",
              "    <tr>\n",
              "      <th>...</th>\n",
              "      <td>...</td>\n",
              "      <td>...</td>\n",
              "      <td>...</td>\n",
              "      <td>...</td>\n",
              "      <td>...</td>\n",
              "    </tr>\n",
              "    <tr>\n",
              "      <th>9740</th>\n",
              "      <td>V006_79_1_18_09_03_13_1_0819e_20201117_133.jpg</td>\n",
              "      <td>18</td>\n",
              "      <td>9</td>\n",
              "      <td>13</td>\n",
              "      <td>1</td>\n",
              "    </tr>\n",
              "    <tr>\n",
              "      <th>9741</th>\n",
              "      <td>V006_79_1_18_09_03_13_1_0819e_20201117_134.jpg</td>\n",
              "      <td>18</td>\n",
              "      <td>9</td>\n",
              "      <td>13</td>\n",
              "      <td>1</td>\n",
              "    </tr>\n",
              "    <tr>\n",
              "      <th>9742</th>\n",
              "      <td>V006_79_1_18_09_03_13_1_0819e_20201118_137.jpg</td>\n",
              "      <td>18</td>\n",
              "      <td>9</td>\n",
              "      <td>13</td>\n",
              "      <td>1</td>\n",
              "    </tr>\n",
              "    <tr>\n",
              "      <th>9743</th>\n",
              "      <td>V006_79_1_18_09_03_13_1_0819e_20201118_139.jpg</td>\n",
              "      <td>18</td>\n",
              "      <td>9</td>\n",
              "      <td>13</td>\n",
              "      <td>1</td>\n",
              "    </tr>\n",
              "    <tr>\n",
              "      <th>9744</th>\n",
              "      <td>V006_79_1_18_09_03_13_1_0819e_20201118_140.jpg</td>\n",
              "      <td>18</td>\n",
              "      <td>9</td>\n",
              "      <td>13</td>\n",
              "      <td>1</td>\n",
              "    </tr>\n",
              "  </tbody>\n",
              "</table>\n",
              "<p>9745 rows × 5 columns</p>\n",
              "</div>"
            ],
            "text/plain": [
              "                                                  image disease crop grow risk\n",
              "0     V006_79_0_00_01_01_13_0_a01_20201102_0000_S01_...       0    1   13    0\n",
              "1     V006_79_0_00_01_01_13_0_a01_20201102_0002_S01_...       0    1   13    0\n",
              "2     V006_79_0_00_01_01_13_0_a01_20201103_0001_S01_...       0    1   13    0\n",
              "3     V006_79_0_00_01_01_13_0_a01_20201103_0003_S01_...       0    1   13    0\n",
              "4     V006_79_0_00_01_01_13_0_a05_20201111_0000_S01_...       0    1   13    0\n",
              "...                                                 ...     ...  ...  ...  ...\n",
              "9740     V006_79_1_18_09_03_13_1_0819e_20201117_133.jpg      18    9   13    1\n",
              "9741     V006_79_1_18_09_03_13_1_0819e_20201117_134.jpg      18    9   13    1\n",
              "9742     V006_79_1_18_09_03_13_1_0819e_20201118_137.jpg      18    9   13    1\n",
              "9743     V006_79_1_18_09_03_13_1_0819e_20201118_139.jpg      18    9   13    1\n",
              "9744     V006_79_1_18_09_03_13_1_0819e_20201118_140.jpg      18    9   13    1\n",
              "\n",
              "[9745 rows x 5 columns]"
            ]
          },
          "execution_count": 11,
          "metadata": {},
          "output_type": "execute_result"
        }
      ],
      "source": [
        "train_df"
      ]
    },
    {
      "cell_type": "code",
      "execution_count": 12,
      "metadata": {
        "colab": {
          "base_uri": "https://localhost:8080/",
          "height": 589
        },
        "id": "nKFuV0bJug9t",
        "outputId": "91328257-8e0c-4cdb-c551-e55614f7baf8"
      },
      "outputs": [
        {
          "data": {
            "text/html": [
              "<div>\n",
              "<style scoped>\n",
              "    .dataframe tbody tr th:only-of-type {\n",
              "        vertical-align: middle;\n",
              "    }\n",
              "\n",
              "    .dataframe tbody tr th {\n",
              "        vertical-align: top;\n",
              "    }\n",
              "\n",
              "    .dataframe thead th {\n",
              "        text-align: right;\n",
              "    }\n",
              "</style>\n",
              "<table border=\"1\" class=\"dataframe\">\n",
              "  <thead>\n",
              "    <tr style=\"text-align: right;\">\n",
              "      <th></th>\n",
              "      <th>image</th>\n",
              "      <th>disease</th>\n",
              "      <th>crop</th>\n",
              "      <th>grow</th>\n",
              "      <th>risk</th>\n",
              "      <th>points</th>\n",
              "      <th>name</th>\n",
              "    </tr>\n",
              "  </thead>\n",
              "  <tbody>\n",
              "    <tr>\n",
              "      <th>0</th>\n",
              "      <td>V006_79_0_00_01_01_13_0_a01_20201103_0000_S01_...</td>\n",
              "      <td>0</td>\n",
              "      <td>1</td>\n",
              "      <td>13</td>\n",
              "      <td>0</td>\n",
              "      <td>[{'xtl': 502, 'ytl': 1261, 'xbr': 3781, 'ybr':...</td>\n",
              "      <td>고추_0.정상</td>\n",
              "    </tr>\n",
              "    <tr>\n",
              "      <th>1</th>\n",
              "      <td>V006_79_0_00_01_01_13_0_a01_20201103_0002_S01_...</td>\n",
              "      <td>0</td>\n",
              "      <td>1</td>\n",
              "      <td>13</td>\n",
              "      <td>0</td>\n",
              "      <td>[{'xtl': 817, 'ytl': 1564, 'xbr': 3693, 'ybr':...</td>\n",
              "      <td>고추_0.정상</td>\n",
              "    </tr>\n",
              "    <tr>\n",
              "      <th>2</th>\n",
              "      <td>V006_79_0_00_01_01_13_0_a05_20201111_0009_S01_...</td>\n",
              "      <td>0</td>\n",
              "      <td>1</td>\n",
              "      <td>13</td>\n",
              "      <td>0</td>\n",
              "      <td>[{'xtl': 697, 'ytl': 967, 'xbr': 3797, 'ybr': ...</td>\n",
              "      <td>고추_0.정상</td>\n",
              "    </tr>\n",
              "    <tr>\n",
              "      <th>3</th>\n",
              "      <td>V006_79_0_00_01_01_13_0_a05_20201111_0014_S01_...</td>\n",
              "      <td>0</td>\n",
              "      <td>1</td>\n",
              "      <td>13</td>\n",
              "      <td>0</td>\n",
              "      <td>[{'xtl': 627, 'ytl': 1294, 'xbr': 3783, 'ybr':...</td>\n",
              "      <td>고추_0.정상</td>\n",
              "    </tr>\n",
              "    <tr>\n",
              "      <th>4</th>\n",
              "      <td>V006_79_0_00_01_01_13_0_a05_20201111_0024_S01_...</td>\n",
              "      <td>0</td>\n",
              "      <td>1</td>\n",
              "      <td>13</td>\n",
              "      <td>0</td>\n",
              "      <td>[{'xtl': 1002, 'ytl': 458, 'xbr': 3380, 'ybr':...</td>\n",
              "      <td>고추_0.정상</td>\n",
              "    </tr>\n",
              "    <tr>\n",
              "      <th>...</th>\n",
              "      <td>...</td>\n",
              "      <td>...</td>\n",
              "      <td>...</td>\n",
              "      <td>...</td>\n",
              "      <td>...</td>\n",
              "      <td>...</td>\n",
              "      <td>...</td>\n",
              "    </tr>\n",
              "    <tr>\n",
              "      <th>9100</th>\n",
              "      <td>V006_79_1_18_09_03_13_3_0819e_20201112_151.jpg</td>\n",
              "      <td>18</td>\n",
              "      <td>9</td>\n",
              "      <td>13</td>\n",
              "      <td>3</td>\n",
              "      <td>[{'xtl': 308, 'ytl': 468, 'xbr': 542, 'ybr': 1...</td>\n",
              "      <td>파_1.질병</td>\n",
              "    </tr>\n",
              "    <tr>\n",
              "      <th>9101</th>\n",
              "      <td>V006_79_1_18_09_03_13_3_0819e_20201127_172.jpg</td>\n",
              "      <td>18</td>\n",
              "      <td>9</td>\n",
              "      <td>13</td>\n",
              "      <td>3</td>\n",
              "      <td>[{'xtl': 0, 'ytl': 341, 'xbr': 960, 'ybr': 960}]</td>\n",
              "      <td>파_1.질병</td>\n",
              "    </tr>\n",
              "    <tr>\n",
              "      <th>9102</th>\n",
              "      <td>V006_79_1_18_09_03_13_3_6734e_20201030_50.jpg</td>\n",
              "      <td>18</td>\n",
              "      <td>9</td>\n",
              "      <td>13</td>\n",
              "      <td>3</td>\n",
              "      <td>[{'xtl': 79, 'ytl': 2, 'xbr': 433, 'ybr': 960}]</td>\n",
              "      <td>파_1.질병</td>\n",
              "    </tr>\n",
              "    <tr>\n",
              "      <th>9103</th>\n",
              "      <td>V006_79_1_18_09_03_13_3_6734e_20201117_48.jpg</td>\n",
              "      <td>18</td>\n",
              "      <td>9</td>\n",
              "      <td>13</td>\n",
              "      <td>3</td>\n",
              "      <td>[{'xtl': 355, 'ytl': 0, 'xbr': 657, 'ybr': 960}]</td>\n",
              "      <td>파_1.질병</td>\n",
              "    </tr>\n",
              "    <tr>\n",
              "      <th>9104</th>\n",
              "      <td>V006_79_1_18_09_03_13_3_6734e_20201117_55.jpg</td>\n",
              "      <td>18</td>\n",
              "      <td>9</td>\n",
              "      <td>13</td>\n",
              "      <td>3</td>\n",
              "      <td>[{'xtl': 0, 'ytl': 621, 'xbr': 1559, 'ybr': 993}]</td>\n",
              "      <td>파_1.질병</td>\n",
              "    </tr>\n",
              "  </tbody>\n",
              "</table>\n",
              "<p>9105 rows × 7 columns</p>\n",
              "</div>"
            ],
            "text/plain": [
              "                                                  image  ...     name\n",
              "0     V006_79_0_00_01_01_13_0_a01_20201103_0000_S01_...  ...  고추_0.정상\n",
              "1     V006_79_0_00_01_01_13_0_a01_20201103_0002_S01_...  ...  고추_0.정상\n",
              "2     V006_79_0_00_01_01_13_0_a05_20201111_0009_S01_...  ...  고추_0.정상\n",
              "3     V006_79_0_00_01_01_13_0_a05_20201111_0014_S01_...  ...  고추_0.정상\n",
              "4     V006_79_0_00_01_01_13_0_a05_20201111_0024_S01_...  ...  고추_0.정상\n",
              "...                                                 ...  ...      ...\n",
              "9100     V006_79_1_18_09_03_13_3_0819e_20201112_151.jpg  ...   파_1.질병\n",
              "9101     V006_79_1_18_09_03_13_3_0819e_20201127_172.jpg  ...   파_1.질병\n",
              "9102      V006_79_1_18_09_03_13_3_6734e_20201030_50.jpg  ...   파_1.질병\n",
              "9103      V006_79_1_18_09_03_13_3_6734e_20201117_48.jpg  ...   파_1.질병\n",
              "9104      V006_79_1_18_09_03_13_3_6734e_20201117_55.jpg  ...   파_1.질병\n",
              "\n",
              "[9105 rows x 7 columns]"
            ]
          },
          "execution_count": 12,
          "metadata": {},
          "output_type": "execute_result"
        }
      ],
      "source": [
        "vc = val_csv[['image', 'disease', 'crop', 'grow', 'risk', 'points', 'name']]\n",
        "vc"
      ]
    },
    {
      "cell_type": "code",
      "execution_count": 13,
      "metadata": {
        "id": "3HYh5ySFug9t"
      },
      "outputs": [],
      "source": [
        "vc = val_csv[['image', 'disease', 'crop', 'grow', 'risk', 'points', 'name']]\n",
        "df = pd.DataFrame(index=range(0,), columns=['image', 'disease', 'crop', 'grow', 'risk', 'points', 'name'])\n",
        "\n",
        "for i in [1,3,5,8,9]:\n",
        "    for k in range(19):\n",
        "        if k == 0:\n",
        "            tmp = vc[(vc['crop'] == i)&(vc['disease'] == k)][:1000]\n",
        "            df = pd.concat([df, tmp])\n",
        "        else:\n",
        "            tmp = vc[(vc['crop'] == i)&(vc['disease'] == k)][:500]\n",
        "            df = pd.concat([df, tmp])\n",
        "\n",
        "\n",
        "val_df = df"
      ]
    },
    {
      "cell_type": "code",
      "execution_count": 14,
      "metadata": {
        "colab": {
          "base_uri": "https://localhost:8080/",
          "height": 419
        },
        "id": "2uza97yeug9t",
        "outputId": "be08275b-82f9-43e1-9dcf-d5469a90b45a"
      },
      "outputs": [
        {
          "data": {
            "text/html": [
              "<div>\n",
              "<style scoped>\n",
              "    .dataframe tbody tr th:only-of-type {\n",
              "        vertical-align: middle;\n",
              "    }\n",
              "\n",
              "    .dataframe tbody tr th {\n",
              "        vertical-align: top;\n",
              "    }\n",
              "\n",
              "    .dataframe thead th {\n",
              "        text-align: right;\n",
              "    }\n",
              "</style>\n",
              "<table border=\"1\" class=\"dataframe\">\n",
              "  <thead>\n",
              "    <tr style=\"text-align: right;\">\n",
              "      <th></th>\n",
              "      <th>image</th>\n",
              "      <th>disease</th>\n",
              "      <th>crop</th>\n",
              "      <th>grow</th>\n",
              "      <th>risk</th>\n",
              "    </tr>\n",
              "  </thead>\n",
              "  <tbody>\n",
              "    <tr>\n",
              "      <th>0</th>\n",
              "      <td>V006_79_0_00_01_01_13_0_a01_20201103_0000_S01_...</td>\n",
              "      <td>0</td>\n",
              "      <td>1</td>\n",
              "      <td>13</td>\n",
              "      <td>0</td>\n",
              "    </tr>\n",
              "    <tr>\n",
              "      <th>1</th>\n",
              "      <td>V006_79_0_00_01_01_13_0_a01_20201103_0002_S01_...</td>\n",
              "      <td>0</td>\n",
              "      <td>1</td>\n",
              "      <td>13</td>\n",
              "      <td>0</td>\n",
              "    </tr>\n",
              "    <tr>\n",
              "      <th>2</th>\n",
              "      <td>V006_79_0_00_01_01_13_0_a05_20201111_0009_S01_...</td>\n",
              "      <td>0</td>\n",
              "      <td>1</td>\n",
              "      <td>13</td>\n",
              "      <td>0</td>\n",
              "    </tr>\n",
              "    <tr>\n",
              "      <th>3</th>\n",
              "      <td>V006_79_0_00_01_01_13_0_a05_20201111_0014_S01_...</td>\n",
              "      <td>0</td>\n",
              "      <td>1</td>\n",
              "      <td>13</td>\n",
              "      <td>0</td>\n",
              "    </tr>\n",
              "    <tr>\n",
              "      <th>4</th>\n",
              "      <td>V006_79_0_00_01_01_13_0_a05_20201111_0024_S01_...</td>\n",
              "      <td>0</td>\n",
              "      <td>1</td>\n",
              "      <td>13</td>\n",
              "      <td>0</td>\n",
              "    </tr>\n",
              "    <tr>\n",
              "      <th>...</th>\n",
              "      <td>...</td>\n",
              "      <td>...</td>\n",
              "      <td>...</td>\n",
              "      <td>...</td>\n",
              "      <td>...</td>\n",
              "    </tr>\n",
              "    <tr>\n",
              "      <th>5862</th>\n",
              "      <td>V006_79_1_18_09_03_13_3_0819e_20201112_151.jpg</td>\n",
              "      <td>18</td>\n",
              "      <td>9</td>\n",
              "      <td>13</td>\n",
              "      <td>3</td>\n",
              "    </tr>\n",
              "    <tr>\n",
              "      <th>5863</th>\n",
              "      <td>V006_79_1_18_09_03_13_3_0819e_20201127_172.jpg</td>\n",
              "      <td>18</td>\n",
              "      <td>9</td>\n",
              "      <td>13</td>\n",
              "      <td>3</td>\n",
              "    </tr>\n",
              "    <tr>\n",
              "      <th>5864</th>\n",
              "      <td>V006_79_1_18_09_03_13_3_6734e_20201030_50.jpg</td>\n",
              "      <td>18</td>\n",
              "      <td>9</td>\n",
              "      <td>13</td>\n",
              "      <td>3</td>\n",
              "    </tr>\n",
              "    <tr>\n",
              "      <th>5865</th>\n",
              "      <td>V006_79_1_18_09_03_13_3_6734e_20201117_48.jpg</td>\n",
              "      <td>18</td>\n",
              "      <td>9</td>\n",
              "      <td>13</td>\n",
              "      <td>3</td>\n",
              "    </tr>\n",
              "    <tr>\n",
              "      <th>5866</th>\n",
              "      <td>V006_79_1_18_09_03_13_3_6734e_20201117_55.jpg</td>\n",
              "      <td>18</td>\n",
              "      <td>9</td>\n",
              "      <td>13</td>\n",
              "      <td>3</td>\n",
              "    </tr>\n",
              "  </tbody>\n",
              "</table>\n",
              "<p>5867 rows × 5 columns</p>\n",
              "</div>"
            ],
            "text/plain": [
              "                                                  image disease crop grow risk\n",
              "0     V006_79_0_00_01_01_13_0_a01_20201103_0000_S01_...       0    1   13    0\n",
              "1     V006_79_0_00_01_01_13_0_a01_20201103_0002_S01_...       0    1   13    0\n",
              "2     V006_79_0_00_01_01_13_0_a05_20201111_0009_S01_...       0    1   13    0\n",
              "3     V006_79_0_00_01_01_13_0_a05_20201111_0014_S01_...       0    1   13    0\n",
              "4     V006_79_0_00_01_01_13_0_a05_20201111_0024_S01_...       0    1   13    0\n",
              "...                                                 ...     ...  ...  ...  ...\n",
              "5862     V006_79_1_18_09_03_13_3_0819e_20201112_151.jpg      18    9   13    3\n",
              "5863     V006_79_1_18_09_03_13_3_0819e_20201127_172.jpg      18    9   13    3\n",
              "5864      V006_79_1_18_09_03_13_3_6734e_20201030_50.jpg      18    9   13    3\n",
              "5865      V006_79_1_18_09_03_13_3_6734e_20201117_48.jpg      18    9   13    3\n",
              "5866      V006_79_1_18_09_03_13_3_6734e_20201117_55.jpg      18    9   13    3\n",
              "\n",
              "[5867 rows x 5 columns]"
            ]
          },
          "execution_count": 14,
          "metadata": {},
          "output_type": "execute_result"
        }
      ],
      "source": [
        "val_df = val_df[['image', 'disease', 'crop', 'grow', 'risk']]\n",
        "val_df.reset_index(drop=True, inplace=True)\n",
        "val_df"
      ]
    },
    {
      "cell_type": "markdown",
      "metadata": {
        "id": "iFXBqF2i3aOH"
      },
      "source": [
        "# x y 데이터셋 제작\n",
        "- x: train 이미지\n",
        "- y: train disease 번호"
      ]
    },
    {
      "cell_type": "markdown",
      "metadata": {
        "id": "_h7nH0VE3aOH"
      },
      "source": [
        "## train"
      ]
    },
    {
      "cell_type": "code",
      "execution_count": null,
      "metadata": {
        "id": "caeY5vGl3aOI"
      },
      "outputs": [],
      "source": [
        "# 폴더 리스트 가져오기\n",
        "from glob import glob\n",
        "from PIL import Image\n",
        "import numpy as np\n",
        "\n",
        "\n",
        "X=[]\n",
        "train_dis = list(train_df['disease'])\n",
        "train_img = list(train_df['image'])\n",
        "train_cro = list(train_df['crop'])\n",
        "path = 'data/project/'\n",
        "\n",
        "\n",
        "for i in range(len(train_df)):\n",
        "    img = Image.open(path + str(train_cro[i])+ '/train/' + str(train_dis[i]) + '/' + train_img[i])\n",
        "    img = img.resize((255, 255)) ## 혹시몰라 한번더 리사이즈\n",
        "    imgarr = np.array(img)/255 # 스케일링\n",
        "    X.append(imgarr)"
      ]
    },
    {
      "cell_type": "code",
      "execution_count": null,
      "metadata": {
        "id": "el6L0uU33aOI",
        "outputId": "ab6e2ee4-fa05-422b-a01f-815cce08d3aa"
      },
      "outputs": [
        {
          "name": "stdout",
          "output_type": "stream",
          "text": [
            "(14439, 255, 255, 3)\n"
          ]
        }
      ],
      "source": [
        "print(np.shape(X))"
      ]
    },
    {
      "cell_type": "code",
      "execution_count": null,
      "metadata": {
        "id": "80nt3Q5G3aOI"
      },
      "outputs": [],
      "source": [
        "y = []\n",
        "for item in train_df['disease']:\n",
        "  y.append(item)"
      ]
    },
    {
      "cell_type": "code",
      "execution_count": null,
      "metadata": {
        "id": "wmlNysPh3aOJ",
        "outputId": "519176b4-a656-4cda-c8e3-070d8b986a81"
      },
      "outputs": [
        {
          "name": "stdout",
          "output_type": "stream",
          "text": [
            "(14439,)\n"
          ]
        }
      ],
      "source": [
        "print(np.shape(y))"
      ]
    },
    {
      "cell_type": "code",
      "execution_count": null,
      "metadata": {
        "id": "MCdBlSbH3aOJ",
        "outputId": "4ca136fc-272d-4d14-cde8-7c132c90650d"
      },
      "outputs": [
        {
          "data": {
            "text/plain": [
              "array([ 0,  1,  2,  3,  4,  5,  6,  9, 10, 11, 12, 13, 14, 15, 16, 17, 18])"
            ]
          },
          "execution_count": 68,
          "metadata": {},
          "output_type": "execute_result"
        }
      ],
      "source": [
        "np.unique(y)"
      ]
    },
    {
      "cell_type": "code",
      "execution_count": null,
      "metadata": {
        "id": "uSfesDmR3aOJ",
        "outputId": "bdc6ad38-0c47-4753-cbad-72b6e04314ee"
      },
      "outputs": [
        {
          "data": {
            "text/plain": [
              "(list, list)"
            ]
          },
          "execution_count": 69,
          "metadata": {},
          "output_type": "execute_result"
        }
      ],
      "source": [
        "type(X), type(y)"
      ]
    },
    {
      "cell_type": "code",
      "execution_count": null,
      "metadata": {
        "id": "8KwxQRID3aOK"
      },
      "outputs": [],
      "source": [
        "# np.array 로 변환해야 작업 가능\n",
        "X_train = np.array(X)\n",
        "y_train = np.array(y)"
      ]
    },
    {
      "cell_type": "code",
      "execution_count": null,
      "metadata": {
        "id": "jT8s2bbw3aOK"
      },
      "outputs": [],
      "source": [
        "# npz 파일 제작\n",
        "np.savez('data/train_plant_all.npz', X=X_train, Y=y_train)"
      ]
    },
    {
      "cell_type": "markdown",
      "metadata": {
        "id": "CoRjddGB3aOK"
      },
      "source": [
        "## validation"
      ]
    },
    {
      "cell_type": "code",
      "execution_count": null,
      "metadata": {
        "id": "ACwpmk8cug9y"
      },
      "outputs": [],
      "source": [
        "# 폴더 리스트 가져오기\n",
        "from glob import glob\n",
        "from PIL import Image\n",
        "import numpy as np\n",
        "\n",
        "\n",
        "X=[]\n",
        "val_dis = list(val_df['disease'])\n",
        "val_img = list(val_df['image'])\n",
        "val_cro = list(val_df['crop'])\n",
        "path = 'data/project/'\n",
        "\n",
        "\n",
        "for i in range(len(val_df)):\n",
        "    img = Image.open(path + str(val_cro[i])+ '/validation/' + str(val_dis[i]) + '/' + val_img[i])\n",
        "    img = img.resize((255, 255)) ## 혹시몰라 한번더 리사이즈\n",
        "    imgarr = np.array(img)/255 # 스케일링\n",
        "    X.append(imgarr)"
      ]
    },
    {
      "cell_type": "code",
      "execution_count": null,
      "metadata": {
        "id": "Dd1EAd8iug9y",
        "outputId": "98bfe6ae-cdec-47c7-be53-b3208edee5ff"
      },
      "outputs": [
        {
          "name": "stdout",
          "output_type": "stream",
          "text": [
            "(9105, 255, 255, 3)\n"
          ]
        }
      ],
      "source": [
        "print(np.shape(X))"
      ]
    },
    {
      "cell_type": "code",
      "execution_count": null,
      "metadata": {
        "id": "D_s-ctEZug9y"
      },
      "outputs": [],
      "source": [
        "y = []\n",
        "for item in val_df['disease']:\n",
        "  y.append(item)"
      ]
    },
    {
      "cell_type": "code",
      "execution_count": null,
      "metadata": {
        "id": "mN3GEbUBug9y",
        "outputId": "09a9be90-0e82-41d6-8d77-d806f7153709"
      },
      "outputs": [
        {
          "name": "stdout",
          "output_type": "stream",
          "text": [
            "(9105,)\n"
          ]
        }
      ],
      "source": [
        "print(np.shape(y))"
      ]
    },
    {
      "cell_type": "code",
      "execution_count": null,
      "metadata": {
        "id": "mxx0EJ-Lug9y",
        "outputId": "fbbb92d6-b8bf-4dde-fe0b-c7328b52eeda"
      },
      "outputs": [
        {
          "data": {
            "text/plain": [
              "array([ 0,  1,  2,  3,  4,  5,  6,  9, 10, 11, 12, 13, 14, 15, 16, 17, 18])"
            ]
          },
          "execution_count": 76,
          "metadata": {},
          "output_type": "execute_result"
        }
      ],
      "source": [
        "np.unique(y)"
      ]
    },
    {
      "cell_type": "code",
      "execution_count": null,
      "metadata": {
        "id": "Aql59YOe3aOM",
        "outputId": "fb598bb7-582e-40a9-b1aa-bf15ad46fcf7"
      },
      "outputs": [
        {
          "data": {
            "text/plain": [
              "(list, list)"
            ]
          },
          "execution_count": 77,
          "metadata": {},
          "output_type": "execute_result"
        }
      ],
      "source": [
        "type(X), type(y)"
      ]
    },
    {
      "cell_type": "code",
      "execution_count": null,
      "metadata": {
        "id": "kx7sQOWO3aON"
      },
      "outputs": [],
      "source": [
        "# np.array 로 변환해야 작업 가능\n",
        "X_val = np.array(X)\n",
        "y_val = np.array(y)"
      ]
    },
    {
      "cell_type": "code",
      "execution_count": null,
      "metadata": {
        "id": "xOBDEWbk3aON"
      },
      "outputs": [],
      "source": [
        "# npz 파일 제작\n",
        "np.savez('data/val_plant_all.npz', X=X_val, Y=y_val)"
      ]
    },
    {
      "cell_type": "code",
      "execution_count": null,
      "metadata": {
        "id": "BpZOekx13aON",
        "outputId": "7206e51a-7acd-4afe-e1d2-f389e023fcf4"
      },
      "outputs": [
        {
          "name": "stdout",
          "output_type": "stream",
          "text": [
            "--x값--\n"
          ]
        },
        {
          "data": {
            "image/png": "[encoded data removed]",
            "text/plain": [
              "<Figure size 432x288 with 1 Axes>"
            ]
          },
          "metadata": {
            "needs_background": "light"
          },
          "output_type": "display_data"
        },
        {
          "name": "stdout",
          "output_type": "stream",
          "text": [
            "--y value--\n",
            "[0, 0, 0, 0, 0]\n"
          ]
        }
      ],
      "source": [
        "# 5개의 이미지를 수평으로 나란히 출력\n",
        "import matplotlib.pyplot as plt\n",
        "\n",
        "print('--x값--')\n",
        "plt.imshow(np.hstack(X[:5]))\n",
        "plt.show()\n",
        "\n",
        "print('--y value--')\n",
        "print(y[:5])"
      ]
    },
    {
      "cell_type": "code",
      "execution_count": null,
      "metadata": {
        "id": "MZ1sp_Wq3aON",
        "outputId": "8218861c-17b6-4cf4-f61a-e54416d6da83"
      },
      "outputs": [
        {
          "data": {
            "text/plain": [
              "<numpy.lib.npyio.NpzFile at 0x1cc10ed0c40>"
            ]
          },
          "execution_count": 98,
          "metadata": {},
          "output_type": "execute_result"
        }
      ],
      "source": [
        "# npz load\n",
        "import numpy as np\n",
        "\n",
        "data = np.load('data/train_plant.npz')\n",
        "data"
      ]
    },
    {
      "cell_type": "code",
      "execution_count": null,
      "metadata": {
        "id": "yBZnRUZB3aOO",
        "outputId": "acf4ebec-4708-40d2-85c3-789043640074"
      },
      "outputs": [
        {
          "data": {
            "text/plain": [
              "['X', 'Y']"
            ]
          },
          "execution_count": 99,
          "metadata": {},
          "output_type": "execute_result"
        }
      ],
      "source": [
        "list(data)"
      ]
    },
    {
      "cell_type": "code",
      "execution_count": null,
      "metadata": {
        "id": "YeCKXbvI3aOO",
        "outputId": "a066028b-8a9b-4f08-d323-cb7cc90a859d"
      },
      "outputs": [
        {
          "data": {
            "text/plain": [
              "array([[[[0.61176471, 0.77647059, 0.04705882],\n",
              "         [0.54509804, 0.70588235, 0.00784314],\n",
              "         [0.50588235, 0.66666667, 0.01568627],\n",
              "         ...,\n",
              "         [0.54901961, 0.61568627, 0.34901961],\n",
              "         [0.54901961, 0.60784314, 0.3372549 ],\n",
              "         [0.5372549 , 0.58823529, 0.31372549]],\n",
              "\n",
              "        [[0.57647059, 0.7254902 , 0.07843137],\n",
              "         [0.58039216, 0.7254902 , 0.10588235],\n",
              "         [0.58431373, 0.7372549 , 0.1372549 ],\n",
              "         ...,\n",
              "         [0.60392157, 0.65490196, 0.43529412],\n",
              "         [0.61176471, 0.66666667, 0.43529412],\n",
              "         [0.61960784, 0.6627451 , 0.42745098]],\n",
              "\n",
              "        [[0.61176471, 0.73333333, 0.23529412],\n",
              "         [0.63529412, 0.76078431, 0.2627451 ],\n",
              "         [0.63529412, 0.77647059, 0.25882353],\n",
              "         ...,\n",
              "         [0.70980392, 0.75294118, 0.59607843],\n",
              "         [0.71372549, 0.75686275, 0.59215686],\n",
              "         [0.72156863, 0.75686275, 0.58823529]],\n",
              "\n",
              "        ...,\n",
              "\n",
              "        [[0.61568627, 0.78039216, 0.38039216],\n",
              "         [0.62745098, 0.78823529, 0.41176471],\n",
              "         [0.64705882, 0.8       , 0.4745098 ],\n",
              "         ...,\n",
              "         [0.47058824, 0.61176471, 0.25882353],\n",
              "         [0.45882353, 0.6       , 0.25490196],\n",
              "         [0.45098039, 0.59215686, 0.25098039]],\n",
              "\n",
              "        [[0.64705882, 0.8       , 0.55294118],\n",
              "         [0.65098039, 0.8       , 0.56862745],\n",
              "         [0.65882353, 0.80392157, 0.6       ],\n",
              "         ...,\n",
              "         [0.4745098 , 0.61568627, 0.2627451 ],\n",
              "         [0.45882353, 0.6       , 0.25490196],\n",
              "         [0.44705882, 0.58823529, 0.24705882]],\n",
              "\n",
              "        [[0.66666667, 0.80392157, 0.68627451],\n",
              "         [0.66666667, 0.8       , 0.69411765],\n",
              "         [0.66666667, 0.79215686, 0.69803922],\n",
              "         ...,\n",
              "         [0.47843137, 0.61960784, 0.26666667],\n",
              "         [0.45882353, 0.6       , 0.25490196],\n",
              "         [0.44313725, 0.58431373, 0.24313725]]],\n",
              "\n",
              "\n",
              "       [[[0.48235294, 0.47058824, 0.57647059],\n",
              "         [0.4       , 0.40392157, 0.48627451],\n",
              "         [0.29411765, 0.30588235, 0.36470588],\n",
              "         ...,\n",
              "         [0.03137255, 0.13333333, 0.03529412],\n",
              "         [0.03529412, 0.12941176, 0.04313725],\n",
              "         [0.05882353, 0.14901961, 0.07843137]],\n",
              "\n",
              "        [[0.4745098 , 0.46666667, 0.55294118],\n",
              "         [0.44313725, 0.44705882, 0.51764706],\n",
              "         [0.40784314, 0.42352941, 0.46666667],\n",
              "         ...,\n",
              "         [0.04313725, 0.14509804, 0.03137255],\n",
              "         [0.05490196, 0.14901961, 0.05490196],\n",
              "         [0.07843137, 0.17254902, 0.08627451]],\n",
              "\n",
              "        [[0.4627451 , 0.47058824, 0.52941176],\n",
              "         [0.48235294, 0.49019608, 0.5372549 ],\n",
              "         [0.50588235, 0.5254902 , 0.5372549 ],\n",
              "         ...,\n",
              "         [0.0627451 , 0.16862745, 0.03921569],\n",
              "         [0.07843137, 0.17647059, 0.0627451 ],\n",
              "         [0.10196078, 0.19607843, 0.09411765]],\n",
              "\n",
              "        ...,\n",
              "\n",
              "        [[0.60392157, 0.7254902 , 0.69411765],\n",
              "         [0.6       , 0.72156863, 0.69019608],\n",
              "         [0.6       , 0.72156863, 0.69019608],\n",
              "         ...,\n",
              "         [0.16470588, 0.35294118, 0.1254902 ],\n",
              "         [0.16862745, 0.34509804, 0.11372549],\n",
              "         [0.17647059, 0.34901961, 0.11764706]],\n",
              "\n",
              "        [[0.6       , 0.72156863, 0.69803922],\n",
              "         [0.6       , 0.72156863, 0.69019608],\n",
              "         [0.59607843, 0.71764706, 0.68627451],\n",
              "         ...,\n",
              "         [0.15294118, 0.34901961, 0.10980392],\n",
              "         [0.15686275, 0.34509804, 0.10980392],\n",
              "         [0.17254902, 0.34901961, 0.11764706]],\n",
              "\n",
              "        [[0.59607843, 0.71764706, 0.69411765],\n",
              "         [0.59607843, 0.71764706, 0.69411765],\n",
              "         [0.59607843, 0.71764706, 0.69411765],\n",
              "         ...,\n",
              "         [0.15294118, 0.34901961, 0.10196078],\n",
              "         [0.16078431, 0.34901961, 0.11372549],\n",
              "         [0.18039216, 0.35686275, 0.1254902 ]]],\n",
              "\n",
              "\n",
              "       [[[0.62352941, 0.78431373, 0.72941176],\n",
              "         [0.61568627, 0.77647059, 0.72156863],\n",
              "         [0.6       , 0.76470588, 0.70980392],\n",
              "         ...,\n",
              "         [0.56470588, 0.65882353, 0.35294118],\n",
              "         [0.56862745, 0.65098039, 0.35686275],\n",
              "         [0.57647059, 0.63529412, 0.36470588]],\n",
              "\n",
              "        [[0.64705882, 0.80784314, 0.75294118],\n",
              "         [0.63921569, 0.8       , 0.74509804],\n",
              "         [0.62745098, 0.78823529, 0.73333333],\n",
              "         ...,\n",
              "         [0.55686275, 0.6627451 , 0.34509804],\n",
              "         [0.56470588, 0.65490196, 0.34901961],\n",
              "         [0.57254902, 0.64313725, 0.35294118]],\n",
              "\n",
              "        [[0.6745098 , 0.83137255, 0.78823529],\n",
              "         [0.66666667, 0.82352941, 0.78039216],\n",
              "         [0.65490196, 0.81176471, 0.76862745],\n",
              "         ...,\n",
              "         [0.5372549 , 0.6627451 , 0.32941176],\n",
              "         [0.54509804, 0.65098039, 0.33333333],\n",
              "         [0.55686275, 0.64705882, 0.34117647]],\n",
              "\n",
              "        ...,\n",
              "\n",
              "        [[0.85490196, 1.        , 0.8       ],\n",
              "         [0.84313725, 0.99215686, 0.79215686],\n",
              "         [0.82745098, 0.97647059, 0.77647059],\n",
              "         ...,\n",
              "         [0.15294118, 0.41568627, 0.11372549],\n",
              "         [0.15294118, 0.41568627, 0.11372549],\n",
              "         [0.14901961, 0.40784314, 0.11764706]],\n",
              "\n",
              "        [[0.84313725, 0.98823529, 0.78823529],\n",
              "         [0.84705882, 0.99215686, 0.79215686],\n",
              "         [0.85490196, 1.        , 0.8       ],\n",
              "         ...,\n",
              "         [0.15294118, 0.41960784, 0.11764706],\n",
              "         [0.14901961, 0.41568627, 0.12156863],\n",
              "         [0.14901961, 0.41568627, 0.12156863]],\n",
              "\n",
              "        [[0.84705882, 0.99215686, 0.78823529],\n",
              "         [0.85490196, 1.        , 0.79607843],\n",
              "         [0.8627451 , 1.        , 0.80392157],\n",
              "         ...,\n",
              "         [0.14901961, 0.42745098, 0.12156863],\n",
              "         [0.14509804, 0.42352941, 0.1254902 ],\n",
              "         [0.14509804, 0.42352941, 0.1254902 ]]],\n",
              "\n",
              "\n",
              "       ...,\n",
              "\n",
              "\n",
              "       [[[0.32941176, 0.55294118, 0.41568627],\n",
              "         [0.32156863, 0.54509804, 0.40784314],\n",
              "         [0.31372549, 0.5372549 , 0.4       ],\n",
              "         ...,\n",
              "         [0.2745098 , 0.30588235, 0.31764706],\n",
              "         [0.2745098 , 0.30588235, 0.31764706],\n",
              "         [0.27843137, 0.30980392, 0.32156863]],\n",
              "\n",
              "        [[0.3254902 , 0.54901961, 0.41176471],\n",
              "         [0.3254902 , 0.54901961, 0.41176471],\n",
              "         [0.3254902 , 0.54901961, 0.41176471],\n",
              "         ...,\n",
              "         [0.2745098 , 0.30588235, 0.31764706],\n",
              "         [0.27843137, 0.30980392, 0.32156863],\n",
              "         [0.27843137, 0.30980392, 0.32156863]],\n",
              "\n",
              "        [[0.32156863, 0.54509804, 0.40784314],\n",
              "         [0.32941176, 0.55294118, 0.41568627],\n",
              "         [0.34117647, 0.56470588, 0.42745098],\n",
              "         ...,\n",
              "         [0.27843137, 0.30980392, 0.32156863],\n",
              "         [0.27843137, 0.30980392, 0.32156863],\n",
              "         [0.28235294, 0.31372549, 0.3254902 ]],\n",
              "\n",
              "        ...,\n",
              "\n",
              "        [[0.37254902, 0.4       , 0.36862745],\n",
              "         [0.37647059, 0.39607843, 0.36862745],\n",
              "         [0.37647059, 0.39607843, 0.37254902],\n",
              "         ...,\n",
              "         [0.46666667, 0.48627451, 0.47058824],\n",
              "         [0.46666667, 0.48627451, 0.47058824],\n",
              "         [0.46666667, 0.48627451, 0.47058824]],\n",
              "\n",
              "        [[0.37254902, 0.4       , 0.36862745],\n",
              "         [0.37647059, 0.39607843, 0.36862745],\n",
              "         [0.37647059, 0.39607843, 0.37254902],\n",
              "         ...,\n",
              "         [0.46666667, 0.48627451, 0.47058824],\n",
              "         [0.46666667, 0.48627451, 0.47058824],\n",
              "         [0.46666667, 0.48627451, 0.47058824]],\n",
              "\n",
              "        [[0.37254902, 0.4       , 0.36862745],\n",
              "         [0.37647059, 0.39607843, 0.36862745],\n",
              "         [0.37647059, 0.39607843, 0.37254902],\n",
              "         ...,\n",
              "         [0.46666667, 0.48627451, 0.47058824],\n",
              "         [0.46666667, 0.48627451, 0.47058824],\n",
              "         [0.46666667, 0.48627451, 0.47058824]]],\n",
              "\n",
              "\n",
              "       [[[0.03529412, 0.0627451 , 0.03137255],\n",
              "         [0.03921569, 0.05882353, 0.03137255],\n",
              "         [0.03921569, 0.05882353, 0.03529412],\n",
              "         ...,\n",
              "         [0.09411765, 0.12156863, 0.09019608],\n",
              "         [0.09411765, 0.12156863, 0.09019608],\n",
              "         [0.09411765, 0.12156863, 0.09019608]],\n",
              "\n",
              "        [[0.03529412, 0.0627451 , 0.03137255],\n",
              "         [0.03921569, 0.05882353, 0.03137255],\n",
              "         [0.03921569, 0.05882353, 0.03529412],\n",
              "         ...,\n",
              "         [0.09411765, 0.12156863, 0.09019608],\n",
              "         [0.09411765, 0.12156863, 0.09019608],\n",
              "         [0.09411765, 0.12156863, 0.09019608]],\n",
              "\n",
              "        [[0.03921569, 0.06666667, 0.03529412],\n",
              "         [0.04313725, 0.0627451 , 0.03529412],\n",
              "         [0.04313725, 0.0627451 , 0.03921569],\n",
              "         ...,\n",
              "         [0.09411765, 0.12156863, 0.09019608],\n",
              "         [0.09411765, 0.12156863, 0.09019608],\n",
              "         [0.09411765, 0.12156863, 0.09019608]],\n",
              "\n",
              "        ...,\n",
              "\n",
              "        [[0.45098039, 0.54117647, 0.32156863],\n",
              "         [0.45882353, 0.54901961, 0.32941176],\n",
              "         [0.4627451 , 0.55294118, 0.33333333],\n",
              "         ...,\n",
              "         [0.30196078, 0.43529412, 0.1372549 ],\n",
              "         [0.26666667, 0.39607843, 0.1254902 ],\n",
              "         [0.24313725, 0.36862745, 0.11372549]],\n",
              "\n",
              "        [[0.45098039, 0.54117647, 0.32156863],\n",
              "         [0.4627451 , 0.55294118, 0.33333333],\n",
              "         [0.46666667, 0.55686275, 0.3372549 ],\n",
              "         ...,\n",
              "         [0.3372549 , 0.48627451, 0.16078431],\n",
              "         [0.29411765, 0.43921569, 0.1372549 ],\n",
              "         [0.25490196, 0.40392157, 0.11764706]],\n",
              "\n",
              "        [[0.45882353, 0.54901961, 0.32941176],\n",
              "         [0.46666667, 0.55686275, 0.3372549 ],\n",
              "         [0.4745098 , 0.56470588, 0.34509804],\n",
              "         ...,\n",
              "         [0.36078431, 0.51764706, 0.17254902],\n",
              "         [0.30588235, 0.47058824, 0.14117647],\n",
              "         [0.26666667, 0.42745098, 0.11764706]]],\n",
              "\n",
              "\n",
              "       [[[0.19215686, 0.25490196, 0.14117647],\n",
              "         [0.18823529, 0.25098039, 0.1372549 ],\n",
              "         [0.18431373, 0.25098039, 0.1254902 ],\n",
              "         ...,\n",
              "         [0.15294118, 0.23921569, 0.09803922],\n",
              "         [0.10980392, 0.18431373, 0.05882353],\n",
              "         [0.0745098 , 0.14901961, 0.02352941]],\n",
              "\n",
              "        [[0.18039216, 0.25098039, 0.14901961],\n",
              "         [0.17254902, 0.24705882, 0.1372549 ],\n",
              "         [0.17254902, 0.24705882, 0.12941176],\n",
              "         ...,\n",
              "         [0.19607843, 0.28235294, 0.14117647],\n",
              "         [0.15294118, 0.23921569, 0.09803922],\n",
              "         [0.1254902 , 0.20392157, 0.06666667]],\n",
              "\n",
              "        [[0.18431373, 0.25490196, 0.16078431],\n",
              "         [0.17647059, 0.24705882, 0.15294118],\n",
              "         [0.17254902, 0.24313725, 0.14117647],\n",
              "         ...,\n",
              "         [0.23529412, 0.32156863, 0.17254902],\n",
              "         [0.2       , 0.28627451, 0.1372549 ],\n",
              "         [0.17254902, 0.25882353, 0.10980392]],\n",
              "\n",
              "        ...,\n",
              "\n",
              "        [[0.01568627, 0.01568627, 0.01568627],\n",
              "         [0.01176471, 0.01176471, 0.01176471],\n",
              "         [0.00784314, 0.00784314, 0.00784314],\n",
              "         ...,\n",
              "         [0.70980392, 0.88235294, 0.39607843],\n",
              "         [0.72941176, 0.89411765, 0.40784314],\n",
              "         [0.72941176, 0.88627451, 0.40392157]],\n",
              "\n",
              "        [[0.01568627, 0.01568627, 0.01568627],\n",
              "         [0.01176471, 0.01176471, 0.01176471],\n",
              "         [0.00784314, 0.00784314, 0.00784314],\n",
              "         ...,\n",
              "         [0.72941176, 0.89019608, 0.41176471],\n",
              "         [0.7372549 , 0.89019608, 0.42352941],\n",
              "         [0.73333333, 0.87843137, 0.42352941]],\n",
              "\n",
              "        [[0.01568627, 0.01568627, 0.01568627],\n",
              "         [0.01176471, 0.01176471, 0.01176471],\n",
              "         [0.00784314, 0.00784314, 0.00784314],\n",
              "         ...,\n",
              "         [0.7254902 , 0.88627451, 0.41568627],\n",
              "         [0.72941176, 0.88235294, 0.43137255],\n",
              "         [0.72941176, 0.8745098 , 0.43137255]]]])"
            ]
          },
          "execution_count": 100,
          "metadata": {},
          "output_type": "execute_result"
        }
      ],
      "source": [
        "X = data['X']\n",
        "X"
      ]
    },
    {
      "cell_type": "code",
      "execution_count": null,
      "metadata": {
        "id": "5jpW75903aOP",
        "outputId": "b7672a86-d977-4786-9da1-41d4e4fb4c71"
      },
      "outputs": [
        {
          "data": {
            "text/plain": [
              "array([0, 0, 0, ..., 2, 2, 2])"
            ]
          },
          "execution_count": 101,
          "metadata": {},
          "output_type": "execute_result"
        }
      ],
      "source": [
        "y = data['Y']\n",
        "y"
      ]
    },
    {
      "cell_type": "markdown",
      "metadata": {
        "id": "kygpISkx3aOP"
      },
      "source": [
        "## CNN"
      ]
    },
    {
      "cell_type": "code",
      "execution_count": 1,
      "metadata": {
        "id": "Ioa-s0Iu3aOP"
      },
      "outputs": [],
      "source": [
        "# 메모리 변수 모두 제거\n",
        "all = [var for var in globals() if var[0] != '_']\n",
        "for var in all:\n",
        "    del globals()[var]"
      ]
    },
    {
      "cell_type": "markdown",
      "metadata": {
        "id": "-J_B4gC33aOP"
      },
      "source": [
        "## 사용 패키지"
      ]
    },
    {
      "cell_type": "code",
      "execution_count": 5,
      "metadata": {
        "id": "isR5vSQ83aOP"
      },
      "outputs": [],
      "source": [
        "import numpy as np\n",
        "import pandas as pd\n",
        "import seaborn as sns\n",
        "import matplotlib as mpl\n",
        "import matplotlib.pyplot as plt\n",
        "!apt-get install -y fonts-nanum > /dev/null\n",
        "!fc-cache -fv > /dev/null\n",
        "!rm -rf ~/.cache/matplotlib > /dev/null\n",
        "mpl.rcParams['axes.unicode_minus'] = False\n",
        "plt.rc('font', family = 'NanumBarunGothic')\n",
        "import warnings\n",
        "warnings.filterwarnings('ignore')"
      ]
    },
    {
      "cell_type": "code",
      "execution_count": 6,
      "metadata": {
        "id": "aW2jxoBp3aOQ"
      },
      "outputs": [],
      "source": [
        "import os\n",
        "import cv2\n",
        "from PIL import Image\n",
        "from tqdm import tqdm\n",
        "import tensorflow as tf\n",
        "from tensorflow import keras"
      ]
    },
    {
      "cell_type": "markdown",
      "metadata": {
        "id": "Ve00o1CW3aOQ"
      },
      "source": [
        "## 데이터 로드"
      ]
    },
    {
      "cell_type": "code",
      "execution_count": 1,
      "metadata": {
        "colab": {
          "base_uri": "https://localhost:8080/"
        },
        "id": "lhcsftZZ_VWL",
        "outputId": "a8fda8ed-c258-4290-c149-7904292100e7"
      },
      "outputs": [
        {
          "name": "stdout",
          "output_type": "stream",
          "text": [
            "Mounted at /content/drive\n"
          ]
        }
      ],
      "source": [
        "from google.colab import drive\n",
        "drive.mount('/content/drive')"
      ]
    },
    {
      "cell_type": "code",
      "execution_count": 2,
      "metadata": {
        "colab": {
          "base_uri": "https://localhost:8080/"
        },
        "id": "wb_edCmK_VMk",
        "outputId": "9b4a7f90-4192-4697-da1c-bcf1bb868d4f"
      },
      "outputs": [
        {
          "name": "stdout",
          "output_type": "stream",
          "text": [
            "/content/drive/MyDrive/data/project02\n"
          ]
        }
      ],
      "source": [
        "cd /content/drive/MyDrive/data/project02"
      ]
    },
    {
      "cell_type": "code",
      "execution_count": 7,
      "metadata": {
        "colab": {
          "base_uri": "https://localhost:8080/"
        },
        "id": "U46pot6a3aOQ",
        "outputId": "67305f59-e781-4278-c481-380dd14587ba"
      },
      "outputs": [
        {
          "name": "stdout",
          "output_type": "stream",
          "text": [
            "['X', 'Y']\n"
          ]
        }
      ],
      "source": [
        "train_npz = np.load('train_plant_5.npz')\n",
        "#test_npz = np.load(PATH + 'val_plant_5.npz')\n",
        "print(list(train_npz))\n",
        "#print(list(test_npz))"
      ]
    },
    {
      "cell_type": "code",
      "execution_count": 8,
      "metadata": {
        "id": "_RYxTVRX3aOQ"
      },
      "outputs": [],
      "source": [
        "X = train_npz['X']\n",
        "y = train_npz['Y']"
      ]
    },
    {
      "cell_type": "code",
      "execution_count": 9,
      "metadata": {
        "id": "Guz8NKPPCaNb"
      },
      "outputs": [],
      "source": [
        "tmp = []\n",
        "for i in range(len(y)):\n",
        "  if y[i] == 5.0:\n",
        "    y[i] = 3.0\n",
        "  elif y[i] == 6.0:\n",
        "    y[i] = 4.0\n",
        "  elif y[i] == 9.0:\n",
        "    y[i] = 5.0\n",
        "  elif y[i] == 10.0:\n",
        "    y[i] = 6.0\n",
        "  elif y[i] == 13.0:\n",
        "    y[i] = 7.0\n",
        "  elif y[i] == 14.0:\n",
        "    y[i] = 8.0\n",
        "  elif y[i] == 16.0:\n",
        "    y[i] = 9.0\n",
        "  elif y[i] == 17.0:\n",
        "    y[i] = 10.0\n",
        "  elif y[i] == 18.0:\n",
        "    y[i] = 11.0\n",
        "    "
      ]
    },
    {
      "cell_type": "code",
      "execution_count": 10,
      "metadata": {
        "id": "W5dJdlgN3aOR"
      },
      "outputs": [],
      "source": [
        "from sklearn.model_selection import train_test_split\n",
        "X_train, X_val, y_train, y_val = train_test_split(\n",
        "    X, y,\n",
        "    test_size = 0.3, random_state = 2021\n",
        ")"
      ]
    },
    {
      "cell_type": "code",
      "execution_count": 11,
      "metadata": {
        "colab": {
          "base_uri": "https://localhost:8080/"
        },
        "id": "p78W5B4q3aOR",
        "outputId": "dbdef508-798d-4584-d2f7-f34590e4b2f3"
      },
      "outputs": [
        {
          "name": "stdout",
          "output_type": "stream",
          "text": [
            "(6821, 255, 255, 3) 6821\n",
            "(2924, 255, 255, 3) 2924\n"
          ]
        }
      ],
      "source": [
        "print(np.shape(X_train), len(y_train))\n",
        "print(np.shape(X_val), len(y_val))"
      ]
    },
    {
      "cell_type": "code",
      "execution_count": 12,
      "metadata": {
        "colab": {
          "base_uri": "https://localhost:8080/"
        },
        "id": "ximoCHON3aOR",
        "outputId": "1dc8a0b4-f16b-403f-df9a-d2bdb2af0f83"
      },
      "outputs": [
        {
          "data": {
            "text/plain": [
              "{0.0: 3474,\n",
              " 1.0: 363,\n",
              " 2.0: 345,\n",
              " 3.0: 335,\n",
              " 4.0: 325,\n",
              " 5.0: 245,\n",
              " 6.0: 124,\n",
              " 7.0: 354,\n",
              " 8.0: 354,\n",
              " 9.0: 365,\n",
              " 10.0: 182,\n",
              " 11.0: 355}"
            ]
          },
          "execution_count": 12,
          "metadata": {},
          "output_type": "execute_result"
        }
      ],
      "source": [
        "# y데이터의 분할은 편향없이 잘 되었는가 확인작업\n",
        "\n",
        "unique, counts = np.unique(y_train, return_counts=True)\n",
        "\n",
        "unique_yt = dict(zip(unique, counts))\n",
        "unique_yt"
      ]
    },
    {
      "cell_type": "code",
      "execution_count": 13,
      "metadata": {
        "colab": {
          "base_uri": "https://localhost:8080/"
        },
        "id": "yfcxqGJF3aOR",
        "outputId": "d9245767-27a9-4761-829d-f6d65c0bf7a7"
      },
      "outputs": [
        {
          "data": {
            "text/plain": [
              "{0.0: 1526,\n",
              " 1.0: 137,\n",
              " 2.0: 155,\n",
              " 3.0: 165,\n",
              " 4.0: 133,\n",
              " 5.0: 103,\n",
              " 6.0: 56,\n",
              " 7.0: 146,\n",
              " 8.0: 146,\n",
              " 9.0: 135,\n",
              " 10.0: 77,\n",
              " 11.0: 145}"
            ]
          },
          "execution_count": 13,
          "metadata": {},
          "output_type": "execute_result"
        }
      ],
      "source": [
        "# y데이터의 분할은 편향없이 잘 되었는가 확인작업\n",
        "\n",
        "unique, counts = np.unique(y_val, return_counts=True)\n",
        "\n",
        "unique_yv = dict(zip(unique, counts))\n",
        "unique_yv"
      ]
    },
    {
      "cell_type": "markdown",
      "metadata": {
        "id": "rv-wgDXB3aOS"
      },
      "source": [
        "# 5. CNN\n",
        "- 컨볼루션 신경망\n",
        "- 컴퓨터 비전 (Computer Vision) 에서 사용\n",
        "- 텍스트, 시계열 데이터 등에서도 성능 좋음\n",
        "- 오버피팅 회피\n",
        "    - 규제화 함수\n",
        "        - 가중치 감쇠 (Weight Decay)\n",
        "        - 모델 복잡도 제한\n",
        "        - L1, L2 노름, 엘라스틱 넷 (Elastic Net)\n",
        "        - 기능에 맞춰 가중치 합 구해 손실 함수에 더함\n",
        "        - tensorflow.keras.regularizers.l1(l = 0.01) : 가중치 절대값 합 (릿지)\n",
        "        - tensorflow.keras.regularizers.l2(l = 0.01) : 가중치 제곱값 합 (라쏘)\n",
        "        - tensorflow.keras.regularizers.l1_l2(l1 = 0.01, l2 = 0.01) : 가중치 절대값 합 (릿지) + 가중치 제곱값 합 (라쏘) = (엘라스틱 넷)\n",
        "    - 드롭 아웃\n",
        "        - 학습 진행 중 신경망 일부 유닛 제외\n",
        "        - 테스트 중 작동 하지 않고 모든 유닛 활성화\n",
        "        - 출력을 드롭 아웃 비율만큼 제외\n",
        "        - 드롭 아웃 비율 0.2 ~ 0.5\n",
        "    - 배치 정규화\n",
        "        - 드롭 아웃과 비교\n",
        "        - 내부 공선성 (Internal Covariance Shift) 해결 방법\n",
        "        - 출력값 범위 제한 -> 불확실성 감소 목적\n",
        "        - 그래디언트 손실, 폭주 없이 높은 학습률 사용 가능\n",
        "        - 자체적 규제화 효과 포함\n",
        "        - Dense or Conv2D -> BatchNormalization() -> Activation()"
      ]
    },
    {
      "cell_type": "code",
      "execution_count": 14,
      "metadata": {
        "id": "-4oLLb0P3aOS"
      },
      "outputs": [],
      "source": [
        "from tensorflow.keras.models import Sequential\n",
        "from tensorflow.keras.layers import Conv2D, MaxPool2D, Dense, Flatten\n",
        "from tensorflow.keras.layers import Dropout, Activation, BatchNormalization\n",
        "from tensorflow.keras.optimizers import Adam\n",
        "from tensorflow.keras.regularizers import l2\n",
        "model = Sequential()\n",
        "# (255, 255, 3)\n",
        "model.add(Conv2D(filters = 32, kernel_size = 3, padding = 'same',\n",
        "                 input_shape = (255, 255, 3)))\n",
        "model.add(BatchNormalization())\n",
        "model.add(Activation('relu'))\n",
        "model.add(Conv2D(filters = 32, kernel_size = 3, padding = 'same',\n",
        "                 kernel_regularizer = l2(0.001)))\n",
        "model.add(BatchNormalization())\n",
        "model.add(Activation('relu'))\n",
        "model.add(MaxPool2D(pool_size = (2, 2), strides = 2, padding = 'same'))\n",
        "model.add(Dropout(0.2))\n",
        "model.add(Conv2D(filters = 64, kernel_size = 3, padding = 'same',\n",
        "                 kernel_regularizer = l2(0.001)))\n",
        "model.add(BatchNormalization())\n",
        "model.add(Activation('relu'))\n",
        "model.add(Conv2D(filters = 64, kernel_size = 3, padding = 'same',\n",
        "                 kernel_regularizer = l2(0.001)))\n",
        "model.add(BatchNormalization())\n",
        "model.add(Activation('relu'))\n",
        "model.add(MaxPool2D(pool_size = (2, 2), strides = 2, padding = 'same'))\n",
        "model.add(Dropout(0.2))\n",
        "model.add(Conv2D(filters = 128, kernel_size = 3, padding = 'same',\n",
        "                 kernel_regularizer = l2(0.001)))\n",
        "model.add(BatchNormalization())\n",
        "model.add(Activation('relu'))\n",
        "model.add(Conv2D(filters = 128, kernel_size = 3, padding = 'same',\n",
        "                 kernel_regularizer = l2(0.001)))\n",
        "model.add(BatchNormalization())\n",
        "model.add(Activation('relu'))\n",
        "model.add(MaxPool2D(pool_size = (2, 2), strides = 2, padding = 'same'))\n",
        "model.add(Dropout(0.2))\n",
        "model.add(Flatten())\n",
        "model.add(Dense(256, kernel_regularizer = l2(0.001)))\n",
        "model.add(BatchNormalization())\n",
        "model.add(Activation('relu'))\n",
        "model.add(Dense(12, activation = 'softmax'))"
      ]
    },
    {
      "cell_type": "code",
      "execution_count": 15,
      "metadata": {
        "colab": {
          "base_uri": "https://localhost:8080/"
        },
        "id": "rbblj7SY3aOS",
        "outputId": "8282b3a9-27e8-4788-d49d-5ca2dc5e16e4"
      },
      "outputs": [
        {
          "name": "stdout",
          "output_type": "stream",
          "text": [
            "Model: \"sequential\"\n",
            "_________________________________________________________________\n",
            "Layer (type)                 Output Shape              Param #   \n",
            "=================================================================\n",
            "conv2d (Conv2D)              (None, 255, 255, 32)      896       \n",
            "_________________________________________________________________\n",
            "batch_normalization (BatchNo (None, 255, 255, 32)      128       \n",
            "_________________________________________________________________\n",
            "activation (Activation)      (None, 255, 255, 32)      0         \n",
            "_________________________________________________________________\n",
            "conv2d_1 (Conv2D)            (None, 255, 255, 32)      9248      \n",
            "_________________________________________________________________\n",
            "batch_normalization_1 (Batch (None, 255, 255, 32)      128       \n",
            "_________________________________________________________________\n",
            "activation_1 (Activation)    (None, 255, 255, 32)      0         \n",
            "_________________________________________________________________\n",
            "max_pooling2d (MaxPooling2D) (None, 128, 128, 32)      0         \n",
            "_________________________________________________________________\n",
            "dropout (Dropout)            (None, 128, 128, 32)      0         \n",
            "_________________________________________________________________\n",
            "conv2d_2 (Conv2D)            (None, 128, 128, 64)      18496     \n",
            "_________________________________________________________________\n",
            "batch_normalization_2 (Batch (None, 128, 128, 64)      256       \n",
            "_________________________________________________________________\n",
            "activation_2 (Activation)    (None, 128, 128, 64)      0         \n",
            "_________________________________________________________________\n",
            "conv2d_3 (Conv2D)            (None, 128, 128, 64)      36928     \n",
            "_________________________________________________________________\n",
            "batch_normalization_3 (Batch (None, 128, 128, 64)      256       \n",
            "_________________________________________________________________\n",
            "activation_3 (Activation)    (None, 128, 128, 64)      0         \n",
            "_________________________________________________________________\n",
            "max_pooling2d_1 (MaxPooling2 (None, 64, 64, 64)        0         \n",
            "_________________________________________________________________\n",
            "dropout_1 (Dropout)          (None, 64, 64, 64)        0         \n",
            "_________________________________________________________________\n",
            "conv2d_4 (Conv2D)            (None, 64, 64, 128)       73856     \n",
            "_________________________________________________________________\n",
            "batch_normalization_4 (Batch (None, 64, 64, 128)       512       \n",
            "_________________________________________________________________\n",
            "activation_4 (Activation)    (None, 64, 64, 128)       0         \n",
            "_________________________________________________________________\n",
            "conv2d_5 (Conv2D)            (None, 64, 64, 128)       147584    \n",
            "_________________________________________________________________\n",
            "batch_normalization_5 (Batch (None, 64, 64, 128)       512       \n",
            "_________________________________________________________________\n",
            "activation_5 (Activation)    (None, 64, 64, 128)       0         \n",
            "_________________________________________________________________\n",
            "max_pooling2d_2 (MaxPooling2 (None, 32, 32, 128)       0         \n",
            "_________________________________________________________________\n",
            "dropout_2 (Dropout)          (None, 32, 32, 128)       0         \n",
            "_________________________________________________________________\n",
            "flatten (Flatten)            (None, 131072)            0         \n",
            "_________________________________________________________________\n",
            "dense (Dense)                (None, 256)               33554688  \n",
            "_________________________________________________________________\n",
            "batch_normalization_6 (Batch (None, 256)               1024      \n",
            "_________________________________________________________________\n",
            "activation_6 (Activation)    (None, 256)               0         \n",
            "_________________________________________________________________\n",
            "dense_1 (Dense)              (None, 12)                3084      \n",
            "=================================================================\n",
            "Total params: 33,847,596\n",
            "Trainable params: 33,846,188\n",
            "Non-trainable params: 1,408\n",
            "_________________________________________________________________\n"
          ]
        }
      ],
      "source": [
        "model.summary()"
      ]
    },
    {
      "cell_type": "code",
      "execution_count": 16,
      "metadata": {
        "id": "5tOEcFQW3aOS"
      },
      "outputs": [],
      "source": [
        "model.compile(\n",
        "    optimizer = Adam(1e-4),\n",
        "    loss = 'sparse_categorical_crossentropy',\n",
        "    metrics = ['acc']\n",
        ")"
      ]
    },
    {
      "cell_type": "code",
      "execution_count": 17,
      "metadata": {
        "colab": {
          "base_uri": "https://localhost:8080/"
        },
        "id": "VO6Zhvea3aOT",
        "outputId": "3474f39f-db8f-4947-e2e6-34fe535b59af"
      },
      "outputs": [
        {
          "name": "stdout",
          "output_type": "stream",
          "text": [
            "Epoch 1/30\n",
            "214/214 [==============================] - 615s 3s/step - loss: 2.1175 - acc: 0.6625 - val_loss: 17.4256 - val_acc: 0.0263\n",
            "Epoch 2/30\n",
            "214/214 [==============================] - 613s 3s/step - loss: 1.3085 - acc: 0.8848 - val_loss: 12.8487 - val_acc: 0.0951\n",
            "Epoch 3/30\n",
            "214/214 [==============================] - 610s 3s/step - loss: 1.0832 - acc: 0.9531 - val_loss: 6.8673 - val_acc: 0.2664\n",
            "Epoch 4/30\n",
            "214/214 [==============================] - 610s 3s/step - loss: 0.9659 - acc: 0.9837 - val_loss: 4.0399 - val_acc: 0.3912\n",
            "Epoch 5/30\n",
            "214/214 [==============================] - 609s 3s/step - loss: 0.9171 - acc: 0.9889 - val_loss: 2.8360 - val_acc: 0.4863\n",
            "Epoch 6/30\n",
            "214/214 [==============================] - 612s 3s/step - loss: 0.8654 - acc: 0.9925 - val_loss: 2.4406 - val_acc: 0.5527\n",
            "Epoch 7/30\n",
            "214/214 [==============================] - 611s 3s/step - loss: 0.8051 - acc: 0.9959 - val_loss: 2.2369 - val_acc: 0.6228\n",
            "Epoch 8/30\n",
            "214/214 [==============================] - 614s 3s/step - loss: 0.8009 - acc: 0.9900 - val_loss: 2.5822 - val_acc: 0.5222\n",
            "Epoch 9/30\n",
            "214/214 [==============================] - 614s 3s/step - loss: 0.7511 - acc: 0.9943 - val_loss: 2.5875 - val_acc: 0.4990\n",
            "Epoch 10/30\n",
            "214/214 [==============================] - 622s 3s/step - loss: 0.7490 - acc: 0.9900 - val_loss: 2.1292 - val_acc: 0.6064\n",
            "Epoch 11/30\n",
            "214/214 [==============================] - 614s 3s/step - loss: 0.7619 - acc: 0.9837 - val_loss: 1.7886 - val_acc: 0.6806\n",
            "Epoch 12/30\n",
            "214/214 [==============================] - 612s 3s/step - loss: 0.6950 - acc: 0.9934 - val_loss: 1.6061 - val_acc: 0.7247\n",
            "Epoch 13/30\n",
            "214/214 [==============================] - 614s 3s/step - loss: 0.6479 - acc: 0.9963 - val_loss: 1.8559 - val_acc: 0.6556\n",
            "Epoch 14/30\n",
            "214/214 [==============================] - 614s 3s/step - loss: 0.6109 - acc: 0.9944 - val_loss: 1.5818 - val_acc: 0.6946\n",
            "Epoch 15/30\n",
            "214/214 [==============================] - 607s 3s/step - loss: 0.5887 - acc: 0.9937 - val_loss: 1.3930 - val_acc: 0.7442\n",
            "Epoch 16/30\n",
            "214/214 [==============================] - 616s 3s/step - loss: 0.6081 - acc: 0.9892 - val_loss: 1.4267 - val_acc: 0.7438\n",
            "Epoch 17/30\n",
            "214/214 [==============================] - 611s 3s/step - loss: 0.6494 - acc: 0.9850 - val_loss: 1.6599 - val_acc: 0.6840\n",
            "Epoch 18/30\n",
            "214/214 [==============================] - 614s 3s/step - loss: 0.6200 - acc: 0.9916 - val_loss: 1.4676 - val_acc: 0.7250\n",
            "Epoch 19/30\n",
            "214/214 [==============================] - 609s 3s/step - loss: 0.5728 - acc: 0.9956 - val_loss: 1.2072 - val_acc: 0.7914\n",
            "Epoch 20/30\n",
            "214/214 [==============================] - 616s 3s/step - loss: 0.5538 - acc: 0.9921 - val_loss: 1.3333 - val_acc: 0.7483\n",
            "Epoch 21/30\n",
            "214/214 [==============================] - 606s 3s/step - loss: 0.5281 - acc: 0.9949 - val_loss: 1.0882 - val_acc: 0.8133\n",
            "Epoch 22/30\n",
            "214/214 [==============================] - 610s 3s/step - loss: 0.5213 - acc: 0.9914 - val_loss: 1.4967 - val_acc: 0.7240\n",
            "Epoch 23/30\n",
            "214/214 [==============================] - 612s 3s/step - loss: 0.5580 - acc: 0.9850 - val_loss: 1.3655 - val_acc: 0.7664\n",
            "Epoch 24/30\n",
            "214/214 [==============================] - 642s 3s/step - loss: 0.6361 - acc: 0.9792 - val_loss: 1.4558 - val_acc: 0.7257\n",
            "Epoch 25/30\n",
            "214/214 [==============================] - 627s 3s/step - loss: 0.5823 - acc: 0.9908 - val_loss: 1.2391 - val_acc: 0.7982\n",
            "Epoch 26/30\n",
            "214/214 [==============================] - 624s 3s/step - loss: 0.5444 - acc: 0.9934 - val_loss: 1.0916 - val_acc: 0.8157\n",
            "Epoch 27/30\n",
            "214/214 [==============================] - 613s 3s/step - loss: 0.5647 - acc: 0.9886 - val_loss: 1.2157 - val_acc: 0.7951\n",
            "Epoch 28/30\n",
            "214/214 [==============================] - 613s 3s/step - loss: 0.5323 - acc: 0.9947 - val_loss: 1.2384 - val_acc: 0.7719\n",
            "Epoch 29/30\n",
            "214/214 [==============================] - 620s 3s/step - loss: 0.5077 - acc: 0.9952 - val_loss: 1.2160 - val_acc: 0.7606\n",
            "Epoch 30/30\n",
            "214/214 [==============================] - 628s 3s/step - loss: 0.4752 - acc: 0.9956 - val_loss: 0.9556 - val_acc: 0.8420\n"
          ]
        }
      ],
      "source": [
        "history = model.fit(\n",
        "    X_train, y_train,\n",
        "    epochs = 30,\n",
        "    batch_size = 32,\n",
        "    validation_data = (X_val, y_val)\n",
        ")"
      ]
    },
    {
      "cell_type": "markdown",
      "metadata": {
        "id": "habGg4u03aOT"
      },
      "source": [
        "## 그래프"
      ]
    },
    {
      "cell_type": "code",
      "execution_count": 18,
      "metadata": {
        "colab": {
          "base_uri": "https://localhost:8080/",
          "height": 386
        },
        "id": "VlNd7zuo3aOT",
        "outputId": "66bf85b9-0c46-4045-ad46-6cd532938181"
      },
      "outputs": [
        {
          "name": "stderr",
          "output_type": "stream",
          "text": [
            "findfont: Font family ['NanumBarunGothic'] not found. Falling back to DejaVu Sans.\n",
            "findfont: Font family ['NanumBarunGothic'] not found. Falling back to DejaVu Sans.\n"
          ]
        },
        {
          "data": {
            "image/png": "[encoded data removed]",
            "text/plain": [
              "<Figure size 720x360 with 2 Axes>"
            ]
          },
          "metadata": {
            "needs_background": "light"
          },
          "output_type": "display_data"
        }
      ],
      "source": [
        "his_dict = history.history\n",
        "loss = his_dict['loss']\n",
        "val_loss = his_dict['val_loss'] \n",
        "epochs = range(1, len(loss) + 1)\n",
        "fig = plt.figure(figsize = (10, 5))\n",
        "# 훈련, 검증 손실\n",
        "ax1 = fig.add_subplot(1, 2, 1)\n",
        "ax1.plot(epochs, loss, color = 'blue', label = 'train_loss')\n",
        "ax1.plot(epochs, val_loss, color = 'orange', label = 'val_loss')\n",
        "ax1.set_title('train and val loss')\n",
        "ax1.set_xlabel('epochs')\n",
        "ax1.set_ylabel('loss')\n",
        "ax1.legend()\n",
        "acc = his_dict['acc']\n",
        "val_acc = his_dict['val_acc']\n",
        "# 훈련, 검증 정확도\n",
        "ax2 = fig.add_subplot(1, 2, 2)\n",
        "ax2.plot(epochs, acc, color = 'blue', label = 'train_acc')\n",
        "ax2.plot(epochs, val_acc, color = 'orange', label = 'val_acc')\n",
        "ax2.set_title('train and val acc')\n",
        "ax2.set_xlabel('epochs')\n",
        "ax2.set_ylabel('acc')\n",
        "ax2.legend()\n",
        "plt.show()"
      ]
    },
    {
      "cell_type": "markdown",
      "metadata": {
        "id": "QX66gHOO3aOT"
      },
      "source": [
        "## h5 저장"
      ]
    },
    {
      "cell_type": "code",
      "execution_count": 19,
      "metadata": {
        "id": "306LuJFN3aOU"
      },
      "outputs": [],
      "source": [
        "from keras.models import load_model\n",
        "model.save('pepper_5.h5')"
      ]
    }
  ],
  "metadata": {
    "accelerator": "TPU",
    "colab": {
      "collapsed_sections": [
        "_h7nH0VE3aOH",
        "CoRjddGB3aOK"
      ],
      "machine_shape": "hm",
      "name": "08_5개 작물 데이터 작업 _서동규.ipynb",
      "provenance": []
    },
    "interpreter": {
      "hash": "b3ba2566441a7c06988d0923437866b63cedc61552a5af99d1f4fb67d367b25f"
    },
    "kernelspec": {
      "display_name": "Python 3.8.11 64-bit ('base': conda)",
      "name": "python3"
    },
    "language_info": {
      "codemirror_mode": {
        "name": "ipython",
        "version": 3
      },
      "file_extension": ".py",
      "mimetype": "text/x-python",
      "name": "python",
      "nbconvert_exporter": "python",
      "pygments_lexer": "ipython3",
      "version": "3.8.11"
    },
    "orig_nbformat": 4
  },
  "nbformat": 4,
  "nbformat_minor": 0
}
