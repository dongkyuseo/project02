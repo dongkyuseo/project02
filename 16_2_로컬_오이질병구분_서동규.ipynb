{
  "cells": [
    {
      "cell_type": "markdown",
      "metadata": {
        "id": "r2m1RshB3aNo"
      },
      "source": [
        "# 병충해 분석 AI 프로젝트"
      ]
    },
    {
      "cell_type": "code",
      "execution_count": 33,
      "metadata": {
        "id": "5Tvj7ePMuiJU",
        "outputId": "602d4a93-04ab-46e8-ff82-f6ade2240908"
      },
      "outputs": [
        {
          "name": "stderr",
          "output_type": "stream",
          "text": [
            "������ ��θ� ã�� �� �����ϴ�.\n",
            "������ ��θ� ã�� �� �����ϴ�.\n",
            "������ ��θ� ã�� �� �����ϴ�.\n"
          ]
        }
      ],
      "source": [
        "import numpy as np\n",
        "import pandas as pd\n",
        "import seaborn as sns\n",
        "import matplotlib as mpl\n",
        "import matplotlib.pyplot as plt\n",
        "!apt-get install -y fonts-nanum > /dev/null\n",
        "!fc-cache -fv > /dev/null\n",
        "!rm -rf ~/.cache/matplotlib > /dev/null\n",
        "mpl.rcParams['axes.unicode_minus'] = False\n",
        "plt.rc('font', family = 'NanumBarunGothic')\n",
        "import warnings\n",
        "warnings.filterwarnings('ignore')"
      ]
    },
    {
      "cell_type": "code",
      "execution_count": 34,
      "metadata": {
        "id": "HphTAmsRujLj"
      },
      "outputs": [],
      "source": [
        "import os\n",
        "import cv2\n",
        "from PIL import Image\n",
        "from tqdm import tqdm\n",
        "import tensorflow as tf\n",
        "from tensorflow import keras"
      ]
    },
    {
      "cell_type": "code",
      "execution_count": null,
      "metadata": {
        "colab": {
          "base_uri": "https://localhost:8080/"
        },
        "id": "Fzc-UD9dujrs",
        "outputId": "fe5b7a20-7ab9-4b90-bc79-be8d7b679b97"
      },
      "outputs": [
        {
          "name": "stdout",
          "output_type": "stream",
          "text": [
            "Mounted at /content/drive\n"
          ]
        }
      ],
      "source": [
        "from google.colab import drive\n",
        "drive.mount('/content/drive')"
      ]
    },
    {
      "cell_type": "code",
      "execution_count": null,
      "metadata": {
        "colab": {
          "base_uri": "https://localhost:8080/"
        },
        "id": "nDjsFa6tukzT",
        "outputId": "c14f3ff6-ed56-4c7f-fb91-5de835624025"
      },
      "outputs": [
        {
          "name": "stdout",
          "output_type": "stream",
          "text": [
            "/content/drive/MyDrive/data/project02\n"
          ]
        }
      ],
      "source": [
        "cd /content/drive/MyDrive/data/project02"
      ]
    },
    {
      "cell_type": "markdown",
      "metadata": {
        "id": "3kKHu9gP3aNu"
      },
      "source": [
        "## 1. 파일읽기"
      ]
    },
    {
      "cell_type": "code",
      "execution_count": 35,
      "metadata": {
        "colab": {
          "base_uri": "https://localhost:8080/"
        },
        "id": "0AT_HPle3aNw",
        "outputId": "15d65f68-cf43-4584-b649-2a5881738d3b"
      },
      "outputs": [
        {
          "name": "stdout",
          "output_type": "stream",
          "text": [
            "end\n"
          ]
        }
      ],
      "source": [
        "import numpy as np\n",
        "import pandas as pd\n",
        "import os\n",
        "\n",
        "\n",
        "train_csv = pd.read_csv('data/train_df_csv.csv')\n",
        "val_csv = pd.read_csv('data/val_df_csv.csv')\n",
        "\n",
        "print('end')"
      ]
    },
    {
      "cell_type": "markdown",
      "metadata": {
        "id": "J9v-bOrXug9s"
      },
      "source": [
        "# for문으로 각 작물당 2000개씩 샘플 묶기\n",
        "- 1 고추\n",
        "- 2 무\n",
        "- 3 배추\n",
        "- 4 애호박 삭제\n",
        "- 5 양배추\n",
        "- 6 오이\n",
        "- 7 토마토\n",
        "- 8 콩\n",
        "- 9 파\n",
        "- 10 호박 삭제\n",
        "\n",
        "> 총 8개의 작물 (곤충과 겹치는 작물)\n"
      ]
    },
    {
      "cell_type": "code",
      "execution_count": 36,
      "metadata": {
        "colab": {
          "base_uri": "https://localhost:8080/",
          "height": 419
        },
        "id": "UjznFz2hug9t",
        "outputId": "e9100b4c-b4c6-4ede-d652-cc76b1ccc7f9"
      },
      "outputs": [
        {
          "data": {
            "text/html": [
              "<div>\n",
              "<style scoped>\n",
              "    .dataframe tbody tr th:only-of-type {\n",
              "        vertical-align: middle;\n",
              "    }\n",
              "\n",
              "    .dataframe tbody tr th {\n",
              "        vertical-align: top;\n",
              "    }\n",
              "\n",
              "    .dataframe thead th {\n",
              "        text-align: right;\n",
              "    }\n",
              "</style>\n",
              "<table border=\"1\" class=\"dataframe\">\n",
              "  <thead>\n",
              "    <tr style=\"text-align: right;\">\n",
              "      <th></th>\n",
              "      <th>image</th>\n",
              "      <th>disease</th>\n",
              "      <th>crop</th>\n",
              "      <th>grow</th>\n",
              "      <th>risk</th>\n",
              "      <th>points</th>\n",
              "      <th>name</th>\n",
              "    </tr>\n",
              "  </thead>\n",
              "  <tbody>\n",
              "    <tr>\n",
              "      <th>0</th>\n",
              "      <td>V006_79_0_00_01_01_13_0_a01_20201102_0000_S01_...</td>\n",
              "      <td>0</td>\n",
              "      <td>1</td>\n",
              "      <td>13</td>\n",
              "      <td>0</td>\n",
              "      <td>[{'xtl': 1118, 'ytl': 1294, 'xbr': 2900, 'ybr'...</td>\n",
              "      <td>고추_0.정상</td>\n",
              "    </tr>\n",
              "    <tr>\n",
              "      <th>1</th>\n",
              "      <td>V006_79_0_00_01_01_13_0_a01_20201102_0002_S01_...</td>\n",
              "      <td>0</td>\n",
              "      <td>1</td>\n",
              "      <td>13</td>\n",
              "      <td>0</td>\n",
              "      <td>[{'xtl': 1033, 'ytl': 1533, 'xbr': 2829, 'ybr'...</td>\n",
              "      <td>고추_0.정상</td>\n",
              "    </tr>\n",
              "    <tr>\n",
              "      <th>2</th>\n",
              "      <td>V006_79_0_00_01_01_13_0_a01_20201103_0001_S01_...</td>\n",
              "      <td>0</td>\n",
              "      <td>1</td>\n",
              "      <td>13</td>\n",
              "      <td>0</td>\n",
              "      <td>[{'xtl': 484, 'ytl': 1227, 'xbr': 3879, 'ybr':...</td>\n",
              "      <td>고추_0.정상</td>\n",
              "    </tr>\n",
              "    <tr>\n",
              "      <th>3</th>\n",
              "      <td>V006_79_0_00_01_01_13_0_a01_20201103_0003_S01_...</td>\n",
              "      <td>0</td>\n",
              "      <td>1</td>\n",
              "      <td>13</td>\n",
              "      <td>0</td>\n",
              "      <td>[{'xtl': 1241, 'ytl': 103, 'xbr': 2344, 'ybr':...</td>\n",
              "      <td>고추_0.정상</td>\n",
              "    </tr>\n",
              "    <tr>\n",
              "      <th>4</th>\n",
              "      <td>V006_79_0_00_01_01_13_0_a05_20201111_0000_S01_...</td>\n",
              "      <td>0</td>\n",
              "      <td>1</td>\n",
              "      <td>13</td>\n",
              "      <td>0</td>\n",
              "      <td>[{'xtl': 1382, 'ytl': 978, 'xbr': 3226, 'ybr':...</td>\n",
              "      <td>고추_0.정상</td>\n",
              "    </tr>\n",
              "    <tr>\n",
              "      <th>...</th>\n",
              "      <td>...</td>\n",
              "      <td>...</td>\n",
              "      <td>...</td>\n",
              "      <td>...</td>\n",
              "      <td>...</td>\n",
              "      <td>...</td>\n",
              "      <td>...</td>\n",
              "    </tr>\n",
              "    <tr>\n",
              "      <th>14434</th>\n",
              "      <td>V006_79_1_18_09_03_13_1_0819e_20201117_133.jpg</td>\n",
              "      <td>18</td>\n",
              "      <td>9</td>\n",
              "      <td>13</td>\n",
              "      <td>1</td>\n",
              "      <td>[{'xtl': 135, 'ytl': 0, 'xbr': 875, 'ybr': 961}]</td>\n",
              "      <td>파_1.질병</td>\n",
              "    </tr>\n",
              "    <tr>\n",
              "      <th>14435</th>\n",
              "      <td>V006_79_1_18_09_03_13_1_0819e_20201117_134.jpg</td>\n",
              "      <td>18</td>\n",
              "      <td>9</td>\n",
              "      <td>13</td>\n",
              "      <td>1</td>\n",
              "      <td>[{'xtl': 293, 'ytl': 0, 'xbr': 520, 'ybr': 961}]</td>\n",
              "      <td>파_1.질병</td>\n",
              "    </tr>\n",
              "    <tr>\n",
              "      <th>14436</th>\n",
              "      <td>V006_79_1_18_09_03_13_1_0819e_20201118_137.jpg</td>\n",
              "      <td>18</td>\n",
              "      <td>9</td>\n",
              "      <td>13</td>\n",
              "      <td>1</td>\n",
              "      <td>[{'xtl': 2, 'ytl': 0, 'xbr': 722, 'ybr': 878}]</td>\n",
              "      <td>파_1.질병</td>\n",
              "    </tr>\n",
              "    <tr>\n",
              "      <th>14437</th>\n",
              "      <td>V006_79_1_18_09_03_13_1_0819e_20201118_139.jpg</td>\n",
              "      <td>18</td>\n",
              "      <td>9</td>\n",
              "      <td>13</td>\n",
              "      <td>1</td>\n",
              "      <td>[{'xtl': 192, 'ytl': 0, 'xbr': 636, 'ybr': 961}]</td>\n",
              "      <td>파_1.질병</td>\n",
              "    </tr>\n",
              "    <tr>\n",
              "      <th>14438</th>\n",
              "      <td>V006_79_1_18_09_03_13_1_0819e_20201118_140.jpg</td>\n",
              "      <td>18</td>\n",
              "      <td>9</td>\n",
              "      <td>13</td>\n",
              "      <td>1</td>\n",
              "      <td>[{'xtl': 294, 'ytl': 0, 'xbr': 961, 'ybr': 961}]</td>\n",
              "      <td>파_1.질병</td>\n",
              "    </tr>\n",
              "  </tbody>\n",
              "</table>\n",
              "<p>14439 rows × 7 columns</p>\n",
              "</div>"
            ],
            "text/plain": [
              "                                                   image  disease  crop  grow  \\\n",
              "0      V006_79_0_00_01_01_13_0_a01_20201102_0000_S01_...        0     1    13   \n",
              "1      V006_79_0_00_01_01_13_0_a01_20201102_0002_S01_...        0     1    13   \n",
              "2      V006_79_0_00_01_01_13_0_a01_20201103_0001_S01_...        0     1    13   \n",
              "3      V006_79_0_00_01_01_13_0_a01_20201103_0003_S01_...        0     1    13   \n",
              "4      V006_79_0_00_01_01_13_0_a05_20201111_0000_S01_...        0     1    13   \n",
              "...                                                  ...      ...   ...   ...   \n",
              "14434     V006_79_1_18_09_03_13_1_0819e_20201117_133.jpg       18     9    13   \n",
              "14435     V006_79_1_18_09_03_13_1_0819e_20201117_134.jpg       18     9    13   \n",
              "14436     V006_79_1_18_09_03_13_1_0819e_20201118_137.jpg       18     9    13   \n",
              "14437     V006_79_1_18_09_03_13_1_0819e_20201118_139.jpg       18     9    13   \n",
              "14438     V006_79_1_18_09_03_13_1_0819e_20201118_140.jpg       18     9    13   \n",
              "\n",
              "       risk                                             points     name  \n",
              "0         0  [{'xtl': 1118, 'ytl': 1294, 'xbr': 2900, 'ybr'...  고추_0.정상  \n",
              "1         0  [{'xtl': 1033, 'ytl': 1533, 'xbr': 2829, 'ybr'...  고추_0.정상  \n",
              "2         0  [{'xtl': 484, 'ytl': 1227, 'xbr': 3879, 'ybr':...  고추_0.정상  \n",
              "3         0  [{'xtl': 1241, 'ytl': 103, 'xbr': 2344, 'ybr':...  고추_0.정상  \n",
              "4         0  [{'xtl': 1382, 'ytl': 978, 'xbr': 3226, 'ybr':...  고추_0.정상  \n",
              "...     ...                                                ...      ...  \n",
              "14434     1   [{'xtl': 135, 'ytl': 0, 'xbr': 875, 'ybr': 961}]   파_1.질병  \n",
              "14435     1   [{'xtl': 293, 'ytl': 0, 'xbr': 520, 'ybr': 961}]   파_1.질병  \n",
              "14436     1     [{'xtl': 2, 'ytl': 0, 'xbr': 722, 'ybr': 878}]   파_1.질병  \n",
              "14437     1   [{'xtl': 192, 'ytl': 0, 'xbr': 636, 'ybr': 961}]   파_1.질병  \n",
              "14438     1   [{'xtl': 294, 'ytl': 0, 'xbr': 961, 'ybr': 961}]   파_1.질병  \n",
              "\n",
              "[14439 rows x 7 columns]"
            ]
          },
          "execution_count": 36,
          "metadata": {},
          "output_type": "execute_result"
        }
      ],
      "source": [
        "tc = train_csv[['image', 'disease', 'crop', 'grow', 'risk', 'points', 'name']]\n",
        "tc"
      ]
    },
    {
      "cell_type": "code",
      "execution_count": 48,
      "metadata": {},
      "outputs": [
        {
          "data": {
            "text/html": [
              "<div>\n",
              "<style scoped>\n",
              "    .dataframe tbody tr th:only-of-type {\n",
              "        vertical-align: middle;\n",
              "    }\n",
              "\n",
              "    .dataframe tbody tr th {\n",
              "        vertical-align: top;\n",
              "    }\n",
              "\n",
              "    .dataframe thead th {\n",
              "        text-align: right;\n",
              "    }\n",
              "</style>\n",
              "<table border=\"1\" class=\"dataframe\">\n",
              "  <thead>\n",
              "    <tr style=\"text-align: right;\">\n",
              "      <th></th>\n",
              "      <th>image</th>\n",
              "      <th>disease</th>\n",
              "      <th>crop</th>\n",
              "      <th>grow</th>\n",
              "      <th>risk</th>\n",
              "      <th>points</th>\n",
              "      <th>name</th>\n",
              "    </tr>\n",
              "  </thead>\n",
              "  <tbody>\n",
              "    <tr>\n",
              "      <th>7183</th>\n",
              "      <td>V006_79_0_00_06_01_13_0_b02_20201014_0000_S01_...</td>\n",
              "      <td>0</td>\n",
              "      <td>6</td>\n",
              "      <td>13</td>\n",
              "      <td>0</td>\n",
              "      <td>[{'xtl': 548, 'ytl': 1022, 'xbr': 3760, 'ybr':...</td>\n",
              "      <td>오이_0.정상</td>\n",
              "    </tr>\n",
              "    <tr>\n",
              "      <th>7184</th>\n",
              "      <td>V006_79_0_00_06_01_13_0_b02_20201014_0001_S01_...</td>\n",
              "      <td>0</td>\n",
              "      <td>6</td>\n",
              "      <td>13</td>\n",
              "      <td>0</td>\n",
              "      <td>[{'xtl': 470, 'ytl': 1431, 'xbr': 3235, 'ybr':...</td>\n",
              "      <td>오이_0.정상</td>\n",
              "    </tr>\n",
              "    <tr>\n",
              "      <th>7185</th>\n",
              "      <td>V006_79_0_00_06_01_13_0_b02_20201014_0002_S01_...</td>\n",
              "      <td>0</td>\n",
              "      <td>6</td>\n",
              "      <td>13</td>\n",
              "      <td>0</td>\n",
              "      <td>[{'xtl': 440, 'ytl': 1041, 'xbr': 3486, 'ybr':...</td>\n",
              "      <td>오이_0.정상</td>\n",
              "    </tr>\n",
              "    <tr>\n",
              "      <th>7186</th>\n",
              "      <td>V006_79_0_00_06_01_13_0_b02_20201014_0003_S01_...</td>\n",
              "      <td>0</td>\n",
              "      <td>6</td>\n",
              "      <td>13</td>\n",
              "      <td>0</td>\n",
              "      <td>[{'xtl': 768, 'ytl': 1260, 'xbr': 3050, 'ybr':...</td>\n",
              "      <td>오이_0.정상</td>\n",
              "    </tr>\n",
              "    <tr>\n",
              "      <th>7187</th>\n",
              "      <td>V006_79_0_00_06_01_13_0_b02_20201014_0004_S01_...</td>\n",
              "      <td>0</td>\n",
              "      <td>6</td>\n",
              "      <td>13</td>\n",
              "      <td>0</td>\n",
              "      <td>[{'xtl': 736, 'ytl': 1194, 'xbr': 3473, 'ybr':...</td>\n",
              "      <td>오이_0.정상</td>\n",
              "    </tr>\n",
              "    <tr>\n",
              "      <th>...</th>\n",
              "      <td>...</td>\n",
              "      <td>...</td>\n",
              "      <td>...</td>\n",
              "      <td>...</td>\n",
              "      <td>...</td>\n",
              "      <td>...</td>\n",
              "      <td>...</td>\n",
              "    </tr>\n",
              "    <tr>\n",
              "      <th>8959</th>\n",
              "      <td>V006_79_1_12_06_03_13_3_7390w_20201207_56.jpeg</td>\n",
              "      <td>12</td>\n",
              "      <td>6</td>\n",
              "      <td>13</td>\n",
              "      <td>3</td>\n",
              "      <td>[{'xtl': 545, 'ytl': 432, 'xbr': 2905, 'ybr': ...</td>\n",
              "      <td>오이_1.질병</td>\n",
              "    </tr>\n",
              "    <tr>\n",
              "      <th>8960</th>\n",
              "      <td>V006_79_1_12_06_03_13_3_7390w_20201207_6.jpeg</td>\n",
              "      <td>12</td>\n",
              "      <td>6</td>\n",
              "      <td>13</td>\n",
              "      <td>3</td>\n",
              "      <td>[{'xtl': 929, 'ytl': 268, 'xbr': 3209, 'ybr': ...</td>\n",
              "      <td>오이_1.질병</td>\n",
              "    </tr>\n",
              "    <tr>\n",
              "      <th>8961</th>\n",
              "      <td>V006_79_1_12_06_03_13_3_7390w_20201207_61.jpeg</td>\n",
              "      <td>12</td>\n",
              "      <td>6</td>\n",
              "      <td>13</td>\n",
              "      <td>3</td>\n",
              "      <td>[{'xtl': 533, 'ytl': 232, 'xbr': 2761, 'ybr': ...</td>\n",
              "      <td>오이_1.질병</td>\n",
              "    </tr>\n",
              "    <tr>\n",
              "      <th>8962</th>\n",
              "      <td>V006_79_1_12_06_05_13_1_0502bb_20201102_2.jpeg</td>\n",
              "      <td>12</td>\n",
              "      <td>6</td>\n",
              "      <td>13</td>\n",
              "      <td>1</td>\n",
              "      <td>[{'xtl': 1135, 'ytl': 838, 'xbr': 3008, 'ybr':...</td>\n",
              "      <td>오이_1.질병</td>\n",
              "    </tr>\n",
              "    <tr>\n",
              "      <th>8963</th>\n",
              "      <td>V006_79_1_12_06_05_13_1_0502bb_20201102_3.jpeg</td>\n",
              "      <td>12</td>\n",
              "      <td>6</td>\n",
              "      <td>13</td>\n",
              "      <td>1</td>\n",
              "      <td>[{'xtl': 1546, 'ytl': 277, 'xbr': 3729, 'ybr':...</td>\n",
              "      <td>오이_1.질병</td>\n",
              "    </tr>\n",
              "  </tbody>\n",
              "</table>\n",
              "<p>1781 rows × 7 columns</p>\n",
              "</div>"
            ],
            "text/plain": [
              "                                                  image  disease  crop  grow  \\\n",
              "7183  V006_79_0_00_06_01_13_0_b02_20201014_0000_S01_...        0     6    13   \n",
              "7184  V006_79_0_00_06_01_13_0_b02_20201014_0001_S01_...        0     6    13   \n",
              "7185  V006_79_0_00_06_01_13_0_b02_20201014_0002_S01_...        0     6    13   \n",
              "7186  V006_79_0_00_06_01_13_0_b02_20201014_0003_S01_...        0     6    13   \n",
              "7187  V006_79_0_00_06_01_13_0_b02_20201014_0004_S01_...        0     6    13   \n",
              "...                                                 ...      ...   ...   ...   \n",
              "8959     V006_79_1_12_06_03_13_3_7390w_20201207_56.jpeg       12     6    13   \n",
              "8960      V006_79_1_12_06_03_13_3_7390w_20201207_6.jpeg       12     6    13   \n",
              "8961     V006_79_1_12_06_03_13_3_7390w_20201207_61.jpeg       12     6    13   \n",
              "8962     V006_79_1_12_06_05_13_1_0502bb_20201102_2.jpeg       12     6    13   \n",
              "8963     V006_79_1_12_06_05_13_1_0502bb_20201102_3.jpeg       12     6    13   \n",
              "\n",
              "      risk                                             points     name  \n",
              "7183     0  [{'xtl': 548, 'ytl': 1022, 'xbr': 3760, 'ybr':...  오이_0.정상  \n",
              "7184     0  [{'xtl': 470, 'ytl': 1431, 'xbr': 3235, 'ybr':...  오이_0.정상  \n",
              "7185     0  [{'xtl': 440, 'ytl': 1041, 'xbr': 3486, 'ybr':...  오이_0.정상  \n",
              "7186     0  [{'xtl': 768, 'ytl': 1260, 'xbr': 3050, 'ybr':...  오이_0.정상  \n",
              "7187     0  [{'xtl': 736, 'ytl': 1194, 'xbr': 3473, 'ybr':...  오이_0.정상  \n",
              "...    ...                                                ...      ...  \n",
              "8959     3  [{'xtl': 545, 'ytl': 432, 'xbr': 2905, 'ybr': ...  오이_1.질병  \n",
              "8960     3  [{'xtl': 929, 'ytl': 268, 'xbr': 3209, 'ybr': ...  오이_1.질병  \n",
              "8961     3  [{'xtl': 533, 'ytl': 232, 'xbr': 2761, 'ybr': ...  오이_1.질병  \n",
              "8962     1  [{'xtl': 1135, 'ytl': 838, 'xbr': 3008, 'ybr':...  오이_1.질병  \n",
              "8963     1  [{'xtl': 1546, 'ytl': 277, 'xbr': 3729, 'ybr':...  오이_1.질병  \n",
              "\n",
              "[1781 rows x 7 columns]"
            ]
          },
          "execution_count": 48,
          "metadata": {},
          "output_type": "execute_result"
        }
      ],
      "source": [
        "train_csv[train_csv['crop']==6]"
      ]
    },
    {
      "cell_type": "code",
      "execution_count": 37,
      "metadata": {
        "id": "d-kNZKUOug9t"
      },
      "outputs": [],
      "source": [
        "tc = train_csv[['image', 'disease', 'crop', 'grow', 'risk', 'points', 'name']]\n",
        "df = pd.DataFrame(index=range(0,), columns=['image', 'disease', 'crop', 'grow', 'risk', 'points', 'name'])\n",
        "# [] 안에 작물 코드 넣기\n",
        "for i in [6]:\n",
        "    for k in range(19):\n",
        "        if k == 0:\n",
        "            tmp = tc[(tc['crop'] == i)&(tc['disease'] == k)][:1000]\n",
        "            df = pd.concat([df, tmp])\n",
        "        else:\n",
        "            tmp = tc[(tc['crop'] == i)&(tc['disease'] == k)][:500]\n",
        "            df = pd.concat([df, tmp])\n",
        "\n",
        "\n",
        "train_df = df"
      ]
    },
    {
      "cell_type": "code",
      "execution_count": 38,
      "metadata": {
        "id": "mpQ5PGivug9t"
      },
      "outputs": [],
      "source": [
        "train_df = train_df[['image', 'disease', 'crop', 'grow', 'risk']]\n",
        "train_df.reset_index(drop=True, inplace=True)"
      ]
    },
    {
      "cell_type": "code",
      "execution_count": 39,
      "metadata": {
        "colab": {
          "base_uri": "https://localhost:8080/",
          "height": 419
        },
        "id": "5nhYfCx5zErB",
        "outputId": "a2163d68-3078-4c1a-a58b-d84f3502ec3d"
      },
      "outputs": [
        {
          "data": {
            "text/html": [
              "<div>\n",
              "<style scoped>\n",
              "    .dataframe tbody tr th:only-of-type {\n",
              "        vertical-align: middle;\n",
              "    }\n",
              "\n",
              "    .dataframe tbody tr th {\n",
              "        vertical-align: top;\n",
              "    }\n",
              "\n",
              "    .dataframe thead th {\n",
              "        text-align: right;\n",
              "    }\n",
              "</style>\n",
              "<table border=\"1\" class=\"dataframe\">\n",
              "  <thead>\n",
              "    <tr style=\"text-align: right;\">\n",
              "      <th></th>\n",
              "      <th>image</th>\n",
              "      <th>disease</th>\n",
              "      <th>crop</th>\n",
              "      <th>grow</th>\n",
              "      <th>risk</th>\n",
              "    </tr>\n",
              "  </thead>\n",
              "  <tbody>\n",
              "    <tr>\n",
              "      <th>0</th>\n",
              "      <td>V006_79_0_00_06_01_13_0_b02_20201014_0000_S01_...</td>\n",
              "      <td>0</td>\n",
              "      <td>6</td>\n",
              "      <td>13</td>\n",
              "      <td>0</td>\n",
              "    </tr>\n",
              "    <tr>\n",
              "      <th>1</th>\n",
              "      <td>V006_79_0_00_06_01_13_0_b02_20201014_0001_S01_...</td>\n",
              "      <td>0</td>\n",
              "      <td>6</td>\n",
              "      <td>13</td>\n",
              "      <td>0</td>\n",
              "    </tr>\n",
              "    <tr>\n",
              "      <th>2</th>\n",
              "      <td>V006_79_0_00_06_01_13_0_b02_20201014_0002_S01_...</td>\n",
              "      <td>0</td>\n",
              "      <td>6</td>\n",
              "      <td>13</td>\n",
              "      <td>0</td>\n",
              "    </tr>\n",
              "    <tr>\n",
              "      <th>3</th>\n",
              "      <td>V006_79_0_00_06_01_13_0_b02_20201014_0003_S01_...</td>\n",
              "      <td>0</td>\n",
              "      <td>6</td>\n",
              "      <td>13</td>\n",
              "      <td>0</td>\n",
              "    </tr>\n",
              "    <tr>\n",
              "      <th>4</th>\n",
              "      <td>V006_79_0_00_06_01_13_0_b02_20201014_0004_S01_...</td>\n",
              "      <td>0</td>\n",
              "      <td>6</td>\n",
              "      <td>13</td>\n",
              "      <td>0</td>\n",
              "    </tr>\n",
              "    <tr>\n",
              "      <th>...</th>\n",
              "      <td>...</td>\n",
              "      <td>...</td>\n",
              "      <td>...</td>\n",
              "      <td>...</td>\n",
              "      <td>...</td>\n",
              "    </tr>\n",
              "    <tr>\n",
              "      <th>1776</th>\n",
              "      <td>V006_79_1_12_06_03_13_3_7390w_20201207_56.jpeg</td>\n",
              "      <td>12</td>\n",
              "      <td>6</td>\n",
              "      <td>13</td>\n",
              "      <td>3</td>\n",
              "    </tr>\n",
              "    <tr>\n",
              "      <th>1777</th>\n",
              "      <td>V006_79_1_12_06_03_13_3_7390w_20201207_6.jpeg</td>\n",
              "      <td>12</td>\n",
              "      <td>6</td>\n",
              "      <td>13</td>\n",
              "      <td>3</td>\n",
              "    </tr>\n",
              "    <tr>\n",
              "      <th>1778</th>\n",
              "      <td>V006_79_1_12_06_03_13_3_7390w_20201207_61.jpeg</td>\n",
              "      <td>12</td>\n",
              "      <td>6</td>\n",
              "      <td>13</td>\n",
              "      <td>3</td>\n",
              "    </tr>\n",
              "    <tr>\n",
              "      <th>1779</th>\n",
              "      <td>V006_79_1_12_06_05_13_1_0502bb_20201102_2.jpeg</td>\n",
              "      <td>12</td>\n",
              "      <td>6</td>\n",
              "      <td>13</td>\n",
              "      <td>1</td>\n",
              "    </tr>\n",
              "    <tr>\n",
              "      <th>1780</th>\n",
              "      <td>V006_79_1_12_06_05_13_1_0502bb_20201102_3.jpeg</td>\n",
              "      <td>12</td>\n",
              "      <td>6</td>\n",
              "      <td>13</td>\n",
              "      <td>1</td>\n",
              "    </tr>\n",
              "  </tbody>\n",
              "</table>\n",
              "<p>1781 rows × 5 columns</p>\n",
              "</div>"
            ],
            "text/plain": [
              "                                                  image disease crop grow risk\n",
              "0     V006_79_0_00_06_01_13_0_b02_20201014_0000_S01_...       0    6   13    0\n",
              "1     V006_79_0_00_06_01_13_0_b02_20201014_0001_S01_...       0    6   13    0\n",
              "2     V006_79_0_00_06_01_13_0_b02_20201014_0002_S01_...       0    6   13    0\n",
              "3     V006_79_0_00_06_01_13_0_b02_20201014_0003_S01_...       0    6   13    0\n",
              "4     V006_79_0_00_06_01_13_0_b02_20201014_0004_S01_...       0    6   13    0\n",
              "...                                                 ...     ...  ...  ...  ...\n",
              "1776     V006_79_1_12_06_03_13_3_7390w_20201207_56.jpeg      12    6   13    3\n",
              "1777      V006_79_1_12_06_03_13_3_7390w_20201207_6.jpeg      12    6   13    3\n",
              "1778     V006_79_1_12_06_03_13_3_7390w_20201207_61.jpeg      12    6   13    3\n",
              "1779     V006_79_1_12_06_05_13_1_0502bb_20201102_2.jpeg      12    6   13    1\n",
              "1780     V006_79_1_12_06_05_13_1_0502bb_20201102_3.jpeg      12    6   13    1\n",
              "\n",
              "[1781 rows x 5 columns]"
            ]
          },
          "execution_count": 39,
          "metadata": {},
          "output_type": "execute_result"
        }
      ],
      "source": [
        "train_df"
      ]
    },
    {
      "cell_type": "code",
      "execution_count": 40,
      "metadata": {
        "colab": {
          "base_uri": "https://localhost:8080/",
          "height": 419
        },
        "id": "nKFuV0bJug9t",
        "outputId": "a854b9b0-fadf-499d-a7c3-54790186c9d7"
      },
      "outputs": [
        {
          "data": {
            "text/html": [
              "<div>\n",
              "<style scoped>\n",
              "    .dataframe tbody tr th:only-of-type {\n",
              "        vertical-align: middle;\n",
              "    }\n",
              "\n",
              "    .dataframe tbody tr th {\n",
              "        vertical-align: top;\n",
              "    }\n",
              "\n",
              "    .dataframe thead th {\n",
              "        text-align: right;\n",
              "    }\n",
              "</style>\n",
              "<table border=\"1\" class=\"dataframe\">\n",
              "  <thead>\n",
              "    <tr style=\"text-align: right;\">\n",
              "      <th></th>\n",
              "      <th>image</th>\n",
              "      <th>disease</th>\n",
              "      <th>crop</th>\n",
              "      <th>grow</th>\n",
              "      <th>risk</th>\n",
              "      <th>points</th>\n",
              "      <th>name</th>\n",
              "    </tr>\n",
              "  </thead>\n",
              "  <tbody>\n",
              "    <tr>\n",
              "      <th>0</th>\n",
              "      <td>V006_79_0_00_01_01_13_0_a01_20201103_0000_S01_...</td>\n",
              "      <td>0</td>\n",
              "      <td>1</td>\n",
              "      <td>13</td>\n",
              "      <td>0</td>\n",
              "      <td>[{'xtl': 502, 'ytl': 1261, 'xbr': 3781, 'ybr':...</td>\n",
              "      <td>고추_0.정상</td>\n",
              "    </tr>\n",
              "    <tr>\n",
              "      <th>1</th>\n",
              "      <td>V006_79_0_00_01_01_13_0_a01_20201103_0002_S01_...</td>\n",
              "      <td>0</td>\n",
              "      <td>1</td>\n",
              "      <td>13</td>\n",
              "      <td>0</td>\n",
              "      <td>[{'xtl': 817, 'ytl': 1564, 'xbr': 3693, 'ybr':...</td>\n",
              "      <td>고추_0.정상</td>\n",
              "    </tr>\n",
              "    <tr>\n",
              "      <th>2</th>\n",
              "      <td>V006_79_0_00_01_01_13_0_a05_20201111_0009_S01_...</td>\n",
              "      <td>0</td>\n",
              "      <td>1</td>\n",
              "      <td>13</td>\n",
              "      <td>0</td>\n",
              "      <td>[{'xtl': 697, 'ytl': 967, 'xbr': 3797, 'ybr': ...</td>\n",
              "      <td>고추_0.정상</td>\n",
              "    </tr>\n",
              "    <tr>\n",
              "      <th>3</th>\n",
              "      <td>V006_79_0_00_01_01_13_0_a05_20201111_0014_S01_...</td>\n",
              "      <td>0</td>\n",
              "      <td>1</td>\n",
              "      <td>13</td>\n",
              "      <td>0</td>\n",
              "      <td>[{'xtl': 627, 'ytl': 1294, 'xbr': 3783, 'ybr':...</td>\n",
              "      <td>고추_0.정상</td>\n",
              "    </tr>\n",
              "    <tr>\n",
              "      <th>4</th>\n",
              "      <td>V006_79_0_00_01_01_13_0_a05_20201111_0024_S01_...</td>\n",
              "      <td>0</td>\n",
              "      <td>1</td>\n",
              "      <td>13</td>\n",
              "      <td>0</td>\n",
              "      <td>[{'xtl': 1002, 'ytl': 458, 'xbr': 3380, 'ybr':...</td>\n",
              "      <td>고추_0.정상</td>\n",
              "    </tr>\n",
              "    <tr>\n",
              "      <th>...</th>\n",
              "      <td>...</td>\n",
              "      <td>...</td>\n",
              "      <td>...</td>\n",
              "      <td>...</td>\n",
              "      <td>...</td>\n",
              "      <td>...</td>\n",
              "      <td>...</td>\n",
              "    </tr>\n",
              "    <tr>\n",
              "      <th>9100</th>\n",
              "      <td>V006_79_1_18_09_03_13_3_0819e_20201112_151.jpg</td>\n",
              "      <td>18</td>\n",
              "      <td>9</td>\n",
              "      <td>13</td>\n",
              "      <td>3</td>\n",
              "      <td>[{'xtl': 308, 'ytl': 468, 'xbr': 542, 'ybr': 1...</td>\n",
              "      <td>파_1.질병</td>\n",
              "    </tr>\n",
              "    <tr>\n",
              "      <th>9101</th>\n",
              "      <td>V006_79_1_18_09_03_13_3_0819e_20201127_172.jpg</td>\n",
              "      <td>18</td>\n",
              "      <td>9</td>\n",
              "      <td>13</td>\n",
              "      <td>3</td>\n",
              "      <td>[{'xtl': 0, 'ytl': 341, 'xbr': 960, 'ybr': 960}]</td>\n",
              "      <td>파_1.질병</td>\n",
              "    </tr>\n",
              "    <tr>\n",
              "      <th>9102</th>\n",
              "      <td>V006_79_1_18_09_03_13_3_6734e_20201030_50.jpg</td>\n",
              "      <td>18</td>\n",
              "      <td>9</td>\n",
              "      <td>13</td>\n",
              "      <td>3</td>\n",
              "      <td>[{'xtl': 79, 'ytl': 2, 'xbr': 433, 'ybr': 960}]</td>\n",
              "      <td>파_1.질병</td>\n",
              "    </tr>\n",
              "    <tr>\n",
              "      <th>9103</th>\n",
              "      <td>V006_79_1_18_09_03_13_3_6734e_20201117_48.jpg</td>\n",
              "      <td>18</td>\n",
              "      <td>9</td>\n",
              "      <td>13</td>\n",
              "      <td>3</td>\n",
              "      <td>[{'xtl': 355, 'ytl': 0, 'xbr': 657, 'ybr': 960}]</td>\n",
              "      <td>파_1.질병</td>\n",
              "    </tr>\n",
              "    <tr>\n",
              "      <th>9104</th>\n",
              "      <td>V006_79_1_18_09_03_13_3_6734e_20201117_55.jpg</td>\n",
              "      <td>18</td>\n",
              "      <td>9</td>\n",
              "      <td>13</td>\n",
              "      <td>3</td>\n",
              "      <td>[{'xtl': 0, 'ytl': 621, 'xbr': 1559, 'ybr': 993}]</td>\n",
              "      <td>파_1.질병</td>\n",
              "    </tr>\n",
              "  </tbody>\n",
              "</table>\n",
              "<p>9105 rows × 7 columns</p>\n",
              "</div>"
            ],
            "text/plain": [
              "                                                  image  disease  crop  grow  \\\n",
              "0     V006_79_0_00_01_01_13_0_a01_20201103_0000_S01_...        0     1    13   \n",
              "1     V006_79_0_00_01_01_13_0_a01_20201103_0002_S01_...        0     1    13   \n",
              "2     V006_79_0_00_01_01_13_0_a05_20201111_0009_S01_...        0     1    13   \n",
              "3     V006_79_0_00_01_01_13_0_a05_20201111_0014_S01_...        0     1    13   \n",
              "4     V006_79_0_00_01_01_13_0_a05_20201111_0024_S01_...        0     1    13   \n",
              "...                                                 ...      ...   ...   ...   \n",
              "9100     V006_79_1_18_09_03_13_3_0819e_20201112_151.jpg       18     9    13   \n",
              "9101     V006_79_1_18_09_03_13_3_0819e_20201127_172.jpg       18     9    13   \n",
              "9102      V006_79_1_18_09_03_13_3_6734e_20201030_50.jpg       18     9    13   \n",
              "9103      V006_79_1_18_09_03_13_3_6734e_20201117_48.jpg       18     9    13   \n",
              "9104      V006_79_1_18_09_03_13_3_6734e_20201117_55.jpg       18     9    13   \n",
              "\n",
              "      risk                                             points     name  \n",
              "0        0  [{'xtl': 502, 'ytl': 1261, 'xbr': 3781, 'ybr':...  고추_0.정상  \n",
              "1        0  [{'xtl': 817, 'ytl': 1564, 'xbr': 3693, 'ybr':...  고추_0.정상  \n",
              "2        0  [{'xtl': 697, 'ytl': 967, 'xbr': 3797, 'ybr': ...  고추_0.정상  \n",
              "3        0  [{'xtl': 627, 'ytl': 1294, 'xbr': 3783, 'ybr':...  고추_0.정상  \n",
              "4        0  [{'xtl': 1002, 'ytl': 458, 'xbr': 3380, 'ybr':...  고추_0.정상  \n",
              "...    ...                                                ...      ...  \n",
              "9100     3  [{'xtl': 308, 'ytl': 468, 'xbr': 542, 'ybr': 1...   파_1.질병  \n",
              "9101     3   [{'xtl': 0, 'ytl': 341, 'xbr': 960, 'ybr': 960}]   파_1.질병  \n",
              "9102     3    [{'xtl': 79, 'ytl': 2, 'xbr': 433, 'ybr': 960}]   파_1.질병  \n",
              "9103     3   [{'xtl': 355, 'ytl': 0, 'xbr': 657, 'ybr': 960}]   파_1.질병  \n",
              "9104     3  [{'xtl': 0, 'ytl': 621, 'xbr': 1559, 'ybr': 993}]   파_1.질병  \n",
              "\n",
              "[9105 rows x 7 columns]"
            ]
          },
          "execution_count": 40,
          "metadata": {},
          "output_type": "execute_result"
        }
      ],
      "source": [
        "vc = val_csv[['image', 'disease', 'crop', 'grow', 'risk', 'points', 'name']]\n",
        "vc"
      ]
    },
    {
      "cell_type": "code",
      "execution_count": 41,
      "metadata": {
        "id": "3HYh5ySFug9t"
      },
      "outputs": [],
      "source": [
        "vc = val_csv[['image', 'disease', 'crop', 'grow', 'risk', 'points', 'name']]\n",
        "df = pd.DataFrame(index=range(0,), columns=['image', 'disease', 'crop', 'grow', 'risk', 'points', 'name'])\n",
        "# [] 안에 작물 코드 넣기\n",
        "for i in [6]:\n",
        "    for k in range(19):\n",
        "        if k == 0:\n",
        "            tmp = vc[(vc['crop'] == i)&(vc['disease'] == k)][:1000]\n",
        "            df = pd.concat([df, tmp])\n",
        "        else:\n",
        "            tmp = vc[(vc['crop'] == i)&(vc['disease'] == k)][:500]\n",
        "            df = pd.concat([df, tmp])\n",
        "\n",
        "\n",
        "val_df = df"
      ]
    },
    {
      "cell_type": "code",
      "execution_count": 42,
      "metadata": {
        "colab": {
          "base_uri": "https://localhost:8080/",
          "height": 419
        },
        "id": "2uza97yeug9t",
        "outputId": "47919a02-8238-4eb0-ad32-f8d8acb0d1ee"
      },
      "outputs": [
        {
          "data": {
            "text/html": [
              "<div>\n",
              "<style scoped>\n",
              "    .dataframe tbody tr th:only-of-type {\n",
              "        vertical-align: middle;\n",
              "    }\n",
              "\n",
              "    .dataframe tbody tr th {\n",
              "        vertical-align: top;\n",
              "    }\n",
              "\n",
              "    .dataframe thead th {\n",
              "        text-align: right;\n",
              "    }\n",
              "</style>\n",
              "<table border=\"1\" class=\"dataframe\">\n",
              "  <thead>\n",
              "    <tr style=\"text-align: right;\">\n",
              "      <th></th>\n",
              "      <th>image</th>\n",
              "      <th>disease</th>\n",
              "      <th>crop</th>\n",
              "      <th>grow</th>\n",
              "      <th>risk</th>\n",
              "    </tr>\n",
              "  </thead>\n",
              "  <tbody>\n",
              "    <tr>\n",
              "      <th>0</th>\n",
              "      <td>V006_79_0_00_06_01_13_0_b02_20201014_0005_S01_...</td>\n",
              "      <td>0</td>\n",
              "      <td>6</td>\n",
              "      <td>13</td>\n",
              "      <td>0</td>\n",
              "    </tr>\n",
              "    <tr>\n",
              "      <th>1</th>\n",
              "      <td>V006_79_0_00_06_01_13_0_b02_20201014_0016_S01_...</td>\n",
              "      <td>0</td>\n",
              "      <td>6</td>\n",
              "      <td>13</td>\n",
              "      <td>0</td>\n",
              "    </tr>\n",
              "    <tr>\n",
              "      <th>2</th>\n",
              "      <td>V006_79_0_00_06_01_13_0_b02_20201014_0023_S01_...</td>\n",
              "      <td>0</td>\n",
              "      <td>6</td>\n",
              "      <td>13</td>\n",
              "      <td>0</td>\n",
              "    </tr>\n",
              "    <tr>\n",
              "      <th>3</th>\n",
              "      <td>V006_79_0_00_06_01_13_0_b02_20201014_0024_S01_...</td>\n",
              "      <td>0</td>\n",
              "      <td>6</td>\n",
              "      <td>13</td>\n",
              "      <td>0</td>\n",
              "    </tr>\n",
              "    <tr>\n",
              "      <th>4</th>\n",
              "      <td>V006_79_0_00_06_01_13_0_b02_20201014_0028_S01_...</td>\n",
              "      <td>0</td>\n",
              "      <td>6</td>\n",
              "      <td>13</td>\n",
              "      <td>0</td>\n",
              "    </tr>\n",
              "    <tr>\n",
              "      <th>...</th>\n",
              "      <td>...</td>\n",
              "      <td>...</td>\n",
              "      <td>...</td>\n",
              "      <td>...</td>\n",
              "      <td>...</td>\n",
              "    </tr>\n",
              "    <tr>\n",
              "      <th>1102</th>\n",
              "      <td>V006_79_1_12_06_03_13_3_3221w_20201115_73.JPEG</td>\n",
              "      <td>12</td>\n",
              "      <td>6</td>\n",
              "      <td>13</td>\n",
              "      <td>3</td>\n",
              "    </tr>\n",
              "    <tr>\n",
              "      <th>1103</th>\n",
              "      <td>V006_79_1_12_06_03_13_3_3221w_20201115_82.jpg</td>\n",
              "      <td>12</td>\n",
              "      <td>6</td>\n",
              "      <td>13</td>\n",
              "      <td>3</td>\n",
              "    </tr>\n",
              "    <tr>\n",
              "      <th>1104</th>\n",
              "      <td>V006_79_1_12_06_03_13_3_3221w_20201115_86.jpg</td>\n",
              "      <td>12</td>\n",
              "      <td>6</td>\n",
              "      <td>13</td>\n",
              "      <td>3</td>\n",
              "    </tr>\n",
              "    <tr>\n",
              "      <th>1105</th>\n",
              "      <td>V006_79_1_12_06_03_13_3_3244w_20201104_15.jpeg</td>\n",
              "      <td>12</td>\n",
              "      <td>6</td>\n",
              "      <td>13</td>\n",
              "      <td>3</td>\n",
              "    </tr>\n",
              "    <tr>\n",
              "      <th>1106</th>\n",
              "      <td>V006_79_1_12_06_03_13_3_7390w_20201207_53.jpeg</td>\n",
              "      <td>12</td>\n",
              "      <td>6</td>\n",
              "      <td>13</td>\n",
              "      <td>3</td>\n",
              "    </tr>\n",
              "  </tbody>\n",
              "</table>\n",
              "<p>1107 rows × 5 columns</p>\n",
              "</div>"
            ],
            "text/plain": [
              "                                                  image disease crop grow risk\n",
              "0     V006_79_0_00_06_01_13_0_b02_20201014_0005_S01_...       0    6   13    0\n",
              "1     V006_79_0_00_06_01_13_0_b02_20201014_0016_S01_...       0    6   13    0\n",
              "2     V006_79_0_00_06_01_13_0_b02_20201014_0023_S01_...       0    6   13    0\n",
              "3     V006_79_0_00_06_01_13_0_b02_20201014_0024_S01_...       0    6   13    0\n",
              "4     V006_79_0_00_06_01_13_0_b02_20201014_0028_S01_...       0    6   13    0\n",
              "...                                                 ...     ...  ...  ...  ...\n",
              "1102     V006_79_1_12_06_03_13_3_3221w_20201115_73.JPEG      12    6   13    3\n",
              "1103      V006_79_1_12_06_03_13_3_3221w_20201115_82.jpg      12    6   13    3\n",
              "1104      V006_79_1_12_06_03_13_3_3221w_20201115_86.jpg      12    6   13    3\n",
              "1105     V006_79_1_12_06_03_13_3_3244w_20201104_15.jpeg      12    6   13    3\n",
              "1106     V006_79_1_12_06_03_13_3_7390w_20201207_53.jpeg      12    6   13    3\n",
              "\n",
              "[1107 rows x 5 columns]"
            ]
          },
          "execution_count": 42,
          "metadata": {},
          "output_type": "execute_result"
        }
      ],
      "source": [
        "val_df = val_df[['image', 'disease', 'crop', 'grow', 'risk']]\n",
        "val_df.reset_index(drop=True, inplace=True)\n",
        "val_df"
      ]
    },
    {
      "cell_type": "markdown",
      "metadata": {
        "id": "iFXBqF2i3aOH"
      },
      "source": [
        "# x y 데이터셋 제작\n",
        "- x: train 이미지\n",
        "- y: train disease 번호"
      ]
    },
    {
      "cell_type": "markdown",
      "metadata": {
        "id": "_h7nH0VE3aOH"
      },
      "source": [
        "## train"
      ]
    },
    {
      "cell_type": "code",
      "execution_count": 43,
      "metadata": {
        "id": "caeY5vGl3aOI"
      },
      "outputs": [],
      "source": [
        "# 폴더 리스트 가져오기\n",
        "from glob import glob\n",
        "from PIL import Image\n",
        "import numpy as np\n",
        "\n",
        "\n",
        "X=[]\n",
        "train_dis = list(train_df['disease'])\n",
        "train_img = list(train_df['image'])\n",
        "train_cro = list(train_df['crop'])\n",
        "path = 'data/project/'\n",
        "\n",
        "\n",
        "for i in range(len(train_df)):\n",
        "    img = Image.open(path + str(train_cro[i])+ '/train/' + str(train_dis[i]) + '/' + train_img[i])\n",
        "    img = img.resize((255, 255)) ## 혹시몰라 한번더 리사이즈\n",
        "    imgarr = np.array(img)/255 # 스케일링\n",
        "    X.append(imgarr)"
      ]
    },
    {
      "cell_type": "code",
      "execution_count": 44,
      "metadata": {
        "id": "el6L0uU33aOI",
        "outputId": "ab6e2ee4-fa05-422b-a01f-815cce08d3aa"
      },
      "outputs": [
        {
          "name": "stdout",
          "output_type": "stream",
          "text": [
            "(1781, 255, 255, 3)\n"
          ]
        }
      ],
      "source": [
        "print(np.shape(X))"
      ]
    },
    {
      "cell_type": "code",
      "execution_count": 45,
      "metadata": {
        "id": "80nt3Q5G3aOI"
      },
      "outputs": [],
      "source": [
        "y = []\n",
        "for item in train_df['disease']:\n",
        "  y.append(item)"
      ]
    },
    {
      "cell_type": "code",
      "execution_count": 46,
      "metadata": {
        "id": "wmlNysPh3aOJ",
        "outputId": "519176b4-a656-4cda-c8e3-070d8b986a81"
      },
      "outputs": [
        {
          "name": "stdout",
          "output_type": "stream",
          "text": [
            "(1781,)\n"
          ]
        }
      ],
      "source": [
        "print(np.shape(y))"
      ]
    },
    {
      "cell_type": "code",
      "execution_count": 47,
      "metadata": {
        "id": "MCdBlSbH3aOJ",
        "outputId": "4ca136fc-272d-4d14-cde8-7c132c90650d"
      },
      "outputs": [
        {
          "data": {
            "text/plain": [
              "array([ 0, 11, 12])"
            ]
          },
          "execution_count": 47,
          "metadata": {},
          "output_type": "execute_result"
        }
      ],
      "source": [
        "np.unique(y)"
      ]
    },
    {
      "cell_type": "code",
      "execution_count": 49,
      "metadata": {
        "id": "Y_ohPxIaIf-H"
      },
      "outputs": [],
      "source": [
        "# 작물 질병 확인하여 질병 순서대로 레이블 변경\n",
        "# 오이 5 : 오이흰가루병\n",
        "# 오이 6 : 오이노균병\n",
        "for i in range(len(y)):\n",
        "        if y[i] == 11.0:\n",
        "            y[i] = 1.0\n",
        "        elif y[i] == 12.0:\n",
        "            y[i] = 2.0"
      ]
    },
    {
      "cell_type": "code",
      "execution_count": 50,
      "metadata": {
        "id": "AI5K_AHOIf-H",
        "outputId": "1680c738-0aec-4523-b025-0a6e5d48834c"
      },
      "outputs": [
        {
          "data": {
            "text/plain": [
              "array([0., 1., 2.])"
            ]
          },
          "execution_count": 50,
          "metadata": {},
          "output_type": "execute_result"
        }
      ],
      "source": [
        "np.unique(y)"
      ]
    },
    {
      "cell_type": "code",
      "execution_count": 51,
      "metadata": {
        "id": "uSfesDmR3aOJ",
        "outputId": "bdc6ad38-0c47-4753-cbad-72b6e04314ee"
      },
      "outputs": [
        {
          "data": {
            "text/plain": [
              "(list, list)"
            ]
          },
          "execution_count": 51,
          "metadata": {},
          "output_type": "execute_result"
        }
      ],
      "source": [
        "type(X), type(y)"
      ]
    },
    {
      "cell_type": "code",
      "execution_count": 52,
      "metadata": {
        "id": "8KwxQRID3aOK"
      },
      "outputs": [],
      "source": [
        "# np.array 로 변환해야 작업 가능\n",
        "X_train = np.array(X, dtype='float32')\n",
        "y_train = np.array(y, dtype='float32')"
      ]
    },
    {
      "cell_type": "code",
      "execution_count": 53,
      "metadata": {
        "id": "jT8s2bbw3aOK"
      },
      "outputs": [],
      "source": [
        "# npz 파일 제작\n",
        "np.savez('data/train_cucumber.npz', X=X_train, Y=y_train)"
      ]
    },
    {
      "cell_type": "markdown",
      "metadata": {
        "id": "CoRjddGB3aOK"
      },
      "source": [
        "## validation"
      ]
    },
    {
      "cell_type": "code",
      "execution_count": 54,
      "metadata": {
        "id": "ACwpmk8cug9y"
      },
      "outputs": [],
      "source": [
        "# 폴더 리스트 가져오기\n",
        "from glob import glob\n",
        "from PIL import Image\n",
        "import numpy as np\n",
        "\n",
        "\n",
        "X=[]\n",
        "val_dis = list(val_df['disease'])\n",
        "val_img = list(val_df['image'])\n",
        "val_cro = list(val_df['crop'])\n",
        "path = 'data/project/'\n",
        "\n",
        "\n",
        "for i in range(len(val_df)):\n",
        "    img = Image.open(path + str(val_cro[i])+ '/validation/' + str(val_dis[i]) + '/' + val_img[i])\n",
        "    img = img.resize((255, 255)) ## 혹시몰라 한번더 리사이즈\n",
        "    imgarr = np.array(img)/255 # 스케일링\n",
        "    X.append(imgarr)"
      ]
    },
    {
      "cell_type": "code",
      "execution_count": 55,
      "metadata": {
        "id": "Dd1EAd8iug9y",
        "outputId": "98bfe6ae-cdec-47c7-be53-b3208edee5ff"
      },
      "outputs": [
        {
          "name": "stdout",
          "output_type": "stream",
          "text": [
            "(1107, 255, 255, 3)\n"
          ]
        }
      ],
      "source": [
        "print(np.shape(X))"
      ]
    },
    {
      "cell_type": "code",
      "execution_count": 56,
      "metadata": {
        "id": "D_s-ctEZug9y"
      },
      "outputs": [],
      "source": [
        "y = []\n",
        "for item in val_df['disease']:\n",
        "  y.append(item)"
      ]
    },
    {
      "cell_type": "code",
      "execution_count": 57,
      "metadata": {
        "id": "mN3GEbUBug9y",
        "outputId": "09a9be90-0e82-41d6-8d77-d806f7153709"
      },
      "outputs": [
        {
          "name": "stdout",
          "output_type": "stream",
          "text": [
            "(1107,)\n"
          ]
        }
      ],
      "source": [
        "print(np.shape(y))"
      ]
    },
    {
      "cell_type": "code",
      "execution_count": 58,
      "metadata": {
        "id": "mxx0EJ-Lug9y",
        "outputId": "fbbb92d6-b8bf-4dde-fe0b-c7328b52eeda"
      },
      "outputs": [
        {
          "data": {
            "text/plain": [
              "array([ 0, 11, 12])"
            ]
          },
          "execution_count": 58,
          "metadata": {},
          "output_type": "execute_result"
        }
      ],
      "source": [
        "np.unique(y)"
      ]
    },
    {
      "cell_type": "code",
      "execution_count": 59,
      "metadata": {
        "id": "xrsj4J7uIf-I"
      },
      "outputs": [],
      "source": [
        "# 작물 질병 확인하여 질병 순서대로 레이블 변경\n",
        "# 오이 5 : 오이흰가루병\n",
        "# 오이 6 : 오이노균병\n",
        "for i in range(len(y)):\n",
        "        if y[i] == 11.0:\n",
        "            y[i] = 1.0\n",
        "        elif y[i] == 12.0:\n",
        "            y[i] = 2.0"
      ]
    },
    {
      "cell_type": "code",
      "execution_count": 60,
      "metadata": {
        "id": "VpMe9uaPIf-I",
        "outputId": "2c035b91-f99a-4113-ec1e-2215a9ad7d67"
      },
      "outputs": [
        {
          "data": {
            "text/plain": [
              "array([0., 1., 2.])"
            ]
          },
          "execution_count": 60,
          "metadata": {},
          "output_type": "execute_result"
        }
      ],
      "source": [
        "np.unique(y)"
      ]
    },
    {
      "cell_type": "code",
      "execution_count": 61,
      "metadata": {
        "id": "Aql59YOe3aOM",
        "outputId": "fb598bb7-582e-40a9-b1aa-bf15ad46fcf7"
      },
      "outputs": [
        {
          "data": {
            "text/plain": [
              "(list, list)"
            ]
          },
          "execution_count": 61,
          "metadata": {},
          "output_type": "execute_result"
        }
      ],
      "source": [
        "type(X), type(y)"
      ]
    },
    {
      "cell_type": "code",
      "execution_count": 62,
      "metadata": {
        "id": "kx7sQOWO3aON"
      },
      "outputs": [],
      "source": [
        "# np.array 로 변환해야 작업 가능\n",
        "X_val = np.array(X)\n",
        "y_val = np.array(y)"
      ]
    },
    {
      "cell_type": "code",
      "execution_count": 63,
      "metadata": {
        "id": "xOBDEWbk3aON"
      },
      "outputs": [],
      "source": [
        "# npz 파일 제작\n",
        "np.savez('data/val_cucumber.npz', X=X_val, Y=y_val)"
      ]
    },
    {
      "cell_type": "code",
      "execution_count": 64,
      "metadata": {
        "id": "BpZOekx13aON",
        "outputId": "7206e51a-7acd-4afe-e1d2-f389e023fcf4"
      },
      "outputs": [
        {
          "name": "stdout",
          "output_type": "stream",
          "text": [
            "--x값--\n"
          ]
        },
        {
          "data": {
            "image/png": "[encoded data removed]",
            "text/plain": [
              "<Figure size 432x288 with 1 Axes>"
            ]
          },
          "metadata": {
            "needs_background": "light"
          },
          "output_type": "display_data"
        },
        {
          "name": "stdout",
          "output_type": "stream",
          "text": [
            "--y value--\n",
            "[0, 0, 0, 0, 0]\n"
          ]
        }
      ],
      "source": [
        "# 5개의 이미지를 수평으로 나란히 출력\n",
        "import matplotlib.pyplot as plt\n",
        "\n",
        "print('--x값--')\n",
        "plt.imshow(np.hstack(X[:5]))\n",
        "plt.show()\n",
        "\n",
        "print('--y value--')\n",
        "print(y[:5])"
      ]
    },
    {
      "cell_type": "markdown",
      "metadata": {
        "id": "kygpISkx3aOP"
      },
      "source": [
        "## CNN"
      ]
    },
    {
      "cell_type": "code",
      "execution_count": 38,
      "metadata": {
        "id": "Ioa-s0Iu3aOP"
      },
      "outputs": [],
      "source": [
        "# 메모리 변수 모두 제거\n",
        "all = [var for var in globals() if var[0] != '_']\n",
        "for var in all:\n",
        "    del globals()[var]"
      ]
    },
    {
      "cell_type": "markdown",
      "metadata": {
        "id": "-J_B4gC33aOP"
      },
      "source": [
        "## 사용 패키지"
      ]
    },
    {
      "cell_type": "code",
      "execution_count": 1,
      "metadata": {
        "id": "isR5vSQ83aOP"
      },
      "outputs": [
        {
          "name": "stderr",
          "output_type": "stream",
          "text": [
            "������ ��θ� ã�� �� �����ϴ�.\n",
            "������ ��θ� ã�� �� �����ϴ�.\n",
            "������ ��θ� ã�� �� �����ϴ�.\n"
          ]
        }
      ],
      "source": [
        "import numpy as np\n",
        "import pandas as pd\n",
        "import seaborn as sns\n",
        "import matplotlib as mpl\n",
        "import matplotlib.pyplot as plt\n",
        "!apt-get install -y fonts-nanum > /dev/null\n",
        "!fc-cache -fv > /dev/null\n",
        "!rm -rf ~/.cache/matplotlib > /dev/null\n",
        "mpl.rcParams['axes.unicode_minus'] = False\n",
        "plt.rc('font', family = 'NanumBarunGothic')\n",
        "import warnings\n",
        "warnings.filterwarnings('ignore')"
      ]
    },
    {
      "cell_type": "code",
      "execution_count": 2,
      "metadata": {
        "id": "aW2jxoBp3aOQ"
      },
      "outputs": [],
      "source": [
        "import os\n",
        "import cv2\n",
        "from PIL import Image\n",
        "from tqdm import tqdm\n",
        "import tensorflow as tf\n",
        "from tensorflow import keras"
      ]
    },
    {
      "cell_type": "markdown",
      "metadata": {
        "id": "Ve00o1CW3aOQ"
      },
      "source": [
        "## 데이터 로드"
      ]
    },
    {
      "cell_type": "code",
      "execution_count": 3,
      "metadata": {
        "colab": {
          "base_uri": "https://localhost:8080/"
        },
        "id": "lhcsftZZ_VWL",
        "outputId": "f39e939a-1e06-4efd-fc8e-d6b8758f99da"
      },
      "outputs": [],
      "source": [
        "# from google.colab import drive\n",
        "# drive.mount('/content/drive')"
      ]
    },
    {
      "cell_type": "code",
      "execution_count": 4,
      "metadata": {
        "colab": {
          "base_uri": "https://localhost:8080/"
        },
        "id": "wb_edCmK_VMk",
        "outputId": "c9dae3ca-e1ba-4da1-b64d-084a64d101a4"
      },
      "outputs": [],
      "source": [
        "# cd /content/drive/MyDrive/data/project02"
      ]
    },
    {
      "cell_type": "code",
      "execution_count": 5,
      "metadata": {
        "colab": {
          "base_uri": "https://localhost:8080/"
        },
        "id": "-Ls8YDimJ03t",
        "outputId": "fe4657b6-d207-43a1-a2f0-fee0fab594c7"
      },
      "outputs": [
        {
          "name": "stderr",
          "output_type": "stream",
          "text": [
            "'ls'��(��) ���� �Ǵ� �ܺ� ����, ������ �� �ִ� ���α׷�, �Ǵ�\n",
            "��ġ ������ �ƴմϴ�.\n"
          ]
        }
      ],
      "source": [
        "!ls"
      ]
    },
    {
      "cell_type": "code",
      "execution_count": 6,
      "metadata": {
        "colab": {
          "base_uri": "https://localhost:8080/"
        },
        "id": "U46pot6a3aOQ",
        "outputId": "ffda600f-a6c2-4968-855d-fb5cddc140ae"
      },
      "outputs": [
        {
          "name": "stdout",
          "output_type": "stream",
          "text": [
            "['X', 'Y']\n",
            "['X', 'Y']\n"
          ]
        }
      ],
      "source": [
        "train_npz = np.load('data/train_cucumber.npz')\n",
        "test_npz = np.load('data/val_cucumber.npz')\n",
        "print(list(train_npz))\n",
        "print(list(test_npz))"
      ]
    },
    {
      "cell_type": "code",
      "execution_count": 7,
      "metadata": {
        "id": "_RYxTVRX3aOQ"
      },
      "outputs": [],
      "source": [
        "X_train = train_npz['X']\n",
        "y_train = train_npz['Y']"
      ]
    },
    {
      "cell_type": "code",
      "execution_count": 8,
      "metadata": {
        "id": "-EBsx8xB8-OT"
      },
      "outputs": [],
      "source": [
        "X_val = test_npz['X']\n",
        "y_val = test_npz['Y']"
      ]
    },
    {
      "cell_type": "code",
      "execution_count": 9,
      "metadata": {
        "colab": {
          "base_uri": "https://localhost:8080/"
        },
        "id": "p78W5B4q3aOR",
        "outputId": "028db031-8071-4997-fd66-9416be6c4fcb"
      },
      "outputs": [
        {
          "name": "stdout",
          "output_type": "stream",
          "text": [
            "(1781, 255, 255, 3) 1781\n",
            "(1107, 255, 255, 3) 1107\n"
          ]
        }
      ],
      "source": [
        "print(np.shape(X_train), len(y_train))\n",
        "print(np.shape(X_val), len(y_val))"
      ]
    },
    {
      "cell_type": "code",
      "execution_count": 10,
      "metadata": {
        "colab": {
          "base_uri": "https://localhost:8080/"
        },
        "id": "ximoCHON3aOR",
        "outputId": "cdf76a81-c3bd-4fb7-a779-bb1476a26fa6"
      },
      "outputs": [
        {
          "data": {
            "text/plain": [
              "{0.0: 1000, 1.0: 392, 2.0: 389}"
            ]
          },
          "execution_count": 10,
          "metadata": {},
          "output_type": "execute_result"
        }
      ],
      "source": [
        "# y데이터의 분할은 편향없이 잘 되었는가 확인작업\n",
        "\n",
        "unique, counts = np.unique(y_train, return_counts=True)\n",
        "\n",
        "unique_yt = dict(zip(unique, counts))\n",
        "unique_yt"
      ]
    },
    {
      "cell_type": "code",
      "execution_count": 11,
      "metadata": {
        "colab": {
          "base_uri": "https://localhost:8080/"
        },
        "id": "yfcxqGJF3aOR",
        "outputId": "8803f06c-e8c3-4aab-b51f-3f7a8e85fbb9"
      },
      "outputs": [
        {
          "data": {
            "text/plain": [
              "{0.0: 1000, 1.0: 51, 2.0: 56}"
            ]
          },
          "execution_count": 11,
          "metadata": {},
          "output_type": "execute_result"
        }
      ],
      "source": [
        "# y데이터의 분할은 편향없이 잘 되었는가 확인작업\n",
        "\n",
        "unique, counts = np.unique(y_val, return_counts=True)\n",
        "\n",
        "unique_yv = dict(zip(unique, counts))\n",
        "unique_yv"
      ]
    },
    {
      "cell_type": "markdown",
      "metadata": {},
      "source": [
        "# 5. CNN\n",
        "- 컨볼루션 신경망\n",
        "- 컴퓨터 비전 (Computer Vision) 에서 사용\n",
        "- 텍스트, 시계열 데이터 등에서도 성능 좋음\n",
        "- 오버피팅 회피\n",
        "    - 규제화 함수\n",
        "        - 가중치 감쇠 (Weight Decay)\n",
        "        - 모델 복잡도 제한\n",
        "        - L1, L2 노름, 엘라스틱 넷 (Elastic Net)\n",
        "        - 기능에 맞춰 가중치 합 구해 손실 함수에 더함\n",
        "        - tensorflow.keras.regularizers.l1(l = 0.01) : 가중치 절대값 합 (릿지)\n",
        "        - tensorflow.keras.regularizers.l2(l = 0.01) : 가중치 제곱값 합 (라쏘)\n",
        "        - tensorflow.keras.regularizers.l1_l2(l1 = 0.01, l2 = 0.01) : 가중치 절대값 합 (릿지) + 가중치 제곱값 합 (라쏘) = (엘라스틱 넷)\n",
        "    - 드롭 아웃\n",
        "        - 학습 진행 중 신경망 일부 유닛 제외\n",
        "        - 테스트 중 작동 하지 않고 모든 유닛 활성화\n",
        "        - 출력을 드롭 아웃 비율만큼 제외\n",
        "        - 드롭 아웃 비율 0.2 ~ 0.5\n",
        "    - 배치 정규화\n",
        "        - 드롭 아웃과 비교\n",
        "        - 내부 공선성 (Internal Covariance Shift) 해결 방법\n",
        "        - 출력값 범위 제한 -> 불확실성 감소 목적\n",
        "        - 그래디언트 손실, 폭주 없이 높은 학습률 사용 가능\n",
        "        - 자체적 규제화 효과 포함\n",
        "        - Dense or Conv2D -> BatchNormalization() -> Activation()"
      ]
    },
    {
      "cell_type": "code",
      "execution_count": 12,
      "metadata": {},
      "outputs": [],
      "source": [
        "from tensorflow.keras.models import Sequential\n",
        "from tensorflow.keras.layers import Conv2D, MaxPool2D, Dense, Flatten\n",
        "from tensorflow.keras.layers import Dropout, Activation, BatchNormalization\n",
        "from tensorflow.keras.optimizers import Adam\n",
        "from tensorflow.keras.regularizers import l2\n",
        "from tensorflow.keras.regularizers import l1_l2\n",
        "model = Sequential()\n",
        "# (255, 255, 3)\n",
        "model.add(Conv2D(filters = 32, kernel_size = 3, padding = 'same',\n",
        "                 input_shape = (255, 255, 3)))\n",
        "model.add(BatchNormalization())\n",
        "model.add(Activation('relu'))\n",
        "\n",
        "model.add(Conv2D(filters = 32, kernel_size = 3, padding = 'same',\n",
        "                 kernel_regularizer = l1_l2(0.001)))\n",
        "model.add(BatchNormalization())\n",
        "model.add(Activation('relu'))\n",
        "model.add(MaxPool2D(pool_size = (2, 2), strides = 2, padding = 'same'))\n",
        "model.add(Dropout(0.2))\n",
        "\n",
        "model.add(Conv2D(filters = 64, kernel_size = 3, padding = 'same',\n",
        "                 kernel_regularizer = l1_l2(0.001)))\n",
        "model.add(BatchNormalization())\n",
        "model.add(Activation('relu'))\n",
        "model.add(Conv2D(filters = 64, kernel_size = 3, padding = 'same',\n",
        "                 kernel_regularizer = l1_l2(0.001)))\n",
        "model.add(BatchNormalization())\n",
        "model.add(Activation('relu'))\n",
        "model.add(MaxPool2D(pool_size = (2, 2), strides = 2, padding = 'same'))\n",
        "model.add(Dropout(0.2))\n",
        "\n",
        "model.add(Conv2D(filters = 128, kernel_size = 3, padding = 'same',\n",
        "                 kernel_regularizer = l1_l2(0.001)))\n",
        "model.add(BatchNormalization())\n",
        "model.add(Activation('relu'))\n",
        "model.add(Conv2D(filters = 128, kernel_size = 3, padding = 'same',\n",
        "                 kernel_regularizer = l1_l2(0.001)))\n",
        "model.add(BatchNormalization())\n",
        "model.add(Activation('relu'))\n",
        "model.add(MaxPool2D(pool_size = (2, 2), strides = 2, padding = 'same'))\n",
        "model.add(Dropout(0.2))\n",
        "\n",
        "model.add(Conv2D(filters = 64, kernel_size = 3, padding = 'same',\n",
        "                 kernel_regularizer = l1_l2(0.001)))\n",
        "model.add(BatchNormalization())\n",
        "model.add(Activation('relu'))\n",
        "model.add(Conv2D(filters = 64, kernel_size = 3, padding = 'same',\n",
        "                 kernel_regularizer = l1_l2(0.001)))\n",
        "model.add(BatchNormalization())\n",
        "model.add(Activation('relu'))\n",
        "model.add(MaxPool2D(pool_size = (2, 2), strides = 2, padding = 'same'))\n",
        "model.add(Dropout(0.2))\n",
        "\n",
        "model.add(Conv2D(filters = 64, kernel_size = 3, padding = 'same',\n",
        "                 kernel_regularizer = l1_l2(0.001)))\n",
        "model.add(BatchNormalization())\n",
        "model.add(Activation('relu'))\n",
        "model.add(Conv2D(filters = 64, kernel_size = 3, padding = 'same',\n",
        "                 kernel_regularizer = l1_l2(0.001)))\n",
        "model.add(BatchNormalization())\n",
        "model.add(Activation('relu'))\n",
        "model.add(MaxPool2D(pool_size = (2, 2), strides = 2, padding = 'same'))\n",
        "model.add(Dropout(0.2))\n",
        "\n",
        "model.add(Conv2D(filters = 64, kernel_size = 3, padding = 'same',\n",
        "                 kernel_regularizer = l1_l2(0.001)))\n",
        "model.add(BatchNormalization())\n",
        "model.add(Activation('relu'))\n",
        "model.add(Conv2D(filters = 64, kernel_size = 3, padding = 'same',\n",
        "                 kernel_regularizer = l1_l2(0.001)))\n",
        "model.add(BatchNormalization())\n",
        "model.add(Activation('relu'))\n",
        "model.add(MaxPool2D(pool_size = (2, 2), strides = 2, padding = 'same'))\n",
        "model.add(Dropout(0.2))\n",
        "\n",
        "model.add(Conv2D(filters = 128, kernel_size = 3, padding = 'same',\n",
        "                 kernel_regularizer = l1_l2(0.001)))\n",
        "model.add(BatchNormalization())\n",
        "model.add(Activation('relu'))\n",
        "model.add(Conv2D(filters = 128, kernel_size = 3, padding = 'same',\n",
        "                 kernel_regularizer = l1_l2(0.001)))\n",
        "model.add(BatchNormalization())\n",
        "model.add(Activation('relu'))\n",
        "model.add(MaxPool2D(pool_size = (2, 2), strides = 2, padding = 'same'))\n",
        "model.add(Dropout(0.2))\n",
        "\n",
        "model.add(Conv2D(filters = 128, kernel_size = 3, padding = 'same',\n",
        "                 kernel_regularizer = l1_l2(0.001)))\n",
        "model.add(BatchNormalization())\n",
        "model.add(Activation('relu'))\n",
        "model.add(Conv2D(filters = 128, kernel_size = 3, padding = 'same',\n",
        "                 kernel_regularizer = l1_l2(0.001)))\n",
        "model.add(BatchNormalization())\n",
        "model.add(Activation('relu'))\n",
        "model.add(MaxPool2D(pool_size = (2, 2), strides = 2, padding = 'same'))\n",
        "model.add(Dropout(0.2))\n",
        "\n",
        "model.add(Flatten())\n",
        "model.add(Dense(256, kernel_regularizer = l1_l2(0.001)))\n",
        "model.add(BatchNormalization())\n",
        "model.add(Activation('relu'))\n",
        "model.add(Dense(3, activation = 'softmax'))"
      ]
    },
    {
      "cell_type": "code",
      "execution_count": 13,
      "metadata": {},
      "outputs": [
        {
          "name": "stdout",
          "output_type": "stream",
          "text": [
            "Model: \"sequential\"\n",
            "_________________________________________________________________\n",
            "Layer (type)                 Output Shape              Param #   \n",
            "=================================================================\n",
            "conv2d (Conv2D)              (None, 255, 255, 32)      896       \n",
            "_________________________________________________________________\n",
            "batch_normalization (BatchNo (None, 255, 255, 32)      128       \n",
            "_________________________________________________________________\n",
            "activation (Activation)      (None, 255, 255, 32)      0         \n",
            "_________________________________________________________________\n",
            "conv2d_1 (Conv2D)            (None, 255, 255, 32)      9248      \n",
            "_________________________________________________________________\n",
            "batch_normalization_1 (Batch (None, 255, 255, 32)      128       \n",
            "_________________________________________________________________\n",
            "activation_1 (Activation)    (None, 255, 255, 32)      0         \n",
            "_________________________________________________________________\n",
            "max_pooling2d (MaxPooling2D) (None, 128, 128, 32)      0         \n",
            "_________________________________________________________________\n",
            "dropout (Dropout)            (None, 128, 128, 32)      0         \n",
            "_________________________________________________________________\n",
            "conv2d_2 (Conv2D)            (None, 128, 128, 64)      18496     \n",
            "_________________________________________________________________\n",
            "batch_normalization_2 (Batch (None, 128, 128, 64)      256       \n",
            "_________________________________________________________________\n",
            "activation_2 (Activation)    (None, 128, 128, 64)      0         \n",
            "_________________________________________________________________\n",
            "conv2d_3 (Conv2D)            (None, 128, 128, 64)      36928     \n",
            "_________________________________________________________________\n",
            "batch_normalization_3 (Batch (None, 128, 128, 64)      256       \n",
            "_________________________________________________________________\n",
            "activation_3 (Activation)    (None, 128, 128, 64)      0         \n",
            "_________________________________________________________________\n",
            "max_pooling2d_1 (MaxPooling2 (None, 64, 64, 64)        0         \n",
            "_________________________________________________________________\n",
            "dropout_1 (Dropout)          (None, 64, 64, 64)        0         \n",
            "_________________________________________________________________\n",
            "conv2d_4 (Conv2D)            (None, 64, 64, 128)       73856     \n",
            "_________________________________________________________________\n",
            "batch_normalization_4 (Batch (None, 64, 64, 128)       512       \n",
            "_________________________________________________________________\n",
            "activation_4 (Activation)    (None, 64, 64, 128)       0         \n",
            "_________________________________________________________________\n",
            "conv2d_5 (Conv2D)            (None, 64, 64, 128)       147584    \n",
            "_________________________________________________________________\n",
            "batch_normalization_5 (Batch (None, 64, 64, 128)       512       \n",
            "_________________________________________________________________\n",
            "activation_5 (Activation)    (None, 64, 64, 128)       0         \n",
            "_________________________________________________________________\n",
            "max_pooling2d_2 (MaxPooling2 (None, 32, 32, 128)       0         \n",
            "_________________________________________________________________\n",
            "dropout_2 (Dropout)          (None, 32, 32, 128)       0         \n",
            "_________________________________________________________________\n",
            "conv2d_6 (Conv2D)            (None, 32, 32, 64)        73792     \n",
            "_________________________________________________________________\n",
            "batch_normalization_6 (Batch (None, 32, 32, 64)        256       \n",
            "_________________________________________________________________\n",
            "activation_6 (Activation)    (None, 32, 32, 64)        0         \n",
            "_________________________________________________________________\n",
            "conv2d_7 (Conv2D)            (None, 32, 32, 64)        36928     \n",
            "_________________________________________________________________\n",
            "batch_normalization_7 (Batch (None, 32, 32, 64)        256       \n",
            "_________________________________________________________________\n",
            "activation_7 (Activation)    (None, 32, 32, 64)        0         \n",
            "_________________________________________________________________\n",
            "max_pooling2d_3 (MaxPooling2 (None, 16, 16, 64)        0         \n",
            "_________________________________________________________________\n",
            "dropout_3 (Dropout)          (None, 16, 16, 64)        0         \n",
            "_________________________________________________________________\n",
            "conv2d_8 (Conv2D)            (None, 16, 16, 64)        36928     \n",
            "_________________________________________________________________\n",
            "batch_normalization_8 (Batch (None, 16, 16, 64)        256       \n",
            "_________________________________________________________________\n",
            "activation_8 (Activation)    (None, 16, 16, 64)        0         \n",
            "_________________________________________________________________\n",
            "conv2d_9 (Conv2D)            (None, 16, 16, 64)        36928     \n",
            "_________________________________________________________________\n",
            "batch_normalization_9 (Batch (None, 16, 16, 64)        256       \n",
            "_________________________________________________________________\n",
            "activation_9 (Activation)    (None, 16, 16, 64)        0         \n",
            "_________________________________________________________________\n",
            "max_pooling2d_4 (MaxPooling2 (None, 8, 8, 64)          0         \n",
            "_________________________________________________________________\n",
            "dropout_4 (Dropout)          (None, 8, 8, 64)          0         \n",
            "_________________________________________________________________\n",
            "conv2d_10 (Conv2D)           (None, 8, 8, 64)          36928     \n",
            "_________________________________________________________________\n",
            "batch_normalization_10 (Batc (None, 8, 8, 64)          256       \n",
            "_________________________________________________________________\n",
            "activation_10 (Activation)   (None, 8, 8, 64)          0         \n",
            "_________________________________________________________________\n",
            "conv2d_11 (Conv2D)           (None, 8, 8, 64)          36928     \n",
            "_________________________________________________________________\n",
            "batch_normalization_11 (Batc (None, 8, 8, 64)          256       \n",
            "_________________________________________________________________\n",
            "activation_11 (Activation)   (None, 8, 8, 64)          0         \n",
            "_________________________________________________________________\n",
            "max_pooling2d_5 (MaxPooling2 (None, 4, 4, 64)          0         \n",
            "_________________________________________________________________\n",
            "dropout_5 (Dropout)          (None, 4, 4, 64)          0         \n",
            "_________________________________________________________________\n",
            "conv2d_12 (Conv2D)           (None, 4, 4, 128)         73856     \n",
            "_________________________________________________________________\n",
            "batch_normalization_12 (Batc (None, 4, 4, 128)         512       \n",
            "_________________________________________________________________\n",
            "activation_12 (Activation)   (None, 4, 4, 128)         0         \n",
            "_________________________________________________________________\n",
            "conv2d_13 (Conv2D)           (None, 4, 4, 128)         147584    \n",
            "_________________________________________________________________\n",
            "batch_normalization_13 (Batc (None, 4, 4, 128)         512       \n",
            "_________________________________________________________________\n",
            "activation_13 (Activation)   (None, 4, 4, 128)         0         \n",
            "_________________________________________________________________\n",
            "max_pooling2d_6 (MaxPooling2 (None, 2, 2, 128)         0         \n",
            "_________________________________________________________________\n",
            "dropout_6 (Dropout)          (None, 2, 2, 128)         0         \n",
            "_________________________________________________________________\n",
            "conv2d_14 (Conv2D)           (None, 2, 2, 128)         147584    \n",
            "_________________________________________________________________\n",
            "batch_normalization_14 (Batc (None, 2, 2, 128)         512       \n",
            "_________________________________________________________________\n",
            "activation_14 (Activation)   (None, 2, 2, 128)         0         \n",
            "_________________________________________________________________\n",
            "conv2d_15 (Conv2D)           (None, 2, 2, 128)         147584    \n",
            "_________________________________________________________________\n",
            "batch_normalization_15 (Batc (None, 2, 2, 128)         512       \n",
            "_________________________________________________________________\n",
            "activation_15 (Activation)   (None, 2, 2, 128)         0         \n",
            "_________________________________________________________________\n",
            "max_pooling2d_7 (MaxPooling2 (None, 1, 1, 128)         0         \n",
            "_________________________________________________________________\n",
            "dropout_7 (Dropout)          (None, 1, 1, 128)         0         \n",
            "_________________________________________________________________\n",
            "flatten (Flatten)            (None, 128)               0         \n",
            "_________________________________________________________________\n",
            "dense (Dense)                (None, 256)               33024     \n",
            "_________________________________________________________________\n",
            "batch_normalization_16 (Batc (None, 256)               1024      \n",
            "_________________________________________________________________\n",
            "activation_16 (Activation)   (None, 256)               0         \n",
            "_________________________________________________________________\n",
            "dense_1 (Dense)              (None, 3)                 771       \n",
            "=================================================================\n",
            "Total params: 1,102,243\n",
            "Trainable params: 1,099,043\n",
            "Non-trainable params: 3,200\n",
            "_________________________________________________________________\n"
          ]
        }
      ],
      "source": [
        "model.summary()"
      ]
    },
    {
      "cell_type": "code",
      "execution_count": 14,
      "metadata": {},
      "outputs": [],
      "source": [
        "from tensorflow.keras.callbacks import EarlyStopping, ModelCheckpoint\n",
        "es = EarlyStopping(monitor='val_loss', mode='min', verbose=1, patience=10)\n",
        "mc = ModelCheckpoint('data/model/cucumber_best.h5', monitor='val_acc', mode='max', verbose=1, save_best_only=True)\n",
        "# es : 검증 데이터 손실(val_loss)이 증가하면, 과적합 징후므로 검증 데이터 손실이 10회 증가하면 학습을 조기 종료(Early Stopping)합니다. \n",
        "# mc : 또한, ModelCheckpoint를 사용하여 검증 데이터의 정확도(val_acc)가 이전보다 좋아질 경우에만 모델을 저장합니다."
      ]
    },
    {
      "cell_type": "code",
      "execution_count": 15,
      "metadata": {},
      "outputs": [],
      "source": [
        "model.compile(\n",
        "    optimizer = Adam(1e-4),\n",
        "    loss = 'sparse_categorical_crossentropy',\n",
        "    metrics = ['acc']\n",
        ")"
      ]
    },
    {
      "cell_type": "code",
      "execution_count": 16,
      "metadata": {},
      "outputs": [
        {
          "name": "stdout",
          "output_type": "stream",
          "text": [
            "Epoch 1/60\n",
            "56/56 [==============================] - 21s 272ms/step - loss: 47.4691 - acc: 0.5143 - val_loss: 46.9066 - val_acc: 0.9033\n",
            "\n",
            "Epoch 00001: val_acc improved from -inf to 0.90334, saving model to data/model\\cucumber_best.h5\n",
            "Epoch 2/60\n",
            "56/56 [==============================] - 12s 221ms/step - loss: 46.2901 - acc: 0.6732 - val_loss: 45.6218 - val_acc: 0.9033\n",
            "\n",
            "Epoch 00002: val_acc did not improve from 0.90334\n",
            "Epoch 3/60\n",
            "56/56 [==============================] - 12s 221ms/step - loss: 45.1474 - acc: 0.7451 - val_loss: 44.4455 - val_acc: 0.9033\n",
            "\n",
            "Epoch 00003: val_acc did not improve from 0.90334\n",
            "Epoch 4/60\n",
            "56/56 [==============================] - 12s 222ms/step - loss: 44.0313 - acc: 0.7878 - val_loss: 43.4362 - val_acc: 0.9033\n",
            "\n",
            "Epoch 00004: val_acc did not improve from 0.90334\n",
            "Epoch 5/60\n",
            "56/56 [==============================] - 13s 231ms/step - loss: 42.8927 - acc: 0.8259 - val_loss: 42.4156 - val_acc: 0.9033\n",
            "\n",
            "Epoch 00005: val_acc did not improve from 0.90334\n",
            "Epoch 6/60\n",
            "56/56 [==============================] - 14s 253ms/step - loss: 41.7063 - acc: 0.8770 - val_loss: 41.3336 - val_acc: 0.9033\n",
            "\n",
            "Epoch 00006: val_acc did not improve from 0.90334\n",
            "Epoch 7/60\n",
            "56/56 [==============================] - 14s 244ms/step - loss: 40.5507 - acc: 0.8984 - val_loss: 40.2637 - val_acc: 0.9033\n",
            "\n",
            "Epoch 00007: val_acc did not improve from 0.90334\n",
            "Epoch 8/60\n",
            "56/56 [==============================] - 14s 253ms/step - loss: 39.3796 - acc: 0.9045 - val_loss: 39.1147 - val_acc: 0.9033\n",
            "\n",
            "Epoch 00008: val_acc did not improve from 0.90334\n",
            "Epoch 9/60\n",
            "56/56 [==============================] - 14s 254ms/step - loss: 38.2282 - acc: 0.8995 - val_loss: 37.9747 - val_acc: 0.9033\n",
            "\n",
            "Epoch 00009: val_acc did not improve from 0.90334\n",
            "Epoch 10/60\n",
            "56/56 [==============================] - 14s 252ms/step - loss: 37.0318 - acc: 0.9276 - val_loss: 36.8754 - val_acc: 0.9033\n",
            "\n",
            "Epoch 00010: val_acc did not improve from 0.90334\n",
            "Epoch 11/60\n",
            "56/56 [==============================] - 14s 253ms/step - loss: 35.8869 - acc: 0.9214 - val_loss: 35.7027 - val_acc: 0.9033\n",
            "\n",
            "Epoch 00011: val_acc did not improve from 0.90334\n",
            "Epoch 12/60\n",
            "56/56 [==============================] - 14s 252ms/step - loss: 34.7139 - acc: 0.9259 - val_loss: 34.4773 - val_acc: 0.9042\n",
            "\n",
            "Epoch 00012: val_acc improved from 0.90334 to 0.90425, saving model to data/model\\cucumber_best.h5\n",
            "Epoch 13/60\n",
            "56/56 [==============================] - 14s 253ms/step - loss: 33.5992 - acc: 0.9203 - val_loss: 33.3593 - val_acc: 0.9051\n",
            "\n",
            "Epoch 00013: val_acc improved from 0.90425 to 0.90515, saving model to data/model\\cucumber_best.h5\n",
            "Epoch 14/60\n",
            "56/56 [==============================] - 14s 253ms/step - loss: 32.4280 - acc: 0.9326 - val_loss: 32.1781 - val_acc: 0.9051\n",
            "\n",
            "Epoch 00014: val_acc did not improve from 0.90515\n",
            "Epoch 15/60\n",
            "56/56 [==============================] - 13s 237ms/step - loss: 31.3123 - acc: 0.9416 - val_loss: 31.1049 - val_acc: 0.9051\n",
            "\n",
            "Epoch 00015: val_acc did not improve from 0.90515\n",
            "Epoch 16/60\n",
            "56/56 [==============================] - 12s 218ms/step - loss: 30.1929 - acc: 0.9455 - val_loss: 29.9982 - val_acc: 0.9042\n",
            "\n",
            "Epoch 00016: val_acc did not improve from 0.90515\n",
            "Epoch 17/60\n",
            "56/56 [==============================] - 13s 225ms/step - loss: 29.1258 - acc: 0.9371 - val_loss: 28.9246 - val_acc: 0.9042\n",
            "\n",
            "Epoch 00017: val_acc did not improve from 0.90515\n",
            "Epoch 18/60\n",
            "56/56 [==============================] - 12s 221ms/step - loss: 28.0202 - acc: 0.9523 - val_loss: 27.7965 - val_acc: 0.9051\n",
            "\n",
            "Epoch 00018: val_acc did not improve from 0.90515\n",
            "Epoch 19/60\n",
            "56/56 [==============================] - 12s 220ms/step - loss: 26.9657 - acc: 0.9534 - val_loss: 26.8973 - val_acc: 0.9033\n",
            "\n",
            "Epoch 00019: val_acc did not improve from 0.90515\n",
            "Epoch 20/60\n",
            "56/56 [==============================] - 12s 221ms/step - loss: 25.9481 - acc: 0.9534 - val_loss: 25.8860 - val_acc: 0.9033\n",
            "\n",
            "Epoch 00020: val_acc did not improve from 0.90515\n",
            "Epoch 21/60\n",
            "56/56 [==============================] - 12s 218ms/step - loss: 24.9555 - acc: 0.9545 - val_loss: 24.8334 - val_acc: 0.9051\n",
            "\n",
            "Epoch 00021: val_acc did not improve from 0.90515\n",
            "Epoch 22/60\n",
            "56/56 [==============================] - 12s 219ms/step - loss: 23.9624 - acc: 0.9534 - val_loss: 23.8355 - val_acc: 0.9033\n",
            "\n",
            "Epoch 00022: val_acc did not improve from 0.90515\n",
            "Epoch 23/60\n",
            "56/56 [==============================] - 12s 219ms/step - loss: 23.0236 - acc: 0.9495 - val_loss: 22.8645 - val_acc: 0.9061\n",
            "\n",
            "Epoch 00023: val_acc improved from 0.90515 to 0.90605, saving model to data/model\\cucumber_best.h5\n",
            "Epoch 24/60\n",
            "56/56 [==============================] - 12s 218ms/step - loss: 22.1194 - acc: 0.9506 - val_loss: 21.9855 - val_acc: 0.9042\n",
            "\n",
            "Epoch 00024: val_acc did not improve from 0.90605\n",
            "Epoch 25/60\n",
            "56/56 [==============================] - 12s 219ms/step - loss: 21.2188 - acc: 0.9500 - val_loss: 21.1515 - val_acc: 0.9033\n",
            "\n",
            "Epoch 00025: val_acc did not improve from 0.90605\n",
            "Epoch 26/60\n",
            "56/56 [==============================] - 12s 219ms/step - loss: 20.3469 - acc: 0.9568 - val_loss: 20.3404 - val_acc: 0.9042\n",
            "\n",
            "Epoch 00026: val_acc did not improve from 0.90605\n",
            "Epoch 27/60\n",
            "56/56 [==============================] - 12s 219ms/step - loss: 19.4868 - acc: 0.9663 - val_loss: 19.4942 - val_acc: 0.9042\n",
            "\n",
            "Epoch 00027: val_acc did not improve from 0.90605\n",
            "Epoch 28/60\n",
            "56/56 [==============================] - 12s 218ms/step - loss: 18.6665 - acc: 0.9585 - val_loss: 18.7474 - val_acc: 0.9033\n",
            "\n",
            "Epoch 00028: val_acc did not improve from 0.90605\n",
            "Epoch 29/60\n",
            "56/56 [==============================] - 12s 219ms/step - loss: 17.8886 - acc: 0.9585 - val_loss: 17.9746 - val_acc: 0.9033\n",
            "\n",
            "Epoch 00029: val_acc did not improve from 0.90605\n",
            "Epoch 30/60\n",
            "56/56 [==============================] - 12s 218ms/step - loss: 17.1359 - acc: 0.9613 - val_loss: 17.1410 - val_acc: 0.9051\n",
            "\n",
            "Epoch 00030: val_acc did not improve from 0.90605\n",
            "Epoch 31/60\n",
            "56/56 [==============================] - 12s 219ms/step - loss: 16.4088 - acc: 0.9629 - val_loss: 16.5412 - val_acc: 0.9033\n",
            "\n",
            "Epoch 00031: val_acc did not improve from 0.90605\n",
            "Epoch 32/60\n",
            "56/56 [==============================] - 12s 218ms/step - loss: 15.7180 - acc: 0.9601 - val_loss: 15.7853 - val_acc: 0.9042\n",
            "\n",
            "Epoch 00032: val_acc did not improve from 0.90605\n",
            "Epoch 33/60\n",
            "56/56 [==============================] - 12s 219ms/step - loss: 15.0266 - acc: 0.9629 - val_loss: 15.1272 - val_acc: 0.9033\n",
            "\n",
            "Epoch 00033: val_acc did not improve from 0.90605\n",
            "Epoch 34/60\n",
            "56/56 [==============================] - 12s 218ms/step - loss: 14.3303 - acc: 0.9697 - val_loss: 14.5286 - val_acc: 0.9033\n",
            "\n",
            "Epoch 00034: val_acc did not improve from 0.90605\n",
            "Epoch 35/60\n",
            "56/56 [==============================] - 12s 218ms/step - loss: 13.7389 - acc: 0.9596 - val_loss: 13.9046 - val_acc: 0.9042\n",
            "\n",
            "Epoch 00035: val_acc did not improve from 0.90605\n",
            "Epoch 36/60\n",
            "56/56 [==============================] - 12s 219ms/step - loss: 13.1379 - acc: 0.9607 - val_loss: 13.2868 - val_acc: 0.9061\n",
            "\n",
            "Epoch 00036: val_acc did not improve from 0.90605\n",
            "Epoch 37/60\n",
            "56/56 [==============================] - 13s 237ms/step - loss: 12.5669 - acc: 0.9540 - val_loss: 12.7852 - val_acc: 0.9042\n",
            "\n",
            "Epoch 00037: val_acc did not improve from 0.90605\n",
            "Epoch 38/60\n",
            "56/56 [==============================] - 12s 218ms/step - loss: 11.9803 - acc: 0.9652 - val_loss: 12.2428 - val_acc: 0.9033\n",
            "\n",
            "Epoch 00038: val_acc did not improve from 0.90605\n",
            "Epoch 39/60\n",
            "56/56 [==============================] - 12s 219ms/step - loss: 11.4472 - acc: 0.9641 - val_loss: 11.7821 - val_acc: 0.9033\n",
            "\n",
            "Epoch 00039: val_acc did not improve from 0.90605\n",
            "Epoch 40/60\n",
            "56/56 [==============================] - 12s 219ms/step - loss: 10.9970 - acc: 0.9573 - val_loss: 11.2534 - val_acc: 0.9051\n",
            "\n",
            "Epoch 00040: val_acc did not improve from 0.90605\n",
            "Epoch 41/60\n",
            "56/56 [==============================] - 12s 218ms/step - loss: 10.5398 - acc: 0.9472 - val_loss: 10.7501 - val_acc: 0.9015\n",
            "\n",
            "Epoch 00041: val_acc did not improve from 0.90605\n",
            "Epoch 42/60\n",
            "56/56 [==============================] - 12s 218ms/step - loss: 9.9937 - acc: 0.9613 - val_loss: 10.2755 - val_acc: 0.9033\n",
            "\n",
            "Epoch 00042: val_acc did not improve from 0.90605\n",
            "Epoch 43/60\n",
            "56/56 [==============================] - 12s 219ms/step - loss: 9.5038 - acc: 0.9719 - val_loss: 9.8365 - val_acc: 0.9042\n",
            "\n",
            "Epoch 00043: val_acc did not improve from 0.90605\n",
            "Epoch 44/60\n",
            "56/56 [==============================] - 12s 219ms/step - loss: 9.1207 - acc: 0.9663 - val_loss: 9.2065 - val_acc: 0.9106\n",
            "\n",
            "Epoch 00044: val_acc improved from 0.90605 to 0.91057, saving model to data/model\\cucumber_best.h5\n",
            "Epoch 45/60\n",
            "56/56 [==============================] - 12s 219ms/step - loss: 8.6977 - acc: 0.9641 - val_loss: 8.8853 - val_acc: 0.9042\n",
            "\n",
            "Epoch 00045: val_acc did not improve from 0.91057\n",
            "Epoch 46/60\n",
            "56/56 [==============================] - 12s 219ms/step - loss: 8.3295 - acc: 0.9579 - val_loss: 8.5849 - val_acc: 0.9042\n",
            "\n",
            "Epoch 00046: val_acc did not improve from 0.91057\n",
            "Epoch 47/60\n",
            "56/56 [==============================] - 12s 219ms/step - loss: 7.9413 - acc: 0.9590 - val_loss: 8.0837 - val_acc: 0.9061\n",
            "\n",
            "Epoch 00047: val_acc did not improve from 0.91057\n",
            "Epoch 48/60\n",
            "56/56 [==============================] - 12s 218ms/step - loss: 7.5932 - acc: 0.9601 - val_loss: 7.8856 - val_acc: 0.8925\n",
            "\n",
            "Epoch 00048: val_acc did not improve from 0.91057\n",
            "Epoch 49/60\n",
            "56/56 [==============================] - 12s 219ms/step - loss: 7.2322 - acc: 0.9657 - val_loss: 7.5906 - val_acc: 0.9042\n",
            "\n",
            "Epoch 00049: val_acc did not improve from 0.91057\n",
            "Epoch 50/60\n",
            "56/56 [==============================] - 12s 218ms/step - loss: 6.9165 - acc: 0.9590 - val_loss: 7.1523 - val_acc: 0.8997\n",
            "\n",
            "Epoch 00050: val_acc did not improve from 0.91057\n",
            "Epoch 51/60\n",
            "56/56 [==============================] - 12s 219ms/step - loss: 6.6564 - acc: 0.9483 - val_loss: 6.7863 - val_acc: 0.9070\n",
            "\n",
            "Epoch 00051: val_acc did not improve from 0.91057\n",
            "Epoch 52/60\n",
            "56/56 [==============================] - 12s 219ms/step - loss: 6.3180 - acc: 0.9629 - val_loss: 6.4646 - val_acc: 0.9061\n",
            "\n",
            "Epoch 00052: val_acc did not improve from 0.91057\n",
            "Epoch 53/60\n",
            "56/56 [==============================] - 12s 219ms/step - loss: 6.0087 - acc: 0.9652 - val_loss: 6.2733 - val_acc: 0.9024\n",
            "\n",
            "Epoch 00053: val_acc did not improve from 0.91057\n",
            "Epoch 54/60\n",
            "56/56 [==============================] - 12s 218ms/step - loss: 5.7691 - acc: 0.9607 - val_loss: 6.0227 - val_acc: 0.9033\n",
            "\n",
            "Epoch 00054: val_acc did not improve from 0.91057\n",
            "Epoch 55/60\n",
            "56/56 [==============================] - 12s 218ms/step - loss: 5.5338 - acc: 0.9500 - val_loss: 5.9394 - val_acc: 0.9033\n",
            "\n",
            "Epoch 00055: val_acc did not improve from 0.91057\n",
            "Epoch 56/60\n",
            "56/56 [==============================] - 12s 218ms/step - loss: 5.2834 - acc: 0.9523 - val_loss: 5.5079 - val_acc: 0.9061\n",
            "\n",
            "Epoch 00056: val_acc did not improve from 0.91057\n",
            "Epoch 57/60\n",
            "56/56 [==============================] - 12s 219ms/step - loss: 5.0456 - acc: 0.9556 - val_loss: 5.1065 - val_acc: 0.9142\n",
            "\n",
            "Epoch 00057: val_acc improved from 0.91057 to 0.91418, saving model to data/model\\cucumber_best.h5\n",
            "Epoch 58/60\n",
            "56/56 [==============================] - 12s 219ms/step - loss: 4.8419 - acc: 0.9613 - val_loss: 5.0165 - val_acc: 0.9088\n",
            "\n",
            "Epoch 00058: val_acc did not improve from 0.91418\n",
            "Epoch 59/60\n",
            "56/56 [==============================] - 12s 219ms/step - loss: 4.6003 - acc: 0.9601 - val_loss: 4.7218 - val_acc: 0.9051\n",
            "\n",
            "Epoch 00059: val_acc did not improve from 0.91418\n",
            "Epoch 60/60\n",
            "56/56 [==============================] - 12s 218ms/step - loss: 4.4411 - acc: 0.9523 - val_loss: 4.4360 - val_acc: 0.9277\n",
            "\n",
            "Epoch 00060: val_acc improved from 0.91418 to 0.92773, saving model to data/model\\cucumber_best.h5\n"
          ]
        }
      ],
      "source": [
        "history = model.fit(\n",
        "    X_train, y_train,\n",
        "    epochs = 60,\n",
        "    batch_size = 32,\n",
        "    callbacks=[es,mc],\n",
        "    validation_data = (X_val, y_val)\n",
        ")"
      ]
    },
    {
      "cell_type": "markdown",
      "metadata": {
        "id": "habGg4u03aOT"
      },
      "source": [
        "## 그래프"
      ]
    },
    {
      "cell_type": "code",
      "execution_count": 17,
      "metadata": {
        "id": "VlNd7zuo3aOT"
      },
      "outputs": [
        {
          "data": {
            "image/png": "[encoded data removed]",
            "text/plain": [
              "<Figure size 720x360 with 2 Axes>"
            ]
          },
          "metadata": {
            "needs_background": "light"
          },
          "output_type": "display_data"
        }
      ],
      "source": [
        "his_dict = history.history\n",
        "loss = his_dict['loss']\n",
        "val_loss = his_dict['val_loss'] \n",
        "epochs = range(1, len(loss) + 1)\n",
        "fig = plt.figure(figsize = (10, 5))\n",
        "# 훈련, 검증 손실\n",
        "ax1 = fig.add_subplot(1, 2, 1)\n",
        "ax1.plot(epochs, loss, color = 'blue', label = 'train_loss')\n",
        "ax1.plot(epochs, val_loss, color = 'orange', label = 'val_loss')\n",
        "ax1.set_title('train and val loss')\n",
        "ax1.set_xlabel('epochs')\n",
        "ax1.set_ylabel('loss')\n",
        "ax1.legend()\n",
        "acc = his_dict['acc']\n",
        "val_acc = his_dict['val_acc']\n",
        "# 훈련, 검증 정확도\n",
        "ax2 = fig.add_subplot(1, 2, 2)\n",
        "ax2.plot(epochs, acc, color = 'blue', label = 'train_acc')\n",
        "ax2.plot(epochs, val_acc, color = 'orange', label = 'val_acc')\n",
        "ax2.set_title('train and val acc')\n",
        "ax2.set_xlabel('epochs')\n",
        "ax2.set_ylabel('acc')\n",
        "ax2.legend()\n",
        "plt.show()"
      ]
    },
    {
      "cell_type": "code",
      "execution_count": 18,
      "metadata": {
        "id": "EMteGjnpACcT"
      },
      "outputs": [
        {
          "name": "stdout",
          "output_type": "stream",
          "text": [
            "35/35 [==============================] - 3s 50ms/step - loss: 4.4360 - acc: 0.9277\n",
            "\n",
            " 테스트 정확도: 0.9277\n"
          ]
        }
      ],
      "source": [
        "from tensorflow.keras.models import load_model\n",
        "loaded_model = load_model('data/model/cucumber_best.h5')\n",
        "print(\"\\n 테스트 정확도: %.4f\" % (loaded_model.evaluate(X_val, y_val)[1]))"
      ]
    },
    {
      "cell_type": "code",
      "execution_count": 19,
      "metadata": {},
      "outputs": [],
      "source": [
        "from keras.models import load_model\n",
        "model.save('data/model/cucumber_last.h5')"
      ]
    },
    {
      "cell_type": "code",
      "execution_count": 20,
      "metadata": {},
      "outputs": [
        {
          "name": "stdout",
          "output_type": "stream",
          "text": [
            "35/35 [==============================] - 3s 57ms/step - loss: 4.4360 - acc: 0.9277\n",
            "\n",
            " 테스트 정확도: 0.9277\n"
          ]
        }
      ],
      "source": [
        "from tensorflow.keras.models import load_model\n",
        "loaded_model = load_model('data/model/cucumber_last.h5')\n",
        "print(\"\\n 테스트 정확도: %.4f\" % (loaded_model.evaluate(X_val, y_val)[1]))"
      ]
    },
    {
      "cell_type": "code",
      "execution_count": 21,
      "metadata": {},
      "outputs": [
        {
          "name": "stdout",
          "output_type": "stream",
          "text": [
            "35/35 [==============================] - 2s 55ms/step - loss: 4.4360 - acc: 0.9277\n",
            "\n",
            " 테스트 정확도: 0.9277\n"
          ]
        }
      ],
      "source": [
        "from tensorflow.keras.models import load_model\n",
        "loaded_model = load_model('data/model/cucumber_best.h5')\n",
        "print(\"\\n 테스트 정확도: %.4f\" % (loaded_model.evaluate(X_val, y_val)[1]))"
      ]
    },
    {
      "cell_type": "code",
      "execution_count": 22,
      "metadata": {},
      "outputs": [],
      "source": [
        "from keras.preprocessing import image\n",
        "\n",
        "def pred(path):      \n",
        "    img = image.load_img(path, target_size=(255, 255))\n",
        "\n",
        "    x=image.img_to_array(img)\n",
        "    x=np.expand_dims(x, axis=0)\n",
        "    images = np.vstack([x])\n",
        "    print(np.shape(images))\n",
        "    classes = loaded_model.predict(images, batch_size=32)\n",
        "\n",
        "    print(classes[0])\n",
        "\n",
        "    if np.argmax(classes[0])==0:\n",
        "        print(path + \" 정상 오이 입니다.\")\n",
        "    elif np.argmax(classes[0])==1:\n",
        "        print(path + \" 오이흰가루병 입니다.\")\n",
        "    elif np.argmax(classes[0])==2:\n",
        "        print(path + \" 오이노균병 입니다.\")"
      ]
    },
    {
      "cell_type": "code",
      "execution_count": 23,
      "metadata": {},
      "outputs": [
        {
          "name": "stdout",
          "output_type": "stream",
          "text": [
            "(1, 255, 255, 3)\n",
            "[0. 0. 1.]\n",
            "data/testimg/0.jpg 오이노균병 입니다.\n"
          ]
        }
      ],
      "source": [
        "pred('data/testimg/0.jpg')"
      ]
    },
    {
      "cell_type": "code",
      "execution_count": 24,
      "metadata": {},
      "outputs": [
        {
          "name": "stdout",
          "output_type": "stream",
          "text": [
            "(1, 255, 255, 3)\n",
            "[0. 0. 1.]\n",
            "data/testimg/1.jpg 오이노균병 입니다.\n"
          ]
        }
      ],
      "source": [
        "pred('data/testimg/1.jpg')"
      ]
    },
    {
      "cell_type": "code",
      "execution_count": 25,
      "metadata": {},
      "outputs": [
        {
          "name": "stdout",
          "output_type": "stream",
          "text": [
            "(1, 255, 255, 3)\n",
            "[0. 0. 1.]\n",
            "data/testimg/2.jpg 오이노균병 입니다.\n"
          ]
        }
      ],
      "source": [
        "pred('data/testimg/2.jpg')"
      ]
    },
    {
      "cell_type": "code",
      "execution_count": 26,
      "metadata": {},
      "outputs": [],
      "source": [
        "from keras.preprocessing import image\n",
        "\n",
        "def pred(path):      \n",
        "    img = image.load_img(path, target_size=(255, 255))\n",
        "\n",
        "    x=image.img_to_array(img)\n",
        "    x=np.expand_dims(x, axis=0)\n",
        "    images = np.vstack([x])\n",
        "    print(np.shape(images))\n",
        "    classes = loaded_model.predict(images, batch_size=32)\n",
        "\n",
        "    print(classes[0])\n",
        "\n",
        "    if np.argmax(classes[0])>0:\n",
        "        print(path + \" 병든 오이 입니다.\")\n",
        "    else:\n",
        "        print(path + \" 정상 오이 입니다.\")"
      ]
    },
    {
      "cell_type": "code",
      "execution_count": 27,
      "metadata": {},
      "outputs": [
        {
          "name": "stdout",
          "output_type": "stream",
          "text": [
            "(1, 255, 255, 3)\n",
            "[0. 0. 1.]\n",
            "data/testimg/0.jpg 병든 오이 입니다.\n"
          ]
        }
      ],
      "source": [
        "pred('data/testimg/0.jpg')"
      ]
    },
    {
      "cell_type": "code",
      "execution_count": 28,
      "metadata": {},
      "outputs": [
        {
          "name": "stdout",
          "output_type": "stream",
          "text": [
            "(1, 255, 255, 3)\n",
            "[0. 0. 1.]\n",
            "data/testimg/1.jpg 병든 오이 입니다.\n"
          ]
        }
      ],
      "source": [
        "pred('data/testimg/1.jpg')"
      ]
    },
    {
      "cell_type": "code",
      "execution_count": 29,
      "metadata": {},
      "outputs": [
        {
          "name": "stdout",
          "output_type": "stream",
          "text": [
            "(1, 255, 255, 3)\n",
            "[0. 0. 1.]\n",
            "data/testimg/2.jpg 병든 오이 입니다.\n"
          ]
        }
      ],
      "source": [
        "pred('data/testimg/2.jpg')"
      ]
    },
    {
      "cell_type": "code",
      "execution_count": null,
      "metadata": {},
      "outputs": [],
      "source": []
    }
  ],
  "metadata": {
    "accelerator": "TPU",
    "colab": {
      "collapsed_sections": [],
      "machine_shape": "hm",
      "name": "13_로컬_오이질병구분_서동규.ipynb",
      "provenance": []
    },
    "interpreter": {
      "hash": "b3ba2566441a7c06988d0923437866b63cedc61552a5af99d1f4fb67d367b25f"
    },
    "kernelspec": {
      "display_name": "Python 3.8.11 64-bit ('base': conda)",
      "name": "python3"
    },
    "language_info": {
      "codemirror_mode": {
        "name": "ipython",
        "version": 3
      },
      "file_extension": ".py",
      "mimetype": "text/x-python",
      "name": "python",
      "nbconvert_exporter": "python",
      "pygments_lexer": "ipython3",
      "version": "3.8.11"
    },
    "orig_nbformat": 4
  },
  "nbformat": 4,
  "nbformat_minor": 0
}
