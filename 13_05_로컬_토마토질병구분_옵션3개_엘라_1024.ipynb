{
  "cells": [
    {
      "cell_type": "markdown",
      "metadata": {
        "id": "r2m1RshB3aNo"
      },
      "source": [
        "# 병충해 분석 AI 프로젝트"
      ]
    },
    {
      "cell_type": "code",
      "execution_count": 1,
      "metadata": {
        "id": "5Tvj7ePMuiJU",
        "outputId": "602d4a93-04ab-46e8-ff82-f6ade2240908"
      },
      "outputs": [
        {
          "name": "stderr",
          "output_type": "stream",
          "text": [
            "������ ��θ� ã�� �� �����ϴ�.\n",
            "������ ��θ� ã�� �� �����ϴ�.\n",
            "������ ��θ� ã�� �� �����ϴ�.\n"
          ]
        }
      ],
      "source": [
        "import numpy as np\n",
        "import pandas as pd\n",
        "import seaborn as sns\n",
        "import matplotlib as mpl\n",
        "import matplotlib.pyplot as plt\n",
        "!apt-get install -y fonts-nanum > /dev/null\n",
        "!fc-cache -fv > /dev/null\n",
        "!rm -rf ~/.cache/matplotlib > /dev/null\n",
        "mpl.rcParams['axes.unicode_minus'] = False\n",
        "plt.rc('font', family = 'NanumBarunGothic')\n",
        "import warnings\n",
        "warnings.filterwarnings('ignore')"
      ]
    },
    {
      "cell_type": "code",
      "execution_count": 2,
      "metadata": {
        "id": "HphTAmsRujLj"
      },
      "outputs": [],
      "source": [
        "import os\n",
        "import cv2\n",
        "from PIL import Image\n",
        "from tqdm import tqdm\n",
        "import tensorflow as tf\n",
        "from tensorflow import keras"
      ]
    },
    {
      "cell_type": "code",
      "execution_count": null,
      "metadata": {
        "colab": {
          "base_uri": "https://localhost:8080/"
        },
        "id": "Fzc-UD9dujrs",
        "outputId": "fe5b7a20-7ab9-4b90-bc79-be8d7b679b97"
      },
      "outputs": [
        {
          "name": "stdout",
          "output_type": "stream",
          "text": [
            "Mounted at /content/drive\n"
          ]
        }
      ],
      "source": [
        "from google.colab import drive\n",
        "drive.mount('/content/drive')"
      ]
    },
    {
      "cell_type": "code",
      "execution_count": null,
      "metadata": {
        "colab": {
          "base_uri": "https://localhost:8080/"
        },
        "id": "nDjsFa6tukzT",
        "outputId": "c14f3ff6-ed56-4c7f-fb91-5de835624025"
      },
      "outputs": [
        {
          "name": "stdout",
          "output_type": "stream",
          "text": [
            "/content/drive/MyDrive/data/project02\n"
          ]
        }
      ],
      "source": [
        "cd /content/drive/MyDrive/data/project02"
      ]
    },
    {
      "cell_type": "markdown",
      "metadata": {
        "id": "3kKHu9gP3aNu"
      },
      "source": [
        "## 1. 파일읽기"
      ]
    },
    {
      "cell_type": "code",
      "execution_count": 3,
      "metadata": {
        "colab": {
          "base_uri": "https://localhost:8080/"
        },
        "id": "0AT_HPle3aNw",
        "outputId": "15d65f68-cf43-4584-b649-2a5881738d3b"
      },
      "outputs": [
        {
          "name": "stdout",
          "output_type": "stream",
          "text": [
            "end\n"
          ]
        }
      ],
      "source": [
        "import numpy as np\n",
        "import pandas as pd\n",
        "import os\n",
        "\n",
        "# 파일 경로 셋팅\n",
        "train_csv = pd.read_csv('data/train_df_csv.csv')\n",
        "val_csv = pd.read_csv('data/val_df_csv.csv')\n",
        "\n",
        "print('end')"
      ]
    },
    {
      "cell_type": "markdown",
      "metadata": {
        "id": "J9v-bOrXug9s"
      },
      "source": [
        "# for문으로 각 작물당 2000개씩 샘플 묶기\n",
        "- 1 고추\n",
        "- 2 무\n",
        "- 3 배추\n",
        "- 4 애호박 삭제\n",
        "- 5 양배추\n",
        "- 6 오이\n",
        "- 7 토마토\n",
        "- 8 콩\n",
        "- 9 파\n",
        "- 10 호박 삭제\n",
        "\n",
        "> 총 8개의 작물 (곤충과 겹치는 작물)\n"
      ]
    },
    {
      "cell_type": "code",
      "execution_count": 4,
      "metadata": {
        "colab": {
          "base_uri": "https://localhost:8080/",
          "height": 419
        },
        "id": "UjznFz2hug9t",
        "outputId": "e9100b4c-b4c6-4ede-d652-cc76b1ccc7f9"
      },
      "outputs": [
        {
          "data": {
            "text/html": [
              "<div>\n",
              "<style scoped>\n",
              "    .dataframe tbody tr th:only-of-type {\n",
              "        vertical-align: middle;\n",
              "    }\n",
              "\n",
              "    .dataframe tbody tr th {\n",
              "        vertical-align: top;\n",
              "    }\n",
              "\n",
              "    .dataframe thead th {\n",
              "        text-align: right;\n",
              "    }\n",
              "</style>\n",
              "<table border=\"1\" class=\"dataframe\">\n",
              "  <thead>\n",
              "    <tr style=\"text-align: right;\">\n",
              "      <th></th>\n",
              "      <th>image</th>\n",
              "      <th>disease</th>\n",
              "      <th>crop</th>\n",
              "      <th>grow</th>\n",
              "      <th>risk</th>\n",
              "      <th>points</th>\n",
              "      <th>name</th>\n",
              "    </tr>\n",
              "  </thead>\n",
              "  <tbody>\n",
              "    <tr>\n",
              "      <th>0</th>\n",
              "      <td>V006_79_0_00_01_01_13_0_a01_20201102_0000_S01_...</td>\n",
              "      <td>0</td>\n",
              "      <td>1</td>\n",
              "      <td>13</td>\n",
              "      <td>0</td>\n",
              "      <td>[{'xtl': 1118, 'ytl': 1294, 'xbr': 2900, 'ybr'...</td>\n",
              "      <td>고추_0.정상</td>\n",
              "    </tr>\n",
              "    <tr>\n",
              "      <th>1</th>\n",
              "      <td>V006_79_0_00_01_01_13_0_a01_20201102_0002_S01_...</td>\n",
              "      <td>0</td>\n",
              "      <td>1</td>\n",
              "      <td>13</td>\n",
              "      <td>0</td>\n",
              "      <td>[{'xtl': 1033, 'ytl': 1533, 'xbr': 2829, 'ybr'...</td>\n",
              "      <td>고추_0.정상</td>\n",
              "    </tr>\n",
              "    <tr>\n",
              "      <th>2</th>\n",
              "      <td>V006_79_0_00_01_01_13_0_a01_20201103_0001_S01_...</td>\n",
              "      <td>0</td>\n",
              "      <td>1</td>\n",
              "      <td>13</td>\n",
              "      <td>0</td>\n",
              "      <td>[{'xtl': 484, 'ytl': 1227, 'xbr': 3879, 'ybr':...</td>\n",
              "      <td>고추_0.정상</td>\n",
              "    </tr>\n",
              "    <tr>\n",
              "      <th>3</th>\n",
              "      <td>V006_79_0_00_01_01_13_0_a01_20201103_0003_S01_...</td>\n",
              "      <td>0</td>\n",
              "      <td>1</td>\n",
              "      <td>13</td>\n",
              "      <td>0</td>\n",
              "      <td>[{'xtl': 1241, 'ytl': 103, 'xbr': 2344, 'ybr':...</td>\n",
              "      <td>고추_0.정상</td>\n",
              "    </tr>\n",
              "    <tr>\n",
              "      <th>4</th>\n",
              "      <td>V006_79_0_00_01_01_13_0_a05_20201111_0000_S01_...</td>\n",
              "      <td>0</td>\n",
              "      <td>1</td>\n",
              "      <td>13</td>\n",
              "      <td>0</td>\n",
              "      <td>[{'xtl': 1382, 'ytl': 978, 'xbr': 3226, 'ybr':...</td>\n",
              "      <td>고추_0.정상</td>\n",
              "    </tr>\n",
              "    <tr>\n",
              "      <th>...</th>\n",
              "      <td>...</td>\n",
              "      <td>...</td>\n",
              "      <td>...</td>\n",
              "      <td>...</td>\n",
              "      <td>...</td>\n",
              "      <td>...</td>\n",
              "      <td>...</td>\n",
              "    </tr>\n",
              "    <tr>\n",
              "      <th>14434</th>\n",
              "      <td>V006_79_1_18_09_03_13_1_0819e_20201117_133.jpg</td>\n",
              "      <td>18</td>\n",
              "      <td>9</td>\n",
              "      <td>13</td>\n",
              "      <td>1</td>\n",
              "      <td>[{'xtl': 135, 'ytl': 0, 'xbr': 875, 'ybr': 961}]</td>\n",
              "      <td>파_1.질병</td>\n",
              "    </tr>\n",
              "    <tr>\n",
              "      <th>14435</th>\n",
              "      <td>V006_79_1_18_09_03_13_1_0819e_20201117_134.jpg</td>\n",
              "      <td>18</td>\n",
              "      <td>9</td>\n",
              "      <td>13</td>\n",
              "      <td>1</td>\n",
              "      <td>[{'xtl': 293, 'ytl': 0, 'xbr': 520, 'ybr': 961}]</td>\n",
              "      <td>파_1.질병</td>\n",
              "    </tr>\n",
              "    <tr>\n",
              "      <th>14436</th>\n",
              "      <td>V006_79_1_18_09_03_13_1_0819e_20201118_137.jpg</td>\n",
              "      <td>18</td>\n",
              "      <td>9</td>\n",
              "      <td>13</td>\n",
              "      <td>1</td>\n",
              "      <td>[{'xtl': 2, 'ytl': 0, 'xbr': 722, 'ybr': 878}]</td>\n",
              "      <td>파_1.질병</td>\n",
              "    </tr>\n",
              "    <tr>\n",
              "      <th>14437</th>\n",
              "      <td>V006_79_1_18_09_03_13_1_0819e_20201118_139.jpg</td>\n",
              "      <td>18</td>\n",
              "      <td>9</td>\n",
              "      <td>13</td>\n",
              "      <td>1</td>\n",
              "      <td>[{'xtl': 192, 'ytl': 0, 'xbr': 636, 'ybr': 961}]</td>\n",
              "      <td>파_1.질병</td>\n",
              "    </tr>\n",
              "    <tr>\n",
              "      <th>14438</th>\n",
              "      <td>V006_79_1_18_09_03_13_1_0819e_20201118_140.jpg</td>\n",
              "      <td>18</td>\n",
              "      <td>9</td>\n",
              "      <td>13</td>\n",
              "      <td>1</td>\n",
              "      <td>[{'xtl': 294, 'ytl': 0, 'xbr': 961, 'ybr': 961}]</td>\n",
              "      <td>파_1.질병</td>\n",
              "    </tr>\n",
              "  </tbody>\n",
              "</table>\n",
              "<p>14439 rows × 7 columns</p>\n",
              "</div>"
            ],
            "text/plain": [
              "                                                   image  disease  crop  grow  \\\n",
              "0      V006_79_0_00_01_01_13_0_a01_20201102_0000_S01_...        0     1    13   \n",
              "1      V006_79_0_00_01_01_13_0_a01_20201102_0002_S01_...        0     1    13   \n",
              "2      V006_79_0_00_01_01_13_0_a01_20201103_0001_S01_...        0     1    13   \n",
              "3      V006_79_0_00_01_01_13_0_a01_20201103_0003_S01_...        0     1    13   \n",
              "4      V006_79_0_00_01_01_13_0_a05_20201111_0000_S01_...        0     1    13   \n",
              "...                                                  ...      ...   ...   ...   \n",
              "14434     V006_79_1_18_09_03_13_1_0819e_20201117_133.jpg       18     9    13   \n",
              "14435     V006_79_1_18_09_03_13_1_0819e_20201117_134.jpg       18     9    13   \n",
              "14436     V006_79_1_18_09_03_13_1_0819e_20201118_137.jpg       18     9    13   \n",
              "14437     V006_79_1_18_09_03_13_1_0819e_20201118_139.jpg       18     9    13   \n",
              "14438     V006_79_1_18_09_03_13_1_0819e_20201118_140.jpg       18     9    13   \n",
              "\n",
              "       risk                                             points     name  \n",
              "0         0  [{'xtl': 1118, 'ytl': 1294, 'xbr': 2900, 'ybr'...  고추_0.정상  \n",
              "1         0  [{'xtl': 1033, 'ytl': 1533, 'xbr': 2829, 'ybr'...  고추_0.정상  \n",
              "2         0  [{'xtl': 484, 'ytl': 1227, 'xbr': 3879, 'ybr':...  고추_0.정상  \n",
              "3         0  [{'xtl': 1241, 'ytl': 103, 'xbr': 2344, 'ybr':...  고추_0.정상  \n",
              "4         0  [{'xtl': 1382, 'ytl': 978, 'xbr': 3226, 'ybr':...  고추_0.정상  \n",
              "...     ...                                                ...      ...  \n",
              "14434     1   [{'xtl': 135, 'ytl': 0, 'xbr': 875, 'ybr': 961}]   파_1.질병  \n",
              "14435     1   [{'xtl': 293, 'ytl': 0, 'xbr': 520, 'ybr': 961}]   파_1.질병  \n",
              "14436     1     [{'xtl': 2, 'ytl': 0, 'xbr': 722, 'ybr': 878}]   파_1.질병  \n",
              "14437     1   [{'xtl': 192, 'ytl': 0, 'xbr': 636, 'ybr': 961}]   파_1.질병  \n",
              "14438     1   [{'xtl': 294, 'ytl': 0, 'xbr': 961, 'ybr': 961}]   파_1.질병  \n",
              "\n",
              "[14439 rows x 7 columns]"
            ]
          },
          "execution_count": 4,
          "metadata": {},
          "output_type": "execute_result"
        }
      ],
      "source": [
        "tc = train_csv[['image', 'disease', 'crop', 'grow', 'risk', 'points', 'name']]\n",
        "tc"
      ]
    },
    {
      "cell_type": "code",
      "execution_count": 5,
      "metadata": {},
      "outputs": [
        {
          "data": {
            "text/html": [
              "<div>\n",
              "<style scoped>\n",
              "    .dataframe tbody tr th:only-of-type {\n",
              "        vertical-align: middle;\n",
              "    }\n",
              "\n",
              "    .dataframe tbody tr th {\n",
              "        vertical-align: top;\n",
              "    }\n",
              "\n",
              "    .dataframe thead th {\n",
              "        text-align: right;\n",
              "    }\n",
              "</style>\n",
              "<table border=\"1\" class=\"dataframe\">\n",
              "  <thead>\n",
              "    <tr style=\"text-align: right;\">\n",
              "      <th></th>\n",
              "      <th>image</th>\n",
              "      <th>disease</th>\n",
              "      <th>crop</th>\n",
              "      <th>grow</th>\n",
              "      <th>risk</th>\n",
              "      <th>points</th>\n",
              "      <th>name</th>\n",
              "    </tr>\n",
              "  </thead>\n",
              "  <tbody>\n",
              "    <tr>\n",
              "      <th>8964</th>\n",
              "      <td>V006_79_0_00_07_01_13_0_c01_20201013_0000_S01_...</td>\n",
              "      <td>0</td>\n",
              "      <td>7</td>\n",
              "      <td>13</td>\n",
              "      <td>0</td>\n",
              "      <td>[{'xtl': 2218, 'ytl': 815, 'xbr': 2923, 'ybr':...</td>\n",
              "      <td>잎마름병(토마토)_0.정상</td>\n",
              "    </tr>\n",
              "    <tr>\n",
              "      <th>8965</th>\n",
              "      <td>V006_79_0_00_07_01_13_0_c01_20201013_0001_S01_...</td>\n",
              "      <td>0</td>\n",
              "      <td>7</td>\n",
              "      <td>13</td>\n",
              "      <td>0</td>\n",
              "      <td>[{'xtl': 2061, 'ytl': 1005, 'xbr': 2705, 'ybr'...</td>\n",
              "      <td>잎마름병(토마토)_0.정상</td>\n",
              "    </tr>\n",
              "    <tr>\n",
              "      <th>8966</th>\n",
              "      <td>V006_79_0_00_07_01_13_0_c01_20201013_0002_S01_...</td>\n",
              "      <td>0</td>\n",
              "      <td>7</td>\n",
              "      <td>13</td>\n",
              "      <td>0</td>\n",
              "      <td>[{'xtl': 2124, 'ytl': 579, 'xbr': 2444, 'ybr':...</td>\n",
              "      <td>잎마름병(토마토)_0.정상</td>\n",
              "    </tr>\n",
              "    <tr>\n",
              "      <th>8967</th>\n",
              "      <td>V006_79_0_00_07_01_13_0_c01_20201013_0003_S01_...</td>\n",
              "      <td>0</td>\n",
              "      <td>7</td>\n",
              "      <td>13</td>\n",
              "      <td>0</td>\n",
              "      <td>[{'xtl': 1424, 'ytl': 852, 'xbr': 2609, 'ybr':...</td>\n",
              "      <td>잎마름병(토마토)_0.정상</td>\n",
              "    </tr>\n",
              "    <tr>\n",
              "      <th>8968</th>\n",
              "      <td>V006_79_0_00_07_01_13_0_c01_20201013_0004_S01_...</td>\n",
              "      <td>0</td>\n",
              "      <td>7</td>\n",
              "      <td>13</td>\n",
              "      <td>0</td>\n",
              "      <td>[{'xtl': 1877, 'ytl': 611, 'xbr': 2862, 'ybr':...</td>\n",
              "      <td>잎마름병(토마토)_0.정상</td>\n",
              "    </tr>\n",
              "    <tr>\n",
              "      <th>...</th>\n",
              "      <td>...</td>\n",
              "      <td>...</td>\n",
              "      <td>...</td>\n",
              "      <td>...</td>\n",
              "      <td>...</td>\n",
              "      <td>...</td>\n",
              "      <td>...</td>\n",
              "    </tr>\n",
              "    <tr>\n",
              "      <th>10175</th>\n",
              "      <td>V006_79_1_15_07_03_13_2_3248bb_20201119_48.jpg</td>\n",
              "      <td>15</td>\n",
              "      <td>7</td>\n",
              "      <td>13</td>\n",
              "      <td>2</td>\n",
              "      <td>[{'xtl': 151, 'ytl': 322, 'xbr': 237, 'ybr': 4...</td>\n",
              "      <td>잎마름병(토마토)_1.질병</td>\n",
              "    </tr>\n",
              "    <tr>\n",
              "      <th>10176</th>\n",
              "      <td>V006_79_1_15_07_03_13_2_3248bb_20201120_13.jpg</td>\n",
              "      <td>15</td>\n",
              "      <td>7</td>\n",
              "      <td>13</td>\n",
              "      <td>2</td>\n",
              "      <td>[{'xtl': 94, 'ytl': 110, 'xbr': 716, 'ybr': 638}]</td>\n",
              "      <td>잎마름병(토마토)_1.질병</td>\n",
              "    </tr>\n",
              "    <tr>\n",
              "      <th>10177</th>\n",
              "      <td>V006_79_1_15_07_03_13_2_3248bb_20201120_49.jpg</td>\n",
              "      <td>15</td>\n",
              "      <td>7</td>\n",
              "      <td>13</td>\n",
              "      <td>2</td>\n",
              "      <td>[{'xtl': 0, 'ytl': 550, 'xbr': 308, 'ybr': 875}]</td>\n",
              "      <td>잎마름병(토마토)_1.질병</td>\n",
              "    </tr>\n",
              "    <tr>\n",
              "      <th>10178</th>\n",
              "      <td>V006_79_1_15_07_03_13_2_3248bb_20201120_67.jpg</td>\n",
              "      <td>15</td>\n",
              "      <td>7</td>\n",
              "      <td>13</td>\n",
              "      <td>2</td>\n",
              "      <td>[{'xtl': 355, 'ytl': 171, 'xbr': 601, 'ybr': 4...</td>\n",
              "      <td>잎마름병(토마토)_1.질병</td>\n",
              "    </tr>\n",
              "    <tr>\n",
              "      <th>10179</th>\n",
              "      <td>V006_79_1_15_07_03_13_2_3248bb_20201126_71.jpg</td>\n",
              "      <td>15</td>\n",
              "      <td>7</td>\n",
              "      <td>13</td>\n",
              "      <td>2</td>\n",
              "      <td>[{'xtl': 406, 'ytl': 186, 'xbr': 646, 'ybr': 4...</td>\n",
              "      <td>잎마름병(토마토)_1.질병</td>\n",
              "    </tr>\n",
              "  </tbody>\n",
              "</table>\n",
              "<p>1216 rows × 7 columns</p>\n",
              "</div>"
            ],
            "text/plain": [
              "                                                   image  disease  crop  grow  \\\n",
              "8964   V006_79_0_00_07_01_13_0_c01_20201013_0000_S01_...        0     7    13   \n",
              "8965   V006_79_0_00_07_01_13_0_c01_20201013_0001_S01_...        0     7    13   \n",
              "8966   V006_79_0_00_07_01_13_0_c01_20201013_0002_S01_...        0     7    13   \n",
              "8967   V006_79_0_00_07_01_13_0_c01_20201013_0003_S01_...        0     7    13   \n",
              "8968   V006_79_0_00_07_01_13_0_c01_20201013_0004_S01_...        0     7    13   \n",
              "...                                                  ...      ...   ...   ...   \n",
              "10175     V006_79_1_15_07_03_13_2_3248bb_20201119_48.jpg       15     7    13   \n",
              "10176     V006_79_1_15_07_03_13_2_3248bb_20201120_13.jpg       15     7    13   \n",
              "10177     V006_79_1_15_07_03_13_2_3248bb_20201120_49.jpg       15     7    13   \n",
              "10178     V006_79_1_15_07_03_13_2_3248bb_20201120_67.jpg       15     7    13   \n",
              "10179     V006_79_1_15_07_03_13_2_3248bb_20201126_71.jpg       15     7    13   \n",
              "\n",
              "       risk                                             points            name  \n",
              "8964      0  [{'xtl': 2218, 'ytl': 815, 'xbr': 2923, 'ybr':...  잎마름병(토마토)_0.정상  \n",
              "8965      0  [{'xtl': 2061, 'ytl': 1005, 'xbr': 2705, 'ybr'...  잎마름병(토마토)_0.정상  \n",
              "8966      0  [{'xtl': 2124, 'ytl': 579, 'xbr': 2444, 'ybr':...  잎마름병(토마토)_0.정상  \n",
              "8967      0  [{'xtl': 1424, 'ytl': 852, 'xbr': 2609, 'ybr':...  잎마름병(토마토)_0.정상  \n",
              "8968      0  [{'xtl': 1877, 'ytl': 611, 'xbr': 2862, 'ybr':...  잎마름병(토마토)_0.정상  \n",
              "...     ...                                                ...             ...  \n",
              "10175     2  [{'xtl': 151, 'ytl': 322, 'xbr': 237, 'ybr': 4...  잎마름병(토마토)_1.질병  \n",
              "10176     2  [{'xtl': 94, 'ytl': 110, 'xbr': 716, 'ybr': 638}]  잎마름병(토마토)_1.질병  \n",
              "10177     2   [{'xtl': 0, 'ytl': 550, 'xbr': 308, 'ybr': 875}]  잎마름병(토마토)_1.질병  \n",
              "10178     2  [{'xtl': 355, 'ytl': 171, 'xbr': 601, 'ybr': 4...  잎마름병(토마토)_1.질병  \n",
              "10179     2  [{'xtl': 406, 'ytl': 186, 'xbr': 646, 'ybr': 4...  잎마름병(토마토)_1.질병  \n",
              "\n",
              "[1216 rows x 7 columns]"
            ]
          },
          "execution_count": 5,
          "metadata": {},
          "output_type": "execute_result"
        }
      ],
      "source": [
        "train_csv[train_csv['crop']==7]"
      ]
    },
    {
      "cell_type": "code",
      "execution_count": 6,
      "metadata": {
        "id": "d-kNZKUOug9t"
      },
      "outputs": [],
      "source": [
        "tc = train_csv[['image', 'disease', 'crop', 'grow', 'risk', 'points', 'name']]\n",
        "df = pd.DataFrame(index=range(0,), columns=['image', 'disease', 'crop', 'grow', 'risk', 'points', 'name'])\n",
        "# [] 안에 작물 코드 넣기\n",
        "for i in [7]:\n",
        "    for k in range(19):\n",
        "        if k == 0:\n",
        "            tmp = tc[(tc['crop'] == i)&(tc['disease'] == k)][:1000]\n",
        "            df = pd.concat([df, tmp])\n",
        "        else:\n",
        "            tmp = tc[(tc['crop'] == i)&(tc['disease'] == k)][:500]\n",
        "            df = pd.concat([df, tmp])\n",
        "\n",
        "\n",
        "train_df = df"
      ]
    },
    {
      "cell_type": "code",
      "execution_count": 7,
      "metadata": {
        "id": "mpQ5PGivug9t"
      },
      "outputs": [],
      "source": [
        "train_df = train_df[['image', 'disease', 'crop', 'grow', 'risk']]\n",
        "train_df.reset_index(drop=True, inplace=True)"
      ]
    },
    {
      "cell_type": "code",
      "execution_count": 8,
      "metadata": {
        "colab": {
          "base_uri": "https://localhost:8080/",
          "height": 419
        },
        "id": "5nhYfCx5zErB",
        "outputId": "a2163d68-3078-4c1a-a58b-d84f3502ec3d"
      },
      "outputs": [
        {
          "data": {
            "text/html": [
              "<div>\n",
              "<style scoped>\n",
              "    .dataframe tbody tr th:only-of-type {\n",
              "        vertical-align: middle;\n",
              "    }\n",
              "\n",
              "    .dataframe tbody tr th {\n",
              "        vertical-align: top;\n",
              "    }\n",
              "\n",
              "    .dataframe thead th {\n",
              "        text-align: right;\n",
              "    }\n",
              "</style>\n",
              "<table border=\"1\" class=\"dataframe\">\n",
              "  <thead>\n",
              "    <tr style=\"text-align: right;\">\n",
              "      <th></th>\n",
              "      <th>image</th>\n",
              "      <th>disease</th>\n",
              "      <th>crop</th>\n",
              "      <th>grow</th>\n",
              "      <th>risk</th>\n",
              "    </tr>\n",
              "  </thead>\n",
              "  <tbody>\n",
              "    <tr>\n",
              "      <th>0</th>\n",
              "      <td>V006_79_0_00_07_01_13_0_c01_20201013_0000_S01_...</td>\n",
              "      <td>0</td>\n",
              "      <td>7</td>\n",
              "      <td>13</td>\n",
              "      <td>0</td>\n",
              "    </tr>\n",
              "    <tr>\n",
              "      <th>1</th>\n",
              "      <td>V006_79_0_00_07_01_13_0_c01_20201013_0001_S01_...</td>\n",
              "      <td>0</td>\n",
              "      <td>7</td>\n",
              "      <td>13</td>\n",
              "      <td>0</td>\n",
              "    </tr>\n",
              "    <tr>\n",
              "      <th>2</th>\n",
              "      <td>V006_79_0_00_07_01_13_0_c01_20201013_0002_S01_...</td>\n",
              "      <td>0</td>\n",
              "      <td>7</td>\n",
              "      <td>13</td>\n",
              "      <td>0</td>\n",
              "    </tr>\n",
              "    <tr>\n",
              "      <th>3</th>\n",
              "      <td>V006_79_0_00_07_01_13_0_c01_20201013_0003_S01_...</td>\n",
              "      <td>0</td>\n",
              "      <td>7</td>\n",
              "      <td>13</td>\n",
              "      <td>0</td>\n",
              "    </tr>\n",
              "    <tr>\n",
              "      <th>4</th>\n",
              "      <td>V006_79_0_00_07_01_13_0_c01_20201013_0004_S01_...</td>\n",
              "      <td>0</td>\n",
              "      <td>7</td>\n",
              "      <td>13</td>\n",
              "      <td>0</td>\n",
              "    </tr>\n",
              "    <tr>\n",
              "      <th>...</th>\n",
              "      <td>...</td>\n",
              "      <td>...</td>\n",
              "      <td>...</td>\n",
              "      <td>...</td>\n",
              "      <td>...</td>\n",
              "    </tr>\n",
              "    <tr>\n",
              "      <th>1211</th>\n",
              "      <td>V006_79_1_15_07_03_13_2_3248bb_20201119_48.jpg</td>\n",
              "      <td>15</td>\n",
              "      <td>7</td>\n",
              "      <td>13</td>\n",
              "      <td>2</td>\n",
              "    </tr>\n",
              "    <tr>\n",
              "      <th>1212</th>\n",
              "      <td>V006_79_1_15_07_03_13_2_3248bb_20201120_13.jpg</td>\n",
              "      <td>15</td>\n",
              "      <td>7</td>\n",
              "      <td>13</td>\n",
              "      <td>2</td>\n",
              "    </tr>\n",
              "    <tr>\n",
              "      <th>1213</th>\n",
              "      <td>V006_79_1_15_07_03_13_2_3248bb_20201120_49.jpg</td>\n",
              "      <td>15</td>\n",
              "      <td>7</td>\n",
              "      <td>13</td>\n",
              "      <td>2</td>\n",
              "    </tr>\n",
              "    <tr>\n",
              "      <th>1214</th>\n",
              "      <td>V006_79_1_15_07_03_13_2_3248bb_20201120_67.jpg</td>\n",
              "      <td>15</td>\n",
              "      <td>7</td>\n",
              "      <td>13</td>\n",
              "      <td>2</td>\n",
              "    </tr>\n",
              "    <tr>\n",
              "      <th>1215</th>\n",
              "      <td>V006_79_1_15_07_03_13_2_3248bb_20201126_71.jpg</td>\n",
              "      <td>15</td>\n",
              "      <td>7</td>\n",
              "      <td>13</td>\n",
              "      <td>2</td>\n",
              "    </tr>\n",
              "  </tbody>\n",
              "</table>\n",
              "<p>1216 rows × 5 columns</p>\n",
              "</div>"
            ],
            "text/plain": [
              "                                                  image disease crop grow risk\n",
              "0     V006_79_0_00_07_01_13_0_c01_20201013_0000_S01_...       0    7   13    0\n",
              "1     V006_79_0_00_07_01_13_0_c01_20201013_0001_S01_...       0    7   13    0\n",
              "2     V006_79_0_00_07_01_13_0_c01_20201013_0002_S01_...       0    7   13    0\n",
              "3     V006_79_0_00_07_01_13_0_c01_20201013_0003_S01_...       0    7   13    0\n",
              "4     V006_79_0_00_07_01_13_0_c01_20201013_0004_S01_...       0    7   13    0\n",
              "...                                                 ...     ...  ...  ...  ...\n",
              "1211     V006_79_1_15_07_03_13_2_3248bb_20201119_48.jpg      15    7   13    2\n",
              "1212     V006_79_1_15_07_03_13_2_3248bb_20201120_13.jpg      15    7   13    2\n",
              "1213     V006_79_1_15_07_03_13_2_3248bb_20201120_49.jpg      15    7   13    2\n",
              "1214     V006_79_1_15_07_03_13_2_3248bb_20201120_67.jpg      15    7   13    2\n",
              "1215     V006_79_1_15_07_03_13_2_3248bb_20201126_71.jpg      15    7   13    2\n",
              "\n",
              "[1216 rows x 5 columns]"
            ]
          },
          "execution_count": 8,
          "metadata": {},
          "output_type": "execute_result"
        }
      ],
      "source": [
        "train_df"
      ]
    },
    {
      "cell_type": "code",
      "execution_count": 9,
      "metadata": {
        "colab": {
          "base_uri": "https://localhost:8080/",
          "height": 419
        },
        "id": "nKFuV0bJug9t",
        "outputId": "a854b9b0-fadf-499d-a7c3-54790186c9d7"
      },
      "outputs": [
        {
          "data": {
            "text/html": [
              "<div>\n",
              "<style scoped>\n",
              "    .dataframe tbody tr th:only-of-type {\n",
              "        vertical-align: middle;\n",
              "    }\n",
              "\n",
              "    .dataframe tbody tr th {\n",
              "        vertical-align: top;\n",
              "    }\n",
              "\n",
              "    .dataframe thead th {\n",
              "        text-align: right;\n",
              "    }\n",
              "</style>\n",
              "<table border=\"1\" class=\"dataframe\">\n",
              "  <thead>\n",
              "    <tr style=\"text-align: right;\">\n",
              "      <th></th>\n",
              "      <th>image</th>\n",
              "      <th>disease</th>\n",
              "      <th>crop</th>\n",
              "      <th>grow</th>\n",
              "      <th>risk</th>\n",
              "      <th>points</th>\n",
              "      <th>name</th>\n",
              "    </tr>\n",
              "  </thead>\n",
              "  <tbody>\n",
              "    <tr>\n",
              "      <th>0</th>\n",
              "      <td>V006_79_0_00_01_01_13_0_a01_20201103_0000_S01_...</td>\n",
              "      <td>0</td>\n",
              "      <td>1</td>\n",
              "      <td>13</td>\n",
              "      <td>0</td>\n",
              "      <td>[{'xtl': 502, 'ytl': 1261, 'xbr': 3781, 'ybr':...</td>\n",
              "      <td>고추_0.정상</td>\n",
              "    </tr>\n",
              "    <tr>\n",
              "      <th>1</th>\n",
              "      <td>V006_79_0_00_01_01_13_0_a01_20201103_0002_S01_...</td>\n",
              "      <td>0</td>\n",
              "      <td>1</td>\n",
              "      <td>13</td>\n",
              "      <td>0</td>\n",
              "      <td>[{'xtl': 817, 'ytl': 1564, 'xbr': 3693, 'ybr':...</td>\n",
              "      <td>고추_0.정상</td>\n",
              "    </tr>\n",
              "    <tr>\n",
              "      <th>2</th>\n",
              "      <td>V006_79_0_00_01_01_13_0_a05_20201111_0009_S01_...</td>\n",
              "      <td>0</td>\n",
              "      <td>1</td>\n",
              "      <td>13</td>\n",
              "      <td>0</td>\n",
              "      <td>[{'xtl': 697, 'ytl': 967, 'xbr': 3797, 'ybr': ...</td>\n",
              "      <td>고추_0.정상</td>\n",
              "    </tr>\n",
              "    <tr>\n",
              "      <th>3</th>\n",
              "      <td>V006_79_0_00_01_01_13_0_a05_20201111_0014_S01_...</td>\n",
              "      <td>0</td>\n",
              "      <td>1</td>\n",
              "      <td>13</td>\n",
              "      <td>0</td>\n",
              "      <td>[{'xtl': 627, 'ytl': 1294, 'xbr': 3783, 'ybr':...</td>\n",
              "      <td>고추_0.정상</td>\n",
              "    </tr>\n",
              "    <tr>\n",
              "      <th>4</th>\n",
              "      <td>V006_79_0_00_01_01_13_0_a05_20201111_0024_S01_...</td>\n",
              "      <td>0</td>\n",
              "      <td>1</td>\n",
              "      <td>13</td>\n",
              "      <td>0</td>\n",
              "      <td>[{'xtl': 1002, 'ytl': 458, 'xbr': 3380, 'ybr':...</td>\n",
              "      <td>고추_0.정상</td>\n",
              "    </tr>\n",
              "    <tr>\n",
              "      <th>...</th>\n",
              "      <td>...</td>\n",
              "      <td>...</td>\n",
              "      <td>...</td>\n",
              "      <td>...</td>\n",
              "      <td>...</td>\n",
              "      <td>...</td>\n",
              "      <td>...</td>\n",
              "    </tr>\n",
              "    <tr>\n",
              "      <th>9100</th>\n",
              "      <td>V006_79_1_18_09_03_13_3_0819e_20201112_151.jpg</td>\n",
              "      <td>18</td>\n",
              "      <td>9</td>\n",
              "      <td>13</td>\n",
              "      <td>3</td>\n",
              "      <td>[{'xtl': 308, 'ytl': 468, 'xbr': 542, 'ybr': 1...</td>\n",
              "      <td>파_1.질병</td>\n",
              "    </tr>\n",
              "    <tr>\n",
              "      <th>9101</th>\n",
              "      <td>V006_79_1_18_09_03_13_3_0819e_20201127_172.jpg</td>\n",
              "      <td>18</td>\n",
              "      <td>9</td>\n",
              "      <td>13</td>\n",
              "      <td>3</td>\n",
              "      <td>[{'xtl': 0, 'ytl': 341, 'xbr': 960, 'ybr': 960}]</td>\n",
              "      <td>파_1.질병</td>\n",
              "    </tr>\n",
              "    <tr>\n",
              "      <th>9102</th>\n",
              "      <td>V006_79_1_18_09_03_13_3_6734e_20201030_50.jpg</td>\n",
              "      <td>18</td>\n",
              "      <td>9</td>\n",
              "      <td>13</td>\n",
              "      <td>3</td>\n",
              "      <td>[{'xtl': 79, 'ytl': 2, 'xbr': 433, 'ybr': 960}]</td>\n",
              "      <td>파_1.질병</td>\n",
              "    </tr>\n",
              "    <tr>\n",
              "      <th>9103</th>\n",
              "      <td>V006_79_1_18_09_03_13_3_6734e_20201117_48.jpg</td>\n",
              "      <td>18</td>\n",
              "      <td>9</td>\n",
              "      <td>13</td>\n",
              "      <td>3</td>\n",
              "      <td>[{'xtl': 355, 'ytl': 0, 'xbr': 657, 'ybr': 960}]</td>\n",
              "      <td>파_1.질병</td>\n",
              "    </tr>\n",
              "    <tr>\n",
              "      <th>9104</th>\n",
              "      <td>V006_79_1_18_09_03_13_3_6734e_20201117_55.jpg</td>\n",
              "      <td>18</td>\n",
              "      <td>9</td>\n",
              "      <td>13</td>\n",
              "      <td>3</td>\n",
              "      <td>[{'xtl': 0, 'ytl': 621, 'xbr': 1559, 'ybr': 993}]</td>\n",
              "      <td>파_1.질병</td>\n",
              "    </tr>\n",
              "  </tbody>\n",
              "</table>\n",
              "<p>9105 rows × 7 columns</p>\n",
              "</div>"
            ],
            "text/plain": [
              "                                                  image  disease  crop  grow  \\\n",
              "0     V006_79_0_00_01_01_13_0_a01_20201103_0000_S01_...        0     1    13   \n",
              "1     V006_79_0_00_01_01_13_0_a01_20201103_0002_S01_...        0     1    13   \n",
              "2     V006_79_0_00_01_01_13_0_a05_20201111_0009_S01_...        0     1    13   \n",
              "3     V006_79_0_00_01_01_13_0_a05_20201111_0014_S01_...        0     1    13   \n",
              "4     V006_79_0_00_01_01_13_0_a05_20201111_0024_S01_...        0     1    13   \n",
              "...                                                 ...      ...   ...   ...   \n",
              "9100     V006_79_1_18_09_03_13_3_0819e_20201112_151.jpg       18     9    13   \n",
              "9101     V006_79_1_18_09_03_13_3_0819e_20201127_172.jpg       18     9    13   \n",
              "9102      V006_79_1_18_09_03_13_3_6734e_20201030_50.jpg       18     9    13   \n",
              "9103      V006_79_1_18_09_03_13_3_6734e_20201117_48.jpg       18     9    13   \n",
              "9104      V006_79_1_18_09_03_13_3_6734e_20201117_55.jpg       18     9    13   \n",
              "\n",
              "      risk                                             points     name  \n",
              "0        0  [{'xtl': 502, 'ytl': 1261, 'xbr': 3781, 'ybr':...  고추_0.정상  \n",
              "1        0  [{'xtl': 817, 'ytl': 1564, 'xbr': 3693, 'ybr':...  고추_0.정상  \n",
              "2        0  [{'xtl': 697, 'ytl': 967, 'xbr': 3797, 'ybr': ...  고추_0.정상  \n",
              "3        0  [{'xtl': 627, 'ytl': 1294, 'xbr': 3783, 'ybr':...  고추_0.정상  \n",
              "4        0  [{'xtl': 1002, 'ytl': 458, 'xbr': 3380, 'ybr':...  고추_0.정상  \n",
              "...    ...                                                ...      ...  \n",
              "9100     3  [{'xtl': 308, 'ytl': 468, 'xbr': 542, 'ybr': 1...   파_1.질병  \n",
              "9101     3   [{'xtl': 0, 'ytl': 341, 'xbr': 960, 'ybr': 960}]   파_1.질병  \n",
              "9102     3    [{'xtl': 79, 'ytl': 2, 'xbr': 433, 'ybr': 960}]   파_1.질병  \n",
              "9103     3   [{'xtl': 355, 'ytl': 0, 'xbr': 657, 'ybr': 960}]   파_1.질병  \n",
              "9104     3  [{'xtl': 0, 'ytl': 621, 'xbr': 1559, 'ybr': 993}]   파_1.질병  \n",
              "\n",
              "[9105 rows x 7 columns]"
            ]
          },
          "execution_count": 9,
          "metadata": {},
          "output_type": "execute_result"
        }
      ],
      "source": [
        "vc = val_csv[['image', 'disease', 'crop', 'grow', 'risk', 'points', 'name']]\n",
        "vc"
      ]
    },
    {
      "cell_type": "code",
      "execution_count": 10,
      "metadata": {
        "id": "3HYh5ySFug9t"
      },
      "outputs": [],
      "source": [
        "vc = val_csv[['image', 'disease', 'crop', 'grow', 'risk', 'points', 'name']]\n",
        "df = pd.DataFrame(index=range(0,), columns=['image', 'disease', 'crop', 'grow', 'risk', 'points', 'name'])\n",
        "# [] 안에 작물 코드 넣기\n",
        "for i in [7]:\n",
        "    for k in range(19):\n",
        "        if k == 0:\n",
        "            tmp = vc[(vc['crop'] == i)&(vc['disease'] == k)][:1000]\n",
        "            df = pd.concat([df, tmp])\n",
        "        else:\n",
        "            tmp = vc[(vc['crop'] == i)&(vc['disease'] == k)][:500]\n",
        "            df = pd.concat([df, tmp])\n",
        "\n",
        "\n",
        "val_df = df"
      ]
    },
    {
      "cell_type": "code",
      "execution_count": 11,
      "metadata": {
        "colab": {
          "base_uri": "https://localhost:8080/",
          "height": 419
        },
        "id": "2uza97yeug9t",
        "outputId": "47919a02-8238-4eb0-ad32-f8d8acb0d1ee"
      },
      "outputs": [
        {
          "data": {
            "text/html": [
              "<div>\n",
              "<style scoped>\n",
              "    .dataframe tbody tr th:only-of-type {\n",
              "        vertical-align: middle;\n",
              "    }\n",
              "\n",
              "    .dataframe tbody tr th {\n",
              "        vertical-align: top;\n",
              "    }\n",
              "\n",
              "    .dataframe thead th {\n",
              "        text-align: right;\n",
              "    }\n",
              "</style>\n",
              "<table border=\"1\" class=\"dataframe\">\n",
              "  <thead>\n",
              "    <tr style=\"text-align: right;\">\n",
              "      <th></th>\n",
              "      <th>image</th>\n",
              "      <th>disease</th>\n",
              "      <th>crop</th>\n",
              "      <th>grow</th>\n",
              "      <th>risk</th>\n",
              "    </tr>\n",
              "  </thead>\n",
              "  <tbody>\n",
              "    <tr>\n",
              "      <th>0</th>\n",
              "      <td>V006_79_0_00_07_01_13_0_c01_20201013_0014_S01_...</td>\n",
              "      <td>0</td>\n",
              "      <td>7</td>\n",
              "      <td>13</td>\n",
              "      <td>0</td>\n",
              "    </tr>\n",
              "    <tr>\n",
              "      <th>1</th>\n",
              "      <td>V006_79_0_00_07_01_13_0_c01_20201013_0018_S01_...</td>\n",
              "      <td>0</td>\n",
              "      <td>7</td>\n",
              "      <td>13</td>\n",
              "      <td>0</td>\n",
              "    </tr>\n",
              "    <tr>\n",
              "      <th>2</th>\n",
              "      <td>V006_79_0_00_07_01_13_0_c01_20201209_0001_S01_...</td>\n",
              "      <td>0</td>\n",
              "      <td>7</td>\n",
              "      <td>13</td>\n",
              "      <td>0</td>\n",
              "    </tr>\n",
              "    <tr>\n",
              "      <th>3</th>\n",
              "      <td>V006_79_0_00_07_01_13_0_c01_20201209_0004_S01_...</td>\n",
              "      <td>0</td>\n",
              "      <td>7</td>\n",
              "      <td>13</td>\n",
              "      <td>0</td>\n",
              "    </tr>\n",
              "    <tr>\n",
              "      <th>4</th>\n",
              "      <td>V006_79_0_00_07_01_13_0_c01_20201209_0010_S01_...</td>\n",
              "      <td>0</td>\n",
              "      <td>7</td>\n",
              "      <td>13</td>\n",
              "      <td>0</td>\n",
              "    </tr>\n",
              "    <tr>\n",
              "      <th>...</th>\n",
              "      <td>...</td>\n",
              "      <td>...</td>\n",
              "      <td>...</td>\n",
              "      <td>...</td>\n",
              "      <td>...</td>\n",
              "    </tr>\n",
              "    <tr>\n",
              "      <th>1026</th>\n",
              "      <td>V006_79_1_15_07_03_12_3_8540w_20201110_41.jpg</td>\n",
              "      <td>15</td>\n",
              "      <td>7</td>\n",
              "      <td>12</td>\n",
              "      <td>3</td>\n",
              "    </tr>\n",
              "    <tr>\n",
              "      <th>1027</th>\n",
              "      <td>V006_79_1_15_07_03_12_3_8540w_20201111_156.jpg</td>\n",
              "      <td>15</td>\n",
              "      <td>7</td>\n",
              "      <td>12</td>\n",
              "      <td>3</td>\n",
              "    </tr>\n",
              "    <tr>\n",
              "      <th>1028</th>\n",
              "      <td>V006_79_1_15_07_03_12_3_8540w_20201112_205.jpg</td>\n",
              "      <td>15</td>\n",
              "      <td>7</td>\n",
              "      <td>12</td>\n",
              "      <td>3</td>\n",
              "    </tr>\n",
              "    <tr>\n",
              "      <th>1029</th>\n",
              "      <td>V006_79_1_15_07_03_12_3_8540w_20201118_209.jpg</td>\n",
              "      <td>15</td>\n",
              "      <td>7</td>\n",
              "      <td>12</td>\n",
              "      <td>3</td>\n",
              "    </tr>\n",
              "    <tr>\n",
              "      <th>1030</th>\n",
              "      <td>V006_79_1_15_07_03_13_1_3248bb_20201105_20.jpg</td>\n",
              "      <td>15</td>\n",
              "      <td>7</td>\n",
              "      <td>13</td>\n",
              "      <td>1</td>\n",
              "    </tr>\n",
              "  </tbody>\n",
              "</table>\n",
              "<p>1031 rows × 5 columns</p>\n",
              "</div>"
            ],
            "text/plain": [
              "                                                  image disease crop grow risk\n",
              "0     V006_79_0_00_07_01_13_0_c01_20201013_0014_S01_...       0    7   13    0\n",
              "1     V006_79_0_00_07_01_13_0_c01_20201013_0018_S01_...       0    7   13    0\n",
              "2     V006_79_0_00_07_01_13_0_c01_20201209_0001_S01_...       0    7   13    0\n",
              "3     V006_79_0_00_07_01_13_0_c01_20201209_0004_S01_...       0    7   13    0\n",
              "4     V006_79_0_00_07_01_13_0_c01_20201209_0010_S01_...       0    7   13    0\n",
              "...                                                 ...     ...  ...  ...  ...\n",
              "1026      V006_79_1_15_07_03_12_3_8540w_20201110_41.jpg      15    7   12    3\n",
              "1027     V006_79_1_15_07_03_12_3_8540w_20201111_156.jpg      15    7   12    3\n",
              "1028     V006_79_1_15_07_03_12_3_8540w_20201112_205.jpg      15    7   12    3\n",
              "1029     V006_79_1_15_07_03_12_3_8540w_20201118_209.jpg      15    7   12    3\n",
              "1030     V006_79_1_15_07_03_13_1_3248bb_20201105_20.jpg      15    7   13    1\n",
              "\n",
              "[1031 rows x 5 columns]"
            ]
          },
          "execution_count": 11,
          "metadata": {},
          "output_type": "execute_result"
        }
      ],
      "source": [
        "val_df = val_df[['image', 'disease', 'crop', 'grow', 'risk']]\n",
        "val_df.reset_index(drop=True, inplace=True)\n",
        "val_df"
      ]
    },
    {
      "cell_type": "markdown",
      "metadata": {
        "id": "iFXBqF2i3aOH"
      },
      "source": [
        "# x y 데이터셋 제작\n",
        "- x: train 이미지\n",
        "- y: train disease 번호"
      ]
    },
    {
      "cell_type": "markdown",
      "metadata": {
        "id": "_h7nH0VE3aOH"
      },
      "source": [
        "## train"
      ]
    },
    {
      "cell_type": "code",
      "execution_count": 12,
      "metadata": {
        "id": "caeY5vGl3aOI"
      },
      "outputs": [],
      "source": [
        "# 폴더 리스트 가져오기\n",
        "from glob import glob\n",
        "from PIL import Image\n",
        "import numpy as np\n",
        "\n",
        "\n",
        "X=[]\n",
        "train_dis = list(train_df['disease'])\n",
        "train_img = list(train_df['image'])\n",
        "train_cro = list(train_df['crop'])\n",
        "path = 'data/project/'\n",
        "\n",
        "\n",
        "for i in range(len(train_df)):\n",
        "    img = Image.open(path + str(train_cro[i])+ '/train/' + str(train_dis[i]) + '/' + train_img[i])\n",
        "    img = img.resize((255, 255)) ## 혹시몰라 한번더 리사이즈\n",
        "    imgarr = np.array(img)/255 # 스케일링\n",
        "    X.append(imgarr)"
      ]
    },
    {
      "cell_type": "code",
      "execution_count": 13,
      "metadata": {
        "id": "el6L0uU33aOI",
        "outputId": "ab6e2ee4-fa05-422b-a01f-815cce08d3aa"
      },
      "outputs": [
        {
          "name": "stdout",
          "output_type": "stream",
          "text": [
            "(1216, 255, 255, 3)\n"
          ]
        }
      ],
      "source": [
        "print(np.shape(X))"
      ]
    },
    {
      "cell_type": "code",
      "execution_count": 14,
      "metadata": {
        "id": "80nt3Q5G3aOI"
      },
      "outputs": [],
      "source": [
        "y = []\n",
        "for item in train_df['disease']:\n",
        "  y.append(item)"
      ]
    },
    {
      "cell_type": "code",
      "execution_count": 15,
      "metadata": {
        "id": "wmlNysPh3aOJ",
        "outputId": "519176b4-a656-4cda-c8e3-070d8b986a81"
      },
      "outputs": [
        {
          "name": "stdout",
          "output_type": "stream",
          "text": [
            "(1216,)\n"
          ]
        }
      ],
      "source": [
        "print(np.shape(y))"
      ]
    },
    {
      "cell_type": "code",
      "execution_count": 16,
      "metadata": {
        "id": "MCdBlSbH3aOJ",
        "outputId": "4ca136fc-272d-4d14-cde8-7c132c90650d"
      },
      "outputs": [
        {
          "data": {
            "text/plain": [
              "array([ 0, 15])"
            ]
          },
          "execution_count": 16,
          "metadata": {},
          "output_type": "execute_result"
        }
      ],
      "source": [
        "np.unique(y)"
      ]
    },
    {
      "cell_type": "code",
      "execution_count": 17,
      "metadata": {
        "id": "Y_ohPxIaIf-H"
      },
      "outputs": [],
      "source": [
        "# 작물 질병 확인하여 질병 순서대로 레이블 변경\n",
        "# 토마토 15 : 토마토 잎마름병\n",
        "\n",
        "for i in range(len(y)):\n",
        "        if y[i] == 15:\n",
        "            y[i] = 1.0\n",
        "        "
      ]
    },
    {
      "cell_type": "code",
      "execution_count": 18,
      "metadata": {
        "id": "AI5K_AHOIf-H",
        "outputId": "1680c738-0aec-4523-b025-0a6e5d48834c"
      },
      "outputs": [
        {
          "data": {
            "text/plain": [
              "array([0., 1.])"
            ]
          },
          "execution_count": 18,
          "metadata": {},
          "output_type": "execute_result"
        }
      ],
      "source": [
        "np.unique(y)"
      ]
    },
    {
      "cell_type": "code",
      "execution_count": 19,
      "metadata": {
        "id": "uSfesDmR3aOJ",
        "outputId": "bdc6ad38-0c47-4753-cbad-72b6e04314ee"
      },
      "outputs": [
        {
          "data": {
            "text/plain": [
              "(list, list)"
            ]
          },
          "execution_count": 19,
          "metadata": {},
          "output_type": "execute_result"
        }
      ],
      "source": [
        "type(X), type(y)"
      ]
    },
    {
      "cell_type": "code",
      "execution_count": 20,
      "metadata": {
        "id": "8KwxQRID3aOK"
      },
      "outputs": [],
      "source": [
        "# np.array 로 변환해야 작업 가능\n",
        "X_train = np.array(X, dtype='float32')\n",
        "y_train = np.array(y, dtype='float32')"
      ]
    },
    {
      "cell_type": "code",
      "execution_count": 21,
      "metadata": {
        "id": "jT8s2bbw3aOK"
      },
      "outputs": [],
      "source": [
        "# npz 파일 제작\n",
        "np.savez('data/train_tomato.npz', X=X_train, Y=y_train)"
      ]
    },
    {
      "cell_type": "markdown",
      "metadata": {
        "id": "CoRjddGB3aOK"
      },
      "source": [
        "## validation"
      ]
    },
    {
      "cell_type": "code",
      "execution_count": 22,
      "metadata": {
        "id": "ACwpmk8cug9y"
      },
      "outputs": [],
      "source": [
        "# 폴더 리스트 가져오기\n",
        "from glob import glob\n",
        "from PIL import Image\n",
        "import numpy as np\n",
        "\n",
        "\n",
        "X=[]\n",
        "val_dis = list(val_df['disease'])\n",
        "val_img = list(val_df['image'])\n",
        "val_cro = list(val_df['crop'])\n",
        "path = 'data/project/'\n",
        "\n",
        "\n",
        "for i in range(len(val_df)):\n",
        "    img = Image.open(path + str(val_cro[i])+ '/validation/' + str(val_dis[i]) + '/' + val_img[i])\n",
        "    img = img.resize((255, 255)) ## 혹시몰라 한번더 리사이즈\n",
        "    imgarr = np.array(img)/255 # 스케일링\n",
        "    X.append(imgarr)"
      ]
    },
    {
      "cell_type": "code",
      "execution_count": 23,
      "metadata": {
        "id": "Dd1EAd8iug9y",
        "outputId": "98bfe6ae-cdec-47c7-be53-b3208edee5ff"
      },
      "outputs": [
        {
          "name": "stdout",
          "output_type": "stream",
          "text": [
            "(1031, 255, 255, 3)\n"
          ]
        }
      ],
      "source": [
        "print(np.shape(X))"
      ]
    },
    {
      "cell_type": "code",
      "execution_count": 24,
      "metadata": {
        "id": "D_s-ctEZug9y"
      },
      "outputs": [],
      "source": [
        "y = []\n",
        "for item in val_df['disease']:\n",
        "  y.append(item)"
      ]
    },
    {
      "cell_type": "code",
      "execution_count": 25,
      "metadata": {
        "id": "mN3GEbUBug9y",
        "outputId": "09a9be90-0e82-41d6-8d77-d806f7153709"
      },
      "outputs": [
        {
          "name": "stdout",
          "output_type": "stream",
          "text": [
            "(1031,)\n"
          ]
        }
      ],
      "source": [
        "print(np.shape(y))"
      ]
    },
    {
      "cell_type": "code",
      "execution_count": 26,
      "metadata": {
        "id": "mxx0EJ-Lug9y",
        "outputId": "fbbb92d6-b8bf-4dde-fe0b-c7328b52eeda"
      },
      "outputs": [
        {
          "data": {
            "text/plain": [
              "array([ 0, 15])"
            ]
          },
          "execution_count": 26,
          "metadata": {},
          "output_type": "execute_result"
        }
      ],
      "source": [
        "np.unique(y)"
      ]
    },
    {
      "cell_type": "code",
      "execution_count": 27,
      "metadata": {
        "id": "xrsj4J7uIf-I"
      },
      "outputs": [],
      "source": [
        "# 작물 질병 확인하여 질병 순서대로 레이블 변경\n",
        "# 토마토 15 : 토마토 잎마름병\n",
        "\n",
        "for i in range(len(y)):\n",
        "        if y[i] == 15:\n",
        "            y[i] = 1.0\n",
        "        "
      ]
    },
    {
      "cell_type": "code",
      "execution_count": 28,
      "metadata": {
        "id": "VpMe9uaPIf-I",
        "outputId": "2c035b91-f99a-4113-ec1e-2215a9ad7d67"
      },
      "outputs": [
        {
          "data": {
            "text/plain": [
              "array([0., 1.])"
            ]
          },
          "execution_count": 28,
          "metadata": {},
          "output_type": "execute_result"
        }
      ],
      "source": [
        "np.unique(y)"
      ]
    },
    {
      "cell_type": "code",
      "execution_count": 29,
      "metadata": {
        "id": "Aql59YOe3aOM",
        "outputId": "fb598bb7-582e-40a9-b1aa-bf15ad46fcf7"
      },
      "outputs": [
        {
          "data": {
            "text/plain": [
              "(list, list)"
            ]
          },
          "execution_count": 29,
          "metadata": {},
          "output_type": "execute_result"
        }
      ],
      "source": [
        "type(X), type(y)"
      ]
    },
    {
      "cell_type": "code",
      "execution_count": 30,
      "metadata": {
        "id": "kx7sQOWO3aON"
      },
      "outputs": [],
      "source": [
        "# np.array 로 변환해야 작업 가능\n",
        "X_val = np.array(X)\n",
        "y_val = np.array(y)"
      ]
    },
    {
      "cell_type": "code",
      "execution_count": 31,
      "metadata": {
        "id": "xOBDEWbk3aON"
      },
      "outputs": [],
      "source": [
        "# npz 파일 제작\n",
        "np.savez('data/val_tomato.npz', X=X_val, Y=y_val)"
      ]
    },
    {
      "cell_type": "code",
      "execution_count": 32,
      "metadata": {
        "id": "BpZOekx13aON",
        "outputId": "7206e51a-7acd-4afe-e1d2-f389e023fcf4"
      },
      "outputs": [
        {
          "name": "stdout",
          "output_type": "stream",
          "text": [
            "--x값--\n"
          ]
        },
        {
          "data": {
            "image/png": "[encoded data removed]",
            "text/plain": [
              "<Figure size 432x288 with 1 Axes>"
            ]
          },
          "metadata": {
            "needs_background": "light"
          },
          "output_type": "display_data"
        },
        {
          "name": "stdout",
          "output_type": "stream",
          "text": [
            "--y value--\n",
            "[0, 0, 0, 0, 0]\n"
          ]
        }
      ],
      "source": [
        "# 5개의 이미지를 수평으로 나란히 출력\n",
        "import matplotlib.pyplot as plt\n",
        "\n",
        "print('--x값--')\n",
        "plt.imshow(np.hstack(X[:5]))\n",
        "plt.show()\n",
        "\n",
        "print('--y value--')\n",
        "print(y[:5])"
      ]
    },
    {
      "cell_type": "markdown",
      "metadata": {
        "id": "kygpISkx3aOP"
      },
      "source": [
        "## CNN"
      ]
    },
    {
      "cell_type": "code",
      "execution_count": 38,
      "metadata": {
        "id": "Ioa-s0Iu3aOP"
      },
      "outputs": [],
      "source": [
        "# 메모리 변수 모두 제거\n",
        "all = [var for var in globals() if var[0] != '_']\n",
        "for var in all:\n",
        "    del globals()[var]"
      ]
    },
    {
      "cell_type": "markdown",
      "metadata": {
        "id": "-J_B4gC33aOP"
      },
      "source": [
        "## 사용 패키지"
      ]
    },
    {
      "cell_type": "code",
      "execution_count": 1,
      "metadata": {
        "id": "isR5vSQ83aOP"
      },
      "outputs": [
        {
          "name": "stderr",
          "output_type": "stream",
          "text": [
            "������ ��θ� ã�� �� �����ϴ�.\n",
            "������ ��θ� ã�� �� �����ϴ�.\n",
            "������ ��θ� ã�� �� �����ϴ�.\n"
          ]
        }
      ],
      "source": [
        "import numpy as np\n",
        "import pandas as pd\n",
        "import seaborn as sns\n",
        "import matplotlib as mpl\n",
        "import matplotlib.pyplot as plt\n",
        "!apt-get install -y fonts-nanum > /dev/null\n",
        "!fc-cache -fv > /dev/null\n",
        "!rm -rf ~/.cache/matplotlib > /dev/null\n",
        "mpl.rcParams['axes.unicode_minus'] = False\n",
        "plt.rc('font', family = 'NanumBarunGothic')\n",
        "import warnings\n",
        "warnings.filterwarnings('ignore')"
      ]
    },
    {
      "cell_type": "code",
      "execution_count": 2,
      "metadata": {
        "id": "aW2jxoBp3aOQ"
      },
      "outputs": [],
      "source": [
        "import os\n",
        "import cv2\n",
        "from PIL import Image\n",
        "from tqdm import tqdm\n",
        "import tensorflow as tf\n",
        "from tensorflow import keras"
      ]
    },
    {
      "cell_type": "markdown",
      "metadata": {
        "id": "Ve00o1CW3aOQ"
      },
      "source": [
        "## 데이터 로드"
      ]
    },
    {
      "cell_type": "code",
      "execution_count": null,
      "metadata": {
        "colab": {
          "base_uri": "https://localhost:8080/"
        },
        "id": "lhcsftZZ_VWL",
        "outputId": "f39e939a-1e06-4efd-fc8e-d6b8758f99da"
      },
      "outputs": [],
      "source": [
        "from google.colab import drive\n",
        "drive.mount('/content/drive')"
      ]
    },
    {
      "cell_type": "code",
      "execution_count": 6,
      "metadata": {
        "colab": {
          "base_uri": "https://localhost:8080/"
        },
        "id": "wb_edCmK_VMk",
        "outputId": "c9dae3ca-e1ba-4da1-b64d-084a64d101a4"
      },
      "outputs": [
        {
          "name": "stdout",
          "output_type": "stream",
          "text": [
            "/content/drive/MyDrive/data/project02\n"
          ]
        }
      ],
      "source": [
        "# 경로 맞춰주세요\n",
        "cd /content/drive/MyDrive/data/project02"
      ]
    },
    {
      "cell_type": "code",
      "execution_count": 3,
      "metadata": {
        "colab": {
          "base_uri": "https://localhost:8080/"
        },
        "id": "U46pot6a3aOQ",
        "outputId": "ffda600f-a6c2-4968-855d-fb5cddc140ae"
      },
      "outputs": [
        {
          "name": "stdout",
          "output_type": "stream",
          "text": [
            "['X', 'Y']\n",
            "['X', 'Y']\n"
          ]
        }
      ],
      "source": [
        "# 경로 맞춰주세요\n",
        "train_npz = np.load('data/train_tomato.npz')\n",
        "test_npz = np.load('data/val_tomato.npz')\n",
        "print(list(train_npz))\n",
        "print(list(test_npz))"
      ]
    },
    {
      "cell_type": "code",
      "execution_count": 4,
      "metadata": {
        "id": "_RYxTVRX3aOQ"
      },
      "outputs": [],
      "source": [
        "X_train = train_npz['X']\n",
        "y_train = train_npz['Y']"
      ]
    },
    {
      "cell_type": "code",
      "execution_count": 5,
      "metadata": {
        "id": "-EBsx8xB8-OT"
      },
      "outputs": [],
      "source": [
        "X_val = test_npz['X']\n",
        "y_val = test_npz['Y']"
      ]
    },
    {
      "cell_type": "code",
      "execution_count": 6,
      "metadata": {
        "colab": {
          "base_uri": "https://localhost:8080/"
        },
        "id": "p78W5B4q3aOR",
        "outputId": "028db031-8071-4997-fd66-9416be6c4fcb"
      },
      "outputs": [
        {
          "name": "stdout",
          "output_type": "stream",
          "text": [
            "(1781, 255, 255, 3) 1781\n",
            "(1107, 255, 255, 3) 1107\n"
          ]
        }
      ],
      "source": [
        "print(np.shape(X_train), len(y_train))\n",
        "print(np.shape(X_val), len(y_val))"
      ]
    },
    {
      "cell_type": "code",
      "execution_count": 7,
      "metadata": {
        "colab": {
          "base_uri": "https://localhost:8080/"
        },
        "id": "ximoCHON3aOR",
        "outputId": "cdf76a81-c3bd-4fb7-a779-bb1476a26fa6"
      },
      "outputs": [
        {
          "data": {
            "text/plain": [
              "{0.0: 1000, 1.0: 392, 2.0: 389}"
            ]
          },
          "execution_count": 7,
          "metadata": {},
          "output_type": "execute_result"
        }
      ],
      "source": [
        "# y데이터의 분할은 편향없이 잘 되었는가 확인작업\n",
        "\n",
        "unique, counts = np.unique(y_train, return_counts=True)\n",
        "\n",
        "unique_yt = dict(zip(unique, counts))\n",
        "unique_yt"
      ]
    },
    {
      "cell_type": "code",
      "execution_count": 8,
      "metadata": {
        "colab": {
          "base_uri": "https://localhost:8080/"
        },
        "id": "yfcxqGJF3aOR",
        "outputId": "8803f06c-e8c3-4aab-b51f-3f7a8e85fbb9"
      },
      "outputs": [
        {
          "data": {
            "text/plain": [
              "{0.0: 1000, 1.0: 51, 2.0: 56}"
            ]
          },
          "execution_count": 8,
          "metadata": {},
          "output_type": "execute_result"
        }
      ],
      "source": [
        "# y데이터의 분할은 편향없이 잘 되었는가 확인작업\n",
        "\n",
        "unique, counts = np.unique(y_val, return_counts=True)\n",
        "\n",
        "unique_yv = dict(zip(unique, counts))\n",
        "unique_yv"
      ]
    },
    {
      "cell_type": "markdown",
      "metadata": {},
      "source": [
        "# 5. CNN\n",
        "- 컨볼루션 신경망\n",
        "- 컴퓨터 비전 (Computer Vision) 에서 사용\n",
        "- 텍스트, 시계열 데이터 등에서도 성능 좋음\n",
        "- 오버피팅 회피\n",
        "    - 규제화 함수\n",
        "        - 가중치 감쇠 (Weight Decay)\n",
        "        - 모델 복잡도 제한\n",
        "        - L1, L2 노름, 엘라스틱 넷 (Elastic Net)\n",
        "        - 기능에 맞춰 가중치 합 구해 손실 함수에 더함\n",
        "        - tensorflow.keras.regularizers.l1(l = 0.01) : 가중치 절대값 합 (릿지)\n",
        "        - tensorflow.keras.regularizers.l2(l = 0.01) : 가중치 제곱값 합 (라쏘)\n",
        "        - tensorflow.keras.regularizers.l1_l2(l1 = 0.01, l2 = 0.01) : 가중치 절대값 합 (릿지) + 가중치 제곱값 합 (라쏘) = (엘라스틱 넷)\n",
        "    - 드롭 아웃\n",
        "        - 학습 진행 중 신경망 일부 유닛 제외\n",
        "        - 테스트 중 작동 하지 않고 모든 유닛 활성화\n",
        "        - 출력을 드롭 아웃 비율만큼 제외\n",
        "        - 드롭 아웃 비율 0.2 ~ 0.5\n",
        "    - 배치 정규화\n",
        "        - 드롭 아웃과 비교\n",
        "        - 내부 공선성 (Internal Covariance Shift) 해결 방법\n",
        "        - 출력값 범위 제한 -> 불확실성 감소 목적\n",
        "        - 그래디언트 손실, 폭주 없이 높은 학습률 사용 가능\n",
        "        - 자체적 규제화 효과 포함\n",
        "        - Dense or Conv2D -> BatchNormalization() -> Activation()"
      ]
    },
    {
      "cell_type": "code",
      "execution_count": null,
      "metadata": {},
      "outputs": [],
      "source": [
        "from tensorflow.keras.models import Sequential\n",
        "from tensorflow.keras.layers import Conv2D, MaxPool2D, Dense, Flatten\n",
        "from tensorflow.keras.layers import Dropout, Activation, BatchNormalization\n",
        "from tensorflow.keras.optimizers import Adam\n",
        "from tensorflow.keras.regularizers import l2\n",
        "from tensorflow.keras.regularizers import l1_l2\n",
        "model = Sequential()\n",
        "# (255, 255, 3)\n",
        "model.add(Conv2D(filters = 32, kernel_size = 3, padding = 'same',\n",
        "                 input_shape = (255, 255, 3)))\n",
        "model.add(BatchNormalization())\n",
        "model.add(Activation('relu'))\n",
        "\n",
        "model.add(Conv2D(filters = 32, kernel_size = 3, padding = 'same',\n",
        "                 kernel_regularizer = l1_l2(0.001)))\n",
        "model.add(BatchNormalization())\n",
        "model.add(Activation('relu'))\n",
        "model.add(MaxPool2D(pool_size = (2, 2), strides = 2, padding = 'same'))\n",
        "model.add(Dropout(0.2))\n",
        "\n",
        "model.add(Conv2D(filters = 64, kernel_size = 3, padding = 'same',\n",
        "                 kernel_regularizer = l1_l2(0.001)))\n",
        "model.add(BatchNormalization())\n",
        "model.add(Activation('relu'))\n",
        "model.add(Conv2D(filters = 64, kernel_size = 3, padding = 'same',\n",
        "                 kernel_regularizer = l1_l2(0.001)))\n",
        "model.add(BatchNormalization())\n",
        "model.add(Activation('relu'))\n",
        "model.add(MaxPool2D(pool_size = (2, 2), strides = 2, padding = 'same'))\n",
        "model.add(Dropout(0.2))\n",
        "\n",
        "model.add(Conv2D(filters = 128, kernel_size = 3, padding = 'same',\n",
        "                 kernel_regularizer = l1_l2(0.001)))\n",
        "model.add(BatchNormalization())\n",
        "model.add(Activation('relu'))\n",
        "model.add(Conv2D(filters = 128, kernel_size = 3, padding = 'same',\n",
        "                 kernel_regularizer = l1_l2(0.001)))\n",
        "model.add(BatchNormalization())\n",
        "model.add(Activation('relu'))\n",
        "model.add(MaxPool2D(pool_size = (2, 2), strides = 2, padding = 'same'))\n",
        "model.add(Dropout(0.2))\n",
        "\n",
        "model.add(Conv2D(filters = 64, kernel_size = 3, padding = 'same',\n",
        "                 kernel_regularizer = l1_l2(0.001)))\n",
        "model.add(BatchNormalization())\n",
        "model.add(Activation('relu'))\n",
        "model.add(Conv2D(filters = 64, kernel_size = 3, padding = 'same',\n",
        "                 kernel_regularizer = l1_l2(0.001)))\n",
        "model.add(BatchNormalization())\n",
        "model.add(Activation('relu'))\n",
        "model.add(MaxPool2D(pool_size = (2, 2), strides = 2, padding = 'same'))\n",
        "model.add(Dropout(0.2))\n",
        "\n",
        "model.add(Conv2D(filters = 32, kernel_size = 3, padding = 'same',\n",
        "                 kernel_regularizer = l1_l2(0.001)))\n",
        "model.add(BatchNormalization())\n",
        "model.add(Activation('relu'))\n",
        "model.add(Conv2D(filters = 32, kernel_size = 3, padding = 'same',\n",
        "                 kernel_regularizer = l1_l2(0.001)))\n",
        "model.add(BatchNormalization())\n",
        "model.add(Activation('relu'))\n",
        "model.add(MaxPool2D(pool_size = (2, 2), strides = 2, padding = 'same'))\n",
        "model.add(Dropout(0.2))\n",
        "\n",
        "model.add(Conv2D(filters = 128, kernel_size = 3, padding = 'same',\n",
        "                 kernel_regularizer = l1_l2(0.001)))\n",
        "model.add(BatchNormalization())\n",
        "model.add(Activation('relu'))\n",
        "model.add(Conv2D(filters = 128, kernel_size = 3, padding = 'same',\n",
        "                 kernel_regularizer = l1_l2(0.001)))\n",
        "model.add(BatchNormalization())\n",
        "model.add(Activation('relu'))\n",
        "model.add(MaxPool2D(pool_size = (2, 2), strides = 2, padding = 'same'))\n",
        "model.add(Dropout(0.2))\n",
        "\n",
        "\n",
        "model.add(Flatten())\n",
        "model.add(Dense(256, kernel_regularizer = l1_l2(0.001)))\n",
        "model.add(BatchNormalization())\n",
        "model.add(Activation('relu'))\n",
        "model.add(Dense(3, activation = 'softmax'))"
      ]
    },
    {
      "cell_type": "code",
      "execution_count": null,
      "metadata": {},
      "outputs": [],
      "source": [
        "model.summary()"
      ]
    },
    {
      "cell_type": "code",
      "execution_count": null,
      "metadata": {},
      "outputs": [],
      "source": [
        "from tensorflow.keras.callbacks import EarlyStopping, ModelCheckpoint\n",
        "#es = EarlyStopping(monitor='val_loss', mode='min', verbose=1, patience=10)\n",
        "mc = ModelCheckpoint('data/model/cucumber_best.h5', monitor='val_acc', mode='max', verbose=1, save_best_only=True)\n",
        "# es : 검증 데이터 손실(val_loss)이 증가하면, 과적합 징후므로 검증 데이터 손실이 10회 증가하면 학습을 조기 종료(Early Stopping)합니다. \n",
        "# mc : 또한, ModelCheckpoint를 사용하여 검증 데이터의 정확도(val_acc)가 이전보다 좋아질 경우에만 모델을 저장합니다."
      ]
    },
    {
      "cell_type": "code",
      "execution_count": null,
      "metadata": {},
      "outputs": [],
      "source": [
        "model.compile(\n",
        "    optimizer = Adam(1e-4),\n",
        "    loss = 'sparse_categorical_crossentropy',\n",
        "    metrics = ['acc']\n",
        ")"
      ]
    },
    {
      "cell_type": "code",
      "execution_count": null,
      "metadata": {},
      "outputs": [],
      "source": [
        "history = model.fit(\n",
        "    X_train, y_train,\n",
        "    epochs = 80,\n",
        "    batch_size = 32,\n",
        "    callbacks=[mc],\n",
        "    validation_data = (X_val, y_val)\n",
        ")"
      ]
    },
    {
      "cell_type": "code",
      "execution_count": null,
      "metadata": {},
      "outputs": [],
      "source": []
    },
    {
      "cell_type": "markdown",
      "metadata": {},
      "source": [
        "# 그래프"
      ]
    },
    {
      "cell_type": "code",
      "execution_count": null,
      "metadata": {},
      "outputs": [],
      "source": [
        "his_dict = history.history\n",
        "loss = his_dict['loss']\n",
        "val_loss = his_dict['val_loss'] \n",
        "epochs = range(1, len(loss) + 1)\n",
        "fig = plt.figure(figsize = (10, 5))\n",
        "# 훈련, 검증 손실\n",
        "ax1 = fig.add_subplot(1, 2, 1)\n",
        "ax1.plot(epochs, loss, color = 'blue', label = 'train_loss')\n",
        "ax1.plot(epochs, val_loss, color = 'orange', label = 'val_loss')\n",
        "ax1.set_title('train and val loss')\n",
        "ax1.set_xlabel('epochs')\n",
        "ax1.set_ylabel('loss')\n",
        "ax1.legend()\n",
        "acc = his_dict['acc']\n",
        "val_acc = his_dict['val_acc']\n",
        "# 훈련, 검증 정확도\n",
        "ax2 = fig.add_subplot(1, 2, 2)\n",
        "ax2.plot(epochs, acc, color = 'blue', label = 'train_acc')\n",
        "ax2.plot(epochs, val_acc, color = 'orange', label = 'val_acc')\n",
        "ax2.set_title('train and val acc')\n",
        "ax2.set_xlabel('epochs')\n",
        "ax2.set_ylabel('acc')\n",
        "ax2.legend()\n",
        "plt.show()"
      ]
    },
    {
      "cell_type": "code",
      "execution_count": null,
      "metadata": {},
      "outputs": [],
      "source": [
        "from tensorflow.keras.models import load_model\n",
        "loaded_model = load_model('data/model/best_model.h5')\n",
        "print(\"\\n 테스트 정확도: %.4f\" % (loaded_model.evaluate(X_val, y_val)[1]))"
      ]
    }
  ],
  "metadata": {
    "accelerator": "TPU",
    "colab": {
      "collapsed_sections": [],
      "machine_shape": "hm",
      "name": "13_로컬_오이질병구분_서동규.ipynb",
      "provenance": []
    },
    "interpreter": {
      "hash": "b3ba2566441a7c06988d0923437866b63cedc61552a5af99d1f4fb67d367b25f"
    },
    "kernelspec": {
      "display_name": "Python 3.8.11 64-bit ('base': conda)",
      "name": "python3"
    },
    "language_info": {
      "codemirror_mode": {
        "name": "ipython",
        "version": 3
      },
      "file_extension": ".py",
      "mimetype": "text/x-python",
      "name": "python",
      "nbconvert_exporter": "python",
      "pygments_lexer": "ipython3",
      "version": "3.8.11"
    },
    "orig_nbformat": 4
  },
  "nbformat": 4,
  "nbformat_minor": 0
}
