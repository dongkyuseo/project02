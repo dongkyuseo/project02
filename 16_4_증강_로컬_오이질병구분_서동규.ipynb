{
  "cells": [
    {
      "cell_type": "markdown",
      "metadata": {
        "id": "r2m1RshB3aNo"
      },
      "source": [
        "# 병충해 분석 AI 프로젝트"
      ]
    },
    {
      "cell_type": "code",
      "execution_count": 1,
      "metadata": {
        "id": "5Tvj7ePMuiJU",
        "outputId": "602d4a93-04ab-46e8-ff82-f6ade2240908"
      },
      "outputs": [
        {
          "name": "stderr",
          "output_type": "stream",
          "text": [
            "������ ��θ� ã�� �� �����ϴ�.\n",
            "������ ��θ� ã�� �� �����ϴ�.\n",
            "������ ��θ� ã�� �� �����ϴ�.\n"
          ]
        }
      ],
      "source": [
        "import numpy as np\n",
        "import pandas as pd\n",
        "import seaborn as sns\n",
        "import matplotlib as mpl\n",
        "import matplotlib.pyplot as plt\n",
        "!apt-get install -y fonts-nanum > /dev/null\n",
        "!fc-cache -fv > /dev/null\n",
        "!rm -rf ~/.cache/matplotlib > /dev/null\n",
        "mpl.rcParams['axes.unicode_minus'] = False\n",
        "plt.rc('font', family = 'NanumBarunGothic')\n",
        "import warnings\n",
        "warnings.filterwarnings('ignore')"
      ]
    },
    {
      "cell_type": "code",
      "execution_count": 2,
      "metadata": {
        "id": "HphTAmsRujLj"
      },
      "outputs": [],
      "source": [
        "import os\n",
        "import cv2\n",
        "from PIL import Image\n",
        "from tqdm import tqdm\n",
        "import tensorflow as tf\n",
        "from tensorflow import keras"
      ]
    },
    {
      "cell_type": "code",
      "execution_count": null,
      "metadata": {
        "colab": {
          "base_uri": "https://localhost:8080/"
        },
        "id": "Fzc-UD9dujrs",
        "outputId": "fe5b7a20-7ab9-4b90-bc79-be8d7b679b97"
      },
      "outputs": [
        {
          "name": "stdout",
          "output_type": "stream",
          "text": [
            "Mounted at /content/drive\n"
          ]
        }
      ],
      "source": [
        "from google.colab import drive\n",
        "drive.mount('/content/drive')"
      ]
    },
    {
      "cell_type": "code",
      "execution_count": null,
      "metadata": {
        "colab": {
          "base_uri": "https://localhost:8080/"
        },
        "id": "nDjsFa6tukzT",
        "outputId": "c14f3ff6-ed56-4c7f-fb91-5de835624025"
      },
      "outputs": [
        {
          "name": "stdout",
          "output_type": "stream",
          "text": [
            "/content/drive/MyDrive/data/project02\n"
          ]
        }
      ],
      "source": [
        "cd /content/drive/MyDrive/data/project02"
      ]
    },
    {
      "cell_type": "markdown",
      "metadata": {
        "id": "3kKHu9gP3aNu"
      },
      "source": [
        "## 1. 파일읽기"
      ]
    },
    {
      "cell_type": "code",
      "execution_count": 3,
      "metadata": {
        "colab": {
          "base_uri": "https://localhost:8080/"
        },
        "id": "0AT_HPle3aNw",
        "outputId": "15d65f68-cf43-4584-b649-2a5881738d3b"
      },
      "outputs": [
        {
          "name": "stdout",
          "output_type": "stream",
          "text": [
            "end\n"
          ]
        }
      ],
      "source": [
        "import numpy as np\n",
        "import pandas as pd\n",
        "import os\n",
        "\n",
        "\n",
        "train_csv = pd.read_csv('data/train_df_csv.csv')\n",
        "val_csv = pd.read_csv('data/val_df_csv.csv')\n",
        "\n",
        "print('end')"
      ]
    },
    {
      "cell_type": "markdown",
      "metadata": {
        "id": "J9v-bOrXug9s"
      },
      "source": [
        "# for문으로 각 작물당 2000개씩 샘플 묶기\n",
        "- 1 고추\n",
        "- 2 무\n",
        "- 3 배추\n",
        "- 4 애호박 삭제\n",
        "- 5 양배추\n",
        "- 6 오이\n",
        "- 7 토마토\n",
        "- 8 콩\n",
        "- 9 파\n",
        "- 10 호박 삭제\n",
        "\n",
        "> 총 8개의 작물 (곤충과 겹치는 작물)\n"
      ]
    },
    {
      "cell_type": "code",
      "execution_count": 4,
      "metadata": {
        "colab": {
          "base_uri": "https://localhost:8080/",
          "height": 419
        },
        "id": "UjznFz2hug9t",
        "outputId": "e9100b4c-b4c6-4ede-d652-cc76b1ccc7f9"
      },
      "outputs": [
        {
          "data": {
            "text/html": [
              "<div>\n",
              "<style scoped>\n",
              "    .dataframe tbody tr th:only-of-type {\n",
              "        vertical-align: middle;\n",
              "    }\n",
              "\n",
              "    .dataframe tbody tr th {\n",
              "        vertical-align: top;\n",
              "    }\n",
              "\n",
              "    .dataframe thead th {\n",
              "        text-align: right;\n",
              "    }\n",
              "</style>\n",
              "<table border=\"1\" class=\"dataframe\">\n",
              "  <thead>\n",
              "    <tr style=\"text-align: right;\">\n",
              "      <th></th>\n",
              "      <th>image</th>\n",
              "      <th>disease</th>\n",
              "      <th>crop</th>\n",
              "      <th>grow</th>\n",
              "      <th>risk</th>\n",
              "      <th>points</th>\n",
              "      <th>name</th>\n",
              "    </tr>\n",
              "  </thead>\n",
              "  <tbody>\n",
              "    <tr>\n",
              "      <th>0</th>\n",
              "      <td>V006_79_0_00_01_01_13_0_a01_20201102_0000_S01_...</td>\n",
              "      <td>0</td>\n",
              "      <td>1</td>\n",
              "      <td>13</td>\n",
              "      <td>0</td>\n",
              "      <td>[{'xtl': 1118, 'ytl': 1294, 'xbr': 2900, 'ybr'...</td>\n",
              "      <td>고추_0.정상</td>\n",
              "    </tr>\n",
              "    <tr>\n",
              "      <th>1</th>\n",
              "      <td>V006_79_0_00_01_01_13_0_a01_20201102_0002_S01_...</td>\n",
              "      <td>0</td>\n",
              "      <td>1</td>\n",
              "      <td>13</td>\n",
              "      <td>0</td>\n",
              "      <td>[{'xtl': 1033, 'ytl': 1533, 'xbr': 2829, 'ybr'...</td>\n",
              "      <td>고추_0.정상</td>\n",
              "    </tr>\n",
              "    <tr>\n",
              "      <th>2</th>\n",
              "      <td>V006_79_0_00_01_01_13_0_a01_20201103_0001_S01_...</td>\n",
              "      <td>0</td>\n",
              "      <td>1</td>\n",
              "      <td>13</td>\n",
              "      <td>0</td>\n",
              "      <td>[{'xtl': 484, 'ytl': 1227, 'xbr': 3879, 'ybr':...</td>\n",
              "      <td>고추_0.정상</td>\n",
              "    </tr>\n",
              "    <tr>\n",
              "      <th>3</th>\n",
              "      <td>V006_79_0_00_01_01_13_0_a01_20201103_0003_S01_...</td>\n",
              "      <td>0</td>\n",
              "      <td>1</td>\n",
              "      <td>13</td>\n",
              "      <td>0</td>\n",
              "      <td>[{'xtl': 1241, 'ytl': 103, 'xbr': 2344, 'ybr':...</td>\n",
              "      <td>고추_0.정상</td>\n",
              "    </tr>\n",
              "    <tr>\n",
              "      <th>4</th>\n",
              "      <td>V006_79_0_00_01_01_13_0_a05_20201111_0000_S01_...</td>\n",
              "      <td>0</td>\n",
              "      <td>1</td>\n",
              "      <td>13</td>\n",
              "      <td>0</td>\n",
              "      <td>[{'xtl': 1382, 'ytl': 978, 'xbr': 3226, 'ybr':...</td>\n",
              "      <td>고추_0.정상</td>\n",
              "    </tr>\n",
              "    <tr>\n",
              "      <th>...</th>\n",
              "      <td>...</td>\n",
              "      <td>...</td>\n",
              "      <td>...</td>\n",
              "      <td>...</td>\n",
              "      <td>...</td>\n",
              "      <td>...</td>\n",
              "      <td>...</td>\n",
              "    </tr>\n",
              "    <tr>\n",
              "      <th>14434</th>\n",
              "      <td>V006_79_1_18_09_03_13_1_0819e_20201117_133.jpg</td>\n",
              "      <td>18</td>\n",
              "      <td>9</td>\n",
              "      <td>13</td>\n",
              "      <td>1</td>\n",
              "      <td>[{'xtl': 135, 'ytl': 0, 'xbr': 875, 'ybr': 961}]</td>\n",
              "      <td>파_1.질병</td>\n",
              "    </tr>\n",
              "    <tr>\n",
              "      <th>14435</th>\n",
              "      <td>V006_79_1_18_09_03_13_1_0819e_20201117_134.jpg</td>\n",
              "      <td>18</td>\n",
              "      <td>9</td>\n",
              "      <td>13</td>\n",
              "      <td>1</td>\n",
              "      <td>[{'xtl': 293, 'ytl': 0, 'xbr': 520, 'ybr': 961}]</td>\n",
              "      <td>파_1.질병</td>\n",
              "    </tr>\n",
              "    <tr>\n",
              "      <th>14436</th>\n",
              "      <td>V006_79_1_18_09_03_13_1_0819e_20201118_137.jpg</td>\n",
              "      <td>18</td>\n",
              "      <td>9</td>\n",
              "      <td>13</td>\n",
              "      <td>1</td>\n",
              "      <td>[{'xtl': 2, 'ytl': 0, 'xbr': 722, 'ybr': 878}]</td>\n",
              "      <td>파_1.질병</td>\n",
              "    </tr>\n",
              "    <tr>\n",
              "      <th>14437</th>\n",
              "      <td>V006_79_1_18_09_03_13_1_0819e_20201118_139.jpg</td>\n",
              "      <td>18</td>\n",
              "      <td>9</td>\n",
              "      <td>13</td>\n",
              "      <td>1</td>\n",
              "      <td>[{'xtl': 192, 'ytl': 0, 'xbr': 636, 'ybr': 961}]</td>\n",
              "      <td>파_1.질병</td>\n",
              "    </tr>\n",
              "    <tr>\n",
              "      <th>14438</th>\n",
              "      <td>V006_79_1_18_09_03_13_1_0819e_20201118_140.jpg</td>\n",
              "      <td>18</td>\n",
              "      <td>9</td>\n",
              "      <td>13</td>\n",
              "      <td>1</td>\n",
              "      <td>[{'xtl': 294, 'ytl': 0, 'xbr': 961, 'ybr': 961}]</td>\n",
              "      <td>파_1.질병</td>\n",
              "    </tr>\n",
              "  </tbody>\n",
              "</table>\n",
              "<p>14439 rows × 7 columns</p>\n",
              "</div>"
            ],
            "text/plain": [
              "                                                   image  disease  crop  grow  \\\n",
              "0      V006_79_0_00_01_01_13_0_a01_20201102_0000_S01_...        0     1    13   \n",
              "1      V006_79_0_00_01_01_13_0_a01_20201102_0002_S01_...        0     1    13   \n",
              "2      V006_79_0_00_01_01_13_0_a01_20201103_0001_S01_...        0     1    13   \n",
              "3      V006_79_0_00_01_01_13_0_a01_20201103_0003_S01_...        0     1    13   \n",
              "4      V006_79_0_00_01_01_13_0_a05_20201111_0000_S01_...        0     1    13   \n",
              "...                                                  ...      ...   ...   ...   \n",
              "14434     V006_79_1_18_09_03_13_1_0819e_20201117_133.jpg       18     9    13   \n",
              "14435     V006_79_1_18_09_03_13_1_0819e_20201117_134.jpg       18     9    13   \n",
              "14436     V006_79_1_18_09_03_13_1_0819e_20201118_137.jpg       18     9    13   \n",
              "14437     V006_79_1_18_09_03_13_1_0819e_20201118_139.jpg       18     9    13   \n",
              "14438     V006_79_1_18_09_03_13_1_0819e_20201118_140.jpg       18     9    13   \n",
              "\n",
              "       risk                                             points     name  \n",
              "0         0  [{'xtl': 1118, 'ytl': 1294, 'xbr': 2900, 'ybr'...  고추_0.정상  \n",
              "1         0  [{'xtl': 1033, 'ytl': 1533, 'xbr': 2829, 'ybr'...  고추_0.정상  \n",
              "2         0  [{'xtl': 484, 'ytl': 1227, 'xbr': 3879, 'ybr':...  고추_0.정상  \n",
              "3         0  [{'xtl': 1241, 'ytl': 103, 'xbr': 2344, 'ybr':...  고추_0.정상  \n",
              "4         0  [{'xtl': 1382, 'ytl': 978, 'xbr': 3226, 'ybr':...  고추_0.정상  \n",
              "...     ...                                                ...      ...  \n",
              "14434     1   [{'xtl': 135, 'ytl': 0, 'xbr': 875, 'ybr': 961}]   파_1.질병  \n",
              "14435     1   [{'xtl': 293, 'ytl': 0, 'xbr': 520, 'ybr': 961}]   파_1.질병  \n",
              "14436     1     [{'xtl': 2, 'ytl': 0, 'xbr': 722, 'ybr': 878}]   파_1.질병  \n",
              "14437     1   [{'xtl': 192, 'ytl': 0, 'xbr': 636, 'ybr': 961}]   파_1.질병  \n",
              "14438     1   [{'xtl': 294, 'ytl': 0, 'xbr': 961, 'ybr': 961}]   파_1.질병  \n",
              "\n",
              "[14439 rows x 7 columns]"
            ]
          },
          "execution_count": 4,
          "metadata": {},
          "output_type": "execute_result"
        }
      ],
      "source": [
        "tc = train_csv[['image', 'disease', 'crop', 'grow', 'risk', 'points', 'name']]\n",
        "tc"
      ]
    },
    {
      "cell_type": "code",
      "execution_count": 5,
      "metadata": {},
      "outputs": [
        {
          "data": {
            "text/html": [
              "<div>\n",
              "<style scoped>\n",
              "    .dataframe tbody tr th:only-of-type {\n",
              "        vertical-align: middle;\n",
              "    }\n",
              "\n",
              "    .dataframe tbody tr th {\n",
              "        vertical-align: top;\n",
              "    }\n",
              "\n",
              "    .dataframe thead th {\n",
              "        text-align: right;\n",
              "    }\n",
              "</style>\n",
              "<table border=\"1\" class=\"dataframe\">\n",
              "  <thead>\n",
              "    <tr style=\"text-align: right;\">\n",
              "      <th></th>\n",
              "      <th>image</th>\n",
              "      <th>disease</th>\n",
              "      <th>crop</th>\n",
              "      <th>grow</th>\n",
              "      <th>risk</th>\n",
              "      <th>points</th>\n",
              "      <th>name</th>\n",
              "    </tr>\n",
              "  </thead>\n",
              "  <tbody>\n",
              "    <tr>\n",
              "      <th>7183</th>\n",
              "      <td>V006_79_0_00_06_01_13_0_b02_20201014_0000_S01_...</td>\n",
              "      <td>0</td>\n",
              "      <td>6</td>\n",
              "      <td>13</td>\n",
              "      <td>0</td>\n",
              "      <td>[{'xtl': 548, 'ytl': 1022, 'xbr': 3760, 'ybr':...</td>\n",
              "      <td>오이_0.정상</td>\n",
              "    </tr>\n",
              "    <tr>\n",
              "      <th>7184</th>\n",
              "      <td>V006_79_0_00_06_01_13_0_b02_20201014_0001_S01_...</td>\n",
              "      <td>0</td>\n",
              "      <td>6</td>\n",
              "      <td>13</td>\n",
              "      <td>0</td>\n",
              "      <td>[{'xtl': 470, 'ytl': 1431, 'xbr': 3235, 'ybr':...</td>\n",
              "      <td>오이_0.정상</td>\n",
              "    </tr>\n",
              "    <tr>\n",
              "      <th>7185</th>\n",
              "      <td>V006_79_0_00_06_01_13_0_b02_20201014_0002_S01_...</td>\n",
              "      <td>0</td>\n",
              "      <td>6</td>\n",
              "      <td>13</td>\n",
              "      <td>0</td>\n",
              "      <td>[{'xtl': 440, 'ytl': 1041, 'xbr': 3486, 'ybr':...</td>\n",
              "      <td>오이_0.정상</td>\n",
              "    </tr>\n",
              "    <tr>\n",
              "      <th>7186</th>\n",
              "      <td>V006_79_0_00_06_01_13_0_b02_20201014_0003_S01_...</td>\n",
              "      <td>0</td>\n",
              "      <td>6</td>\n",
              "      <td>13</td>\n",
              "      <td>0</td>\n",
              "      <td>[{'xtl': 768, 'ytl': 1260, 'xbr': 3050, 'ybr':...</td>\n",
              "      <td>오이_0.정상</td>\n",
              "    </tr>\n",
              "    <tr>\n",
              "      <th>7187</th>\n",
              "      <td>V006_79_0_00_06_01_13_0_b02_20201014_0004_S01_...</td>\n",
              "      <td>0</td>\n",
              "      <td>6</td>\n",
              "      <td>13</td>\n",
              "      <td>0</td>\n",
              "      <td>[{'xtl': 736, 'ytl': 1194, 'xbr': 3473, 'ybr':...</td>\n",
              "      <td>오이_0.정상</td>\n",
              "    </tr>\n",
              "    <tr>\n",
              "      <th>...</th>\n",
              "      <td>...</td>\n",
              "      <td>...</td>\n",
              "      <td>...</td>\n",
              "      <td>...</td>\n",
              "      <td>...</td>\n",
              "      <td>...</td>\n",
              "      <td>...</td>\n",
              "    </tr>\n",
              "    <tr>\n",
              "      <th>8959</th>\n",
              "      <td>V006_79_1_12_06_03_13_3_7390w_20201207_56.jpeg</td>\n",
              "      <td>12</td>\n",
              "      <td>6</td>\n",
              "      <td>13</td>\n",
              "      <td>3</td>\n",
              "      <td>[{'xtl': 545, 'ytl': 432, 'xbr': 2905, 'ybr': ...</td>\n",
              "      <td>오이_1.질병</td>\n",
              "    </tr>\n",
              "    <tr>\n",
              "      <th>8960</th>\n",
              "      <td>V006_79_1_12_06_03_13_3_7390w_20201207_6.jpeg</td>\n",
              "      <td>12</td>\n",
              "      <td>6</td>\n",
              "      <td>13</td>\n",
              "      <td>3</td>\n",
              "      <td>[{'xtl': 929, 'ytl': 268, 'xbr': 3209, 'ybr': ...</td>\n",
              "      <td>오이_1.질병</td>\n",
              "    </tr>\n",
              "    <tr>\n",
              "      <th>8961</th>\n",
              "      <td>V006_79_1_12_06_03_13_3_7390w_20201207_61.jpeg</td>\n",
              "      <td>12</td>\n",
              "      <td>6</td>\n",
              "      <td>13</td>\n",
              "      <td>3</td>\n",
              "      <td>[{'xtl': 533, 'ytl': 232, 'xbr': 2761, 'ybr': ...</td>\n",
              "      <td>오이_1.질병</td>\n",
              "    </tr>\n",
              "    <tr>\n",
              "      <th>8962</th>\n",
              "      <td>V006_79_1_12_06_05_13_1_0502bb_20201102_2.jpeg</td>\n",
              "      <td>12</td>\n",
              "      <td>6</td>\n",
              "      <td>13</td>\n",
              "      <td>1</td>\n",
              "      <td>[{'xtl': 1135, 'ytl': 838, 'xbr': 3008, 'ybr':...</td>\n",
              "      <td>오이_1.질병</td>\n",
              "    </tr>\n",
              "    <tr>\n",
              "      <th>8963</th>\n",
              "      <td>V006_79_1_12_06_05_13_1_0502bb_20201102_3.jpeg</td>\n",
              "      <td>12</td>\n",
              "      <td>6</td>\n",
              "      <td>13</td>\n",
              "      <td>1</td>\n",
              "      <td>[{'xtl': 1546, 'ytl': 277, 'xbr': 3729, 'ybr':...</td>\n",
              "      <td>오이_1.질병</td>\n",
              "    </tr>\n",
              "  </tbody>\n",
              "</table>\n",
              "<p>1781 rows × 7 columns</p>\n",
              "</div>"
            ],
            "text/plain": [
              "                                                  image  disease  crop  grow  \\\n",
              "7183  V006_79_0_00_06_01_13_0_b02_20201014_0000_S01_...        0     6    13   \n",
              "7184  V006_79_0_00_06_01_13_0_b02_20201014_0001_S01_...        0     6    13   \n",
              "7185  V006_79_0_00_06_01_13_0_b02_20201014_0002_S01_...        0     6    13   \n",
              "7186  V006_79_0_00_06_01_13_0_b02_20201014_0003_S01_...        0     6    13   \n",
              "7187  V006_79_0_00_06_01_13_0_b02_20201014_0004_S01_...        0     6    13   \n",
              "...                                                 ...      ...   ...   ...   \n",
              "8959     V006_79_1_12_06_03_13_3_7390w_20201207_56.jpeg       12     6    13   \n",
              "8960      V006_79_1_12_06_03_13_3_7390w_20201207_6.jpeg       12     6    13   \n",
              "8961     V006_79_1_12_06_03_13_3_7390w_20201207_61.jpeg       12     6    13   \n",
              "8962     V006_79_1_12_06_05_13_1_0502bb_20201102_2.jpeg       12     6    13   \n",
              "8963     V006_79_1_12_06_05_13_1_0502bb_20201102_3.jpeg       12     6    13   \n",
              "\n",
              "      risk                                             points     name  \n",
              "7183     0  [{'xtl': 548, 'ytl': 1022, 'xbr': 3760, 'ybr':...  오이_0.정상  \n",
              "7184     0  [{'xtl': 470, 'ytl': 1431, 'xbr': 3235, 'ybr':...  오이_0.정상  \n",
              "7185     0  [{'xtl': 440, 'ytl': 1041, 'xbr': 3486, 'ybr':...  오이_0.정상  \n",
              "7186     0  [{'xtl': 768, 'ytl': 1260, 'xbr': 3050, 'ybr':...  오이_0.정상  \n",
              "7187     0  [{'xtl': 736, 'ytl': 1194, 'xbr': 3473, 'ybr':...  오이_0.정상  \n",
              "...    ...                                                ...      ...  \n",
              "8959     3  [{'xtl': 545, 'ytl': 432, 'xbr': 2905, 'ybr': ...  오이_1.질병  \n",
              "8960     3  [{'xtl': 929, 'ytl': 268, 'xbr': 3209, 'ybr': ...  오이_1.질병  \n",
              "8961     3  [{'xtl': 533, 'ytl': 232, 'xbr': 2761, 'ybr': ...  오이_1.질병  \n",
              "8962     1  [{'xtl': 1135, 'ytl': 838, 'xbr': 3008, 'ybr':...  오이_1.질병  \n",
              "8963     1  [{'xtl': 1546, 'ytl': 277, 'xbr': 3729, 'ybr':...  오이_1.질병  \n",
              "\n",
              "[1781 rows x 7 columns]"
            ]
          },
          "execution_count": 5,
          "metadata": {},
          "output_type": "execute_result"
        }
      ],
      "source": [
        "train_csv[train_csv['crop']==6]"
      ]
    },
    {
      "cell_type": "code",
      "execution_count": 6,
      "metadata": {
        "id": "d-kNZKUOug9t"
      },
      "outputs": [],
      "source": [
        "tc = train_csv[['image', 'disease', 'crop', 'grow', 'risk', 'points', 'name']]\n",
        "df = pd.DataFrame(index=range(0,), columns=['image', 'disease', 'crop', 'grow', 'risk', 'points', 'name'])\n",
        "# [] 안에 작물 코드 넣기\n",
        "for i in [6]:\n",
        "    for k in range(19):\n",
        "        if k == 0:\n",
        "            tmp = tc[(tc['crop'] == i)&(tc['disease'] == k)][:1000]\n",
        "            df = pd.concat([df, tmp])\n",
        "        else:\n",
        "            tmp = tc[(tc['crop'] == i)&(tc['disease'] == k)][:1000]\n",
        "            df = pd.concat([df, tmp])\n",
        "\n",
        "\n",
        "train_df = df"
      ]
    },
    {
      "cell_type": "code",
      "execution_count": 7,
      "metadata": {
        "id": "mpQ5PGivug9t"
      },
      "outputs": [],
      "source": [
        "train_df = train_df[['image', 'disease', 'crop', 'grow', 'risk']]\n",
        "train_df.reset_index(drop=True, inplace=True)"
      ]
    },
    {
      "cell_type": "code",
      "execution_count": 8,
      "metadata": {
        "colab": {
          "base_uri": "https://localhost:8080/",
          "height": 419
        },
        "id": "5nhYfCx5zErB",
        "outputId": "a2163d68-3078-4c1a-a58b-d84f3502ec3d"
      },
      "outputs": [
        {
          "data": {
            "text/html": [
              "<div>\n",
              "<style scoped>\n",
              "    .dataframe tbody tr th:only-of-type {\n",
              "        vertical-align: middle;\n",
              "    }\n",
              "\n",
              "    .dataframe tbody tr th {\n",
              "        vertical-align: top;\n",
              "    }\n",
              "\n",
              "    .dataframe thead th {\n",
              "        text-align: right;\n",
              "    }\n",
              "</style>\n",
              "<table border=\"1\" class=\"dataframe\">\n",
              "  <thead>\n",
              "    <tr style=\"text-align: right;\">\n",
              "      <th></th>\n",
              "      <th>image</th>\n",
              "      <th>disease</th>\n",
              "      <th>crop</th>\n",
              "      <th>grow</th>\n",
              "      <th>risk</th>\n",
              "    </tr>\n",
              "  </thead>\n",
              "  <tbody>\n",
              "    <tr>\n",
              "      <th>0</th>\n",
              "      <td>V006_79_0_00_06_01_13_0_b02_20201014_0000_S01_...</td>\n",
              "      <td>0</td>\n",
              "      <td>6</td>\n",
              "      <td>13</td>\n",
              "      <td>0</td>\n",
              "    </tr>\n",
              "    <tr>\n",
              "      <th>1</th>\n",
              "      <td>V006_79_0_00_06_01_13_0_b02_20201014_0001_S01_...</td>\n",
              "      <td>0</td>\n",
              "      <td>6</td>\n",
              "      <td>13</td>\n",
              "      <td>0</td>\n",
              "    </tr>\n",
              "    <tr>\n",
              "      <th>2</th>\n",
              "      <td>V006_79_0_00_06_01_13_0_b02_20201014_0002_S01_...</td>\n",
              "      <td>0</td>\n",
              "      <td>6</td>\n",
              "      <td>13</td>\n",
              "      <td>0</td>\n",
              "    </tr>\n",
              "    <tr>\n",
              "      <th>3</th>\n",
              "      <td>V006_79_0_00_06_01_13_0_b02_20201014_0003_S01_...</td>\n",
              "      <td>0</td>\n",
              "      <td>6</td>\n",
              "      <td>13</td>\n",
              "      <td>0</td>\n",
              "    </tr>\n",
              "    <tr>\n",
              "      <th>4</th>\n",
              "      <td>V006_79_0_00_06_01_13_0_b02_20201014_0004_S01_...</td>\n",
              "      <td>0</td>\n",
              "      <td>6</td>\n",
              "      <td>13</td>\n",
              "      <td>0</td>\n",
              "    </tr>\n",
              "    <tr>\n",
              "      <th>...</th>\n",
              "      <td>...</td>\n",
              "      <td>...</td>\n",
              "      <td>...</td>\n",
              "      <td>...</td>\n",
              "      <td>...</td>\n",
              "    </tr>\n",
              "    <tr>\n",
              "      <th>1776</th>\n",
              "      <td>V006_79_1_12_06_03_13_3_7390w_20201207_56.jpeg</td>\n",
              "      <td>12</td>\n",
              "      <td>6</td>\n",
              "      <td>13</td>\n",
              "      <td>3</td>\n",
              "    </tr>\n",
              "    <tr>\n",
              "      <th>1777</th>\n",
              "      <td>V006_79_1_12_06_03_13_3_7390w_20201207_6.jpeg</td>\n",
              "      <td>12</td>\n",
              "      <td>6</td>\n",
              "      <td>13</td>\n",
              "      <td>3</td>\n",
              "    </tr>\n",
              "    <tr>\n",
              "      <th>1778</th>\n",
              "      <td>V006_79_1_12_06_03_13_3_7390w_20201207_61.jpeg</td>\n",
              "      <td>12</td>\n",
              "      <td>6</td>\n",
              "      <td>13</td>\n",
              "      <td>3</td>\n",
              "    </tr>\n",
              "    <tr>\n",
              "      <th>1779</th>\n",
              "      <td>V006_79_1_12_06_05_13_1_0502bb_20201102_2.jpeg</td>\n",
              "      <td>12</td>\n",
              "      <td>6</td>\n",
              "      <td>13</td>\n",
              "      <td>1</td>\n",
              "    </tr>\n",
              "    <tr>\n",
              "      <th>1780</th>\n",
              "      <td>V006_79_1_12_06_05_13_1_0502bb_20201102_3.jpeg</td>\n",
              "      <td>12</td>\n",
              "      <td>6</td>\n",
              "      <td>13</td>\n",
              "      <td>1</td>\n",
              "    </tr>\n",
              "  </tbody>\n",
              "</table>\n",
              "<p>1781 rows × 5 columns</p>\n",
              "</div>"
            ],
            "text/plain": [
              "                                                  image disease crop grow risk\n",
              "0     V006_79_0_00_06_01_13_0_b02_20201014_0000_S01_...       0    6   13    0\n",
              "1     V006_79_0_00_06_01_13_0_b02_20201014_0001_S01_...       0    6   13    0\n",
              "2     V006_79_0_00_06_01_13_0_b02_20201014_0002_S01_...       0    6   13    0\n",
              "3     V006_79_0_00_06_01_13_0_b02_20201014_0003_S01_...       0    6   13    0\n",
              "4     V006_79_0_00_06_01_13_0_b02_20201014_0004_S01_...       0    6   13    0\n",
              "...                                                 ...     ...  ...  ...  ...\n",
              "1776     V006_79_1_12_06_03_13_3_7390w_20201207_56.jpeg      12    6   13    3\n",
              "1777      V006_79_1_12_06_03_13_3_7390w_20201207_6.jpeg      12    6   13    3\n",
              "1778     V006_79_1_12_06_03_13_3_7390w_20201207_61.jpeg      12    6   13    3\n",
              "1779     V006_79_1_12_06_05_13_1_0502bb_20201102_2.jpeg      12    6   13    1\n",
              "1780     V006_79_1_12_06_05_13_1_0502bb_20201102_3.jpeg      12    6   13    1\n",
              "\n",
              "[1781 rows x 5 columns]"
            ]
          },
          "execution_count": 8,
          "metadata": {},
          "output_type": "execute_result"
        }
      ],
      "source": [
        "train_df"
      ]
    },
    {
      "cell_type": "code",
      "execution_count": 9,
      "metadata": {
        "colab": {
          "base_uri": "https://localhost:8080/",
          "height": 419
        },
        "id": "nKFuV0bJug9t",
        "outputId": "a854b9b0-fadf-499d-a7c3-54790186c9d7"
      },
      "outputs": [
        {
          "data": {
            "text/html": [
              "<div>\n",
              "<style scoped>\n",
              "    .dataframe tbody tr th:only-of-type {\n",
              "        vertical-align: middle;\n",
              "    }\n",
              "\n",
              "    .dataframe tbody tr th {\n",
              "        vertical-align: top;\n",
              "    }\n",
              "\n",
              "    .dataframe thead th {\n",
              "        text-align: right;\n",
              "    }\n",
              "</style>\n",
              "<table border=\"1\" class=\"dataframe\">\n",
              "  <thead>\n",
              "    <tr style=\"text-align: right;\">\n",
              "      <th></th>\n",
              "      <th>image</th>\n",
              "      <th>disease</th>\n",
              "      <th>crop</th>\n",
              "      <th>grow</th>\n",
              "      <th>risk</th>\n",
              "      <th>points</th>\n",
              "      <th>name</th>\n",
              "    </tr>\n",
              "  </thead>\n",
              "  <tbody>\n",
              "    <tr>\n",
              "      <th>0</th>\n",
              "      <td>V006_79_0_00_01_01_13_0_a01_20201103_0000_S01_...</td>\n",
              "      <td>0</td>\n",
              "      <td>1</td>\n",
              "      <td>13</td>\n",
              "      <td>0</td>\n",
              "      <td>[{'xtl': 502, 'ytl': 1261, 'xbr': 3781, 'ybr':...</td>\n",
              "      <td>고추_0.정상</td>\n",
              "    </tr>\n",
              "    <tr>\n",
              "      <th>1</th>\n",
              "      <td>V006_79_0_00_01_01_13_0_a01_20201103_0002_S01_...</td>\n",
              "      <td>0</td>\n",
              "      <td>1</td>\n",
              "      <td>13</td>\n",
              "      <td>0</td>\n",
              "      <td>[{'xtl': 817, 'ytl': 1564, 'xbr': 3693, 'ybr':...</td>\n",
              "      <td>고추_0.정상</td>\n",
              "    </tr>\n",
              "    <tr>\n",
              "      <th>2</th>\n",
              "      <td>V006_79_0_00_01_01_13_0_a05_20201111_0009_S01_...</td>\n",
              "      <td>0</td>\n",
              "      <td>1</td>\n",
              "      <td>13</td>\n",
              "      <td>0</td>\n",
              "      <td>[{'xtl': 697, 'ytl': 967, 'xbr': 3797, 'ybr': ...</td>\n",
              "      <td>고추_0.정상</td>\n",
              "    </tr>\n",
              "    <tr>\n",
              "      <th>3</th>\n",
              "      <td>V006_79_0_00_01_01_13_0_a05_20201111_0014_S01_...</td>\n",
              "      <td>0</td>\n",
              "      <td>1</td>\n",
              "      <td>13</td>\n",
              "      <td>0</td>\n",
              "      <td>[{'xtl': 627, 'ytl': 1294, 'xbr': 3783, 'ybr':...</td>\n",
              "      <td>고추_0.정상</td>\n",
              "    </tr>\n",
              "    <tr>\n",
              "      <th>4</th>\n",
              "      <td>V006_79_0_00_01_01_13_0_a05_20201111_0024_S01_...</td>\n",
              "      <td>0</td>\n",
              "      <td>1</td>\n",
              "      <td>13</td>\n",
              "      <td>0</td>\n",
              "      <td>[{'xtl': 1002, 'ytl': 458, 'xbr': 3380, 'ybr':...</td>\n",
              "      <td>고추_0.정상</td>\n",
              "    </tr>\n",
              "    <tr>\n",
              "      <th>...</th>\n",
              "      <td>...</td>\n",
              "      <td>...</td>\n",
              "      <td>...</td>\n",
              "      <td>...</td>\n",
              "      <td>...</td>\n",
              "      <td>...</td>\n",
              "      <td>...</td>\n",
              "    </tr>\n",
              "    <tr>\n",
              "      <th>9100</th>\n",
              "      <td>V006_79_1_18_09_03_13_3_0819e_20201112_151.jpg</td>\n",
              "      <td>18</td>\n",
              "      <td>9</td>\n",
              "      <td>13</td>\n",
              "      <td>3</td>\n",
              "      <td>[{'xtl': 308, 'ytl': 468, 'xbr': 542, 'ybr': 1...</td>\n",
              "      <td>파_1.질병</td>\n",
              "    </tr>\n",
              "    <tr>\n",
              "      <th>9101</th>\n",
              "      <td>V006_79_1_18_09_03_13_3_0819e_20201127_172.jpg</td>\n",
              "      <td>18</td>\n",
              "      <td>9</td>\n",
              "      <td>13</td>\n",
              "      <td>3</td>\n",
              "      <td>[{'xtl': 0, 'ytl': 341, 'xbr': 960, 'ybr': 960}]</td>\n",
              "      <td>파_1.질병</td>\n",
              "    </tr>\n",
              "    <tr>\n",
              "      <th>9102</th>\n",
              "      <td>V006_79_1_18_09_03_13_3_6734e_20201030_50.jpg</td>\n",
              "      <td>18</td>\n",
              "      <td>9</td>\n",
              "      <td>13</td>\n",
              "      <td>3</td>\n",
              "      <td>[{'xtl': 79, 'ytl': 2, 'xbr': 433, 'ybr': 960}]</td>\n",
              "      <td>파_1.질병</td>\n",
              "    </tr>\n",
              "    <tr>\n",
              "      <th>9103</th>\n",
              "      <td>V006_79_1_18_09_03_13_3_6734e_20201117_48.jpg</td>\n",
              "      <td>18</td>\n",
              "      <td>9</td>\n",
              "      <td>13</td>\n",
              "      <td>3</td>\n",
              "      <td>[{'xtl': 355, 'ytl': 0, 'xbr': 657, 'ybr': 960}]</td>\n",
              "      <td>파_1.질병</td>\n",
              "    </tr>\n",
              "    <tr>\n",
              "      <th>9104</th>\n",
              "      <td>V006_79_1_18_09_03_13_3_6734e_20201117_55.jpg</td>\n",
              "      <td>18</td>\n",
              "      <td>9</td>\n",
              "      <td>13</td>\n",
              "      <td>3</td>\n",
              "      <td>[{'xtl': 0, 'ytl': 621, 'xbr': 1559, 'ybr': 993}]</td>\n",
              "      <td>파_1.질병</td>\n",
              "    </tr>\n",
              "  </tbody>\n",
              "</table>\n",
              "<p>9105 rows × 7 columns</p>\n",
              "</div>"
            ],
            "text/plain": [
              "                                                  image  disease  crop  grow  \\\n",
              "0     V006_79_0_00_01_01_13_0_a01_20201103_0000_S01_...        0     1    13   \n",
              "1     V006_79_0_00_01_01_13_0_a01_20201103_0002_S01_...        0     1    13   \n",
              "2     V006_79_0_00_01_01_13_0_a05_20201111_0009_S01_...        0     1    13   \n",
              "3     V006_79_0_00_01_01_13_0_a05_20201111_0014_S01_...        0     1    13   \n",
              "4     V006_79_0_00_01_01_13_0_a05_20201111_0024_S01_...        0     1    13   \n",
              "...                                                 ...      ...   ...   ...   \n",
              "9100     V006_79_1_18_09_03_13_3_0819e_20201112_151.jpg       18     9    13   \n",
              "9101     V006_79_1_18_09_03_13_3_0819e_20201127_172.jpg       18     9    13   \n",
              "9102      V006_79_1_18_09_03_13_3_6734e_20201030_50.jpg       18     9    13   \n",
              "9103      V006_79_1_18_09_03_13_3_6734e_20201117_48.jpg       18     9    13   \n",
              "9104      V006_79_1_18_09_03_13_3_6734e_20201117_55.jpg       18     9    13   \n",
              "\n",
              "      risk                                             points     name  \n",
              "0        0  [{'xtl': 502, 'ytl': 1261, 'xbr': 3781, 'ybr':...  고추_0.정상  \n",
              "1        0  [{'xtl': 817, 'ytl': 1564, 'xbr': 3693, 'ybr':...  고추_0.정상  \n",
              "2        0  [{'xtl': 697, 'ytl': 967, 'xbr': 3797, 'ybr': ...  고추_0.정상  \n",
              "3        0  [{'xtl': 627, 'ytl': 1294, 'xbr': 3783, 'ybr':...  고추_0.정상  \n",
              "4        0  [{'xtl': 1002, 'ytl': 458, 'xbr': 3380, 'ybr':...  고추_0.정상  \n",
              "...    ...                                                ...      ...  \n",
              "9100     3  [{'xtl': 308, 'ytl': 468, 'xbr': 542, 'ybr': 1...   파_1.질병  \n",
              "9101     3   [{'xtl': 0, 'ytl': 341, 'xbr': 960, 'ybr': 960}]   파_1.질병  \n",
              "9102     3    [{'xtl': 79, 'ytl': 2, 'xbr': 433, 'ybr': 960}]   파_1.질병  \n",
              "9103     3   [{'xtl': 355, 'ytl': 0, 'xbr': 657, 'ybr': 960}]   파_1.질병  \n",
              "9104     3  [{'xtl': 0, 'ytl': 621, 'xbr': 1559, 'ybr': 993}]   파_1.질병  \n",
              "\n",
              "[9105 rows x 7 columns]"
            ]
          },
          "execution_count": 9,
          "metadata": {},
          "output_type": "execute_result"
        }
      ],
      "source": [
        "vc = val_csv[['image', 'disease', 'crop', 'grow', 'risk', 'points', 'name']]\n",
        "vc"
      ]
    },
    {
      "cell_type": "code",
      "execution_count": 10,
      "metadata": {
        "id": "3HYh5ySFug9t"
      },
      "outputs": [],
      "source": [
        "vc = val_csv[['image', 'disease', 'crop', 'grow', 'risk', 'points', 'name']]\n",
        "df = pd.DataFrame(index=range(0,), columns=['image', 'disease', 'crop', 'grow', 'risk', 'points', 'name'])\n",
        "# [] 안에 작물 코드 넣기\n",
        "for i in [6]:\n",
        "    for k in range(19):\n",
        "        if k == 0:\n",
        "            tmp = vc[(vc['crop'] == i)&(vc['disease'] == k)][:1000]\n",
        "            df = pd.concat([df, tmp])\n",
        "        else:\n",
        "            tmp = vc[(vc['crop'] == i)&(vc['disease'] == k)][:1000]\n",
        "            df = pd.concat([df, tmp])\n",
        "\n",
        "\n",
        "val_df = df"
      ]
    },
    {
      "cell_type": "code",
      "execution_count": 11,
      "metadata": {
        "colab": {
          "base_uri": "https://localhost:8080/",
          "height": 419
        },
        "id": "2uza97yeug9t",
        "outputId": "47919a02-8238-4eb0-ad32-f8d8acb0d1ee"
      },
      "outputs": [
        {
          "data": {
            "text/html": [
              "<div>\n",
              "<style scoped>\n",
              "    .dataframe tbody tr th:only-of-type {\n",
              "        vertical-align: middle;\n",
              "    }\n",
              "\n",
              "    .dataframe tbody tr th {\n",
              "        vertical-align: top;\n",
              "    }\n",
              "\n",
              "    .dataframe thead th {\n",
              "        text-align: right;\n",
              "    }\n",
              "</style>\n",
              "<table border=\"1\" class=\"dataframe\">\n",
              "  <thead>\n",
              "    <tr style=\"text-align: right;\">\n",
              "      <th></th>\n",
              "      <th>image</th>\n",
              "      <th>disease</th>\n",
              "      <th>crop</th>\n",
              "      <th>grow</th>\n",
              "      <th>risk</th>\n",
              "    </tr>\n",
              "  </thead>\n",
              "  <tbody>\n",
              "    <tr>\n",
              "      <th>0</th>\n",
              "      <td>V006_79_0_00_06_01_13_0_b02_20201014_0005_S01_...</td>\n",
              "      <td>0</td>\n",
              "      <td>6</td>\n",
              "      <td>13</td>\n",
              "      <td>0</td>\n",
              "    </tr>\n",
              "    <tr>\n",
              "      <th>1</th>\n",
              "      <td>V006_79_0_00_06_01_13_0_b02_20201014_0016_S01_...</td>\n",
              "      <td>0</td>\n",
              "      <td>6</td>\n",
              "      <td>13</td>\n",
              "      <td>0</td>\n",
              "    </tr>\n",
              "    <tr>\n",
              "      <th>2</th>\n",
              "      <td>V006_79_0_00_06_01_13_0_b02_20201014_0023_S01_...</td>\n",
              "      <td>0</td>\n",
              "      <td>6</td>\n",
              "      <td>13</td>\n",
              "      <td>0</td>\n",
              "    </tr>\n",
              "    <tr>\n",
              "      <th>3</th>\n",
              "      <td>V006_79_0_00_06_01_13_0_b02_20201014_0024_S01_...</td>\n",
              "      <td>0</td>\n",
              "      <td>6</td>\n",
              "      <td>13</td>\n",
              "      <td>0</td>\n",
              "    </tr>\n",
              "    <tr>\n",
              "      <th>4</th>\n",
              "      <td>V006_79_0_00_06_01_13_0_b02_20201014_0028_S01_...</td>\n",
              "      <td>0</td>\n",
              "      <td>6</td>\n",
              "      <td>13</td>\n",
              "      <td>0</td>\n",
              "    </tr>\n",
              "    <tr>\n",
              "      <th>...</th>\n",
              "      <td>...</td>\n",
              "      <td>...</td>\n",
              "      <td>...</td>\n",
              "      <td>...</td>\n",
              "      <td>...</td>\n",
              "    </tr>\n",
              "    <tr>\n",
              "      <th>1102</th>\n",
              "      <td>V006_79_1_12_06_03_13_3_3221w_20201115_73.JPEG</td>\n",
              "      <td>12</td>\n",
              "      <td>6</td>\n",
              "      <td>13</td>\n",
              "      <td>3</td>\n",
              "    </tr>\n",
              "    <tr>\n",
              "      <th>1103</th>\n",
              "      <td>V006_79_1_12_06_03_13_3_3221w_20201115_82.jpg</td>\n",
              "      <td>12</td>\n",
              "      <td>6</td>\n",
              "      <td>13</td>\n",
              "      <td>3</td>\n",
              "    </tr>\n",
              "    <tr>\n",
              "      <th>1104</th>\n",
              "      <td>V006_79_1_12_06_03_13_3_3221w_20201115_86.jpg</td>\n",
              "      <td>12</td>\n",
              "      <td>6</td>\n",
              "      <td>13</td>\n",
              "      <td>3</td>\n",
              "    </tr>\n",
              "    <tr>\n",
              "      <th>1105</th>\n",
              "      <td>V006_79_1_12_06_03_13_3_3244w_20201104_15.jpeg</td>\n",
              "      <td>12</td>\n",
              "      <td>6</td>\n",
              "      <td>13</td>\n",
              "      <td>3</td>\n",
              "    </tr>\n",
              "    <tr>\n",
              "      <th>1106</th>\n",
              "      <td>V006_79_1_12_06_03_13_3_7390w_20201207_53.jpeg</td>\n",
              "      <td>12</td>\n",
              "      <td>6</td>\n",
              "      <td>13</td>\n",
              "      <td>3</td>\n",
              "    </tr>\n",
              "  </tbody>\n",
              "</table>\n",
              "<p>1107 rows × 5 columns</p>\n",
              "</div>"
            ],
            "text/plain": [
              "                                                  image disease crop grow risk\n",
              "0     V006_79_0_00_06_01_13_0_b02_20201014_0005_S01_...       0    6   13    0\n",
              "1     V006_79_0_00_06_01_13_0_b02_20201014_0016_S01_...       0    6   13    0\n",
              "2     V006_79_0_00_06_01_13_0_b02_20201014_0023_S01_...       0    6   13    0\n",
              "3     V006_79_0_00_06_01_13_0_b02_20201014_0024_S01_...       0    6   13    0\n",
              "4     V006_79_0_00_06_01_13_0_b02_20201014_0028_S01_...       0    6   13    0\n",
              "...                                                 ...     ...  ...  ...  ...\n",
              "1102     V006_79_1_12_06_03_13_3_3221w_20201115_73.JPEG      12    6   13    3\n",
              "1103      V006_79_1_12_06_03_13_3_3221w_20201115_82.jpg      12    6   13    3\n",
              "1104      V006_79_1_12_06_03_13_3_3221w_20201115_86.jpg      12    6   13    3\n",
              "1105     V006_79_1_12_06_03_13_3_3244w_20201104_15.jpeg      12    6   13    3\n",
              "1106     V006_79_1_12_06_03_13_3_7390w_20201207_53.jpeg      12    6   13    3\n",
              "\n",
              "[1107 rows x 5 columns]"
            ]
          },
          "execution_count": 11,
          "metadata": {},
          "output_type": "execute_result"
        }
      ],
      "source": [
        "val_df = val_df[['image', 'disease', 'crop', 'grow', 'risk']]\n",
        "val_df.reset_index(drop=True, inplace=True)\n",
        "val_df"
      ]
    },
    {
      "cell_type": "markdown",
      "metadata": {
        "id": "iFXBqF2i3aOH"
      },
      "source": [
        "# x y 데이터셋 제작\n",
        "- x: train 이미지\n",
        "- y: train disease 번호"
      ]
    },
    {
      "cell_type": "markdown",
      "metadata": {
        "id": "_h7nH0VE3aOH"
      },
      "source": [
        "## train"
      ]
    },
    {
      "cell_type": "code",
      "execution_count": 12,
      "metadata": {
        "id": "caeY5vGl3aOI"
      },
      "outputs": [],
      "source": [
        "# 폴더 리스트 가져오기\n",
        "from glob import glob\n",
        "from PIL import Image\n",
        "import numpy as np\n",
        "\n",
        "\n",
        "X=[]\n",
        "train_dis = list(train_df['disease'])\n",
        "train_img = list(train_df['image'])\n",
        "train_cro = list(train_df['crop'])\n",
        "path = 'data/project/'\n",
        "\n",
        "\n",
        "for i in range(len(train_df)):\n",
        "    img = Image.open(path + str(train_cro[i])+ '/train/' + str(train_dis[i]) + '/' + train_img[i])\n",
        "    img = img.resize((255, 255)) ## 혹시몰라 한번더 리사이즈\n",
        "    imgarr = np.array(img)/255 # 스케일링\n",
        "    X.append(imgarr)"
      ]
    },
    {
      "cell_type": "code",
      "execution_count": 13,
      "metadata": {
        "id": "el6L0uU33aOI",
        "outputId": "ab6e2ee4-fa05-422b-a01f-815cce08d3aa"
      },
      "outputs": [
        {
          "name": "stdout",
          "output_type": "stream",
          "text": [
            "(1781, 255, 255, 3)\n"
          ]
        }
      ],
      "source": [
        "print(np.shape(X))"
      ]
    },
    {
      "cell_type": "code",
      "execution_count": 14,
      "metadata": {
        "id": "80nt3Q5G3aOI"
      },
      "outputs": [],
      "source": [
        "y = []\n",
        "for item in train_df['disease']:\n",
        "  y.append(item)"
      ]
    },
    {
      "cell_type": "code",
      "execution_count": 15,
      "metadata": {
        "id": "wmlNysPh3aOJ",
        "outputId": "519176b4-a656-4cda-c8e3-070d8b986a81"
      },
      "outputs": [
        {
          "name": "stdout",
          "output_type": "stream",
          "text": [
            "(1781,)\n"
          ]
        }
      ],
      "source": [
        "print(np.shape(y))"
      ]
    },
    {
      "cell_type": "code",
      "execution_count": 16,
      "metadata": {
        "id": "MCdBlSbH3aOJ",
        "outputId": "4ca136fc-272d-4d14-cde8-7c132c90650d"
      },
      "outputs": [
        {
          "data": {
            "text/plain": [
              "array([ 0, 11, 12])"
            ]
          },
          "execution_count": 16,
          "metadata": {},
          "output_type": "execute_result"
        }
      ],
      "source": [
        "np.unique(y)"
      ]
    },
    {
      "cell_type": "code",
      "execution_count": 17,
      "metadata": {
        "id": "Y_ohPxIaIf-H"
      },
      "outputs": [],
      "source": [
        "# 작물 질병 확인하여 질병 순서대로 레이블 변경\n",
        "# 오이 5 : 오이흰가루병\n",
        "# 오이 6 : 오이노균병\n",
        "for i in range(len(y)):\n",
        "        if y[i] == 11.0:\n",
        "            y[i] = 1.0\n",
        "        elif y[i] == 12.0:\n",
        "            y[i] = 2.0"
      ]
    },
    {
      "cell_type": "code",
      "execution_count": 18,
      "metadata": {
        "id": "AI5K_AHOIf-H",
        "outputId": "1680c738-0aec-4523-b025-0a6e5d48834c"
      },
      "outputs": [
        {
          "data": {
            "text/plain": [
              "array([0., 1., 2.])"
            ]
          },
          "execution_count": 18,
          "metadata": {},
          "output_type": "execute_result"
        }
      ],
      "source": [
        "np.unique(y)"
      ]
    },
    {
      "cell_type": "code",
      "execution_count": 19,
      "metadata": {
        "id": "uSfesDmR3aOJ",
        "outputId": "bdc6ad38-0c47-4753-cbad-72b6e04314ee"
      },
      "outputs": [
        {
          "data": {
            "text/plain": [
              "(list, list)"
            ]
          },
          "execution_count": 19,
          "metadata": {},
          "output_type": "execute_result"
        }
      ],
      "source": [
        "type(X), type(y)"
      ]
    },
    {
      "cell_type": "code",
      "execution_count": 20,
      "metadata": {
        "id": "8KwxQRID3aOK"
      },
      "outputs": [],
      "source": [
        "# np.array 로 변환해야 작업 가능\n",
        "X_train = np.array(X, dtype='float32')\n",
        "y_train = np.array(y, dtype='float32')"
      ]
    },
    {
      "cell_type": "code",
      "execution_count": 21,
      "metadata": {
        "id": "jT8s2bbw3aOK"
      },
      "outputs": [],
      "source": [
        "# npz 파일 제작\n",
        "np.savez('data/train_cucumber_b.npz', X=X_train, Y=y_train)"
      ]
    },
    {
      "cell_type": "markdown",
      "metadata": {
        "id": "CoRjddGB3aOK"
      },
      "source": [
        "## validation"
      ]
    },
    {
      "cell_type": "code",
      "execution_count": 22,
      "metadata": {
        "id": "ACwpmk8cug9y"
      },
      "outputs": [],
      "source": [
        "# 폴더 리스트 가져오기\n",
        "from glob import glob\n",
        "from PIL import Image\n",
        "import numpy as np\n",
        "\n",
        "\n",
        "X=[]\n",
        "val_dis = list(val_df['disease'])\n",
        "val_img = list(val_df['image'])\n",
        "val_cro = list(val_df['crop'])\n",
        "path = 'data/project/'\n",
        "\n",
        "\n",
        "for i in range(len(val_df)):\n",
        "    img = Image.open(path + str(val_cro[i])+ '/validation/' + str(val_dis[i]) + '/' + val_img[i])\n",
        "    img = img.resize((255, 255)) ## 혹시몰라 한번더 리사이즈\n",
        "    imgarr = np.array(img)/255 # 스케일링\n",
        "    X.append(imgarr)"
      ]
    },
    {
      "cell_type": "code",
      "execution_count": 23,
      "metadata": {
        "id": "Dd1EAd8iug9y",
        "outputId": "98bfe6ae-cdec-47c7-be53-b3208edee5ff"
      },
      "outputs": [
        {
          "name": "stdout",
          "output_type": "stream",
          "text": [
            "(1107, 255, 255, 3)\n"
          ]
        }
      ],
      "source": [
        "print(np.shape(X))"
      ]
    },
    {
      "cell_type": "code",
      "execution_count": 24,
      "metadata": {
        "id": "D_s-ctEZug9y"
      },
      "outputs": [],
      "source": [
        "y = []\n",
        "for item in val_df['disease']:\n",
        "  y.append(item)"
      ]
    },
    {
      "cell_type": "code",
      "execution_count": 25,
      "metadata": {
        "id": "mN3GEbUBug9y",
        "outputId": "09a9be90-0e82-41d6-8d77-d806f7153709"
      },
      "outputs": [
        {
          "name": "stdout",
          "output_type": "stream",
          "text": [
            "(1107,)\n"
          ]
        }
      ],
      "source": [
        "print(np.shape(y))"
      ]
    },
    {
      "cell_type": "code",
      "execution_count": 26,
      "metadata": {
        "id": "mxx0EJ-Lug9y",
        "outputId": "fbbb92d6-b8bf-4dde-fe0b-c7328b52eeda"
      },
      "outputs": [
        {
          "data": {
            "text/plain": [
              "array([ 0, 11, 12])"
            ]
          },
          "execution_count": 26,
          "metadata": {},
          "output_type": "execute_result"
        }
      ],
      "source": [
        "np.unique(y)"
      ]
    },
    {
      "cell_type": "code",
      "execution_count": 27,
      "metadata": {
        "id": "xrsj4J7uIf-I"
      },
      "outputs": [],
      "source": [
        "# 작물 질병 확인하여 질병 순서대로 레이블 변경\n",
        "# 오이 5 : 오이흰가루병\n",
        "# 오이 6 : 오이노균병\n",
        "for i in range(len(y)):\n",
        "        if y[i] == 11.0:\n",
        "            y[i] = 1.0\n",
        "        elif y[i] == 12.0:\n",
        "            y[i] = 2.0"
      ]
    },
    {
      "cell_type": "code",
      "execution_count": 28,
      "metadata": {
        "id": "VpMe9uaPIf-I",
        "outputId": "2c035b91-f99a-4113-ec1e-2215a9ad7d67"
      },
      "outputs": [
        {
          "data": {
            "text/plain": [
              "array([0., 1., 2.])"
            ]
          },
          "execution_count": 28,
          "metadata": {},
          "output_type": "execute_result"
        }
      ],
      "source": [
        "np.unique(y)"
      ]
    },
    {
      "cell_type": "code",
      "execution_count": 29,
      "metadata": {
        "id": "Aql59YOe3aOM",
        "outputId": "fb598bb7-582e-40a9-b1aa-bf15ad46fcf7"
      },
      "outputs": [
        {
          "data": {
            "text/plain": [
              "(list, list)"
            ]
          },
          "execution_count": 29,
          "metadata": {},
          "output_type": "execute_result"
        }
      ],
      "source": [
        "type(X), type(y)"
      ]
    },
    {
      "cell_type": "code",
      "execution_count": 30,
      "metadata": {
        "id": "kx7sQOWO3aON"
      },
      "outputs": [],
      "source": [
        "# np.array 로 변환해야 작업 가능\n",
        "X_val = np.array(X, dtype='float32')\n",
        "y_val = np.array(y, dtype='float32')"
      ]
    },
    {
      "cell_type": "code",
      "execution_count": 31,
      "metadata": {
        "id": "xOBDEWbk3aON"
      },
      "outputs": [],
      "source": [
        "# npz 파일 제작\n",
        "np.savez('data/val_cucumber_b.npz', X=X_val, Y=y_val)"
      ]
    },
    {
      "cell_type": "code",
      "execution_count": 64,
      "metadata": {
        "id": "BpZOekx13aON",
        "outputId": "7206e51a-7acd-4afe-e1d2-f389e023fcf4"
      },
      "outputs": [
        {
          "name": "stdout",
          "output_type": "stream",
          "text": [
            "--x값--\n"
          ]
        },
        {
          "data": {
            "image/png": "[encoded data removed]",
            "text/plain": [
              "<Figure size 432x288 with 1 Axes>"
            ]
          },
          "metadata": {
            "needs_background": "light"
          },
          "output_type": "display_data"
        },
        {
          "name": "stdout",
          "output_type": "stream",
          "text": [
            "--y value--\n",
            "[0, 0, 0, 0, 0]\n"
          ]
        }
      ],
      "source": [
        "# 5개의 이미지를 수평으로 나란히 출력\n",
        "import matplotlib.pyplot as plt\n",
        "\n",
        "print('--x값--')\n",
        "plt.imshow(np.hstack(X[:5]))\n",
        "plt.show()\n",
        "\n",
        "print('--y value--')\n",
        "print(y[:5])"
      ]
    },
    {
      "cell_type": "markdown",
      "metadata": {
        "id": "kygpISkx3aOP"
      },
      "source": [
        "## CNN"
      ]
    },
    {
      "cell_type": "code",
      "execution_count": 38,
      "metadata": {
        "id": "Ioa-s0Iu3aOP"
      },
      "outputs": [],
      "source": [
        "# 메모리 변수 모두 제거\n",
        "all = [var for var in globals() if var[0] != '_']\n",
        "for var in all:\n",
        "    del globals()[var]"
      ]
    },
    {
      "cell_type": "markdown",
      "metadata": {
        "id": "-J_B4gC33aOP"
      },
      "source": [
        "## 사용 패키지"
      ]
    },
    {
      "cell_type": "code",
      "execution_count": 1,
      "metadata": {
        "id": "isR5vSQ83aOP"
      },
      "outputs": [
        {
          "name": "stderr",
          "output_type": "stream",
          "text": [
            "������ ��θ� ã�� �� �����ϴ�.\n",
            "������ ��θ� ã�� �� �����ϴ�.\n",
            "������ ��θ� ã�� �� �����ϴ�.\n"
          ]
        }
      ],
      "source": [
        "import numpy as np\n",
        "import pandas as pd\n",
        "import seaborn as sns\n",
        "import matplotlib as mpl\n",
        "import matplotlib.pyplot as plt\n",
        "!apt-get install -y fonts-nanum > /dev/null\n",
        "!fc-cache -fv > /dev/null\n",
        "!rm -rf ~/.cache/matplotlib > /dev/null\n",
        "mpl.rcParams['axes.unicode_minus'] = False\n",
        "plt.rc('font', family = 'NanumBarunGothic')\n",
        "import warnings\n",
        "warnings.filterwarnings('ignore')"
      ]
    },
    {
      "cell_type": "code",
      "execution_count": 2,
      "metadata": {
        "id": "aW2jxoBp3aOQ"
      },
      "outputs": [],
      "source": [
        "import os\n",
        "import cv2\n",
        "from PIL import Image\n",
        "from tqdm import tqdm\n",
        "import tensorflow as tf\n",
        "from tensorflow import keras"
      ]
    },
    {
      "cell_type": "markdown",
      "metadata": {
        "id": "Ve00o1CW3aOQ"
      },
      "source": [
        "## 데이터 로드"
      ]
    },
    {
      "cell_type": "code",
      "execution_count": 3,
      "metadata": {
        "colab": {
          "base_uri": "https://localhost:8080/"
        },
        "id": "lhcsftZZ_VWL",
        "outputId": "f39e939a-1e06-4efd-fc8e-d6b8758f99da"
      },
      "outputs": [],
      "source": [
        "# from google.colab import drive\n",
        "# drive.mount('/content/drive')"
      ]
    },
    {
      "cell_type": "code",
      "execution_count": 4,
      "metadata": {
        "colab": {
          "base_uri": "https://localhost:8080/"
        },
        "id": "wb_edCmK_VMk",
        "outputId": "c9dae3ca-e1ba-4da1-b64d-084a64d101a4"
      },
      "outputs": [],
      "source": [
        "# cd /content/drive/MyDrive/data/project02"
      ]
    },
    {
      "cell_type": "code",
      "execution_count": 5,
      "metadata": {
        "colab": {
          "base_uri": "https://localhost:8080/"
        },
        "id": "-Ls8YDimJ03t",
        "outputId": "fe4657b6-d207-43a1-a2f0-fee0fab594c7"
      },
      "outputs": [],
      "source": [
        "# !ls"
      ]
    },
    {
      "cell_type": "code",
      "execution_count": 6,
      "metadata": {
        "colab": {
          "base_uri": "https://localhost:8080/"
        },
        "id": "U46pot6a3aOQ",
        "outputId": "ffda600f-a6c2-4968-855d-fb5cddc140ae"
      },
      "outputs": [
        {
          "name": "stdout",
          "output_type": "stream",
          "text": [
            "['X', 'Y']\n",
            "['X', 'Y']\n"
          ]
        }
      ],
      "source": [
        "train_npz = np.load('data/train_cucumber_b.npz')\n",
        "test_npz = np.load('data/val_cucumber_b.npz')\n",
        "print(list(train_npz))\n",
        "print(list(test_npz))"
      ]
    },
    {
      "cell_type": "code",
      "execution_count": 7,
      "metadata": {
        "id": "_RYxTVRX3aOQ"
      },
      "outputs": [],
      "source": [
        "X_train = train_npz['X']\n",
        "y_train = train_npz['Y']"
      ]
    },
    {
      "cell_type": "code",
      "execution_count": 8,
      "metadata": {
        "id": "-EBsx8xB8-OT"
      },
      "outputs": [],
      "source": [
        "X_val = test_npz['X']\n",
        "y_val = test_npz['Y']"
      ]
    },
    {
      "cell_type": "code",
      "execution_count": 9,
      "metadata": {
        "colab": {
          "base_uri": "https://localhost:8080/"
        },
        "id": "p78W5B4q3aOR",
        "outputId": "028db031-8071-4997-fd66-9416be6c4fcb"
      },
      "outputs": [
        {
          "name": "stdout",
          "output_type": "stream",
          "text": [
            "(1781, 255, 255, 3) 1781\n",
            "(1107, 255, 255, 3) 1107\n"
          ]
        }
      ],
      "source": [
        "print(np.shape(X_train), len(y_train))\n",
        "print(np.shape(X_val), len(y_val))"
      ]
    },
    {
      "cell_type": "code",
      "execution_count": 10,
      "metadata": {},
      "outputs": [],
      "source": [
        "# TODO: BorderlineSMOTE 적용하기\n",
        "X_train = X_train.reshape((X_train.shape[0], X_train.shape[1] * X_train.shape[2] * X_train.shape[3])).astype(np.float32)\n",
        "X_val = X_val.reshape((X_val.shape[0], X_val.shape[1] * X_val.shape[2] * X_val.shape[3])).astype(np.float32)"
      ]
    },
    {
      "cell_type": "code",
      "execution_count": 11,
      "metadata": {},
      "outputs": [],
      "source": [
        "from imblearn.over_sampling import BorderlineSMOTE\n",
        "smote = BorderlineSMOTE()\n",
        "X_train, y_train = smote.fit_resample(X_train, y_train)"
      ]
    },
    {
      "cell_type": "code",
      "execution_count": 12,
      "metadata": {},
      "outputs": [
        {
          "name": "stdout",
          "output_type": "stream",
          "text": [
            "(3000, 195075) 3000\n",
            "(1107, 195075) 1107\n"
          ]
        }
      ],
      "source": [
        "print(np.shape(X_train), len(y_train))\n",
        "print(np.shape(X_val), len(y_val))"
      ]
    },
    {
      "cell_type": "code",
      "execution_count": 13,
      "metadata": {},
      "outputs": [],
      "source": [
        "X_train_re = X_train.reshape(3000,255,255,3)\n",
        "X_val_re = X_val.reshape(1107,255,255,3)"
      ]
    },
    {
      "cell_type": "code",
      "execution_count": 14,
      "metadata": {},
      "outputs": [
        {
          "name": "stdout",
          "output_type": "stream",
          "text": [
            "(3000, 255, 255, 3) 3000\n",
            "(1107, 255, 255, 3) 1107\n"
          ]
        }
      ],
      "source": [
        "print(np.shape(X_train_re), len(y_train))\n",
        "print(np.shape(X_val_re), len(y_val))"
      ]
    },
    {
      "cell_type": "code",
      "execution_count": 15,
      "metadata": {
        "colab": {
          "base_uri": "https://localhost:8080/"
        },
        "id": "ximoCHON3aOR",
        "outputId": "cdf76a81-c3bd-4fb7-a779-bb1476a26fa6"
      },
      "outputs": [
        {
          "data": {
            "text/plain": [
              "{0.0: 1000, 1.0: 1000, 2.0: 1000}"
            ]
          },
          "execution_count": 15,
          "metadata": {},
          "output_type": "execute_result"
        }
      ],
      "source": [
        "# y데이터의 분할은 편향없이 잘 되었는가 확인작업\n",
        "\n",
        "unique, counts = np.unique(y_train, return_counts=True)\n",
        "\n",
        "unique_yt = dict(zip(unique, counts))\n",
        "unique_yt"
      ]
    },
    {
      "cell_type": "code",
      "execution_count": 16,
      "metadata": {
        "colab": {
          "base_uri": "https://localhost:8080/"
        },
        "id": "yfcxqGJF3aOR",
        "outputId": "8803f06c-e8c3-4aab-b51f-3f7a8e85fbb9"
      },
      "outputs": [
        {
          "data": {
            "text/plain": [
              "{0.0: 1000, 1.0: 51, 2.0: 56}"
            ]
          },
          "execution_count": 16,
          "metadata": {},
          "output_type": "execute_result"
        }
      ],
      "source": [
        "# y데이터의 분할은 편향없이 잘 되었는가 확인작업\n",
        "\n",
        "unique, counts = np.unique(y_val, return_counts=True)\n",
        "\n",
        "unique_yv = dict(zip(unique, counts))\n",
        "unique_yv"
      ]
    },
    {
      "cell_type": "markdown",
      "metadata": {},
      "source": [
        "# 5. CNN\n",
        "- 컨볼루션 신경망\n",
        "- 컴퓨터 비전 (Computer Vision) 에서 사용\n",
        "- 텍스트, 시계열 데이터 등에서도 성능 좋음\n",
        "- 오버피팅 회피\n",
        "    - 규제화 함수\n",
        "        - 가중치 감쇠 (Weight Decay)\n",
        "        - 모델 복잡도 제한\n",
        "        - L1, L2 노름, 엘라스틱 넷 (Elastic Net)\n",
        "        - 기능에 맞춰 가중치 합 구해 손실 함수에 더함\n",
        "        - tensorflow.keras.regularizers.l1(l = 0.01) : 가중치 절대값 합 (릿지)\n",
        "        - tensorflow.keras.regularizers.l2(l = 0.01) : 가중치 제곱값 합 (라쏘)\n",
        "        - tensorflow.keras.regularizers.l1_l2(l1 = 0.01, l2 = 0.01) : 가중치 절대값 합 (릿지) + 가중치 제곱값 합 (라쏘) = (엘라스틱 넷)\n",
        "    - 드롭 아웃\n",
        "        - 학습 진행 중 신경망 일부 유닛 제외\n",
        "        - 테스트 중 작동 하지 않고 모든 유닛 활성화\n",
        "        - 출력을 드롭 아웃 비율만큼 제외\n",
        "        - 드롭 아웃 비율 0.2 ~ 0.5\n",
        "    - 배치 정규화\n",
        "        - 드롭 아웃과 비교\n",
        "        - 내부 공선성 (Internal Covariance Shift) 해결 방법\n",
        "        - 출력값 범위 제한 -> 불확실성 감소 목적\n",
        "        - 그래디언트 손실, 폭주 없이 높은 학습률 사용 가능\n",
        "        - 자체적 규제화 효과 포함\n",
        "        - Dense or Conv2D -> BatchNormalization() -> Activation()"
      ]
    },
    {
      "cell_type": "code",
      "execution_count": 17,
      "metadata": {},
      "outputs": [],
      "source": [
        "from tensorflow.keras.models import Sequential\n",
        "from tensorflow.keras.layers import Conv2D, MaxPool2D, Dense, Flatten\n",
        "from tensorflow.keras.layers import Dropout, Activation, BatchNormalization\n",
        "from tensorflow.keras.optimizers import Adam\n",
        "from tensorflow.keras.regularizers import l2\n",
        "from tensorflow.keras.regularizers import l1_l2\n",
        "model = Sequential()\n",
        "# (255, 255, 3)\n",
        "model.add(Conv2D(filters = 32, kernel_size = 3, padding = 'same',\n",
        "                 input_shape = (255, 255, 3)))\n",
        "model.add(BatchNormalization())\n",
        "model.add(Activation('relu'))\n",
        "\n",
        "model.add(Conv2D(filters = 32, kernel_size = 3, padding = 'same',\n",
        "                 kernel_regularizer = l1_l2(0.001)))\n",
        "model.add(BatchNormalization())\n",
        "model.add(Activation('relu'))\n",
        "model.add(MaxPool2D(pool_size = (2, 2), strides = 2, padding = 'same'))\n",
        "model.add(Dropout(0.2))\n",
        "\n",
        "model.add(Conv2D(filters = 64, kernel_size = 3, padding = 'same',\n",
        "                 kernel_regularizer = l1_l2(0.001)))\n",
        "model.add(BatchNormalization())\n",
        "model.add(Activation('relu'))\n",
        "model.add(Conv2D(filters = 64, kernel_size = 3, padding = 'same',\n",
        "                 kernel_regularizer = l1_l2(0.001)))\n",
        "model.add(BatchNormalization())\n",
        "model.add(Activation('relu'))\n",
        "model.add(MaxPool2D(pool_size = (2, 2), strides = 2, padding = 'same'))\n",
        "model.add(Dropout(0.2))\n",
        "\n",
        "model.add(Conv2D(filters = 128, kernel_size = 3, padding = 'same',\n",
        "                 kernel_regularizer = l1_l2(0.001)))\n",
        "model.add(BatchNormalization())\n",
        "model.add(Activation('relu'))\n",
        "model.add(Conv2D(filters = 128, kernel_size = 3, padding = 'same',\n",
        "                 kernel_regularizer = l1_l2(0.001)))\n",
        "model.add(BatchNormalization())\n",
        "model.add(Activation('relu'))\n",
        "model.add(MaxPool2D(pool_size = (2, 2), strides = 2, padding = 'same'))\n",
        "model.add(Dropout(0.2))\n",
        "\n",
        "model.add(Conv2D(filters = 64, kernel_size = 3, padding = 'same',\n",
        "                 kernel_regularizer = l1_l2(0.001)))\n",
        "model.add(BatchNormalization())\n",
        "model.add(Activation('relu'))\n",
        "model.add(Conv2D(filters = 64, kernel_size = 3, padding = 'same',\n",
        "                 kernel_regularizer = l1_l2(0.001)))\n",
        "model.add(BatchNormalization())\n",
        "model.add(Activation('relu'))\n",
        "model.add(MaxPool2D(pool_size = (2, 2), strides = 2, padding = 'same'))\n",
        "model.add(Dropout(0.2))\n",
        "\n",
        "model.add(Conv2D(filters = 64, kernel_size = 3, padding = 'same',\n",
        "                 kernel_regularizer = l1_l2(0.001)))\n",
        "model.add(BatchNormalization())\n",
        "model.add(Activation('relu'))\n",
        "model.add(Conv2D(filters = 64, kernel_size = 3, padding = 'same',\n",
        "                 kernel_regularizer = l1_l2(0.001)))\n",
        "model.add(BatchNormalization())\n",
        "model.add(Activation('relu'))\n",
        "model.add(MaxPool2D(pool_size = (2, 2), strides = 2, padding = 'same'))\n",
        "model.add(Dropout(0.2))\n",
        "\n",
        "model.add(Conv2D(filters = 64, kernel_size = 3, padding = 'same',\n",
        "                 kernel_regularizer = l1_l2(0.001)))\n",
        "model.add(BatchNormalization())\n",
        "model.add(Activation('relu'))\n",
        "model.add(Conv2D(filters = 64, kernel_size = 3, padding = 'same',\n",
        "                 kernel_regularizer = l1_l2(0.001)))\n",
        "model.add(BatchNormalization())\n",
        "model.add(Activation('relu'))\n",
        "model.add(MaxPool2D(pool_size = (2, 2), strides = 2, padding = 'same'))\n",
        "\n",
        "model.add(Conv2D(filters = 64, kernel_size = 3, padding = 'same',\n",
        "                 kernel_regularizer = l1_l2(0.001)))\n",
        "model.add(BatchNormalization())\n",
        "model.add(Activation('relu'))\n",
        "model.add(Conv2D(filters = 64, kernel_size = 3, padding = 'same',\n",
        "                 kernel_regularizer = l1_l2(0.001)))\n",
        "model.add(BatchNormalization())\n",
        "model.add(Activation('relu'))\n",
        "model.add(MaxPool2D(pool_size = (2, 2), strides = 2, padding = 'same'))\n",
        "model.add(Dropout(0.2))\n",
        "\n",
        "model.add(Conv2D(filters = 128, kernel_size = 3, padding = 'same',\n",
        "                 kernel_regularizer = l1_l2(0.001)))\n",
        "model.add(BatchNormalization())\n",
        "model.add(Activation('relu'))\n",
        "model.add(Conv2D(filters = 128, kernel_size = 3, padding = 'same',\n",
        "                 kernel_regularizer = l1_l2(0.001)))\n",
        "model.add(BatchNormalization())\n",
        "model.add(Activation('relu'))\n",
        "model.add(MaxPool2D(pool_size = (2, 2), strides = 2, padding = 'same'))\n",
        "model.add(Dropout(0.2))\n",
        "\n",
        "model.add(Conv2D(filters = 64, kernel_size = 3, padding = 'same',\n",
        "                 kernel_regularizer = l1_l2(0.001)))\n",
        "model.add(BatchNormalization())\n",
        "model.add(Activation('relu'))\n",
        "model.add(Conv2D(filters = 64, kernel_size = 3, padding = 'same',\n",
        "                 kernel_regularizer = l1_l2(0.001)))\n",
        "model.add(BatchNormalization())\n",
        "model.add(Activation('relu'))\n",
        "model.add(MaxPool2D(pool_size = (2, 2), strides = 2, padding = 'same'))\n",
        "\n",
        "model.add(Conv2D(filters = 64, kernel_size = 3, padding = 'same',\n",
        "                 kernel_regularizer = l1_l2(0.001)))\n",
        "model.add(BatchNormalization())\n",
        "model.add(Activation('relu'))\n",
        "model.add(Conv2D(filters = 64, kernel_size = 3, padding = 'same',\n",
        "                 kernel_regularizer = l1_l2(0.001)))\n",
        "model.add(BatchNormalization())\n",
        "model.add(Activation('relu'))\n",
        "model.add(MaxPool2D(pool_size = (2, 2), strides = 2, padding = 'same'))\n",
        "\n",
        "model.add(Conv2D(filters = 64, kernel_size = 3, padding = 'same',\n",
        "                 kernel_regularizer = l1_l2(0.001)))\n",
        "model.add(BatchNormalization())\n",
        "model.add(Activation('relu'))\n",
        "model.add(Conv2D(filters = 64, kernel_size = 3, padding = 'same',\n",
        "                 kernel_regularizer = l1_l2(0.001)))\n",
        "model.add(BatchNormalization())\n",
        "model.add(Activation('relu'))\n",
        "model.add(MaxPool2D(pool_size = (2, 2), strides = 2, padding = 'same'))\n",
        "\n",
        "model.add(Conv2D(filters = 64, kernel_size = 3, padding = 'same',\n",
        "                 kernel_regularizer = l1_l2(0.001)))\n",
        "model.add(BatchNormalization())\n",
        "model.add(Activation('relu'))\n",
        "model.add(Conv2D(filters = 64, kernel_size = 3, padding = 'same',\n",
        "                 kernel_regularizer = l1_l2(0.001)))\n",
        "model.add(BatchNormalization())\n",
        "model.add(Activation('relu'))\n",
        "model.add(MaxPool2D(pool_size = (2, 2), strides = 2, padding = 'same'))\n",
        "\n",
        "model.add(Conv2D(filters = 128, kernel_size = 3, padding = 'same',\n",
        "                 kernel_regularizer = l1_l2(0.001)))\n",
        "model.add(BatchNormalization())\n",
        "model.add(Activation('relu'))\n",
        "model.add(Conv2D(filters = 128, kernel_size = 3, padding = 'same',\n",
        "                 kernel_regularizer = l1_l2(0.001)))\n",
        "model.add(BatchNormalization())\n",
        "model.add(Activation('relu'))\n",
        "model.add(MaxPool2D(pool_size = (2, 2), strides = 2, padding = 'same'))\n",
        "model.add(Dropout(0.2))\n",
        "\n",
        "model.add(Flatten())\n",
        "model.add(Dense(256, kernel_regularizer = l1_l2(0.001)))\n",
        "model.add(BatchNormalization())\n",
        "model.add(Activation('relu'))\n",
        "model.add(Dense(3, activation = 'softmax'))"
      ]
    },
    {
      "cell_type": "code",
      "execution_count": 18,
      "metadata": {},
      "outputs": [
        {
          "name": "stdout",
          "output_type": "stream",
          "text": [
            "Model: \"sequential\"\n",
            "_________________________________________________________________\n",
            "Layer (type)                 Output Shape              Param #   \n",
            "=================================================================\n",
            "conv2d (Conv2D)              (None, 255, 255, 32)      896       \n",
            "_________________________________________________________________\n",
            "batch_normalization (BatchNo (None, 255, 255, 32)      128       \n",
            "_________________________________________________________________\n",
            "activation (Activation)      (None, 255, 255, 32)      0         \n",
            "_________________________________________________________________\n",
            "conv2d_1 (Conv2D)            (None, 255, 255, 32)      9248      \n",
            "_________________________________________________________________\n",
            "batch_normalization_1 (Batch (None, 255, 255, 32)      128       \n",
            "_________________________________________________________________\n",
            "activation_1 (Activation)    (None, 255, 255, 32)      0         \n",
            "_________________________________________________________________\n",
            "max_pooling2d (MaxPooling2D) (None, 128, 128, 32)      0         \n",
            "_________________________________________________________________\n",
            "dropout (Dropout)            (None, 128, 128, 32)      0         \n",
            "_________________________________________________________________\n",
            "conv2d_2 (Conv2D)            (None, 128, 128, 64)      18496     \n",
            "_________________________________________________________________\n",
            "batch_normalization_2 (Batch (None, 128, 128, 64)      256       \n",
            "_________________________________________________________________\n",
            "activation_2 (Activation)    (None, 128, 128, 64)      0         \n",
            "_________________________________________________________________\n",
            "conv2d_3 (Conv2D)            (None, 128, 128, 64)      36928     \n",
            "_________________________________________________________________\n",
            "batch_normalization_3 (Batch (None, 128, 128, 64)      256       \n",
            "_________________________________________________________________\n",
            "activation_3 (Activation)    (None, 128, 128, 64)      0         \n",
            "_________________________________________________________________\n",
            "max_pooling2d_1 (MaxPooling2 (None, 64, 64, 64)        0         \n",
            "_________________________________________________________________\n",
            "dropout_1 (Dropout)          (None, 64, 64, 64)        0         \n",
            "_________________________________________________________________\n",
            "conv2d_4 (Conv2D)            (None, 64, 64, 128)       73856     \n",
            "_________________________________________________________________\n",
            "batch_normalization_4 (Batch (None, 64, 64, 128)       512       \n",
            "_________________________________________________________________\n",
            "activation_4 (Activation)    (None, 64, 64, 128)       0         \n",
            "_________________________________________________________________\n",
            "conv2d_5 (Conv2D)            (None, 64, 64, 128)       147584    \n",
            "_________________________________________________________________\n",
            "batch_normalization_5 (Batch (None, 64, 64, 128)       512       \n",
            "_________________________________________________________________\n",
            "activation_5 (Activation)    (None, 64, 64, 128)       0         \n",
            "_________________________________________________________________\n",
            "max_pooling2d_2 (MaxPooling2 (None, 32, 32, 128)       0         \n",
            "_________________________________________________________________\n",
            "dropout_2 (Dropout)          (None, 32, 32, 128)       0         \n",
            "_________________________________________________________________\n",
            "conv2d_6 (Conv2D)            (None, 32, 32, 64)        73792     \n",
            "_________________________________________________________________\n",
            "batch_normalization_6 (Batch (None, 32, 32, 64)        256       \n",
            "_________________________________________________________________\n",
            "activation_6 (Activation)    (None, 32, 32, 64)        0         \n",
            "_________________________________________________________________\n",
            "conv2d_7 (Conv2D)            (None, 32, 32, 64)        36928     \n",
            "_________________________________________________________________\n",
            "batch_normalization_7 (Batch (None, 32, 32, 64)        256       \n",
            "_________________________________________________________________\n",
            "activation_7 (Activation)    (None, 32, 32, 64)        0         \n",
            "_________________________________________________________________\n",
            "max_pooling2d_3 (MaxPooling2 (None, 16, 16, 64)        0         \n",
            "_________________________________________________________________\n",
            "dropout_3 (Dropout)          (None, 16, 16, 64)        0         \n",
            "_________________________________________________________________\n",
            "conv2d_8 (Conv2D)            (None, 16, 16, 64)        36928     \n",
            "_________________________________________________________________\n",
            "batch_normalization_8 (Batch (None, 16, 16, 64)        256       \n",
            "_________________________________________________________________\n",
            "activation_8 (Activation)    (None, 16, 16, 64)        0         \n",
            "_________________________________________________________________\n",
            "conv2d_9 (Conv2D)            (None, 16, 16, 64)        36928     \n",
            "_________________________________________________________________\n",
            "batch_normalization_9 (Batch (None, 16, 16, 64)        256       \n",
            "_________________________________________________________________\n",
            "activation_9 (Activation)    (None, 16, 16, 64)        0         \n",
            "_________________________________________________________________\n",
            "max_pooling2d_4 (MaxPooling2 (None, 8, 8, 64)          0         \n",
            "_________________________________________________________________\n",
            "dropout_4 (Dropout)          (None, 8, 8, 64)          0         \n",
            "_________________________________________________________________\n",
            "conv2d_10 (Conv2D)           (None, 8, 8, 64)          36928     \n",
            "_________________________________________________________________\n",
            "batch_normalization_10 (Batc (None, 8, 8, 64)          256       \n",
            "_________________________________________________________________\n",
            "activation_10 (Activation)   (None, 8, 8, 64)          0         \n",
            "_________________________________________________________________\n",
            "conv2d_11 (Conv2D)           (None, 8, 8, 64)          36928     \n",
            "_________________________________________________________________\n",
            "batch_normalization_11 (Batc (None, 8, 8, 64)          256       \n",
            "_________________________________________________________________\n",
            "activation_11 (Activation)   (None, 8, 8, 64)          0         \n",
            "_________________________________________________________________\n",
            "max_pooling2d_5 (MaxPooling2 (None, 4, 4, 64)          0         \n",
            "_________________________________________________________________\n",
            "conv2d_12 (Conv2D)           (None, 4, 4, 64)          36928     \n",
            "_________________________________________________________________\n",
            "batch_normalization_12 (Batc (None, 4, 4, 64)          256       \n",
            "_________________________________________________________________\n",
            "activation_12 (Activation)   (None, 4, 4, 64)          0         \n",
            "_________________________________________________________________\n",
            "conv2d_13 (Conv2D)           (None, 4, 4, 64)          36928     \n",
            "_________________________________________________________________\n",
            "batch_normalization_13 (Batc (None, 4, 4, 64)          256       \n",
            "_________________________________________________________________\n",
            "activation_13 (Activation)   (None, 4, 4, 64)          0         \n",
            "_________________________________________________________________\n",
            "max_pooling2d_6 (MaxPooling2 (None, 2, 2, 64)          0         \n",
            "_________________________________________________________________\n",
            "dropout_5 (Dropout)          (None, 2, 2, 64)          0         \n",
            "_________________________________________________________________\n",
            "conv2d_14 (Conv2D)           (None, 2, 2, 128)         73856     \n",
            "_________________________________________________________________\n",
            "batch_normalization_14 (Batc (None, 2, 2, 128)         512       \n",
            "_________________________________________________________________\n",
            "activation_14 (Activation)   (None, 2, 2, 128)         0         \n",
            "_________________________________________________________________\n",
            "conv2d_15 (Conv2D)           (None, 2, 2, 128)         147584    \n",
            "_________________________________________________________________\n",
            "batch_normalization_15 (Batc (None, 2, 2, 128)         512       \n",
            "_________________________________________________________________\n",
            "activation_15 (Activation)   (None, 2, 2, 128)         0         \n",
            "_________________________________________________________________\n",
            "max_pooling2d_7 (MaxPooling2 (None, 1, 1, 128)         0         \n",
            "_________________________________________________________________\n",
            "dropout_6 (Dropout)          (None, 1, 1, 128)         0         \n",
            "_________________________________________________________________\n",
            "conv2d_16 (Conv2D)           (None, 1, 1, 64)          73792     \n",
            "_________________________________________________________________\n",
            "batch_normalization_16 (Batc (None, 1, 1, 64)          256       \n",
            "_________________________________________________________________\n",
            "activation_16 (Activation)   (None, 1, 1, 64)          0         \n",
            "_________________________________________________________________\n",
            "conv2d_17 (Conv2D)           (None, 1, 1, 64)          36928     \n",
            "_________________________________________________________________\n",
            "batch_normalization_17 (Batc (None, 1, 1, 64)          256       \n",
            "_________________________________________________________________\n",
            "activation_17 (Activation)   (None, 1, 1, 64)          0         \n",
            "_________________________________________________________________\n",
            "max_pooling2d_8 (MaxPooling2 (None, 1, 1, 64)          0         \n",
            "_________________________________________________________________\n",
            "conv2d_18 (Conv2D)           (None, 1, 1, 64)          36928     \n",
            "_________________________________________________________________\n",
            "batch_normalization_18 (Batc (None, 1, 1, 64)          256       \n",
            "_________________________________________________________________\n",
            "activation_18 (Activation)   (None, 1, 1, 64)          0         \n",
            "_________________________________________________________________\n",
            "conv2d_19 (Conv2D)           (None, 1, 1, 64)          36928     \n",
            "_________________________________________________________________\n",
            "batch_normalization_19 (Batc (None, 1, 1, 64)          256       \n",
            "_________________________________________________________________\n",
            "activation_19 (Activation)   (None, 1, 1, 64)          0         \n",
            "_________________________________________________________________\n",
            "max_pooling2d_9 (MaxPooling2 (None, 1, 1, 64)          0         \n",
            "_________________________________________________________________\n",
            "conv2d_20 (Conv2D)           (None, 1, 1, 64)          36928     \n",
            "_________________________________________________________________\n",
            "batch_normalization_20 (Batc (None, 1, 1, 64)          256       \n",
            "_________________________________________________________________\n",
            "activation_20 (Activation)   (None, 1, 1, 64)          0         \n",
            "_________________________________________________________________\n",
            "conv2d_21 (Conv2D)           (None, 1, 1, 64)          36928     \n",
            "_________________________________________________________________\n",
            "batch_normalization_21 (Batc (None, 1, 1, 64)          256       \n",
            "_________________________________________________________________\n",
            "activation_21 (Activation)   (None, 1, 1, 64)          0         \n",
            "_________________________________________________________________\n",
            "max_pooling2d_10 (MaxPooling (None, 1, 1, 64)          0         \n",
            "_________________________________________________________________\n",
            "conv2d_22 (Conv2D)           (None, 1, 1, 64)          36928     \n",
            "_________________________________________________________________\n",
            "batch_normalization_22 (Batc (None, 1, 1, 64)          256       \n",
            "_________________________________________________________________\n",
            "activation_22 (Activation)   (None, 1, 1, 64)          0         \n",
            "_________________________________________________________________\n",
            "conv2d_23 (Conv2D)           (None, 1, 1, 64)          36928     \n",
            "_________________________________________________________________\n",
            "batch_normalization_23 (Batc (None, 1, 1, 64)          256       \n",
            "_________________________________________________________________\n",
            "activation_23 (Activation)   (None, 1, 1, 64)          0         \n",
            "_________________________________________________________________\n",
            "max_pooling2d_11 (MaxPooling (None, 1, 1, 64)          0         \n",
            "_________________________________________________________________\n",
            "conv2d_24 (Conv2D)           (None, 1, 1, 128)         73856     \n",
            "_________________________________________________________________\n",
            "batch_normalization_24 (Batc (None, 1, 1, 128)         512       \n",
            "_________________________________________________________________\n",
            "activation_24 (Activation)   (None, 1, 1, 128)         0         \n",
            "_________________________________________________________________\n",
            "conv2d_25 (Conv2D)           (None, 1, 1, 128)         147584    \n",
            "_________________________________________________________________\n",
            "batch_normalization_25 (Batc (None, 1, 1, 128)         512       \n",
            "_________________________________________________________________\n",
            "activation_25 (Activation)   (None, 1, 1, 128)         0         \n",
            "_________________________________________________________________\n",
            "max_pooling2d_12 (MaxPooling (None, 1, 1, 128)         0         \n",
            "_________________________________________________________________\n",
            "dropout_7 (Dropout)          (None, 1, 1, 128)         0         \n",
            "_________________________________________________________________\n",
            "flatten (Flatten)            (None, 128)               0         \n",
            "_________________________________________________________________\n",
            "dense (Dense)                (None, 256)               33024     \n",
            "_________________________________________________________________\n",
            "batch_normalization_26 (Batc (None, 256)               1024      \n",
            "_________________________________________________________________\n",
            "activation_26 (Activation)   (None, 256)               0         \n",
            "_________________________________________________________________\n",
            "dense_1 (Dense)              (None, 3)                 771       \n",
            "=================================================================\n",
            "Total params: 1,437,219\n",
            "Trainable params: 1,432,739\n",
            "Non-trainable params: 4,480\n",
            "_________________________________________________________________\n"
          ]
        }
      ],
      "source": [
        "model.summary()"
      ]
    },
    {
      "cell_type": "code",
      "execution_count": 19,
      "metadata": {},
      "outputs": [],
      "source": [
        "from tensorflow.keras.callbacks import EarlyStopping, ModelCheckpoint\n",
        "es = EarlyStopping(monitor='val_loss', mode='min', verbose=1, patience=10)\n",
        "mc = ModelCheckpoint('data/model/cucumber_best.h5', monitor='val_acc', mode='max', verbose=1, save_best_only=True)\n",
        "# es : 검증 데이터 손실(val_loss)이 증가하면, 과적합 징후므로 검증 데이터 손실이 10회 증가하면 학습을 조기 종료(Early Stopping)합니다. \n",
        "# mc : 또한, ModelCheckpoint를 사용하여 검증 데이터의 정확도(val_acc)가 이전보다 좋아질 경우에만 모델을 저장합니다."
      ]
    },
    {
      "cell_type": "code",
      "execution_count": 20,
      "metadata": {},
      "outputs": [],
      "source": [
        "model.compile(\n",
        "    optimizer = Adam(1e-4),\n",
        "    loss = 'sparse_categorical_crossentropy',\n",
        "    metrics = ['acc']\n",
        ")"
      ]
    },
    {
      "cell_type": "code",
      "execution_count": 21,
      "metadata": {},
      "outputs": [
        {
          "name": "stdout",
          "output_type": "stream",
          "text": [
            "Epoch 1/100\n",
            "94/94 [==============================] - 42s 335ms/step - loss: 63.1744 - acc: 0.3407 - val_loss: 59.7008 - val_acc: 0.0506\n",
            "\n",
            "Epoch 00001: val_acc improved from -inf to 0.05059, saving model to data/model\\cucumber_best.h5\n",
            "Epoch 2/100\n",
            "94/94 [==============================] - 24s 253ms/step - loss: 56.9177 - acc: 0.3737 - val_loss: 54.3789 - val_acc: 0.0506\n",
            "\n",
            "Epoch 00002: val_acc did not improve from 0.05059\n",
            "Epoch 3/100\n",
            "94/94 [==============================] - 24s 253ms/step - loss: 52.1994 - acc: 0.3753 - val_loss: 50.4092 - val_acc: 0.0506\n",
            "\n",
            "Epoch 00003: val_acc did not improve from 0.05059\n",
            "Epoch 4/100\n",
            "94/94 [==============================] - 23s 249ms/step - loss: 48.6487 - acc: 0.3803 - val_loss: 47.3804 - val_acc: 0.0524\n",
            "\n",
            "Epoch 00004: val_acc improved from 0.05059 to 0.05239, saving model to data/model\\cucumber_best.h5\n",
            "Epoch 5/100\n",
            "94/94 [==============================] - 23s 249ms/step - loss: 46.0592 - acc: 0.3817 - val_loss: 45.3307 - val_acc: 0.0434\n",
            "\n",
            "Epoch 00005: val_acc did not improve from 0.05239\n",
            "Epoch 6/100\n",
            "94/94 [==============================] - 23s 248ms/step - loss: 44.2272 - acc: 0.3880 - val_loss: 44.0646 - val_acc: 0.0506\n",
            "\n",
            "Epoch 00006: val_acc did not improve from 0.05239\n",
            "Epoch 7/100\n",
            "94/94 [==============================] - 23s 249ms/step - loss: 42.9959 - acc: 0.4013 - val_loss: 43.3940 - val_acc: 0.0488\n",
            "\n",
            "Epoch 00007: val_acc did not improve from 0.05239\n",
            "Epoch 8/100\n",
            "94/94 [==============================] - 24s 255ms/step - loss: 42.1665 - acc: 0.4377 - val_loss: 42.7538 - val_acc: 0.0488\n",
            "\n",
            "Epoch 00008: val_acc did not improve from 0.05239\n",
            "Epoch 9/100\n",
            "94/94 [==============================] - 24s 252ms/step - loss: 41.5835 - acc: 0.4460 - val_loss: 42.5073 - val_acc: 0.0515\n",
            "\n",
            "Epoch 00009: val_acc did not improve from 0.05239\n",
            "Epoch 10/100\n",
            "94/94 [==============================] - 24s 250ms/step - loss: 41.1529 - acc: 0.4617 - val_loss: 42.6105 - val_acc: 0.0434\n",
            "\n",
            "Epoch 00010: val_acc did not improve from 0.05239\n",
            "Epoch 11/100\n",
            "94/94 [==============================] - 23s 249ms/step - loss: 40.8009 - acc: 0.4720 - val_loss: 42.3927 - val_acc: 0.0470\n",
            "\n",
            "Epoch 00011: val_acc did not improve from 0.05239\n",
            "Epoch 12/100\n",
            "94/94 [==============================] - 23s 248ms/step - loss: 40.3906 - acc: 0.4920 - val_loss: 41.5987 - val_acc: 0.0452\n",
            "\n",
            "Epoch 00012: val_acc did not improve from 0.05239\n",
            "Epoch 13/100\n",
            "94/94 [==============================] - 23s 249ms/step - loss: 39.9971 - acc: 0.5170 - val_loss: 41.6764 - val_acc: 0.0407\n",
            "\n",
            "Epoch 00013: val_acc did not improve from 0.05239\n",
            "Epoch 14/100\n",
            "94/94 [==============================] - 23s 249ms/step - loss: 39.5777 - acc: 0.5397 - val_loss: 41.4326 - val_acc: 0.0623\n",
            "\n",
            "Epoch 00014: val_acc improved from 0.05239 to 0.06233, saving model to data/model\\cucumber_best.h5\n",
            "Epoch 15/100\n",
            "94/94 [==============================] - 23s 250ms/step - loss: 39.1717 - acc: 0.5683 - val_loss: 41.0666 - val_acc: 0.0678\n",
            "\n",
            "Epoch 00015: val_acc improved from 0.06233 to 0.06775, saving model to data/model\\cucumber_best.h5\n",
            "Epoch 16/100\n",
            "94/94 [==============================] - 24s 250ms/step - loss: 38.7443 - acc: 0.5847 - val_loss: 40.7120 - val_acc: 0.0804\n",
            "\n",
            "Epoch 00016: val_acc improved from 0.06775 to 0.08040, saving model to data/model\\cucumber_best.h5\n",
            "Epoch 17/100\n",
            "94/94 [==============================] - 24s 254ms/step - loss: 38.3123 - acc: 0.6073 - val_loss: 40.3725 - val_acc: 0.0894\n",
            "\n",
            "Epoch 00017: val_acc improved from 0.08040 to 0.08943, saving model to data/model\\cucumber_best.h5\n",
            "Epoch 18/100\n",
            "94/94 [==============================] - 23s 249ms/step - loss: 37.8638 - acc: 0.6543 - val_loss: 39.9580 - val_acc: 0.0858\n",
            "\n",
            "Epoch 00018: val_acc did not improve from 0.08943\n",
            "Epoch 19/100\n",
            "94/94 [==============================] - 23s 249ms/step - loss: 37.4327 - acc: 0.6790 - val_loss: 40.0342 - val_acc: 0.0650\n",
            "\n",
            "Epoch 00019: val_acc did not improve from 0.08943\n",
            "Epoch 20/100\n",
            "94/94 [==============================] - 23s 246ms/step - loss: 36.9686 - acc: 0.7343 - val_loss: 39.7653 - val_acc: 0.0939\n",
            "\n",
            "Epoch 00020: val_acc improved from 0.08943 to 0.09395, saving model to data/model\\cucumber_best.h5\n",
            "Epoch 21/100\n",
            "94/94 [==============================] - 23s 250ms/step - loss: 36.5045 - acc: 0.7667 - val_loss: 39.7784 - val_acc: 0.0542\n",
            "\n",
            "Epoch 00021: val_acc did not improve from 0.09395\n",
            "Epoch 22/100\n",
            "94/94 [==============================] - 23s 250ms/step - loss: 36.0503 - acc: 0.7880 - val_loss: 39.2412 - val_acc: 0.0659\n",
            "\n",
            "Epoch 00022: val_acc did not improve from 0.09395\n",
            "Epoch 23/100\n",
            "94/94 [==============================] - 24s 254ms/step - loss: 35.6075 - acc: 0.8020 - val_loss: 38.5462 - val_acc: 0.0578\n",
            "\n",
            "Epoch 00023: val_acc did not improve from 0.09395\n",
            "Epoch 24/100\n",
            "94/94 [==============================] - 24s 253ms/step - loss: 35.1311 - acc: 0.8033 - val_loss: 38.5511 - val_acc: 0.0596\n",
            "\n",
            "Epoch 00024: val_acc did not improve from 0.09395\n",
            "Epoch 25/100\n",
            "94/94 [==============================] - 24s 250ms/step - loss: 34.6285 - acc: 0.8387 - val_loss: 37.6947 - val_acc: 0.0723\n",
            "\n",
            "Epoch 00025: val_acc did not improve from 0.09395\n",
            "Epoch 26/100\n",
            "94/94 [==============================] - 23s 250ms/step - loss: 34.1547 - acc: 0.8567 - val_loss: 37.4562 - val_acc: 0.0696\n",
            "\n",
            "Epoch 00026: val_acc did not improve from 0.09395\n",
            "Epoch 27/100\n",
            "94/94 [==============================] - 24s 259ms/step - loss: 33.6873 - acc: 0.8503 - val_loss: 37.1165 - val_acc: 0.0705\n",
            "\n",
            "Epoch 00027: val_acc did not improve from 0.09395\n",
            "Epoch 28/100\n",
            "94/94 [==============================] - 25s 262ms/step - loss: 33.1894 - acc: 0.8637 - val_loss: 36.4999 - val_acc: 0.0777\n",
            "\n",
            "Epoch 00028: val_acc did not improve from 0.09395\n",
            "Epoch 29/100\n",
            "94/94 [==============================] - 24s 256ms/step - loss: 32.7047 - acc: 0.8767 - val_loss: 36.3874 - val_acc: 0.0614\n",
            "\n",
            "Epoch 00029: val_acc did not improve from 0.09395\n",
            "Epoch 30/100\n",
            "94/94 [==============================] - 24s 258ms/step - loss: 32.1805 - acc: 0.8830 - val_loss: 35.2819 - val_acc: 0.0777\n",
            "\n",
            "Epoch 00030: val_acc did not improve from 0.09395\n",
            "Epoch 31/100\n",
            "94/94 [==============================] - 24s 254ms/step - loss: 31.6976 - acc: 0.8763 - val_loss: 35.0168 - val_acc: 0.0822\n",
            "\n",
            "Epoch 00031: val_acc did not improve from 0.09395\n",
            "Epoch 32/100\n",
            "94/94 [==============================] - 24s 253ms/step - loss: 31.1339 - acc: 0.9050 - val_loss: 34.6447 - val_acc: 0.0849\n",
            "\n",
            "Epoch 00032: val_acc did not improve from 0.09395\n",
            "Epoch 33/100\n",
            "94/94 [==============================] - 24s 256ms/step - loss: 30.6458 - acc: 0.8983 - val_loss: 33.8844 - val_acc: 0.0795\n",
            "\n",
            "Epoch 00033: val_acc did not improve from 0.09395\n",
            "Epoch 34/100\n",
            "94/94 [==============================] - 24s 254ms/step - loss: 30.0984 - acc: 0.9143 - val_loss: 32.9708 - val_acc: 0.0930\n",
            "\n",
            "Epoch 00034: val_acc did not improve from 0.09395\n",
            "Epoch 35/100\n",
            "94/94 [==============================] - 24s 253ms/step - loss: 29.5810 - acc: 0.9120 - val_loss: 32.8226 - val_acc: 0.0858\n",
            "\n",
            "Epoch 00035: val_acc did not improve from 0.09395\n",
            "Epoch 36/100\n",
            "94/94 [==============================] - 24s 255ms/step - loss: 29.0302 - acc: 0.9187 - val_loss: 32.2646 - val_acc: 0.0867\n",
            "\n",
            "Epoch 00036: val_acc did not improve from 0.09395\n",
            "Epoch 37/100\n",
            "94/94 [==============================] - 24s 254ms/step - loss: 28.5068 - acc: 0.9170 - val_loss: 31.3323 - val_acc: 0.0804\n",
            "\n",
            "Epoch 00037: val_acc did not improve from 0.09395\n",
            "Epoch 38/100\n",
            "94/94 [==============================] - 24s 253ms/step - loss: 27.9350 - acc: 0.9243 - val_loss: 31.2778 - val_acc: 0.0912\n",
            "\n",
            "Epoch 00038: val_acc did not improve from 0.09395\n",
            "Epoch 39/100\n",
            "94/94 [==============================] - 24s 254ms/step - loss: 27.3641 - acc: 0.9387 - val_loss: 30.9641 - val_acc: 0.0678\n",
            "\n",
            "Epoch 00039: val_acc did not improve from 0.09395\n",
            "Epoch 40/100\n",
            "94/94 [==============================] - 24s 252ms/step - loss: 26.8285 - acc: 0.9287 - val_loss: 29.2749 - val_acc: 0.0912\n",
            "\n",
            "Epoch 00040: val_acc did not improve from 0.09395\n",
            "Epoch 41/100\n",
            "94/94 [==============================] - 24s 251ms/step - loss: 26.2599 - acc: 0.9327 - val_loss: 28.5437 - val_acc: 0.1247\n",
            "\n",
            "Epoch 00041: val_acc improved from 0.09395 to 0.12466, saving model to data/model\\cucumber_best.h5\n",
            "Epoch 42/100\n",
            "94/94 [==============================] - 23s 250ms/step - loss: 25.6866 - acc: 0.9387 - val_loss: 28.3439 - val_acc: 0.0777\n",
            "\n",
            "Epoch 00042: val_acc did not improve from 0.12466\n",
            "Epoch 43/100\n",
            "94/94 [==============================] - 23s 250ms/step - loss: 25.1108 - acc: 0.9450 - val_loss: 28.4529 - val_acc: 0.0867\n",
            "\n",
            "Epoch 00043: val_acc did not improve from 0.12466\n",
            "Epoch 44/100\n",
            "94/94 [==============================] - 24s 250ms/step - loss: 24.5556 - acc: 0.9387 - val_loss: 27.5809 - val_acc: 0.1012\n",
            "\n",
            "Epoch 00044: val_acc did not improve from 0.12466\n",
            "Epoch 45/100\n",
            "94/94 [==============================] - 23s 250ms/step - loss: 23.9293 - acc: 0.9537 - val_loss: 26.8446 - val_acc: 0.0976\n",
            "\n",
            "Epoch 00045: val_acc did not improve from 0.12466\n",
            "Epoch 46/100\n",
            "94/94 [==============================] - 23s 249ms/step - loss: 23.3510 - acc: 0.9527 - val_loss: 26.1314 - val_acc: 0.1138\n",
            "\n",
            "Epoch 00046: val_acc did not improve from 0.12466\n",
            "Epoch 47/100\n",
            "94/94 [==============================] - 23s 248ms/step - loss: 22.7577 - acc: 0.9533 - val_loss: 24.6955 - val_acc: 0.1834\n",
            "\n",
            "Epoch 00047: val_acc improved from 0.12466 to 0.18338, saving model to data/model\\cucumber_best.h5\n",
            "Epoch 48/100\n",
            "94/94 [==============================] - 23s 249ms/step - loss: 22.1715 - acc: 0.9557 - val_loss: 24.9263 - val_acc: 0.0939\n",
            "\n",
            "Epoch 00048: val_acc did not improve from 0.18338\n",
            "Epoch 49/100\n",
            "94/94 [==============================] - 23s 244ms/step - loss: 21.5832 - acc: 0.9617 - val_loss: 23.0849 - val_acc: 0.3677\n",
            "\n",
            "Epoch 00049: val_acc improved from 0.18338 to 0.36766, saving model to data/model\\cucumber_best.h5\n",
            "Epoch 50/100\n",
            "94/94 [==============================] - 20s 216ms/step - loss: 20.9793 - acc: 0.9617 - val_loss: 23.8173 - val_acc: 0.1039\n",
            "\n",
            "Epoch 00050: val_acc did not improve from 0.36766\n",
            "Epoch 51/100\n",
            "94/94 [==============================] - 20s 216ms/step - loss: 20.3788 - acc: 0.9630 - val_loss: 23.2622 - val_acc: 0.0985\n",
            "\n",
            "Epoch 00051: val_acc did not improve from 0.36766\n",
            "Epoch 52/100\n",
            "94/94 [==============================] - 20s 216ms/step - loss: 19.8562 - acc: 0.9487 - val_loss: 21.7020 - val_acc: 0.3252\n",
            "\n",
            "Epoch 00052: val_acc did not improve from 0.36766\n",
            "Epoch 53/100\n",
            "94/94 [==============================] - 20s 216ms/step - loss: 19.2461 - acc: 0.9567 - val_loss: 21.7784 - val_acc: 0.1039\n",
            "\n",
            "Epoch 00053: val_acc did not improve from 0.36766\n",
            "Epoch 54/100\n",
            "94/94 [==============================] - 20s 216ms/step - loss: 18.6257 - acc: 0.9680 - val_loss: 21.0363 - val_acc: 0.1129\n",
            "\n",
            "Epoch 00054: val_acc did not improve from 0.36766\n",
            "Epoch 55/100\n",
            "94/94 [==============================] - 20s 216ms/step - loss: 18.0235 - acc: 0.9713 - val_loss: 20.7600 - val_acc: 0.0967\n",
            "\n",
            "Epoch 00055: val_acc did not improve from 0.36766\n",
            "Epoch 56/100\n",
            "94/94 [==============================] - 20s 216ms/step - loss: 17.4537 - acc: 0.9663 - val_loss: 18.8453 - val_acc: 0.3198\n",
            "\n",
            "Epoch 00056: val_acc did not improve from 0.36766\n",
            "Epoch 57/100\n",
            "94/94 [==============================] - 20s 216ms/step - loss: 16.8880 - acc: 0.9620 - val_loss: 19.5687 - val_acc: 0.1355\n",
            "\n",
            "Epoch 00057: val_acc did not improve from 0.36766\n",
            "Epoch 58/100\n",
            "94/94 [==============================] - 20s 218ms/step - loss: 16.3424 - acc: 0.9620 - val_loss: 18.6441 - val_acc: 0.1915\n",
            "\n",
            "Epoch 00058: val_acc did not improve from 0.36766\n",
            "Epoch 59/100\n",
            "94/94 [==============================] - 20s 213ms/step - loss: 15.7281 - acc: 0.9720 - val_loss: 18.4981 - val_acc: 0.1861\n",
            "\n",
            "Epoch 00059: val_acc did not improve from 0.36766\n",
            "Epoch 60/100\n",
            "94/94 [==============================] - 19s 202ms/step - loss: 15.1583 - acc: 0.9730 - val_loss: 17.8331 - val_acc: 0.1915\n",
            "\n",
            "Epoch 00060: val_acc did not improve from 0.36766\n",
            "Epoch 61/100\n",
            "94/94 [==============================] - 20s 213ms/step - loss: 14.6214 - acc: 0.9630 - val_loss: 16.4572 - val_acc: 0.2963\n",
            "\n",
            "Epoch 00061: val_acc did not improve from 0.36766\n",
            "Epoch 62/100\n",
            "94/94 [==============================] - 20s 213ms/step - loss: 14.0687 - acc: 0.9723 - val_loss: 16.3132 - val_acc: 0.0930\n",
            "\n",
            "Epoch 00062: val_acc did not improve from 0.36766\n",
            "Epoch 63/100\n",
            "94/94 [==============================] - 20s 213ms/step - loss: 13.5275 - acc: 0.9703 - val_loss: 15.8982 - val_acc: 0.2087\n",
            "\n",
            "Epoch 00063: val_acc did not improve from 0.36766\n",
            "Epoch 64/100\n",
            "94/94 [==============================] - 20s 213ms/step - loss: 13.0178 - acc: 0.9627 - val_loss: 14.7834 - val_acc: 0.3162\n",
            "\n",
            "Epoch 00064: val_acc did not improve from 0.36766\n",
            "Epoch 65/100\n",
            "94/94 [==============================] - 20s 213ms/step - loss: 12.4623 - acc: 0.9727 - val_loss: 14.5592 - val_acc: 0.2340\n",
            "\n",
            "Epoch 00065: val_acc did not improve from 0.36766\n",
            "Epoch 66/100\n",
            "94/94 [==============================] - 20s 213ms/step - loss: 11.9609 - acc: 0.9687 - val_loss: 14.3314 - val_acc: 0.1951\n",
            "\n",
            "Epoch 00066: val_acc did not improve from 0.36766\n",
            "Epoch 67/100\n",
            "94/94 [==============================] - 20s 213ms/step - loss: 11.5021 - acc: 0.9637 - val_loss: 13.3948 - val_acc: 0.1780\n",
            "\n",
            "Epoch 00067: val_acc did not improve from 0.36766\n",
            "Epoch 68/100\n",
            "94/94 [==============================] - 20s 213ms/step - loss: 11.0223 - acc: 0.9663 - val_loss: 13.2845 - val_acc: 0.2159\n",
            "\n",
            "Epoch 00068: val_acc did not improve from 0.36766\n",
            "Epoch 69/100\n",
            "94/94 [==============================] - 20s 213ms/step - loss: 10.5275 - acc: 0.9693 - val_loss: 13.1364 - val_acc: 0.2023\n",
            "\n",
            "Epoch 00069: val_acc did not improve from 0.36766\n",
            "Epoch 70/100\n",
            "94/94 [==============================] - 20s 213ms/step - loss: 10.0746 - acc: 0.9683 - val_loss: 11.4889 - val_acc: 0.3017\n",
            "\n",
            "Epoch 00070: val_acc did not improve from 0.36766\n",
            "Epoch 71/100\n",
            "94/94 [==============================] - 20s 213ms/step - loss: 9.6466 - acc: 0.9667 - val_loss: 12.3207 - val_acc: 0.0813\n",
            "\n",
            "Epoch 00071: val_acc did not improve from 0.36766\n",
            "Epoch 72/100\n",
            "94/94 [==============================] - 20s 213ms/step - loss: 9.1306 - acc: 0.9793 - val_loss: 11.2127 - val_acc: 0.2258\n",
            "\n",
            "Epoch 00072: val_acc did not improve from 0.36766\n",
            "Epoch 73/100\n",
            "94/94 [==============================] - 20s 213ms/step - loss: 8.7131 - acc: 0.9743 - val_loss: 10.1102 - val_acc: 0.4101\n",
            "\n",
            "Epoch 00073: val_acc improved from 0.36766 to 0.41012, saving model to data/model\\cucumber_best.h5\n",
            "Epoch 74/100\n",
            "94/94 [==============================] - 20s 213ms/step - loss: 8.3785 - acc: 0.9637 - val_loss: 11.9471 - val_acc: 0.0786\n",
            "\n",
            "Epoch 00074: val_acc did not improve from 0.41012\n",
            "Epoch 75/100\n",
            "94/94 [==============================] - 20s 213ms/step - loss: 7.9726 - acc: 0.9707 - val_loss: 9.7117 - val_acc: 0.2141\n",
            "\n",
            "Epoch 00075: val_acc did not improve from 0.41012\n",
            "Epoch 76/100\n",
            "94/94 [==============================] - 20s 213ms/step - loss: 7.6205 - acc: 0.9667 - val_loss: 8.8667 - val_acc: 0.4571\n",
            "\n",
            "Epoch 00076: val_acc improved from 0.41012 to 0.45709, saving model to data/model\\cucumber_best.h5\n",
            "Epoch 77/100\n",
            "94/94 [==============================] - 20s 213ms/step - loss: 7.3643 - acc: 0.9500 - val_loss: 9.4402 - val_acc: 0.4065\n",
            "\n",
            "Epoch 00077: val_acc did not improve from 0.45709\n",
            "Epoch 78/100\n",
            "94/94 [==============================] - 20s 213ms/step - loss: 6.9726 - acc: 0.9627 - val_loss: 8.3847 - val_acc: 0.3586\n",
            "\n",
            "Epoch 00078: val_acc did not improve from 0.45709\n",
            "Epoch 79/100\n",
            "94/94 [==============================] - 20s 213ms/step - loss: 6.5651 - acc: 0.9773 - val_loss: 8.9338 - val_acc: 0.2394\n",
            "\n",
            "Epoch 00079: val_acc did not improve from 0.45709\n",
            "Epoch 80/100\n",
            "94/94 [==============================] - 20s 213ms/step - loss: 6.2119 - acc: 0.9763 - val_loss: 8.9084 - val_acc: 0.2466\n",
            "\n",
            "Epoch 00080: val_acc did not improve from 0.45709\n",
            "Epoch 81/100\n",
            "94/94 [==============================] - 20s 213ms/step - loss: 5.8745 - acc: 0.9837 - val_loss: 8.3711 - val_acc: 0.1545\n",
            "\n",
            "Epoch 00081: val_acc did not improve from 0.45709\n",
            "Epoch 82/100\n",
            "94/94 [==============================] - 20s 213ms/step - loss: 5.6431 - acc: 0.9693 - val_loss: 6.9825 - val_acc: 0.4977\n",
            "\n",
            "Epoch 00082: val_acc improved from 0.45709 to 0.49774, saving model to data/model\\cucumber_best.h5\n",
            "Epoch 83/100\n",
            "94/94 [==============================] - 20s 213ms/step - loss: 5.5693 - acc: 0.9473 - val_loss: 8.0103 - val_acc: 0.4544\n",
            "\n",
            "Epoch 00083: val_acc did not improve from 0.49774\n",
            "Epoch 84/100\n",
            "94/94 [==============================] - 20s 213ms/step - loss: 5.2326 - acc: 0.9657 - val_loss: 7.2856 - val_acc: 0.2556\n",
            "\n",
            "Epoch 00084: val_acc did not improve from 0.49774\n",
            "Epoch 85/100\n",
            "94/94 [==============================] - 20s 213ms/step - loss: 4.9298 - acc: 0.9733 - val_loss: 7.0850 - val_acc: 0.4715\n",
            "\n",
            "Epoch 00085: val_acc did not improve from 0.49774\n",
            "Epoch 86/100\n",
            "94/94 [==============================] - 20s 213ms/step - loss: 4.6130 - acc: 0.9783 - val_loss: 6.8174 - val_acc: 0.1174\n",
            "\n",
            "Epoch 00086: val_acc did not improve from 0.49774\n",
            "Epoch 87/100\n",
            "94/94 [==============================] - 20s 213ms/step - loss: 4.4735 - acc: 0.9657 - val_loss: 7.0973 - val_acc: 0.2294\n",
            "\n",
            "Epoch 00087: val_acc did not improve from 0.49774\n",
            "Epoch 88/100\n",
            "94/94 [==============================] - 20s 213ms/step - loss: 4.2913 - acc: 0.9623 - val_loss: 5.7888 - val_acc: 0.4607\n",
            "\n",
            "Epoch 00088: val_acc did not improve from 0.49774\n",
            "Epoch 89/100\n",
            "94/94 [==============================] - 20s 213ms/step - loss: 4.0866 - acc: 0.9647 - val_loss: 6.3403 - val_acc: 0.2005\n",
            "\n",
            "Epoch 00089: val_acc did not improve from 0.49774\n",
            "Epoch 90/100\n",
            "94/94 [==============================] - 20s 213ms/step - loss: 3.8862 - acc: 0.9643 - val_loss: 6.8494 - val_acc: 0.1491\n",
            "\n",
            "Epoch 00090: val_acc did not improve from 0.49774\n",
            "Epoch 91/100\n",
            "94/94 [==============================] - 20s 213ms/step - loss: 3.8237 - acc: 0.9543 - val_loss: 5.2087 - val_acc: 0.3830\n",
            "\n",
            "Epoch 00091: val_acc did not improve from 0.49774\n",
            "Epoch 92/100\n",
            "94/94 [==============================] - 20s 213ms/step - loss: 3.6991 - acc: 0.9593 - val_loss: 5.8328 - val_acc: 0.3604\n",
            "\n",
            "Epoch 00092: val_acc did not improve from 0.49774\n",
            "Epoch 93/100\n",
            "94/94 [==============================] - 20s 213ms/step - loss: 3.4316 - acc: 0.9723 - val_loss: 5.8754 - val_acc: 0.3740\n",
            "\n",
            "Epoch 00093: val_acc did not improve from 0.49774\n",
            "Epoch 94/100\n",
            "94/94 [==============================] - 20s 213ms/step - loss: 3.2535 - acc: 0.9743 - val_loss: 6.4272 - val_acc: 0.1436\n",
            "\n",
            "Epoch 00094: val_acc did not improve from 0.49774\n",
            "Epoch 95/100\n",
            "94/94 [==============================] - 20s 213ms/step - loss: 3.1289 - acc: 0.9647 - val_loss: 4.5435 - val_acc: 0.5962\n",
            "\n",
            "Epoch 00095: val_acc improved from 0.49774 to 0.59621, saving model to data/model\\cucumber_best.h5\n",
            "Epoch 96/100\n",
            "94/94 [==============================] - 20s 213ms/step - loss: 3.0303 - acc: 0.9720 - val_loss: 5.7864 - val_acc: 0.2096\n",
            "\n",
            "Epoch 00096: val_acc did not improve from 0.59621\n",
            "Epoch 97/100\n",
            "94/94 [==============================] - 21s 220ms/step - loss: 2.8016 - acc: 0.9823 - val_loss: 5.4716 - val_acc: 0.0958\n",
            "\n",
            "Epoch 00097: val_acc did not improve from 0.59621\n",
            "Epoch 98/100\n",
            "94/94 [==============================] - 21s 228ms/step - loss: 2.8004 - acc: 0.9587 - val_loss: 4.0540 - val_acc: 0.8229\n",
            "\n",
            "Epoch 00098: val_acc improved from 0.59621 to 0.82294, saving model to data/model\\cucumber_best.h5\n",
            "Epoch 99/100\n",
            "94/94 [==============================] - 20s 217ms/step - loss: 2.9555 - acc: 0.9433 - val_loss: 5.4692 - val_acc: 0.4399\n",
            "\n",
            "Epoch 00099: val_acc did not improve from 0.82294\n",
            "Epoch 100/100\n",
            "94/94 [==============================] - 20s 216ms/step - loss: 2.6635 - acc: 0.9650 - val_loss: 5.8327 - val_acc: 0.3162\n",
            "\n",
            "Epoch 00100: val_acc did not improve from 0.82294\n"
          ]
        }
      ],
      "source": [
        "history = model.fit(\n",
        "    X_train_re,y_train,\n",
        "    epochs = 100,\n",
        "    batch_size = 32,\n",
        "    callbacks=[es,mc],\n",
        "    validation_data = (X_val_re, y_val)\n",
        ")"
      ]
    },
    {
      "cell_type": "markdown",
      "metadata": {
        "id": "habGg4u03aOT"
      },
      "source": [
        "## 그래프"
      ]
    },
    {
      "cell_type": "code",
      "execution_count": 22,
      "metadata": {
        "id": "VlNd7zuo3aOT"
      },
      "outputs": [
        {
          "data": {
            "image/png": "[encoded data removed]",
            "text/plain": [
              "<Figure size 720x360 with 2 Axes>"
            ]
          },
          "metadata": {
            "needs_background": "light"
          },
          "output_type": "display_data"
        }
      ],
      "source": [
        "his_dict = history.history\n",
        "loss = his_dict['loss']\n",
        "val_loss = his_dict['val_loss'] \n",
        "epochs = range(1, len(loss) + 1)\n",
        "fig = plt.figure(figsize = (10, 5))\n",
        "# 훈련, 검증 손실\n",
        "ax1 = fig.add_subplot(1, 2, 1)\n",
        "ax1.plot(epochs, loss, color = 'blue', label = 'train_loss')\n",
        "ax1.plot(epochs, val_loss, color = 'orange', label = 'val_loss')\n",
        "ax1.set_title('train and val loss')\n",
        "ax1.set_xlabel('epochs')\n",
        "ax1.set_ylabel('loss')\n",
        "ax1.legend()\n",
        "acc = his_dict['acc']\n",
        "val_acc = his_dict['val_acc']\n",
        "# 훈련, 검증 정확도\n",
        "ax2 = fig.add_subplot(1, 2, 2)\n",
        "ax2.plot(epochs, acc, color = 'blue', label = 'train_acc')\n",
        "ax2.plot(epochs, val_acc, color = 'orange', label = 'val_acc')\n",
        "ax2.set_title('train and val acc')\n",
        "ax2.set_xlabel('epochs')\n",
        "ax2.set_ylabel('acc')\n",
        "ax2.legend()\n",
        "plt.show()"
      ]
    },
    {
      "cell_type": "code",
      "execution_count": 23,
      "metadata": {
        "id": "EMteGjnpACcT"
      },
      "outputs": [
        {
          "name": "stdout",
          "output_type": "stream",
          "text": [
            "35/35 [==============================] - 3s 62ms/step - loss: 4.0540 - acc: 0.8229\n",
            "\n",
            " 테스트 정확도: 0.8229\n"
          ]
        }
      ],
      "source": [
        "from tensorflow.keras.models import load_model\n",
        "loaded_model = load_model('data/model/cucumber_best.h5')\n",
        "print(\"\\n 테스트 정확도: %.4f\" % (loaded_model.evaluate(X_val_re, y_val)[1]))"
      ]
    },
    {
      "cell_type": "code",
      "execution_count": 24,
      "metadata": {},
      "outputs": [],
      "source": [
        "from keras.preprocessing import image\n",
        "\n",
        "def pred(path):      \n",
        "    img = image.load_img(path, target_size=(255, 255))\n",
        "\n",
        "    x=image.img_to_array(img)\n",
        "    x=np.expand_dims(x, axis=0)\n",
        "    images = np.vstack([x])\n",
        "    print(np.shape(images))\n",
        "    classes = loaded_model.predict(images, batch_size=32)\n",
        "\n",
        "    print(classes[0])\n",
        "\n",
        "    if np.argmax(classes[0])==0:\n",
        "        print(path + \" 정상 오이 입니다.\")\n",
        "    elif np.argmax(classes[0])==1:\n",
        "        print(path + \" 오이흰가루병 입니다.\")\n",
        "    elif np.argmax(classes[0])==2:\n",
        "        print(path + \" 오이노균병 입니다.\")"
      ]
    },
    {
      "cell_type": "code",
      "execution_count": 25,
      "metadata": {},
      "outputs": [
        {
          "name": "stdout",
          "output_type": "stream",
          "text": [
            "(1, 255, 255, 3)\n",
            "[1. 0. 0.]\n",
            "data/testimg/0_0.jpg 정상 오이 입니다.\n",
            "(1, 255, 255, 3)\n",
            "[1. 0. 0.]\n",
            "data/testimg/0_1.jpg 정상 오이 입니다.\n",
            "(1, 255, 255, 3)\n",
            "[1. 0. 0.]\n",
            "data/testimg/0_2.jpg 정상 오이 입니다.\n",
            "(1, 255, 255, 3)\n",
            "[1. 0. 0.]\n",
            "data/testimg/0_3.jpg 정상 오이 입니다.\n",
            "(1, 255, 255, 3)\n",
            "[1. 0. 0.]\n",
            "data/testimg/0_4.jpg 정상 오이 입니다.\n",
            "(1, 255, 255, 3)\n",
            "[1. 0. 0.]\n",
            "data/testimg/0_5.jpg 정상 오이 입니다.\n",
            "(1, 255, 255, 3)\n",
            "[1. 0. 0.]\n",
            "data/testimg/0_6.jpg 정상 오이 입니다.\n",
            "(1, 255, 255, 3)\n",
            "[1. 0. 0.]\n",
            "data/testimg/0_7.jpg 정상 오이 입니다.\n",
            "(1, 255, 255, 3)\n",
            "[1. 0. 0.]\n",
            "data/testimg/0_8.jpg 정상 오이 입니다.\n",
            "(1, 255, 255, 3)\n",
            "[1. 0. 0.]\n",
            "data/testimg/0_9.jpg 정상 오이 입니다.\n"
          ]
        }
      ],
      "source": [
        "for i in range(10):\n",
        "    pred(f'data/testimg/0_{i}.jpg')"
      ]
    },
    {
      "cell_type": "code",
      "execution_count": 26,
      "metadata": {},
      "outputs": [
        {
          "name": "stdout",
          "output_type": "stream",
          "text": [
            "(1, 255, 255, 3)\n",
            "[1. 0. 0.]\n",
            "data/testimg/1_0.jpg 정상 오이 입니다.\n",
            "(1, 255, 255, 3)\n",
            "[1. 0. 0.]\n",
            "data/testimg/1_1.jpg 정상 오이 입니다.\n",
            "(1, 255, 255, 3)\n",
            "[1. 0. 0.]\n",
            "data/testimg/1_2.jpg 정상 오이 입니다.\n",
            "(1, 255, 255, 3)\n",
            "[1. 0. 0.]\n",
            "data/testimg/1_3.jpg 정상 오이 입니다.\n",
            "(1, 255, 255, 3)\n",
            "[1. 0. 0.]\n",
            "data/testimg/1_4.jpg 정상 오이 입니다.\n",
            "(1, 255, 255, 3)\n",
            "[1. 0. 0.]\n",
            "data/testimg/1_5.jpg 정상 오이 입니다.\n",
            "(1, 255, 255, 3)\n",
            "[1. 0. 0.]\n",
            "data/testimg/1_6.jpg 정상 오이 입니다.\n",
            "(1, 255, 255, 3)\n",
            "[1. 0. 0.]\n",
            "data/testimg/1_7.jpg 정상 오이 입니다.\n",
            "(1, 255, 255, 3)\n",
            "[1. 0. 0.]\n",
            "data/testimg/1_8.jpg 정상 오이 입니다.\n",
            "(1, 255, 255, 3)\n",
            "[1. 0. 0.]\n",
            "data/testimg/1_9.jpg 정상 오이 입니다.\n"
          ]
        }
      ],
      "source": [
        "for i in range(10):\n",
        "    pred(f'data/testimg/1_{i}.jpg')"
      ]
    },
    {
      "cell_type": "code",
      "execution_count": 27,
      "metadata": {},
      "outputs": [
        {
          "name": "stdout",
          "output_type": "stream",
          "text": [
            "(1, 255, 255, 3)\n",
            "[1. 0. 0.]\n",
            "data/testimg/2_0.jpg 정상 오이 입니다.\n",
            "(1, 255, 255, 3)\n",
            "[1. 0. 0.]\n",
            "data/testimg/2_1.jpg 정상 오이 입니다.\n",
            "(1, 255, 255, 3)\n",
            "[1. 0. 0.]\n",
            "data/testimg/2_2.jpg 정상 오이 입니다.\n",
            "(1, 255, 255, 3)\n",
            "[1. 0. 0.]\n",
            "data/testimg/2_3.jpg 정상 오이 입니다.\n",
            "(1, 255, 255, 3)\n",
            "[1. 0. 0.]\n",
            "data/testimg/2_4.jpg 정상 오이 입니다.\n",
            "(1, 255, 255, 3)\n",
            "[1. 0. 0.]\n",
            "data/testimg/2_5.jpg 정상 오이 입니다.\n",
            "(1, 255, 255, 3)\n",
            "[1. 0. 0.]\n",
            "data/testimg/2_6.jpg 정상 오이 입니다.\n",
            "(1, 255, 255, 3)\n",
            "[1. 0. 0.]\n",
            "data/testimg/2_7.jpg 정상 오이 입니다.\n",
            "(1, 255, 255, 3)\n",
            "[1. 0. 0.]\n",
            "data/testimg/2_8.jpg 정상 오이 입니다.\n",
            "(1, 255, 255, 3)\n",
            "[1. 0. 0.]\n",
            "data/testimg/2_9.jpg 정상 오이 입니다.\n"
          ]
        }
      ],
      "source": [
        "for i in range(10):\n",
        "    pred(f'data/testimg/2_{i}.jpg')"
      ]
    },
    {
      "cell_type": "code",
      "execution_count": 28,
      "metadata": {},
      "outputs": [],
      "source": [
        "from keras.preprocessing import image\n",
        "\n",
        "def pred(path):      \n",
        "    img = image.load_img(path, target_size=(255, 255))\n",
        "\n",
        "    x=image.img_to_array(img)\n",
        "    x=np.expand_dims(x, axis=0)\n",
        "    images = np.vstack([x])\n",
        "    print(np.shape(images))\n",
        "    classes = loaded_model.predict(images, batch_size=32)\n",
        "\n",
        "    print(classes[0])\n",
        "\n",
        "    if np.argmax(classes[0])>0:\n",
        "        print(path + \" 병든 오이 입니다.\")\n",
        "    else:\n",
        "        print(path + \" 정상 오이 입니다.\")"
      ]
    },
    {
      "cell_type": "code",
      "execution_count": 29,
      "metadata": {},
      "outputs": [
        {
          "name": "stdout",
          "output_type": "stream",
          "text": [
            "(1, 255, 255, 3)\n",
            "[1. 0. 0.]\n",
            "data/testimg/0_0.jpg 정상 오이 입니다.\n",
            "(1, 255, 255, 3)\n",
            "[1. 0. 0.]\n",
            "data/testimg/0_1.jpg 정상 오이 입니다.\n",
            "(1, 255, 255, 3)\n",
            "[1. 0. 0.]\n",
            "data/testimg/0_2.jpg 정상 오이 입니다.\n",
            "(1, 255, 255, 3)\n",
            "[1. 0. 0.]\n",
            "data/testimg/0_3.jpg 정상 오이 입니다.\n",
            "(1, 255, 255, 3)\n",
            "[1. 0. 0.]\n",
            "data/testimg/0_4.jpg 정상 오이 입니다.\n",
            "(1, 255, 255, 3)\n",
            "[1. 0. 0.]\n",
            "data/testimg/0_5.jpg 정상 오이 입니다.\n",
            "(1, 255, 255, 3)\n",
            "[1. 0. 0.]\n",
            "data/testimg/0_6.jpg 정상 오이 입니다.\n",
            "(1, 255, 255, 3)\n",
            "[1. 0. 0.]\n",
            "data/testimg/0_7.jpg 정상 오이 입니다.\n",
            "(1, 255, 255, 3)\n",
            "[1. 0. 0.]\n",
            "data/testimg/0_8.jpg 정상 오이 입니다.\n",
            "(1, 255, 255, 3)\n",
            "[1. 0. 0.]\n",
            "data/testimg/0_9.jpg 정상 오이 입니다.\n"
          ]
        }
      ],
      "source": [
        "for i in range(10):\n",
        "    pred(f'data/testimg/0_{i}.jpg')"
      ]
    },
    {
      "cell_type": "code",
      "execution_count": 30,
      "metadata": {},
      "outputs": [
        {
          "name": "stdout",
          "output_type": "stream",
          "text": [
            "(1, 255, 255, 3)\n",
            "[1. 0. 0.]\n",
            "data/testimg/1_0.jpg 정상 오이 입니다.\n",
            "(1, 255, 255, 3)\n",
            "[1. 0. 0.]\n",
            "data/testimg/1_1.jpg 정상 오이 입니다.\n",
            "(1, 255, 255, 3)\n",
            "[1. 0. 0.]\n",
            "data/testimg/1_2.jpg 정상 오이 입니다.\n",
            "(1, 255, 255, 3)\n",
            "[1. 0. 0.]\n",
            "data/testimg/1_3.jpg 정상 오이 입니다.\n",
            "(1, 255, 255, 3)\n",
            "[1. 0. 0.]\n",
            "data/testimg/1_4.jpg 정상 오이 입니다.\n",
            "(1, 255, 255, 3)\n",
            "[1. 0. 0.]\n",
            "data/testimg/1_5.jpg 정상 오이 입니다.\n",
            "(1, 255, 255, 3)\n",
            "[1. 0. 0.]\n",
            "data/testimg/1_6.jpg 정상 오이 입니다.\n",
            "(1, 255, 255, 3)\n",
            "[1. 0. 0.]\n",
            "data/testimg/1_7.jpg 정상 오이 입니다.\n",
            "(1, 255, 255, 3)\n",
            "[1. 0. 0.]\n",
            "data/testimg/1_8.jpg 정상 오이 입니다.\n",
            "(1, 255, 255, 3)\n",
            "[1. 0. 0.]\n",
            "data/testimg/1_9.jpg 정상 오이 입니다.\n"
          ]
        }
      ],
      "source": [
        "for i in range(10):\n",
        "    pred(f'data/testimg/1_{i}.jpg')"
      ]
    },
    {
      "cell_type": "code",
      "execution_count": 31,
      "metadata": {},
      "outputs": [
        {
          "name": "stdout",
          "output_type": "stream",
          "text": [
            "(1, 255, 255, 3)\n",
            "[1. 0. 0.]\n",
            "data/testimg/2_0.jpg 정상 오이 입니다.\n",
            "(1, 255, 255, 3)\n",
            "[1. 0. 0.]\n",
            "data/testimg/2_1.jpg 정상 오이 입니다.\n",
            "(1, 255, 255, 3)\n",
            "[1. 0. 0.]\n",
            "data/testimg/2_2.jpg 정상 오이 입니다.\n",
            "(1, 255, 255, 3)\n",
            "[1. 0. 0.]\n",
            "data/testimg/2_3.jpg 정상 오이 입니다.\n",
            "(1, 255, 255, 3)\n",
            "[1. 0. 0.]\n",
            "data/testimg/2_4.jpg 정상 오이 입니다.\n",
            "(1, 255, 255, 3)\n",
            "[1. 0. 0.]\n",
            "data/testimg/2_5.jpg 정상 오이 입니다.\n",
            "(1, 255, 255, 3)\n",
            "[1. 0. 0.]\n",
            "data/testimg/2_6.jpg 정상 오이 입니다.\n",
            "(1, 255, 255, 3)\n",
            "[1. 0. 0.]\n",
            "data/testimg/2_7.jpg 정상 오이 입니다.\n",
            "(1, 255, 255, 3)\n",
            "[1. 0. 0.]\n",
            "data/testimg/2_8.jpg 정상 오이 입니다.\n",
            "(1, 255, 255, 3)\n",
            "[1. 0. 0.]\n",
            "data/testimg/2_9.jpg 정상 오이 입니다.\n"
          ]
        }
      ],
      "source": [
        "for i in range(10):\n",
        "    pred(f'data/testimg/2_{i}.jpg')"
      ]
    },
    {
      "cell_type": "code",
      "execution_count": null,
      "metadata": {},
      "outputs": [],
      "source": []
    }
  ],
  "metadata": {
    "accelerator": "TPU",
    "colab": {
      "collapsed_sections": [],
      "machine_shape": "hm",
      "name": "13_로컬_오이질병구분_서동규.ipynb",
      "provenance": []
    },
    "interpreter": {
      "hash": "b3ba2566441a7c06988d0923437866b63cedc61552a5af99d1f4fb67d367b25f"
    },
    "kernelspec": {
      "display_name": "Python 3.8.11 64-bit ('base': conda)",
      "name": "python3"
    },
    "language_info": {
      "codemirror_mode": {
        "name": "ipython",
        "version": 3
      },
      "file_extension": ".py",
      "mimetype": "text/x-python",
      "name": "python",
      "nbconvert_exporter": "python",
      "pygments_lexer": "ipython3",
      "version": "3.8.11"
    },
    "orig_nbformat": 4
  },
  "nbformat": 4,
  "nbformat_minor": 0
}
