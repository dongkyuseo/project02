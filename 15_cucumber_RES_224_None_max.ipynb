{
  "cells": [
    {
      "cell_type": "markdown",
      "metadata": {
        "id": "XEA5h3zT-jPb"
      },
      "source": [
        "# 1. 메모리 변수 제거"
      ]
    },
    {
      "cell_type": "code",
      "execution_count": 13,
      "metadata": {
        "id": "dnpPvoDj-mBu"
      },
      "outputs": [],
      "source": [
        "# 메모리 변수 모두 제거\n",
        "all = [var for var in globals() if var[0] != '_']\n",
        "for var in all:\n",
        "    del globals()[var]"
      ]
    },
    {
      "cell_type": "markdown",
      "metadata": {
        "id": "_i488hab-nf3"
      },
      "source": [
        "# 2. 사용 패키지"
      ]
    },
    {
      "cell_type": "code",
      "execution_count": 15,
      "metadata": {
        "id": "Hwc5jDTs-uQ7"
      },
      "outputs": [],
      "source": [
        "import numpy as np\n",
        "import pandas as pd\n",
        "import matplotlib as mpl\n",
        "import matplotlib.pyplot as plt\n",
        "!apt-get install -y fonts-nanum > /dev/null\n",
        "!fc-cache -fv > /dev/null\n",
        "!rm -rf ~/.cache/matplotlib > /dev/null\n",
        "mpl.rcParams['axes.unicode_minus'] = False\n",
        "plt.rc('font', family = 'NanumBarunGothic')\n",
        "import warnings\n",
        "warnings.filterwarnings('ignore')\n",
        "import os\n",
        "import math\n",
        "from PIL import Image"
      ]
    },
    {
      "cell_type": "markdown",
      "metadata": {
        "id": "LJd9z0CWI6eY"
      },
      "source": [
        "# 3. 데이터 로드"
      ]
    },
    {
      "cell_type": "code",
      "execution_count": 16,
      "metadata": {
        "colab": {
          "base_uri": "https://localhost:8080/"
        },
        "id": "qOQgUtDvI0zn",
        "outputId": "13bcc115-4424-4cff-b1ad-a026e10ad99b"
      },
      "outputs": [],
      "source": [
        "# from google.colab import drive\n",
        "# # drive.mount('/content/drive')"
      ]
    },
    {
      "cell_type": "code",
      "execution_count": 17,
      "metadata": {
        "colab": {
          "base_uri": "https://localhost:8080/"
        },
        "id": "Kuqy1uqTI1EY",
        "outputId": "12fb4e0b-bfd2-44b4-94cb-017c62988b40"
      },
      "outputs": [],
      "source": [
        "# cd /content/drive/MyDrive/data/project02"
      ]
    },
    {
      "cell_type": "code",
      "execution_count": 18,
      "metadata": {},
      "outputs": [
        {
          "name": "stdout",
          "output_type": "stream",
          "text": [
            "end\n"
          ]
        }
      ],
      "source": [
        "import numpy as np\n",
        "import pandas as pd\n",
        "import os\n",
        "\n",
        "\n",
        "train_csv = pd.read_csv('data/train_df_csv.csv')\n",
        "val_csv = pd.read_csv('data/val_df_csv.csv')\n",
        "\n",
        "print('end')"
      ]
    },
    {
      "cell_type": "code",
      "execution_count": 19,
      "metadata": {},
      "outputs": [
        {
          "data": {
            "text/html": [
              "<div>\n",
              "<style scoped>\n",
              "    .dataframe tbody tr th:only-of-type {\n",
              "        vertical-align: middle;\n",
              "    }\n",
              "\n",
              "    .dataframe tbody tr th {\n",
              "        vertical-align: top;\n",
              "    }\n",
              "\n",
              "    .dataframe thead th {\n",
              "        text-align: right;\n",
              "    }\n",
              "</style>\n",
              "<table border=\"1\" class=\"dataframe\">\n",
              "  <thead>\n",
              "    <tr style=\"text-align: right;\">\n",
              "      <th></th>\n",
              "      <th>image</th>\n",
              "      <th>disease</th>\n",
              "      <th>crop</th>\n",
              "      <th>grow</th>\n",
              "      <th>risk</th>\n",
              "      <th>points</th>\n",
              "      <th>name</th>\n",
              "    </tr>\n",
              "  </thead>\n",
              "  <tbody>\n",
              "    <tr>\n",
              "      <th>0</th>\n",
              "      <td>V006_79_0_00_01_01_13_0_a01_20201102_0000_S01_...</td>\n",
              "      <td>0</td>\n",
              "      <td>1</td>\n",
              "      <td>13</td>\n",
              "      <td>0</td>\n",
              "      <td>[{'xtl': 1118, 'ytl': 1294, 'xbr': 2900, 'ybr'...</td>\n",
              "      <td>고추_0.정상</td>\n",
              "    </tr>\n",
              "    <tr>\n",
              "      <th>1</th>\n",
              "      <td>V006_79_0_00_01_01_13_0_a01_20201102_0002_S01_...</td>\n",
              "      <td>0</td>\n",
              "      <td>1</td>\n",
              "      <td>13</td>\n",
              "      <td>0</td>\n",
              "      <td>[{'xtl': 1033, 'ytl': 1533, 'xbr': 2829, 'ybr'...</td>\n",
              "      <td>고추_0.정상</td>\n",
              "    </tr>\n",
              "    <tr>\n",
              "      <th>2</th>\n",
              "      <td>V006_79_0_00_01_01_13_0_a01_20201103_0001_S01_...</td>\n",
              "      <td>0</td>\n",
              "      <td>1</td>\n",
              "      <td>13</td>\n",
              "      <td>0</td>\n",
              "      <td>[{'xtl': 484, 'ytl': 1227, 'xbr': 3879, 'ybr':...</td>\n",
              "      <td>고추_0.정상</td>\n",
              "    </tr>\n",
              "    <tr>\n",
              "      <th>3</th>\n",
              "      <td>V006_79_0_00_01_01_13_0_a01_20201103_0003_S01_...</td>\n",
              "      <td>0</td>\n",
              "      <td>1</td>\n",
              "      <td>13</td>\n",
              "      <td>0</td>\n",
              "      <td>[{'xtl': 1241, 'ytl': 103, 'xbr': 2344, 'ybr':...</td>\n",
              "      <td>고추_0.정상</td>\n",
              "    </tr>\n",
              "    <tr>\n",
              "      <th>4</th>\n",
              "      <td>V006_79_0_00_01_01_13_0_a05_20201111_0000_S01_...</td>\n",
              "      <td>0</td>\n",
              "      <td>1</td>\n",
              "      <td>13</td>\n",
              "      <td>0</td>\n",
              "      <td>[{'xtl': 1382, 'ytl': 978, 'xbr': 3226, 'ybr':...</td>\n",
              "      <td>고추_0.정상</td>\n",
              "    </tr>\n",
              "    <tr>\n",
              "      <th>...</th>\n",
              "      <td>...</td>\n",
              "      <td>...</td>\n",
              "      <td>...</td>\n",
              "      <td>...</td>\n",
              "      <td>...</td>\n",
              "      <td>...</td>\n",
              "      <td>...</td>\n",
              "    </tr>\n",
              "    <tr>\n",
              "      <th>14434</th>\n",
              "      <td>V006_79_1_18_09_03_13_1_0819e_20201117_133.jpg</td>\n",
              "      <td>18</td>\n",
              "      <td>9</td>\n",
              "      <td>13</td>\n",
              "      <td>1</td>\n",
              "      <td>[{'xtl': 135, 'ytl': 0, 'xbr': 875, 'ybr': 961}]</td>\n",
              "      <td>파_1.질병</td>\n",
              "    </tr>\n",
              "    <tr>\n",
              "      <th>14435</th>\n",
              "      <td>V006_79_1_18_09_03_13_1_0819e_20201117_134.jpg</td>\n",
              "      <td>18</td>\n",
              "      <td>9</td>\n",
              "      <td>13</td>\n",
              "      <td>1</td>\n",
              "      <td>[{'xtl': 293, 'ytl': 0, 'xbr': 520, 'ybr': 961}]</td>\n",
              "      <td>파_1.질병</td>\n",
              "    </tr>\n",
              "    <tr>\n",
              "      <th>14436</th>\n",
              "      <td>V006_79_1_18_09_03_13_1_0819e_20201118_137.jpg</td>\n",
              "      <td>18</td>\n",
              "      <td>9</td>\n",
              "      <td>13</td>\n",
              "      <td>1</td>\n",
              "      <td>[{'xtl': 2, 'ytl': 0, 'xbr': 722, 'ybr': 878}]</td>\n",
              "      <td>파_1.질병</td>\n",
              "    </tr>\n",
              "    <tr>\n",
              "      <th>14437</th>\n",
              "      <td>V006_79_1_18_09_03_13_1_0819e_20201118_139.jpg</td>\n",
              "      <td>18</td>\n",
              "      <td>9</td>\n",
              "      <td>13</td>\n",
              "      <td>1</td>\n",
              "      <td>[{'xtl': 192, 'ytl': 0, 'xbr': 636, 'ybr': 961}]</td>\n",
              "      <td>파_1.질병</td>\n",
              "    </tr>\n",
              "    <tr>\n",
              "      <th>14438</th>\n",
              "      <td>V006_79_1_18_09_03_13_1_0819e_20201118_140.jpg</td>\n",
              "      <td>18</td>\n",
              "      <td>9</td>\n",
              "      <td>13</td>\n",
              "      <td>1</td>\n",
              "      <td>[{'xtl': 294, 'ytl': 0, 'xbr': 961, 'ybr': 961}]</td>\n",
              "      <td>파_1.질병</td>\n",
              "    </tr>\n",
              "  </tbody>\n",
              "</table>\n",
              "<p>14439 rows × 7 columns</p>\n",
              "</div>"
            ],
            "text/plain": [
              "                                                   image  disease  crop  grow  \\\n",
              "0      V006_79_0_00_01_01_13_0_a01_20201102_0000_S01_...        0     1    13   \n",
              "1      V006_79_0_00_01_01_13_0_a01_20201102_0002_S01_...        0     1    13   \n",
              "2      V006_79_0_00_01_01_13_0_a01_20201103_0001_S01_...        0     1    13   \n",
              "3      V006_79_0_00_01_01_13_0_a01_20201103_0003_S01_...        0     1    13   \n",
              "4      V006_79_0_00_01_01_13_0_a05_20201111_0000_S01_...        0     1    13   \n",
              "...                                                  ...      ...   ...   ...   \n",
              "14434     V006_79_1_18_09_03_13_1_0819e_20201117_133.jpg       18     9    13   \n",
              "14435     V006_79_1_18_09_03_13_1_0819e_20201117_134.jpg       18     9    13   \n",
              "14436     V006_79_1_18_09_03_13_1_0819e_20201118_137.jpg       18     9    13   \n",
              "14437     V006_79_1_18_09_03_13_1_0819e_20201118_139.jpg       18     9    13   \n",
              "14438     V006_79_1_18_09_03_13_1_0819e_20201118_140.jpg       18     9    13   \n",
              "\n",
              "       risk                                             points     name  \n",
              "0         0  [{'xtl': 1118, 'ytl': 1294, 'xbr': 2900, 'ybr'...  고추_0.정상  \n",
              "1         0  [{'xtl': 1033, 'ytl': 1533, 'xbr': 2829, 'ybr'...  고추_0.정상  \n",
              "2         0  [{'xtl': 484, 'ytl': 1227, 'xbr': 3879, 'ybr':...  고추_0.정상  \n",
              "3         0  [{'xtl': 1241, 'ytl': 103, 'xbr': 2344, 'ybr':...  고추_0.정상  \n",
              "4         0  [{'xtl': 1382, 'ytl': 978, 'xbr': 3226, 'ybr':...  고추_0.정상  \n",
              "...     ...                                                ...      ...  \n",
              "14434     1   [{'xtl': 135, 'ytl': 0, 'xbr': 875, 'ybr': 961}]   파_1.질병  \n",
              "14435     1   [{'xtl': 293, 'ytl': 0, 'xbr': 520, 'ybr': 961}]   파_1.질병  \n",
              "14436     1     [{'xtl': 2, 'ytl': 0, 'xbr': 722, 'ybr': 878}]   파_1.질병  \n",
              "14437     1   [{'xtl': 192, 'ytl': 0, 'xbr': 636, 'ybr': 961}]   파_1.질병  \n",
              "14438     1   [{'xtl': 294, 'ytl': 0, 'xbr': 961, 'ybr': 961}]   파_1.질병  \n",
              "\n",
              "[14439 rows x 7 columns]"
            ]
          },
          "execution_count": 19,
          "metadata": {},
          "output_type": "execute_result"
        }
      ],
      "source": [
        "tc = train_csv[['image', 'disease', 'crop', 'grow', 'risk', 'points', 'name']]\n",
        "tc"
      ]
    },
    {
      "cell_type": "code",
      "execution_count": 20,
      "metadata": {},
      "outputs": [
        {
          "data": {
            "text/html": [
              "<div>\n",
              "<style scoped>\n",
              "    .dataframe tbody tr th:only-of-type {\n",
              "        vertical-align: middle;\n",
              "    }\n",
              "\n",
              "    .dataframe tbody tr th {\n",
              "        vertical-align: top;\n",
              "    }\n",
              "\n",
              "    .dataframe thead th {\n",
              "        text-align: right;\n",
              "    }\n",
              "</style>\n",
              "<table border=\"1\" class=\"dataframe\">\n",
              "  <thead>\n",
              "    <tr style=\"text-align: right;\">\n",
              "      <th></th>\n",
              "      <th>image</th>\n",
              "      <th>disease</th>\n",
              "      <th>crop</th>\n",
              "      <th>grow</th>\n",
              "      <th>risk</th>\n",
              "      <th>points</th>\n",
              "      <th>name</th>\n",
              "    </tr>\n",
              "  </thead>\n",
              "  <tbody>\n",
              "    <tr>\n",
              "      <th>7183</th>\n",
              "      <td>V006_79_0_00_06_01_13_0_b02_20201014_0000_S01_...</td>\n",
              "      <td>0</td>\n",
              "      <td>6</td>\n",
              "      <td>13</td>\n",
              "      <td>0</td>\n",
              "      <td>[{'xtl': 548, 'ytl': 1022, 'xbr': 3760, 'ybr':...</td>\n",
              "      <td>오이_0.정상</td>\n",
              "    </tr>\n",
              "    <tr>\n",
              "      <th>7184</th>\n",
              "      <td>V006_79_0_00_06_01_13_0_b02_20201014_0001_S01_...</td>\n",
              "      <td>0</td>\n",
              "      <td>6</td>\n",
              "      <td>13</td>\n",
              "      <td>0</td>\n",
              "      <td>[{'xtl': 470, 'ytl': 1431, 'xbr': 3235, 'ybr':...</td>\n",
              "      <td>오이_0.정상</td>\n",
              "    </tr>\n",
              "    <tr>\n",
              "      <th>7185</th>\n",
              "      <td>V006_79_0_00_06_01_13_0_b02_20201014_0002_S01_...</td>\n",
              "      <td>0</td>\n",
              "      <td>6</td>\n",
              "      <td>13</td>\n",
              "      <td>0</td>\n",
              "      <td>[{'xtl': 440, 'ytl': 1041, 'xbr': 3486, 'ybr':...</td>\n",
              "      <td>오이_0.정상</td>\n",
              "    </tr>\n",
              "    <tr>\n",
              "      <th>7186</th>\n",
              "      <td>V006_79_0_00_06_01_13_0_b02_20201014_0003_S01_...</td>\n",
              "      <td>0</td>\n",
              "      <td>6</td>\n",
              "      <td>13</td>\n",
              "      <td>0</td>\n",
              "      <td>[{'xtl': 768, 'ytl': 1260, 'xbr': 3050, 'ybr':...</td>\n",
              "      <td>오이_0.정상</td>\n",
              "    </tr>\n",
              "    <tr>\n",
              "      <th>7187</th>\n",
              "      <td>V006_79_0_00_06_01_13_0_b02_20201014_0004_S01_...</td>\n",
              "      <td>0</td>\n",
              "      <td>6</td>\n",
              "      <td>13</td>\n",
              "      <td>0</td>\n",
              "      <td>[{'xtl': 736, 'ytl': 1194, 'xbr': 3473, 'ybr':...</td>\n",
              "      <td>오이_0.정상</td>\n",
              "    </tr>\n",
              "    <tr>\n",
              "      <th>...</th>\n",
              "      <td>...</td>\n",
              "      <td>...</td>\n",
              "      <td>...</td>\n",
              "      <td>...</td>\n",
              "      <td>...</td>\n",
              "      <td>...</td>\n",
              "      <td>...</td>\n",
              "    </tr>\n",
              "    <tr>\n",
              "      <th>8959</th>\n",
              "      <td>V006_79_1_12_06_03_13_3_7390w_20201207_56.jpeg</td>\n",
              "      <td>12</td>\n",
              "      <td>6</td>\n",
              "      <td>13</td>\n",
              "      <td>3</td>\n",
              "      <td>[{'xtl': 545, 'ytl': 432, 'xbr': 2905, 'ybr': ...</td>\n",
              "      <td>오이_1.질병</td>\n",
              "    </tr>\n",
              "    <tr>\n",
              "      <th>8960</th>\n",
              "      <td>V006_79_1_12_06_03_13_3_7390w_20201207_6.jpeg</td>\n",
              "      <td>12</td>\n",
              "      <td>6</td>\n",
              "      <td>13</td>\n",
              "      <td>3</td>\n",
              "      <td>[{'xtl': 929, 'ytl': 268, 'xbr': 3209, 'ybr': ...</td>\n",
              "      <td>오이_1.질병</td>\n",
              "    </tr>\n",
              "    <tr>\n",
              "      <th>8961</th>\n",
              "      <td>V006_79_1_12_06_03_13_3_7390w_20201207_61.jpeg</td>\n",
              "      <td>12</td>\n",
              "      <td>6</td>\n",
              "      <td>13</td>\n",
              "      <td>3</td>\n",
              "      <td>[{'xtl': 533, 'ytl': 232, 'xbr': 2761, 'ybr': ...</td>\n",
              "      <td>오이_1.질병</td>\n",
              "    </tr>\n",
              "    <tr>\n",
              "      <th>8962</th>\n",
              "      <td>V006_79_1_12_06_05_13_1_0502bb_20201102_2.jpeg</td>\n",
              "      <td>12</td>\n",
              "      <td>6</td>\n",
              "      <td>13</td>\n",
              "      <td>1</td>\n",
              "      <td>[{'xtl': 1135, 'ytl': 838, 'xbr': 3008, 'ybr':...</td>\n",
              "      <td>오이_1.질병</td>\n",
              "    </tr>\n",
              "    <tr>\n",
              "      <th>8963</th>\n",
              "      <td>V006_79_1_12_06_05_13_1_0502bb_20201102_3.jpeg</td>\n",
              "      <td>12</td>\n",
              "      <td>6</td>\n",
              "      <td>13</td>\n",
              "      <td>1</td>\n",
              "      <td>[{'xtl': 1546, 'ytl': 277, 'xbr': 3729, 'ybr':...</td>\n",
              "      <td>오이_1.질병</td>\n",
              "    </tr>\n",
              "  </tbody>\n",
              "</table>\n",
              "<p>1781 rows × 7 columns</p>\n",
              "</div>"
            ],
            "text/plain": [
              "                                                  image  disease  crop  grow  \\\n",
              "7183  V006_79_0_00_06_01_13_0_b02_20201014_0000_S01_...        0     6    13   \n",
              "7184  V006_79_0_00_06_01_13_0_b02_20201014_0001_S01_...        0     6    13   \n",
              "7185  V006_79_0_00_06_01_13_0_b02_20201014_0002_S01_...        0     6    13   \n",
              "7186  V006_79_0_00_06_01_13_0_b02_20201014_0003_S01_...        0     6    13   \n",
              "7187  V006_79_0_00_06_01_13_0_b02_20201014_0004_S01_...        0     6    13   \n",
              "...                                                 ...      ...   ...   ...   \n",
              "8959     V006_79_1_12_06_03_13_3_7390w_20201207_56.jpeg       12     6    13   \n",
              "8960      V006_79_1_12_06_03_13_3_7390w_20201207_6.jpeg       12     6    13   \n",
              "8961     V006_79_1_12_06_03_13_3_7390w_20201207_61.jpeg       12     6    13   \n",
              "8962     V006_79_1_12_06_05_13_1_0502bb_20201102_2.jpeg       12     6    13   \n",
              "8963     V006_79_1_12_06_05_13_1_0502bb_20201102_3.jpeg       12     6    13   \n",
              "\n",
              "      risk                                             points     name  \n",
              "7183     0  [{'xtl': 548, 'ytl': 1022, 'xbr': 3760, 'ybr':...  오이_0.정상  \n",
              "7184     0  [{'xtl': 470, 'ytl': 1431, 'xbr': 3235, 'ybr':...  오이_0.정상  \n",
              "7185     0  [{'xtl': 440, 'ytl': 1041, 'xbr': 3486, 'ybr':...  오이_0.정상  \n",
              "7186     0  [{'xtl': 768, 'ytl': 1260, 'xbr': 3050, 'ybr':...  오이_0.정상  \n",
              "7187     0  [{'xtl': 736, 'ytl': 1194, 'xbr': 3473, 'ybr':...  오이_0.정상  \n",
              "...    ...                                                ...      ...  \n",
              "8959     3  [{'xtl': 545, 'ytl': 432, 'xbr': 2905, 'ybr': ...  오이_1.질병  \n",
              "8960     3  [{'xtl': 929, 'ytl': 268, 'xbr': 3209, 'ybr': ...  오이_1.질병  \n",
              "8961     3  [{'xtl': 533, 'ytl': 232, 'xbr': 2761, 'ybr': ...  오이_1.질병  \n",
              "8962     1  [{'xtl': 1135, 'ytl': 838, 'xbr': 3008, 'ybr':...  오이_1.질병  \n",
              "8963     1  [{'xtl': 1546, 'ytl': 277, 'xbr': 3729, 'ybr':...  오이_1.질병  \n",
              "\n",
              "[1781 rows x 7 columns]"
            ]
          },
          "execution_count": 20,
          "metadata": {},
          "output_type": "execute_result"
        }
      ],
      "source": [
        "train_csv[train_csv['crop']==6]"
      ]
    },
    {
      "cell_type": "code",
      "execution_count": 21,
      "metadata": {},
      "outputs": [],
      "source": [
        "tc = train_csv[['image', 'disease', 'crop', 'grow', 'risk', 'points', 'name']]\n",
        "df = pd.DataFrame(index=range(0,), columns=['image', 'disease', 'crop', 'grow', 'risk', 'points', 'name'])\n",
        "# [] 안에 작물 코드 넣기\n",
        "for i in [6]:\n",
        "    for k in range(19):\n",
        "        if k == 0:\n",
        "            tmp = tc[(tc['crop'] == i)&(tc['disease'] == k)][:1000]\n",
        "            df = pd.concat([df, tmp])\n",
        "        else:\n",
        "            tmp = tc[(tc['crop'] == i)&(tc['disease'] == k)][:500]\n",
        "            df = pd.concat([df, tmp])\n",
        "\n",
        "\n",
        "train_df = df"
      ]
    },
    {
      "cell_type": "code",
      "execution_count": 22,
      "metadata": {},
      "outputs": [],
      "source": [
        "train_df = train_df[['image', 'disease', 'crop', 'grow', 'risk']]\n",
        "train_df.reset_index(drop=True, inplace=True)"
      ]
    },
    {
      "cell_type": "code",
      "execution_count": 23,
      "metadata": {},
      "outputs": [
        {
          "data": {
            "text/html": [
              "<div>\n",
              "<style scoped>\n",
              "    .dataframe tbody tr th:only-of-type {\n",
              "        vertical-align: middle;\n",
              "    }\n",
              "\n",
              "    .dataframe tbody tr th {\n",
              "        vertical-align: top;\n",
              "    }\n",
              "\n",
              "    .dataframe thead th {\n",
              "        text-align: right;\n",
              "    }\n",
              "</style>\n",
              "<table border=\"1\" class=\"dataframe\">\n",
              "  <thead>\n",
              "    <tr style=\"text-align: right;\">\n",
              "      <th></th>\n",
              "      <th>image</th>\n",
              "      <th>disease</th>\n",
              "      <th>crop</th>\n",
              "      <th>grow</th>\n",
              "      <th>risk</th>\n",
              "    </tr>\n",
              "  </thead>\n",
              "  <tbody>\n",
              "    <tr>\n",
              "      <th>0</th>\n",
              "      <td>V006_79_0_00_06_01_13_0_b02_20201014_0000_S01_...</td>\n",
              "      <td>0</td>\n",
              "      <td>6</td>\n",
              "      <td>13</td>\n",
              "      <td>0</td>\n",
              "    </tr>\n",
              "    <tr>\n",
              "      <th>1</th>\n",
              "      <td>V006_79_0_00_06_01_13_0_b02_20201014_0001_S01_...</td>\n",
              "      <td>0</td>\n",
              "      <td>6</td>\n",
              "      <td>13</td>\n",
              "      <td>0</td>\n",
              "    </tr>\n",
              "    <tr>\n",
              "      <th>2</th>\n",
              "      <td>V006_79_0_00_06_01_13_0_b02_20201014_0002_S01_...</td>\n",
              "      <td>0</td>\n",
              "      <td>6</td>\n",
              "      <td>13</td>\n",
              "      <td>0</td>\n",
              "    </tr>\n",
              "    <tr>\n",
              "      <th>3</th>\n",
              "      <td>V006_79_0_00_06_01_13_0_b02_20201014_0003_S01_...</td>\n",
              "      <td>0</td>\n",
              "      <td>6</td>\n",
              "      <td>13</td>\n",
              "      <td>0</td>\n",
              "    </tr>\n",
              "    <tr>\n",
              "      <th>4</th>\n",
              "      <td>V006_79_0_00_06_01_13_0_b02_20201014_0004_S01_...</td>\n",
              "      <td>0</td>\n",
              "      <td>6</td>\n",
              "      <td>13</td>\n",
              "      <td>0</td>\n",
              "    </tr>\n",
              "    <tr>\n",
              "      <th>...</th>\n",
              "      <td>...</td>\n",
              "      <td>...</td>\n",
              "      <td>...</td>\n",
              "      <td>...</td>\n",
              "      <td>...</td>\n",
              "    </tr>\n",
              "    <tr>\n",
              "      <th>1776</th>\n",
              "      <td>V006_79_1_12_06_03_13_3_7390w_20201207_56.jpeg</td>\n",
              "      <td>12</td>\n",
              "      <td>6</td>\n",
              "      <td>13</td>\n",
              "      <td>3</td>\n",
              "    </tr>\n",
              "    <tr>\n",
              "      <th>1777</th>\n",
              "      <td>V006_79_1_12_06_03_13_3_7390w_20201207_6.jpeg</td>\n",
              "      <td>12</td>\n",
              "      <td>6</td>\n",
              "      <td>13</td>\n",
              "      <td>3</td>\n",
              "    </tr>\n",
              "    <tr>\n",
              "      <th>1778</th>\n",
              "      <td>V006_79_1_12_06_03_13_3_7390w_20201207_61.jpeg</td>\n",
              "      <td>12</td>\n",
              "      <td>6</td>\n",
              "      <td>13</td>\n",
              "      <td>3</td>\n",
              "    </tr>\n",
              "    <tr>\n",
              "      <th>1779</th>\n",
              "      <td>V006_79_1_12_06_05_13_1_0502bb_20201102_2.jpeg</td>\n",
              "      <td>12</td>\n",
              "      <td>6</td>\n",
              "      <td>13</td>\n",
              "      <td>1</td>\n",
              "    </tr>\n",
              "    <tr>\n",
              "      <th>1780</th>\n",
              "      <td>V006_79_1_12_06_05_13_1_0502bb_20201102_3.jpeg</td>\n",
              "      <td>12</td>\n",
              "      <td>6</td>\n",
              "      <td>13</td>\n",
              "      <td>1</td>\n",
              "    </tr>\n",
              "  </tbody>\n",
              "</table>\n",
              "<p>1781 rows × 5 columns</p>\n",
              "</div>"
            ],
            "text/plain": [
              "                                                  image disease crop grow risk\n",
              "0     V006_79_0_00_06_01_13_0_b02_20201014_0000_S01_...       0    6   13    0\n",
              "1     V006_79_0_00_06_01_13_0_b02_20201014_0001_S01_...       0    6   13    0\n",
              "2     V006_79_0_00_06_01_13_0_b02_20201014_0002_S01_...       0    6   13    0\n",
              "3     V006_79_0_00_06_01_13_0_b02_20201014_0003_S01_...       0    6   13    0\n",
              "4     V006_79_0_00_06_01_13_0_b02_20201014_0004_S01_...       0    6   13    0\n",
              "...                                                 ...     ...  ...  ...  ...\n",
              "1776     V006_79_1_12_06_03_13_3_7390w_20201207_56.jpeg      12    6   13    3\n",
              "1777      V006_79_1_12_06_03_13_3_7390w_20201207_6.jpeg      12    6   13    3\n",
              "1778     V006_79_1_12_06_03_13_3_7390w_20201207_61.jpeg      12    6   13    3\n",
              "1779     V006_79_1_12_06_05_13_1_0502bb_20201102_2.jpeg      12    6   13    1\n",
              "1780     V006_79_1_12_06_05_13_1_0502bb_20201102_3.jpeg      12    6   13    1\n",
              "\n",
              "[1781 rows x 5 columns]"
            ]
          },
          "execution_count": 23,
          "metadata": {},
          "output_type": "execute_result"
        }
      ],
      "source": [
        "train_df"
      ]
    },
    {
      "cell_type": "code",
      "execution_count": 24,
      "metadata": {},
      "outputs": [
        {
          "data": {
            "text/html": [
              "<div>\n",
              "<style scoped>\n",
              "    .dataframe tbody tr th:only-of-type {\n",
              "        vertical-align: middle;\n",
              "    }\n",
              "\n",
              "    .dataframe tbody tr th {\n",
              "        vertical-align: top;\n",
              "    }\n",
              "\n",
              "    .dataframe thead th {\n",
              "        text-align: right;\n",
              "    }\n",
              "</style>\n",
              "<table border=\"1\" class=\"dataframe\">\n",
              "  <thead>\n",
              "    <tr style=\"text-align: right;\">\n",
              "      <th></th>\n",
              "      <th>image</th>\n",
              "      <th>disease</th>\n",
              "      <th>crop</th>\n",
              "      <th>grow</th>\n",
              "      <th>risk</th>\n",
              "      <th>points</th>\n",
              "      <th>name</th>\n",
              "    </tr>\n",
              "  </thead>\n",
              "  <tbody>\n",
              "    <tr>\n",
              "      <th>0</th>\n",
              "      <td>V006_79_0_00_01_01_13_0_a01_20201103_0000_S01_...</td>\n",
              "      <td>0</td>\n",
              "      <td>1</td>\n",
              "      <td>13</td>\n",
              "      <td>0</td>\n",
              "      <td>[{'xtl': 502, 'ytl': 1261, 'xbr': 3781, 'ybr':...</td>\n",
              "      <td>고추_0.정상</td>\n",
              "    </tr>\n",
              "    <tr>\n",
              "      <th>1</th>\n",
              "      <td>V006_79_0_00_01_01_13_0_a01_20201103_0002_S01_...</td>\n",
              "      <td>0</td>\n",
              "      <td>1</td>\n",
              "      <td>13</td>\n",
              "      <td>0</td>\n",
              "      <td>[{'xtl': 817, 'ytl': 1564, 'xbr': 3693, 'ybr':...</td>\n",
              "      <td>고추_0.정상</td>\n",
              "    </tr>\n",
              "    <tr>\n",
              "      <th>2</th>\n",
              "      <td>V006_79_0_00_01_01_13_0_a05_20201111_0009_S01_...</td>\n",
              "      <td>0</td>\n",
              "      <td>1</td>\n",
              "      <td>13</td>\n",
              "      <td>0</td>\n",
              "      <td>[{'xtl': 697, 'ytl': 967, 'xbr': 3797, 'ybr': ...</td>\n",
              "      <td>고추_0.정상</td>\n",
              "    </tr>\n",
              "    <tr>\n",
              "      <th>3</th>\n",
              "      <td>V006_79_0_00_01_01_13_0_a05_20201111_0014_S01_...</td>\n",
              "      <td>0</td>\n",
              "      <td>1</td>\n",
              "      <td>13</td>\n",
              "      <td>0</td>\n",
              "      <td>[{'xtl': 627, 'ytl': 1294, 'xbr': 3783, 'ybr':...</td>\n",
              "      <td>고추_0.정상</td>\n",
              "    </tr>\n",
              "    <tr>\n",
              "      <th>4</th>\n",
              "      <td>V006_79_0_00_01_01_13_0_a05_20201111_0024_S01_...</td>\n",
              "      <td>0</td>\n",
              "      <td>1</td>\n",
              "      <td>13</td>\n",
              "      <td>0</td>\n",
              "      <td>[{'xtl': 1002, 'ytl': 458, 'xbr': 3380, 'ybr':...</td>\n",
              "      <td>고추_0.정상</td>\n",
              "    </tr>\n",
              "    <tr>\n",
              "      <th>...</th>\n",
              "      <td>...</td>\n",
              "      <td>...</td>\n",
              "      <td>...</td>\n",
              "      <td>...</td>\n",
              "      <td>...</td>\n",
              "      <td>...</td>\n",
              "      <td>...</td>\n",
              "    </tr>\n",
              "    <tr>\n",
              "      <th>9100</th>\n",
              "      <td>V006_79_1_18_09_03_13_3_0819e_20201112_151.jpg</td>\n",
              "      <td>18</td>\n",
              "      <td>9</td>\n",
              "      <td>13</td>\n",
              "      <td>3</td>\n",
              "      <td>[{'xtl': 308, 'ytl': 468, 'xbr': 542, 'ybr': 1...</td>\n",
              "      <td>파_1.질병</td>\n",
              "    </tr>\n",
              "    <tr>\n",
              "      <th>9101</th>\n",
              "      <td>V006_79_1_18_09_03_13_3_0819e_20201127_172.jpg</td>\n",
              "      <td>18</td>\n",
              "      <td>9</td>\n",
              "      <td>13</td>\n",
              "      <td>3</td>\n",
              "      <td>[{'xtl': 0, 'ytl': 341, 'xbr': 960, 'ybr': 960}]</td>\n",
              "      <td>파_1.질병</td>\n",
              "    </tr>\n",
              "    <tr>\n",
              "      <th>9102</th>\n",
              "      <td>V006_79_1_18_09_03_13_3_6734e_20201030_50.jpg</td>\n",
              "      <td>18</td>\n",
              "      <td>9</td>\n",
              "      <td>13</td>\n",
              "      <td>3</td>\n",
              "      <td>[{'xtl': 79, 'ytl': 2, 'xbr': 433, 'ybr': 960}]</td>\n",
              "      <td>파_1.질병</td>\n",
              "    </tr>\n",
              "    <tr>\n",
              "      <th>9103</th>\n",
              "      <td>V006_79_1_18_09_03_13_3_6734e_20201117_48.jpg</td>\n",
              "      <td>18</td>\n",
              "      <td>9</td>\n",
              "      <td>13</td>\n",
              "      <td>3</td>\n",
              "      <td>[{'xtl': 355, 'ytl': 0, 'xbr': 657, 'ybr': 960}]</td>\n",
              "      <td>파_1.질병</td>\n",
              "    </tr>\n",
              "    <tr>\n",
              "      <th>9104</th>\n",
              "      <td>V006_79_1_18_09_03_13_3_6734e_20201117_55.jpg</td>\n",
              "      <td>18</td>\n",
              "      <td>9</td>\n",
              "      <td>13</td>\n",
              "      <td>3</td>\n",
              "      <td>[{'xtl': 0, 'ytl': 621, 'xbr': 1559, 'ybr': 993}]</td>\n",
              "      <td>파_1.질병</td>\n",
              "    </tr>\n",
              "  </tbody>\n",
              "</table>\n",
              "<p>9105 rows × 7 columns</p>\n",
              "</div>"
            ],
            "text/plain": [
              "                                                  image  disease  crop  grow  \\\n",
              "0     V006_79_0_00_01_01_13_0_a01_20201103_0000_S01_...        0     1    13   \n",
              "1     V006_79_0_00_01_01_13_0_a01_20201103_0002_S01_...        0     1    13   \n",
              "2     V006_79_0_00_01_01_13_0_a05_20201111_0009_S01_...        0     1    13   \n",
              "3     V006_79_0_00_01_01_13_0_a05_20201111_0014_S01_...        0     1    13   \n",
              "4     V006_79_0_00_01_01_13_0_a05_20201111_0024_S01_...        0     1    13   \n",
              "...                                                 ...      ...   ...   ...   \n",
              "9100     V006_79_1_18_09_03_13_3_0819e_20201112_151.jpg       18     9    13   \n",
              "9101     V006_79_1_18_09_03_13_3_0819e_20201127_172.jpg       18     9    13   \n",
              "9102      V006_79_1_18_09_03_13_3_6734e_20201030_50.jpg       18     9    13   \n",
              "9103      V006_79_1_18_09_03_13_3_6734e_20201117_48.jpg       18     9    13   \n",
              "9104      V006_79_1_18_09_03_13_3_6734e_20201117_55.jpg       18     9    13   \n",
              "\n",
              "      risk                                             points     name  \n",
              "0        0  [{'xtl': 502, 'ytl': 1261, 'xbr': 3781, 'ybr':...  고추_0.정상  \n",
              "1        0  [{'xtl': 817, 'ytl': 1564, 'xbr': 3693, 'ybr':...  고추_0.정상  \n",
              "2        0  [{'xtl': 697, 'ytl': 967, 'xbr': 3797, 'ybr': ...  고추_0.정상  \n",
              "3        0  [{'xtl': 627, 'ytl': 1294, 'xbr': 3783, 'ybr':...  고추_0.정상  \n",
              "4        0  [{'xtl': 1002, 'ytl': 458, 'xbr': 3380, 'ybr':...  고추_0.정상  \n",
              "...    ...                                                ...      ...  \n",
              "9100     3  [{'xtl': 308, 'ytl': 468, 'xbr': 542, 'ybr': 1...   파_1.질병  \n",
              "9101     3   [{'xtl': 0, 'ytl': 341, 'xbr': 960, 'ybr': 960}]   파_1.질병  \n",
              "9102     3    [{'xtl': 79, 'ytl': 2, 'xbr': 433, 'ybr': 960}]   파_1.질병  \n",
              "9103     3   [{'xtl': 355, 'ytl': 0, 'xbr': 657, 'ybr': 960}]   파_1.질병  \n",
              "9104     3  [{'xtl': 0, 'ytl': 621, 'xbr': 1559, 'ybr': 993}]   파_1.질병  \n",
              "\n",
              "[9105 rows x 7 columns]"
            ]
          },
          "execution_count": 24,
          "metadata": {},
          "output_type": "execute_result"
        }
      ],
      "source": [
        "vc = val_csv[['image', 'disease', 'crop', 'grow', 'risk', 'points', 'name']]\n",
        "vc"
      ]
    },
    {
      "cell_type": "code",
      "execution_count": 25,
      "metadata": {},
      "outputs": [],
      "source": [
        "vc = val_csv[['image', 'disease', 'crop', 'grow', 'risk', 'points', 'name']]\n",
        "df = pd.DataFrame(index=range(0,), columns=['image', 'disease', 'crop', 'grow', 'risk', 'points', 'name'])\n",
        "# [] 안에 작물 코드 넣기\n",
        "for i in [6]:\n",
        "    for k in range(19):\n",
        "        if k == 0:\n",
        "            tmp = vc[(vc['crop'] == i)&(vc['disease'] == k)][:1000]\n",
        "            df = pd.concat([df, tmp])\n",
        "        else:\n",
        "            tmp = vc[(vc['crop'] == i)&(vc['disease'] == k)][:500]\n",
        "            df = pd.concat([df, tmp])\n",
        "\n",
        "\n",
        "val_df = df"
      ]
    },
    {
      "cell_type": "code",
      "execution_count": 26,
      "metadata": {},
      "outputs": [
        {
          "data": {
            "text/html": [
              "<div>\n",
              "<style scoped>\n",
              "    .dataframe tbody tr th:only-of-type {\n",
              "        vertical-align: middle;\n",
              "    }\n",
              "\n",
              "    .dataframe tbody tr th {\n",
              "        vertical-align: top;\n",
              "    }\n",
              "\n",
              "    .dataframe thead th {\n",
              "        text-align: right;\n",
              "    }\n",
              "</style>\n",
              "<table border=\"1\" class=\"dataframe\">\n",
              "  <thead>\n",
              "    <tr style=\"text-align: right;\">\n",
              "      <th></th>\n",
              "      <th>image</th>\n",
              "      <th>disease</th>\n",
              "      <th>crop</th>\n",
              "      <th>grow</th>\n",
              "      <th>risk</th>\n",
              "    </tr>\n",
              "  </thead>\n",
              "  <tbody>\n",
              "    <tr>\n",
              "      <th>0</th>\n",
              "      <td>V006_79_0_00_06_01_13_0_b02_20201014_0005_S01_...</td>\n",
              "      <td>0</td>\n",
              "      <td>6</td>\n",
              "      <td>13</td>\n",
              "      <td>0</td>\n",
              "    </tr>\n",
              "    <tr>\n",
              "      <th>1</th>\n",
              "      <td>V006_79_0_00_06_01_13_0_b02_20201014_0016_S01_...</td>\n",
              "      <td>0</td>\n",
              "      <td>6</td>\n",
              "      <td>13</td>\n",
              "      <td>0</td>\n",
              "    </tr>\n",
              "    <tr>\n",
              "      <th>2</th>\n",
              "      <td>V006_79_0_00_06_01_13_0_b02_20201014_0023_S01_...</td>\n",
              "      <td>0</td>\n",
              "      <td>6</td>\n",
              "      <td>13</td>\n",
              "      <td>0</td>\n",
              "    </tr>\n",
              "    <tr>\n",
              "      <th>3</th>\n",
              "      <td>V006_79_0_00_06_01_13_0_b02_20201014_0024_S01_...</td>\n",
              "      <td>0</td>\n",
              "      <td>6</td>\n",
              "      <td>13</td>\n",
              "      <td>0</td>\n",
              "    </tr>\n",
              "    <tr>\n",
              "      <th>4</th>\n",
              "      <td>V006_79_0_00_06_01_13_0_b02_20201014_0028_S01_...</td>\n",
              "      <td>0</td>\n",
              "      <td>6</td>\n",
              "      <td>13</td>\n",
              "      <td>0</td>\n",
              "    </tr>\n",
              "    <tr>\n",
              "      <th>...</th>\n",
              "      <td>...</td>\n",
              "      <td>...</td>\n",
              "      <td>...</td>\n",
              "      <td>...</td>\n",
              "      <td>...</td>\n",
              "    </tr>\n",
              "    <tr>\n",
              "      <th>1102</th>\n",
              "      <td>V006_79_1_12_06_03_13_3_3221w_20201115_73.JPEG</td>\n",
              "      <td>12</td>\n",
              "      <td>6</td>\n",
              "      <td>13</td>\n",
              "      <td>3</td>\n",
              "    </tr>\n",
              "    <tr>\n",
              "      <th>1103</th>\n",
              "      <td>V006_79_1_12_06_03_13_3_3221w_20201115_82.jpg</td>\n",
              "      <td>12</td>\n",
              "      <td>6</td>\n",
              "      <td>13</td>\n",
              "      <td>3</td>\n",
              "    </tr>\n",
              "    <tr>\n",
              "      <th>1104</th>\n",
              "      <td>V006_79_1_12_06_03_13_3_3221w_20201115_86.jpg</td>\n",
              "      <td>12</td>\n",
              "      <td>6</td>\n",
              "      <td>13</td>\n",
              "      <td>3</td>\n",
              "    </tr>\n",
              "    <tr>\n",
              "      <th>1105</th>\n",
              "      <td>V006_79_1_12_06_03_13_3_3244w_20201104_15.jpeg</td>\n",
              "      <td>12</td>\n",
              "      <td>6</td>\n",
              "      <td>13</td>\n",
              "      <td>3</td>\n",
              "    </tr>\n",
              "    <tr>\n",
              "      <th>1106</th>\n",
              "      <td>V006_79_1_12_06_03_13_3_7390w_20201207_53.jpeg</td>\n",
              "      <td>12</td>\n",
              "      <td>6</td>\n",
              "      <td>13</td>\n",
              "      <td>3</td>\n",
              "    </tr>\n",
              "  </tbody>\n",
              "</table>\n",
              "<p>1107 rows × 5 columns</p>\n",
              "</div>"
            ],
            "text/plain": [
              "                                                  image disease crop grow risk\n",
              "0     V006_79_0_00_06_01_13_0_b02_20201014_0005_S01_...       0    6   13    0\n",
              "1     V006_79_0_00_06_01_13_0_b02_20201014_0016_S01_...       0    6   13    0\n",
              "2     V006_79_0_00_06_01_13_0_b02_20201014_0023_S01_...       0    6   13    0\n",
              "3     V006_79_0_00_06_01_13_0_b02_20201014_0024_S01_...       0    6   13    0\n",
              "4     V006_79_0_00_06_01_13_0_b02_20201014_0028_S01_...       0    6   13    0\n",
              "...                                                 ...     ...  ...  ...  ...\n",
              "1102     V006_79_1_12_06_03_13_3_3221w_20201115_73.JPEG      12    6   13    3\n",
              "1103      V006_79_1_12_06_03_13_3_3221w_20201115_82.jpg      12    6   13    3\n",
              "1104      V006_79_1_12_06_03_13_3_3221w_20201115_86.jpg      12    6   13    3\n",
              "1105     V006_79_1_12_06_03_13_3_3244w_20201104_15.jpeg      12    6   13    3\n",
              "1106     V006_79_1_12_06_03_13_3_7390w_20201207_53.jpeg      12    6   13    3\n",
              "\n",
              "[1107 rows x 5 columns]"
            ]
          },
          "execution_count": 26,
          "metadata": {},
          "output_type": "execute_result"
        }
      ],
      "source": [
        "val_df = val_df[['image', 'disease', 'crop', 'grow', 'risk']]\n",
        "val_df.reset_index(drop=True, inplace=True)\n",
        "val_df"
      ]
    },
    {
      "cell_type": "code",
      "execution_count": 27,
      "metadata": {},
      "outputs": [],
      "source": [
        "# 폴더 리스트 가져오기\n",
        "from glob import glob\n",
        "from PIL import Image\n",
        "import numpy as np\n",
        "\n",
        "\n",
        "X=[]\n",
        "train_dis = list(train_df['disease'])\n",
        "train_img = list(train_df['image'])\n",
        "train_cro = list(train_df['crop'])\n",
        "path = 'data/project/'\n",
        "\n",
        "\n",
        "for i in range(len(train_df)):\n",
        "    img = Image.open(path + str(train_cro[i])+ '/train/' + str(train_dis[i]) + '/' + train_img[i])\n",
        "    img = img.resize((224, 224)) ## 혹시몰라 한번더 리사이즈\n",
        "    imgarr = np.array(img)/255 # 스케일링\n",
        "    X.append(imgarr)"
      ]
    },
    {
      "cell_type": "code",
      "execution_count": 28,
      "metadata": {},
      "outputs": [
        {
          "name": "stdout",
          "output_type": "stream",
          "text": [
            "(1781, 224, 224, 3)\n"
          ]
        }
      ],
      "source": [
        "print(np.shape(X))"
      ]
    },
    {
      "cell_type": "code",
      "execution_count": 29,
      "metadata": {},
      "outputs": [],
      "source": [
        "y = []\n",
        "for item in train_df['disease']:\n",
        "  y.append(item)"
      ]
    },
    {
      "cell_type": "code",
      "execution_count": 30,
      "metadata": {},
      "outputs": [
        {
          "name": "stdout",
          "output_type": "stream",
          "text": [
            "(1781,)\n"
          ]
        }
      ],
      "source": [
        "print(np.shape(y))"
      ]
    },
    {
      "cell_type": "code",
      "execution_count": 31,
      "metadata": {},
      "outputs": [
        {
          "data": {
            "text/plain": [
              "array([ 0, 11, 12])"
            ]
          },
          "execution_count": 31,
          "metadata": {},
          "output_type": "execute_result"
        }
      ],
      "source": [
        "np.unique(y)"
      ]
    },
    {
      "cell_type": "code",
      "execution_count": 32,
      "metadata": {},
      "outputs": [],
      "source": [
        "# 작물 질병 확인하여 질병 순서대로 레이블 변경\n",
        "# 오이 5 : 오이흰가루병\n",
        "# 오이 6 : 오이노균병\n",
        "for i in range(len(y)):\n",
        "        if y[i] == 11.0:\n",
        "            y[i] = 1.0\n",
        "        elif y[i] == 12.0:\n",
        "            y[i] = 2.0"
      ]
    },
    {
      "cell_type": "code",
      "execution_count": 33,
      "metadata": {},
      "outputs": [
        {
          "data": {
            "text/plain": [
              "array([0., 1., 2.])"
            ]
          },
          "execution_count": 33,
          "metadata": {},
          "output_type": "execute_result"
        }
      ],
      "source": [
        "np.unique(y)"
      ]
    },
    {
      "cell_type": "code",
      "execution_count": 34,
      "metadata": {},
      "outputs": [
        {
          "data": {
            "text/plain": [
              "(list, list)"
            ]
          },
          "execution_count": 34,
          "metadata": {},
          "output_type": "execute_result"
        }
      ],
      "source": [
        "type(X), type(y)"
      ]
    },
    {
      "cell_type": "code",
      "execution_count": 35,
      "metadata": {},
      "outputs": [],
      "source": [
        "# np.array 로 변환해야 작업 가능\n",
        "X_train = np.array(X, dtype='float32')\n",
        "y_train = np.array(y, dtype='float32')"
      ]
    },
    {
      "cell_type": "code",
      "execution_count": 36,
      "metadata": {},
      "outputs": [],
      "source": [
        "# npz 파일 제작\n",
        "np.savez('data/train_cucumber_224.npz', X=X_train, Y=y_train)"
      ]
    },
    {
      "cell_type": "code",
      "execution_count": 37,
      "metadata": {},
      "outputs": [],
      "source": [
        "# 폴더 리스트 가져오기\n",
        "from glob import glob\n",
        "from PIL import Image\n",
        "import numpy as np\n",
        "\n",
        "\n",
        "X=[]\n",
        "val_dis = list(val_df['disease'])\n",
        "val_img = list(val_df['image'])\n",
        "val_cro = list(val_df['crop'])\n",
        "path = 'data/project/'\n",
        "\n",
        "\n",
        "for i in range(len(val_df)):\n",
        "    img = Image.open(path + str(val_cro[i])+ '/validation/' + str(val_dis[i]) + '/' + val_img[i])\n",
        "    img = img.resize((224, 224)) ## 혹시몰라 한번더 리사이즈\n",
        "    imgarr = np.array(img)/255 # 스케일링\n",
        "    X.append(imgarr)"
      ]
    },
    {
      "cell_type": "code",
      "execution_count": 38,
      "metadata": {},
      "outputs": [
        {
          "name": "stdout",
          "output_type": "stream",
          "text": [
            "(1107, 224, 224, 3)\n"
          ]
        }
      ],
      "source": [
        "print(np.shape(X))"
      ]
    },
    {
      "cell_type": "code",
      "execution_count": 39,
      "metadata": {},
      "outputs": [],
      "source": [
        "y = []\n",
        "for item in val_df['disease']:\n",
        "  y.append(item)"
      ]
    },
    {
      "cell_type": "code",
      "execution_count": 40,
      "metadata": {},
      "outputs": [
        {
          "name": "stdout",
          "output_type": "stream",
          "text": [
            "(1107,)\n"
          ]
        }
      ],
      "source": [
        "print(np.shape(y))"
      ]
    },
    {
      "cell_type": "code",
      "execution_count": 41,
      "metadata": {},
      "outputs": [
        {
          "data": {
            "text/plain": [
              "array([ 0, 11, 12])"
            ]
          },
          "execution_count": 41,
          "metadata": {},
          "output_type": "execute_result"
        }
      ],
      "source": [
        "np.unique(y)"
      ]
    },
    {
      "cell_type": "code",
      "execution_count": 42,
      "metadata": {},
      "outputs": [],
      "source": [
        "# 작물 질병 확인하여 질병 순서대로 레이블 변경\n",
        "# 오이 5 : 오이흰가루병\n",
        "# 오이 6 : 오이노균병\n",
        "for i in range(len(y)):\n",
        "        if y[i] == 11.0:\n",
        "            y[i] = 1.0\n",
        "        elif y[i] == 12.0:\n",
        "            y[i] = 2.0"
      ]
    },
    {
      "cell_type": "code",
      "execution_count": 43,
      "metadata": {},
      "outputs": [
        {
          "data": {
            "text/plain": [
              "array([0., 1., 2.])"
            ]
          },
          "execution_count": 43,
          "metadata": {},
          "output_type": "execute_result"
        }
      ],
      "source": [
        "np.unique(y)"
      ]
    },
    {
      "cell_type": "code",
      "execution_count": 44,
      "metadata": {},
      "outputs": [
        {
          "data": {
            "text/plain": [
              "(list, list)"
            ]
          },
          "execution_count": 44,
          "metadata": {},
          "output_type": "execute_result"
        }
      ],
      "source": [
        "type(X), type(y)"
      ]
    },
    {
      "cell_type": "code",
      "execution_count": 45,
      "metadata": {},
      "outputs": [],
      "source": [
        "# np.array 로 변환해야 작업 가능\n",
        "X_val = np.array(X)\n",
        "y_val = np.array(y)"
      ]
    },
    {
      "cell_type": "code",
      "execution_count": 46,
      "metadata": {},
      "outputs": [],
      "source": [
        "# npz 파일 제작\n",
        "np.savez('data/val_cucumber_224.npz', X=X_val, Y=y_val)"
      ]
    },
    {
      "cell_type": "code",
      "execution_count": 47,
      "metadata": {},
      "outputs": [],
      "source": [
        "# 메모리 변수 모두 제거\n",
        "all = [var for var in globals() if var[0] != '_']\n",
        "for var in all:\n",
        "    del globals()[var]"
      ]
    },
    {
      "cell_type": "code",
      "execution_count": 2,
      "metadata": {},
      "outputs": [
        {
          "name": "stderr",
          "output_type": "stream",
          "text": [
            "������ ��θ� ã�� �� �����ϴ�.\n",
            "������ ��θ� ã�� �� �����ϴ�.\n",
            "������ ��θ� ã�� �� �����ϴ�.\n"
          ]
        }
      ],
      "source": [
        "import numpy as np\n",
        "import pandas as pd\n",
        "import matplotlib as mpl\n",
        "import matplotlib.pyplot as plt\n",
        "!apt-get install -y fonts-nanum > /dev/null\n",
        "!fc-cache -fv > /dev/null\n",
        "!rm -rf ~/.cache/matplotlib > /dev/null\n",
        "mpl.rcParams['axes.unicode_minus'] = False\n",
        "plt.rc('font', family = 'NanumBarunGothic')\n",
        "import warnings\n",
        "warnings.filterwarnings('ignore')\n",
        "import os\n",
        "import math\n",
        "from PIL import Image"
      ]
    },
    {
      "cell_type": "code",
      "execution_count": 3,
      "metadata": {},
      "outputs": [
        {
          "name": "stdout",
          "output_type": "stream",
          "text": [
            "['X', 'Y']\n",
            "['X', 'Y']\n"
          ]
        }
      ],
      "source": [
        "train_npz = np.load('data/train_cucumber_224.npz')\n",
        "test_npz = np.load('data/val_cucumber_224.npz')\n",
        "print(list(train_npz))\n",
        "print(list(test_npz))"
      ]
    },
    {
      "cell_type": "code",
      "execution_count": 4,
      "metadata": {
        "colab": {
          "base_uri": "https://localhost:8080/"
        },
        "id": "P2-OsFP0KTzp",
        "outputId": "737b4c3c-cdb8-466e-fbd7-5a32d6937194"
      },
      "outputs": [
        {
          "name": "stdout",
          "output_type": "stream",
          "text": [
            "(1781, 224, 224, 3) 1781\n",
            "(1107, 224, 224, 3) 1107\n"
          ]
        }
      ],
      "source": [
        "X_train = train_npz['X']\n",
        "y_train = train_npz['Y']\n",
        "X_val = test_npz['X']\n",
        "y_val = test_npz['Y']\n",
        "print(np.shape(X_train), len(y_train))\n",
        "print(np.shape(X_val), len(y_val))"
      ]
    },
    {
      "cell_type": "code",
      "execution_count": 5,
      "metadata": {
        "colab": {
          "base_uri": "https://localhost:8080/"
        },
        "id": "W7JBtdkHKYWG",
        "outputId": "4ee628f3-372a-4182-c4eb-03e9a8408fe9"
      },
      "outputs": [
        {
          "data": {
            "text/plain": [
              "{0.0: 1000, 1.0: 392, 2.0: 389}"
            ]
          },
          "execution_count": 5,
          "metadata": {},
          "output_type": "execute_result"
        }
      ],
      "source": [
        "unique, counts = np.unique(y_train, return_counts = True)\n",
        "unique_yt = dict(zip(unique, counts))\n",
        "unique_yt"
      ]
    },
    {
      "cell_type": "code",
      "execution_count": 6,
      "metadata": {
        "colab": {
          "base_uri": "https://localhost:8080/"
        },
        "id": "n7lkHYbZKYkA",
        "outputId": "94995d7f-b0be-41b2-c314-ae08b714d307"
      },
      "outputs": [
        {
          "data": {
            "text/plain": [
              "{0.0: 1000, 1.0: 51, 2.0: 56}"
            ]
          },
          "execution_count": 6,
          "metadata": {},
          "output_type": "execute_result"
        }
      ],
      "source": [
        "unique, counts = np.unique(y_val, return_counts = True)\n",
        "unique_yv = dict(zip(unique, counts))\n",
        "unique_yv"
      ]
    },
    {
      "cell_type": "markdown",
      "metadata": {
        "id": "IDo6vUZP-Q1R"
      },
      "source": [
        "# 4. Keras ResNet50\n",
        "- tf.keras.applications.resnet50.ResNet50(include_top = True, weights = 'imagenet', input_tensor = None, input_shape = None, pooling = None, classes = 1000, **kwargs\n",
        ")\n",
        "- keras.applications.resnet.ResNet50(include_top = True, weights = 'imagenet', input_tensor = None, input_shape = None, pooling = None, classes = 1000)\n",
        "    - include_top: 네트워크의 최상단에 완전 연결 레이어를 넣을지 여부.\n",
        "    - weights: None (임의의 초기값 설정) 혹은 'imagenet' (ImageNet에 대한 선행 학습) 중 하나.\n",
        "    - input_tensor: 모델의 이미지 인풋으로 사용할 수 있는 선택적 케라스 텐서 (다시말해, layers.Input()의 아웃풋).\n",
        "    - input_shape: 선택적 형태 튜플로, include_top이 False일 경우만 특정하십시오. (그렇지 않다면 인풋의 형태가 (224, 224, 3)이고 'channels_last' 데이터 포맷을 취하거나 혹은 인풋의 형태가 (3, 224, 224)이고 'channels_first' 데이터 포맷을 취해야 합니다). 인풋 채널이 정확히 3개여야 하며 넓이와 높이가 32 미만이어서는 안됩니다. 예시. (200, 200, 3)은 유효한 값입니다.\n",
        "    - pooling: 특성추출을 위한 선택적 풀링 모드로, include_top이 False일 경우 유효합니다.\n",
        "None은 모델의 아웃풋이 마지막 컨볼루션 레이어의 4D 텐서 아웃풋임을 의미합니다.\n",
        "'avg'는 글로벌 평균값 풀링이 마지막 컨볼루션 레이어의 아웃풋에 적용되어 모델의 아웃풋이 2D 텐서가 됨을 의미합니다.\n",
        "'max'는 글로벌 최대값 풀링이 적용됨을 의미합니다.\n",
        "    - classes: 이미지를 분류하기 위한 선택적 클래스의 수로, include_top이 True일 경우, 그리고 weights 인수가 따로 정해지지 않은 경우만 특정합니다."
      ]
    },
    {
      "cell_type": "code",
      "execution_count": 7,
      "metadata": {
        "id": "TZDXsJLaHStQ"
      },
      "outputs": [],
      "source": [
        "import tensorflow as tf\n",
        "model = tf.keras.applications.resnet50.ResNet50(\n",
        "    include_top = True,\n",
        "    weights = None,\n",
        "    input_tensor = None,\n",
        "    input_shape = (224, 224, 3),\n",
        "    pooling = max,\n",
        "    classes = 1000\n",
        ")"
      ]
    },
    {
      "cell_type": "code",
      "execution_count": 8,
      "metadata": {
        "colab": {
          "base_uri": "https://localhost:8080/"
        },
        "id": "cVz22qU3Hk4m",
        "outputId": "52a42f69-d38c-47a8-b06a-0f24c4fe8070"
      },
      "outputs": [
        {
          "name": "stdout",
          "output_type": "stream",
          "text": [
            "Model: \"resnet50\"\n",
            "__________________________________________________________________________________________________\n",
            "Layer (type)                    Output Shape         Param #     Connected to                     \n",
            "==================================================================================================\n",
            "input_1 (InputLayer)            [(None, 224, 224, 3) 0                                            \n",
            "__________________________________________________________________________________________________\n",
            "conv1_pad (ZeroPadding2D)       (None, 230, 230, 3)  0           input_1[0][0]                    \n",
            "__________________________________________________________________________________________________\n",
            "conv1_conv (Conv2D)             (None, 112, 112, 64) 9472        conv1_pad[0][0]                  \n",
            "__________________________________________________________________________________________________\n",
            "conv1_bn (BatchNormalization)   (None, 112, 112, 64) 256         conv1_conv[0][0]                 \n",
            "__________________________________________________________________________________________________\n",
            "conv1_relu (Activation)         (None, 112, 112, 64) 0           conv1_bn[0][0]                   \n",
            "__________________________________________________________________________________________________\n",
            "pool1_pad (ZeroPadding2D)       (None, 114, 114, 64) 0           conv1_relu[0][0]                 \n",
            "__________________________________________________________________________________________________\n",
            "pool1_pool (MaxPooling2D)       (None, 56, 56, 64)   0           pool1_pad[0][0]                  \n",
            "__________________________________________________________________________________________________\n",
            "conv2_block1_1_conv (Conv2D)    (None, 56, 56, 64)   4160        pool1_pool[0][0]                 \n",
            "__________________________________________________________________________________________________\n",
            "conv2_block1_1_bn (BatchNormali (None, 56, 56, 64)   256         conv2_block1_1_conv[0][0]        \n",
            "__________________________________________________________________________________________________\n",
            "conv2_block1_1_relu (Activation (None, 56, 56, 64)   0           conv2_block1_1_bn[0][0]          \n",
            "__________________________________________________________________________________________________\n",
            "conv2_block1_2_conv (Conv2D)    (None, 56, 56, 64)   36928       conv2_block1_1_relu[0][0]        \n",
            "__________________________________________________________________________________________________\n",
            "conv2_block1_2_bn (BatchNormali (None, 56, 56, 64)   256         conv2_block1_2_conv[0][0]        \n",
            "__________________________________________________________________________________________________\n",
            "conv2_block1_2_relu (Activation (None, 56, 56, 64)   0           conv2_block1_2_bn[0][0]          \n",
            "__________________________________________________________________________________________________\n",
            "conv2_block1_0_conv (Conv2D)    (None, 56, 56, 256)  16640       pool1_pool[0][0]                 \n",
            "__________________________________________________________________________________________________\n",
            "conv2_block1_3_conv (Conv2D)    (None, 56, 56, 256)  16640       conv2_block1_2_relu[0][0]        \n",
            "__________________________________________________________________________________________________\n",
            "conv2_block1_0_bn (BatchNormali (None, 56, 56, 256)  1024        conv2_block1_0_conv[0][0]        \n",
            "__________________________________________________________________________________________________\n",
            "conv2_block1_3_bn (BatchNormali (None, 56, 56, 256)  1024        conv2_block1_3_conv[0][0]        \n",
            "__________________________________________________________________________________________________\n",
            "conv2_block1_add (Add)          (None, 56, 56, 256)  0           conv2_block1_0_bn[0][0]          \n",
            "                                                                 conv2_block1_3_bn[0][0]          \n",
            "__________________________________________________________________________________________________\n",
            "conv2_block1_out (Activation)   (None, 56, 56, 256)  0           conv2_block1_add[0][0]           \n",
            "__________________________________________________________________________________________________\n",
            "conv2_block2_1_conv (Conv2D)    (None, 56, 56, 64)   16448       conv2_block1_out[0][0]           \n",
            "__________________________________________________________________________________________________\n",
            "conv2_block2_1_bn (BatchNormali (None, 56, 56, 64)   256         conv2_block2_1_conv[0][0]        \n",
            "__________________________________________________________________________________________________\n",
            "conv2_block2_1_relu (Activation (None, 56, 56, 64)   0           conv2_block2_1_bn[0][0]          \n",
            "__________________________________________________________________________________________________\n",
            "conv2_block2_2_conv (Conv2D)    (None, 56, 56, 64)   36928       conv2_block2_1_relu[0][0]        \n",
            "__________________________________________________________________________________________________\n",
            "conv2_block2_2_bn (BatchNormali (None, 56, 56, 64)   256         conv2_block2_2_conv[0][0]        \n",
            "__________________________________________________________________________________________________\n",
            "conv2_block2_2_relu (Activation (None, 56, 56, 64)   0           conv2_block2_2_bn[0][0]          \n",
            "__________________________________________________________________________________________________\n",
            "conv2_block2_3_conv (Conv2D)    (None, 56, 56, 256)  16640       conv2_block2_2_relu[0][0]        \n",
            "__________________________________________________________________________________________________\n",
            "conv2_block2_3_bn (BatchNormali (None, 56, 56, 256)  1024        conv2_block2_3_conv[0][0]        \n",
            "__________________________________________________________________________________________________\n",
            "conv2_block2_add (Add)          (None, 56, 56, 256)  0           conv2_block1_out[0][0]           \n",
            "                                                                 conv2_block2_3_bn[0][0]          \n",
            "__________________________________________________________________________________________________\n",
            "conv2_block2_out (Activation)   (None, 56, 56, 256)  0           conv2_block2_add[0][0]           \n",
            "__________________________________________________________________________________________________\n",
            "conv2_block3_1_conv (Conv2D)    (None, 56, 56, 64)   16448       conv2_block2_out[0][0]           \n",
            "__________________________________________________________________________________________________\n",
            "conv2_block3_1_bn (BatchNormali (None, 56, 56, 64)   256         conv2_block3_1_conv[0][0]        \n",
            "__________________________________________________________________________________________________\n",
            "conv2_block3_1_relu (Activation (None, 56, 56, 64)   0           conv2_block3_1_bn[0][0]          \n",
            "__________________________________________________________________________________________________\n",
            "conv2_block3_2_conv (Conv2D)    (None, 56, 56, 64)   36928       conv2_block3_1_relu[0][0]        \n",
            "__________________________________________________________________________________________________\n",
            "conv2_block3_2_bn (BatchNormali (None, 56, 56, 64)   256         conv2_block3_2_conv[0][0]        \n",
            "__________________________________________________________________________________________________\n",
            "conv2_block3_2_relu (Activation (None, 56, 56, 64)   0           conv2_block3_2_bn[0][0]          \n",
            "__________________________________________________________________________________________________\n",
            "conv2_block3_3_conv (Conv2D)    (None, 56, 56, 256)  16640       conv2_block3_2_relu[0][0]        \n",
            "__________________________________________________________________________________________________\n",
            "conv2_block3_3_bn (BatchNormali (None, 56, 56, 256)  1024        conv2_block3_3_conv[0][0]        \n",
            "__________________________________________________________________________________________________\n",
            "conv2_block3_add (Add)          (None, 56, 56, 256)  0           conv2_block2_out[0][0]           \n",
            "                                                                 conv2_block3_3_bn[0][0]          \n",
            "__________________________________________________________________________________________________\n",
            "conv2_block3_out (Activation)   (None, 56, 56, 256)  0           conv2_block3_add[0][0]           \n",
            "__________________________________________________________________________________________________\n",
            "conv3_block1_1_conv (Conv2D)    (None, 28, 28, 128)  32896       conv2_block3_out[0][0]           \n",
            "__________________________________________________________________________________________________\n",
            "conv3_block1_1_bn (BatchNormali (None, 28, 28, 128)  512         conv3_block1_1_conv[0][0]        \n",
            "__________________________________________________________________________________________________\n",
            "conv3_block1_1_relu (Activation (None, 28, 28, 128)  0           conv3_block1_1_bn[0][0]          \n",
            "__________________________________________________________________________________________________\n",
            "conv3_block1_2_conv (Conv2D)    (None, 28, 28, 128)  147584      conv3_block1_1_relu[0][0]        \n",
            "__________________________________________________________________________________________________\n",
            "conv3_block1_2_bn (BatchNormali (None, 28, 28, 128)  512         conv3_block1_2_conv[0][0]        \n",
            "__________________________________________________________________________________________________\n",
            "conv3_block1_2_relu (Activation (None, 28, 28, 128)  0           conv3_block1_2_bn[0][0]          \n",
            "__________________________________________________________________________________________________\n",
            "conv3_block1_0_conv (Conv2D)    (None, 28, 28, 512)  131584      conv2_block3_out[0][0]           \n",
            "__________________________________________________________________________________________________\n",
            "conv3_block1_3_conv (Conv2D)    (None, 28, 28, 512)  66048       conv3_block1_2_relu[0][0]        \n",
            "__________________________________________________________________________________________________\n",
            "conv3_block1_0_bn (BatchNormali (None, 28, 28, 512)  2048        conv3_block1_0_conv[0][0]        \n",
            "__________________________________________________________________________________________________\n",
            "conv3_block1_3_bn (BatchNormali (None, 28, 28, 512)  2048        conv3_block1_3_conv[0][0]        \n",
            "__________________________________________________________________________________________________\n",
            "conv3_block1_add (Add)          (None, 28, 28, 512)  0           conv3_block1_0_bn[0][0]          \n",
            "                                                                 conv3_block1_3_bn[0][0]          \n",
            "__________________________________________________________________________________________________\n",
            "conv3_block1_out (Activation)   (None, 28, 28, 512)  0           conv3_block1_add[0][0]           \n",
            "__________________________________________________________________________________________________\n",
            "conv3_block2_1_conv (Conv2D)    (None, 28, 28, 128)  65664       conv3_block1_out[0][0]           \n",
            "__________________________________________________________________________________________________\n",
            "conv3_block2_1_bn (BatchNormali (None, 28, 28, 128)  512         conv3_block2_1_conv[0][0]        \n",
            "__________________________________________________________________________________________________\n",
            "conv3_block2_1_relu (Activation (None, 28, 28, 128)  0           conv3_block2_1_bn[0][0]          \n",
            "__________________________________________________________________________________________________\n",
            "conv3_block2_2_conv (Conv2D)    (None, 28, 28, 128)  147584      conv3_block2_1_relu[0][0]        \n",
            "__________________________________________________________________________________________________\n",
            "conv3_block2_2_bn (BatchNormali (None, 28, 28, 128)  512         conv3_block2_2_conv[0][0]        \n",
            "__________________________________________________________________________________________________\n",
            "conv3_block2_2_relu (Activation (None, 28, 28, 128)  0           conv3_block2_2_bn[0][0]          \n",
            "__________________________________________________________________________________________________\n",
            "conv3_block2_3_conv (Conv2D)    (None, 28, 28, 512)  66048       conv3_block2_2_relu[0][0]        \n",
            "__________________________________________________________________________________________________\n",
            "conv3_block2_3_bn (BatchNormali (None, 28, 28, 512)  2048        conv3_block2_3_conv[0][0]        \n",
            "__________________________________________________________________________________________________\n",
            "conv3_block2_add (Add)          (None, 28, 28, 512)  0           conv3_block1_out[0][0]           \n",
            "                                                                 conv3_block2_3_bn[0][0]          \n",
            "__________________________________________________________________________________________________\n",
            "conv3_block2_out (Activation)   (None, 28, 28, 512)  0           conv3_block2_add[0][0]           \n",
            "__________________________________________________________________________________________________\n",
            "conv3_block3_1_conv (Conv2D)    (None, 28, 28, 128)  65664       conv3_block2_out[0][0]           \n",
            "__________________________________________________________________________________________________\n",
            "conv3_block3_1_bn (BatchNormali (None, 28, 28, 128)  512         conv3_block3_1_conv[0][0]        \n",
            "__________________________________________________________________________________________________\n",
            "conv3_block3_1_relu (Activation (None, 28, 28, 128)  0           conv3_block3_1_bn[0][0]          \n",
            "__________________________________________________________________________________________________\n",
            "conv3_block3_2_conv (Conv2D)    (None, 28, 28, 128)  147584      conv3_block3_1_relu[0][0]        \n",
            "__________________________________________________________________________________________________\n",
            "conv3_block3_2_bn (BatchNormali (None, 28, 28, 128)  512         conv3_block3_2_conv[0][0]        \n",
            "__________________________________________________________________________________________________\n",
            "conv3_block3_2_relu (Activation (None, 28, 28, 128)  0           conv3_block3_2_bn[0][0]          \n",
            "__________________________________________________________________________________________________\n",
            "conv3_block3_3_conv (Conv2D)    (None, 28, 28, 512)  66048       conv3_block3_2_relu[0][0]        \n",
            "__________________________________________________________________________________________________\n",
            "conv3_block3_3_bn (BatchNormali (None, 28, 28, 512)  2048        conv3_block3_3_conv[0][0]        \n",
            "__________________________________________________________________________________________________\n",
            "conv3_block3_add (Add)          (None, 28, 28, 512)  0           conv3_block2_out[0][0]           \n",
            "                                                                 conv3_block3_3_bn[0][0]          \n",
            "__________________________________________________________________________________________________\n",
            "conv3_block3_out (Activation)   (None, 28, 28, 512)  0           conv3_block3_add[0][0]           \n",
            "__________________________________________________________________________________________________\n",
            "conv3_block4_1_conv (Conv2D)    (None, 28, 28, 128)  65664       conv3_block3_out[0][0]           \n",
            "__________________________________________________________________________________________________\n",
            "conv3_block4_1_bn (BatchNormali (None, 28, 28, 128)  512         conv3_block4_1_conv[0][0]        \n",
            "__________________________________________________________________________________________________\n",
            "conv3_block4_1_relu (Activation (None, 28, 28, 128)  0           conv3_block4_1_bn[0][0]          \n",
            "__________________________________________________________________________________________________\n",
            "conv3_block4_2_conv (Conv2D)    (None, 28, 28, 128)  147584      conv3_block4_1_relu[0][0]        \n",
            "__________________________________________________________________________________________________\n",
            "conv3_block4_2_bn (BatchNormali (None, 28, 28, 128)  512         conv3_block4_2_conv[0][0]        \n",
            "__________________________________________________________________________________________________\n",
            "conv3_block4_2_relu (Activation (None, 28, 28, 128)  0           conv3_block4_2_bn[0][0]          \n",
            "__________________________________________________________________________________________________\n",
            "conv3_block4_3_conv (Conv2D)    (None, 28, 28, 512)  66048       conv3_block4_2_relu[0][0]        \n",
            "__________________________________________________________________________________________________\n",
            "conv3_block4_3_bn (BatchNormali (None, 28, 28, 512)  2048        conv3_block4_3_conv[0][0]        \n",
            "__________________________________________________________________________________________________\n",
            "conv3_block4_add (Add)          (None, 28, 28, 512)  0           conv3_block3_out[0][0]           \n",
            "                                                                 conv3_block4_3_bn[0][0]          \n",
            "__________________________________________________________________________________________________\n",
            "conv3_block4_out (Activation)   (None, 28, 28, 512)  0           conv3_block4_add[0][0]           \n",
            "__________________________________________________________________________________________________\n",
            "conv4_block1_1_conv (Conv2D)    (None, 14, 14, 256)  131328      conv3_block4_out[0][0]           \n",
            "__________________________________________________________________________________________________\n",
            "conv4_block1_1_bn (BatchNormali (None, 14, 14, 256)  1024        conv4_block1_1_conv[0][0]        \n",
            "__________________________________________________________________________________________________\n",
            "conv4_block1_1_relu (Activation (None, 14, 14, 256)  0           conv4_block1_1_bn[0][0]          \n",
            "__________________________________________________________________________________________________\n",
            "conv4_block1_2_conv (Conv2D)    (None, 14, 14, 256)  590080      conv4_block1_1_relu[0][0]        \n",
            "__________________________________________________________________________________________________\n",
            "conv4_block1_2_bn (BatchNormali (None, 14, 14, 256)  1024        conv4_block1_2_conv[0][0]        \n",
            "__________________________________________________________________________________________________\n",
            "conv4_block1_2_relu (Activation (None, 14, 14, 256)  0           conv4_block1_2_bn[0][0]          \n",
            "__________________________________________________________________________________________________\n",
            "conv4_block1_0_conv (Conv2D)    (None, 14, 14, 1024) 525312      conv3_block4_out[0][0]           \n",
            "__________________________________________________________________________________________________\n",
            "conv4_block1_3_conv (Conv2D)    (None, 14, 14, 1024) 263168      conv4_block1_2_relu[0][0]        \n",
            "__________________________________________________________________________________________________\n",
            "conv4_block1_0_bn (BatchNormali (None, 14, 14, 1024) 4096        conv4_block1_0_conv[0][0]        \n",
            "__________________________________________________________________________________________________\n",
            "conv4_block1_3_bn (BatchNormali (None, 14, 14, 1024) 4096        conv4_block1_3_conv[0][0]        \n",
            "__________________________________________________________________________________________________\n",
            "conv4_block1_add (Add)          (None, 14, 14, 1024) 0           conv4_block1_0_bn[0][0]          \n",
            "                                                                 conv4_block1_3_bn[0][0]          \n",
            "__________________________________________________________________________________________________\n",
            "conv4_block1_out (Activation)   (None, 14, 14, 1024) 0           conv4_block1_add[0][0]           \n",
            "__________________________________________________________________________________________________\n",
            "conv4_block2_1_conv (Conv2D)    (None, 14, 14, 256)  262400      conv4_block1_out[0][0]           \n",
            "__________________________________________________________________________________________________\n",
            "conv4_block2_1_bn (BatchNormali (None, 14, 14, 256)  1024        conv4_block2_1_conv[0][0]        \n",
            "__________________________________________________________________________________________________\n",
            "conv4_block2_1_relu (Activation (None, 14, 14, 256)  0           conv4_block2_1_bn[0][0]          \n",
            "__________________________________________________________________________________________________\n",
            "conv4_block2_2_conv (Conv2D)    (None, 14, 14, 256)  590080      conv4_block2_1_relu[0][0]        \n",
            "__________________________________________________________________________________________________\n",
            "conv4_block2_2_bn (BatchNormali (None, 14, 14, 256)  1024        conv4_block2_2_conv[0][0]        \n",
            "__________________________________________________________________________________________________\n",
            "conv4_block2_2_relu (Activation (None, 14, 14, 256)  0           conv4_block2_2_bn[0][0]          \n",
            "__________________________________________________________________________________________________\n",
            "conv4_block2_3_conv (Conv2D)    (None, 14, 14, 1024) 263168      conv4_block2_2_relu[0][0]        \n",
            "__________________________________________________________________________________________________\n",
            "conv4_block2_3_bn (BatchNormali (None, 14, 14, 1024) 4096        conv4_block2_3_conv[0][0]        \n",
            "__________________________________________________________________________________________________\n",
            "conv4_block2_add (Add)          (None, 14, 14, 1024) 0           conv4_block1_out[0][0]           \n",
            "                                                                 conv4_block2_3_bn[0][0]          \n",
            "__________________________________________________________________________________________________\n",
            "conv4_block2_out (Activation)   (None, 14, 14, 1024) 0           conv4_block2_add[0][0]           \n",
            "__________________________________________________________________________________________________\n",
            "conv4_block3_1_conv (Conv2D)    (None, 14, 14, 256)  262400      conv4_block2_out[0][0]           \n",
            "__________________________________________________________________________________________________\n",
            "conv4_block3_1_bn (BatchNormali (None, 14, 14, 256)  1024        conv4_block3_1_conv[0][0]        \n",
            "__________________________________________________________________________________________________\n",
            "conv4_block3_1_relu (Activation (None, 14, 14, 256)  0           conv4_block3_1_bn[0][0]          \n",
            "__________________________________________________________________________________________________\n",
            "conv4_block3_2_conv (Conv2D)    (None, 14, 14, 256)  590080      conv4_block3_1_relu[0][0]        \n",
            "__________________________________________________________________________________________________\n",
            "conv4_block3_2_bn (BatchNormali (None, 14, 14, 256)  1024        conv4_block3_2_conv[0][0]        \n",
            "__________________________________________________________________________________________________\n",
            "conv4_block3_2_relu (Activation (None, 14, 14, 256)  0           conv4_block3_2_bn[0][0]          \n",
            "__________________________________________________________________________________________________\n",
            "conv4_block3_3_conv (Conv2D)    (None, 14, 14, 1024) 263168      conv4_block3_2_relu[0][0]        \n",
            "__________________________________________________________________________________________________\n",
            "conv4_block3_3_bn (BatchNormali (None, 14, 14, 1024) 4096        conv4_block3_3_conv[0][0]        \n",
            "__________________________________________________________________________________________________\n",
            "conv4_block3_add (Add)          (None, 14, 14, 1024) 0           conv4_block2_out[0][0]           \n",
            "                                                                 conv4_block3_3_bn[0][0]          \n",
            "__________________________________________________________________________________________________\n",
            "conv4_block3_out (Activation)   (None, 14, 14, 1024) 0           conv4_block3_add[0][0]           \n",
            "__________________________________________________________________________________________________\n",
            "conv4_block4_1_conv (Conv2D)    (None, 14, 14, 256)  262400      conv4_block3_out[0][0]           \n",
            "__________________________________________________________________________________________________\n",
            "conv4_block4_1_bn (BatchNormali (None, 14, 14, 256)  1024        conv4_block4_1_conv[0][0]        \n",
            "__________________________________________________________________________________________________\n",
            "conv4_block4_1_relu (Activation (None, 14, 14, 256)  0           conv4_block4_1_bn[0][0]          \n",
            "__________________________________________________________________________________________________\n",
            "conv4_block4_2_conv (Conv2D)    (None, 14, 14, 256)  590080      conv4_block4_1_relu[0][0]        \n",
            "__________________________________________________________________________________________________\n",
            "conv4_block4_2_bn (BatchNormali (None, 14, 14, 256)  1024        conv4_block4_2_conv[0][0]        \n",
            "__________________________________________________________________________________________________\n",
            "conv4_block4_2_relu (Activation (None, 14, 14, 256)  0           conv4_block4_2_bn[0][0]          \n",
            "__________________________________________________________________________________________________\n",
            "conv4_block4_3_conv (Conv2D)    (None, 14, 14, 1024) 263168      conv4_block4_2_relu[0][0]        \n",
            "__________________________________________________________________________________________________\n",
            "conv4_block4_3_bn (BatchNormali (None, 14, 14, 1024) 4096        conv4_block4_3_conv[0][0]        \n",
            "__________________________________________________________________________________________________\n",
            "conv4_block4_add (Add)          (None, 14, 14, 1024) 0           conv4_block3_out[0][0]           \n",
            "                                                                 conv4_block4_3_bn[0][0]          \n",
            "__________________________________________________________________________________________________\n",
            "conv4_block4_out (Activation)   (None, 14, 14, 1024) 0           conv4_block4_add[0][0]           \n",
            "__________________________________________________________________________________________________\n",
            "conv4_block5_1_conv (Conv2D)    (None, 14, 14, 256)  262400      conv4_block4_out[0][0]           \n",
            "__________________________________________________________________________________________________\n",
            "conv4_block5_1_bn (BatchNormali (None, 14, 14, 256)  1024        conv4_block5_1_conv[0][0]        \n",
            "__________________________________________________________________________________________________\n",
            "conv4_block5_1_relu (Activation (None, 14, 14, 256)  0           conv4_block5_1_bn[0][0]          \n",
            "__________________________________________________________________________________________________\n",
            "conv4_block5_2_conv (Conv2D)    (None, 14, 14, 256)  590080      conv4_block5_1_relu[0][0]        \n",
            "__________________________________________________________________________________________________\n",
            "conv4_block5_2_bn (BatchNormali (None, 14, 14, 256)  1024        conv4_block5_2_conv[0][0]        \n",
            "__________________________________________________________________________________________________\n",
            "conv4_block5_2_relu (Activation (None, 14, 14, 256)  0           conv4_block5_2_bn[0][0]          \n",
            "__________________________________________________________________________________________________\n",
            "conv4_block5_3_conv (Conv2D)    (None, 14, 14, 1024) 263168      conv4_block5_2_relu[0][0]        \n",
            "__________________________________________________________________________________________________\n",
            "conv4_block5_3_bn (BatchNormali (None, 14, 14, 1024) 4096        conv4_block5_3_conv[0][0]        \n",
            "__________________________________________________________________________________________________\n",
            "conv4_block5_add (Add)          (None, 14, 14, 1024) 0           conv4_block4_out[0][0]           \n",
            "                                                                 conv4_block5_3_bn[0][0]          \n",
            "__________________________________________________________________________________________________\n",
            "conv4_block5_out (Activation)   (None, 14, 14, 1024) 0           conv4_block5_add[0][0]           \n",
            "__________________________________________________________________________________________________\n",
            "conv4_block6_1_conv (Conv2D)    (None, 14, 14, 256)  262400      conv4_block5_out[0][0]           \n",
            "__________________________________________________________________________________________________\n",
            "conv4_block6_1_bn (BatchNormali (None, 14, 14, 256)  1024        conv4_block6_1_conv[0][0]        \n",
            "__________________________________________________________________________________________________\n",
            "conv4_block6_1_relu (Activation (None, 14, 14, 256)  0           conv4_block6_1_bn[0][0]          \n",
            "__________________________________________________________________________________________________\n",
            "conv4_block6_2_conv (Conv2D)    (None, 14, 14, 256)  590080      conv4_block6_1_relu[0][0]        \n",
            "__________________________________________________________________________________________________\n",
            "conv4_block6_2_bn (BatchNormali (None, 14, 14, 256)  1024        conv4_block6_2_conv[0][0]        \n",
            "__________________________________________________________________________________________________\n",
            "conv4_block6_2_relu (Activation (None, 14, 14, 256)  0           conv4_block6_2_bn[0][0]          \n",
            "__________________________________________________________________________________________________\n",
            "conv4_block6_3_conv (Conv2D)    (None, 14, 14, 1024) 263168      conv4_block6_2_relu[0][0]        \n",
            "__________________________________________________________________________________________________\n",
            "conv4_block6_3_bn (BatchNormali (None, 14, 14, 1024) 4096        conv4_block6_3_conv[0][0]        \n",
            "__________________________________________________________________________________________________\n",
            "conv4_block6_add (Add)          (None, 14, 14, 1024) 0           conv4_block5_out[0][0]           \n",
            "                                                                 conv4_block6_3_bn[0][0]          \n",
            "__________________________________________________________________________________________________\n",
            "conv4_block6_out (Activation)   (None, 14, 14, 1024) 0           conv4_block6_add[0][0]           \n",
            "__________________________________________________________________________________________________\n",
            "conv5_block1_1_conv (Conv2D)    (None, 7, 7, 512)    524800      conv4_block6_out[0][0]           \n",
            "__________________________________________________________________________________________________\n",
            "conv5_block1_1_bn (BatchNormali (None, 7, 7, 512)    2048        conv5_block1_1_conv[0][0]        \n",
            "__________________________________________________________________________________________________\n",
            "conv5_block1_1_relu (Activation (None, 7, 7, 512)    0           conv5_block1_1_bn[0][0]          \n",
            "__________________________________________________________________________________________________\n",
            "conv5_block1_2_conv (Conv2D)    (None, 7, 7, 512)    2359808     conv5_block1_1_relu[0][0]        \n",
            "__________________________________________________________________________________________________\n",
            "conv5_block1_2_bn (BatchNormali (None, 7, 7, 512)    2048        conv5_block1_2_conv[0][0]        \n",
            "__________________________________________________________________________________________________\n",
            "conv5_block1_2_relu (Activation (None, 7, 7, 512)    0           conv5_block1_2_bn[0][0]          \n",
            "__________________________________________________________________________________________________\n",
            "conv5_block1_0_conv (Conv2D)    (None, 7, 7, 2048)   2099200     conv4_block6_out[0][0]           \n",
            "__________________________________________________________________________________________________\n",
            "conv5_block1_3_conv (Conv2D)    (None, 7, 7, 2048)   1050624     conv5_block1_2_relu[0][0]        \n",
            "__________________________________________________________________________________________________\n",
            "conv5_block1_0_bn (BatchNormali (None, 7, 7, 2048)   8192        conv5_block1_0_conv[0][0]        \n",
            "__________________________________________________________________________________________________\n",
            "conv5_block1_3_bn (BatchNormali (None, 7, 7, 2048)   8192        conv5_block1_3_conv[0][0]        \n",
            "__________________________________________________________________________________________________\n",
            "conv5_block1_add (Add)          (None, 7, 7, 2048)   0           conv5_block1_0_bn[0][0]          \n",
            "                                                                 conv5_block1_3_bn[0][0]          \n",
            "__________________________________________________________________________________________________\n",
            "conv5_block1_out (Activation)   (None, 7, 7, 2048)   0           conv5_block1_add[0][0]           \n",
            "__________________________________________________________________________________________________\n",
            "conv5_block2_1_conv (Conv2D)    (None, 7, 7, 512)    1049088     conv5_block1_out[0][0]           \n",
            "__________________________________________________________________________________________________\n",
            "conv5_block2_1_bn (BatchNormali (None, 7, 7, 512)    2048        conv5_block2_1_conv[0][0]        \n",
            "__________________________________________________________________________________________________\n",
            "conv5_block2_1_relu (Activation (None, 7, 7, 512)    0           conv5_block2_1_bn[0][0]          \n",
            "__________________________________________________________________________________________________\n",
            "conv5_block2_2_conv (Conv2D)    (None, 7, 7, 512)    2359808     conv5_block2_1_relu[0][0]        \n",
            "__________________________________________________________________________________________________\n",
            "conv5_block2_2_bn (BatchNormali (None, 7, 7, 512)    2048        conv5_block2_2_conv[0][0]        \n",
            "__________________________________________________________________________________________________\n",
            "conv5_block2_2_relu (Activation (None, 7, 7, 512)    0           conv5_block2_2_bn[0][0]          \n",
            "__________________________________________________________________________________________________\n",
            "conv5_block2_3_conv (Conv2D)    (None, 7, 7, 2048)   1050624     conv5_block2_2_relu[0][0]        \n",
            "__________________________________________________________________________________________________\n",
            "conv5_block2_3_bn (BatchNormali (None, 7, 7, 2048)   8192        conv5_block2_3_conv[0][0]        \n",
            "__________________________________________________________________________________________________\n",
            "conv5_block2_add (Add)          (None, 7, 7, 2048)   0           conv5_block1_out[0][0]           \n",
            "                                                                 conv5_block2_3_bn[0][0]          \n",
            "__________________________________________________________________________________________________\n",
            "conv5_block2_out (Activation)   (None, 7, 7, 2048)   0           conv5_block2_add[0][0]           \n",
            "__________________________________________________________________________________________________\n",
            "conv5_block3_1_conv (Conv2D)    (None, 7, 7, 512)    1049088     conv5_block2_out[0][0]           \n",
            "__________________________________________________________________________________________________\n",
            "conv5_block3_1_bn (BatchNormali (None, 7, 7, 512)    2048        conv5_block3_1_conv[0][0]        \n",
            "__________________________________________________________________________________________________\n",
            "conv5_block3_1_relu (Activation (None, 7, 7, 512)    0           conv5_block3_1_bn[0][0]          \n",
            "__________________________________________________________________________________________________\n",
            "conv5_block3_2_conv (Conv2D)    (None, 7, 7, 512)    2359808     conv5_block3_1_relu[0][0]        \n",
            "__________________________________________________________________________________________________\n",
            "conv5_block3_2_bn (BatchNormali (None, 7, 7, 512)    2048        conv5_block3_2_conv[0][0]        \n",
            "__________________________________________________________________________________________________\n",
            "conv5_block3_2_relu (Activation (None, 7, 7, 512)    0           conv5_block3_2_bn[0][0]          \n",
            "__________________________________________________________________________________________________\n",
            "conv5_block3_3_conv (Conv2D)    (None, 7, 7, 2048)   1050624     conv5_block3_2_relu[0][0]        \n",
            "__________________________________________________________________________________________________\n",
            "conv5_block3_3_bn (BatchNormali (None, 7, 7, 2048)   8192        conv5_block3_3_conv[0][0]        \n",
            "__________________________________________________________________________________________________\n",
            "conv5_block3_add (Add)          (None, 7, 7, 2048)   0           conv5_block2_out[0][0]           \n",
            "                                                                 conv5_block3_3_bn[0][0]          \n",
            "__________________________________________________________________________________________________\n",
            "conv5_block3_out (Activation)   (None, 7, 7, 2048)   0           conv5_block3_add[0][0]           \n",
            "__________________________________________________________________________________________________\n",
            "avg_pool (GlobalAveragePooling2 (None, 2048)         0           conv5_block3_out[0][0]           \n",
            "__________________________________________________________________________________________________\n",
            "predictions (Dense)             (None, 1000)         2049000     avg_pool[0][0]                   \n",
            "==================================================================================================\n",
            "Total params: 25,636,712\n",
            "Trainable params: 25,583,592\n",
            "Non-trainable params: 53,120\n",
            "__________________________________________________________________________________________________\n"
          ]
        }
      ],
      "source": [
        "model.summary()"
      ]
    },
    {
      "cell_type": "code",
      "execution_count": 9,
      "metadata": {
        "id": "YwMrVF4aIHWM"
      },
      "outputs": [],
      "source": [
        "es = tf.keras.callbacks.EarlyStopping(\n",
        "    monitor = 'val_loss',\n",
        "    mode = 'min',\n",
        "    verbose = 1,\n",
        "    patience = 10\n",
        ")\n",
        "save = tf.keras.callbacks.ModelCheckpoint(\n",
        "    'data/npz/best_model.h5',\n",
        "    monitor = 'val_loss',\n",
        "    mode = 'min',\n",
        "    save_best_only = True\n",
        ")\n",
        "callback = [es,save]"
      ]
    },
    {
      "cell_type": "code",
      "execution_count": 10,
      "metadata": {
        "id": "T6oyEQQFHsDv"
      },
      "outputs": [],
      "source": [
        "model.compile(\n",
        "    optimizer = 'adam',\n",
        "    loss = 'sparse_categorical_crossentropy',\n",
        "    metrics = ['acc']\n",
        ")"
      ]
    },
    {
      "cell_type": "code",
      "execution_count": 11,
      "metadata": {
        "colab": {
          "base_uri": "https://localhost:8080/"
        },
        "id": "y2qfOpe3H-UT",
        "outputId": "8264bff5-fe42-459c-b76d-1c76210e99d2"
      },
      "outputs": [
        {
          "name": "stdout",
          "output_type": "stream",
          "text": [
            "Epoch 1/50\n",
            "56/56 [==============================] - 31s 419ms/step - loss: 0.8754 - acc: 0.7765 - val_loss: 2.8804 - val_acc: 0.0506\n",
            "Epoch 2/50\n",
            "56/56 [==============================] - 21s 372ms/step - loss: 0.2951 - acc: 0.8899 - val_loss: 4.6706 - val_acc: 0.0506\n",
            "Epoch 3/50\n",
            "56/56 [==============================] - 21s 375ms/step - loss: 0.2339 - acc: 0.9214 - val_loss: 4.5142 - val_acc: 0.0506\n",
            "Epoch 4/50\n",
            "56/56 [==============================] - 21s 372ms/step - loss: 0.2247 - acc: 0.9220 - val_loss: 3.1757 - val_acc: 0.2123\n",
            "Epoch 5/50\n",
            "56/56 [==============================] - 21s 370ms/step - loss: 0.2962 - acc: 0.8855 - val_loss: 1.3051 - val_acc: 0.8889\n",
            "Epoch 6/50\n",
            "56/56 [==============================] - 19s 336ms/step - loss: 0.2279 - acc: 0.9175 - val_loss: 1.4740 - val_acc: 0.8898\n",
            "Epoch 7/50\n",
            "56/56 [==============================] - 20s 364ms/step - loss: 0.2920 - acc: 0.9040 - val_loss: 2.7733 - val_acc: 0.5583\n",
            "Epoch 8/50\n",
            "56/56 [==============================] - 21s 373ms/step - loss: 0.1948 - acc: 0.9321 - val_loss: 1.1954 - val_acc: 0.7570\n",
            "Epoch 9/50\n",
            "56/56 [==============================] - 20s 352ms/step - loss: 0.1621 - acc: 0.9399 - val_loss: 0.6696 - val_acc: 0.8537\n",
            "Epoch 10/50\n",
            "56/56 [==============================] - 19s 332ms/step - loss: 0.1609 - acc: 0.9439 - val_loss: 1.4123 - val_acc: 0.6856\n",
            "Epoch 11/50\n",
            "56/56 [==============================] - 18s 328ms/step - loss: 0.1534 - acc: 0.9433 - val_loss: 0.3675 - val_acc: 0.9115\n",
            "Epoch 12/50\n",
            "56/56 [==============================] - 18s 329ms/step - loss: 0.1686 - acc: 0.9399 - val_loss: 7.9577 - val_acc: 0.1626\n",
            "Epoch 13/50\n",
            "56/56 [==============================] - 19s 332ms/step - loss: 0.1687 - acc: 0.9422 - val_loss: 6.1666 - val_acc: 0.4372\n",
            "Epoch 14/50\n",
            "56/56 [==============================] - 19s 338ms/step - loss: 0.1324 - acc: 0.9512 - val_loss: 3.9026 - val_acc: 0.2502\n",
            "Epoch 15/50\n",
            "56/56 [==============================] - 19s 337ms/step - loss: 0.1028 - acc: 0.9646 - val_loss: 2.8611 - val_acc: 0.5980\n",
            "Epoch 16/50\n",
            "56/56 [==============================] - 18s 330ms/step - loss: 0.1213 - acc: 0.9596 - val_loss: 0.7311 - val_acc: 0.9115\n",
            "Epoch 17/50\n",
            "56/56 [==============================] - 19s 333ms/step - loss: 0.0966 - acc: 0.9691 - val_loss: 0.9988 - val_acc: 0.7082\n",
            "Epoch 18/50\n",
            "56/56 [==============================] - 19s 334ms/step - loss: 0.0833 - acc: 0.9663 - val_loss: 3.2940 - val_acc: 0.3939\n",
            "Epoch 19/50\n",
            "56/56 [==============================] - 18s 330ms/step - loss: 0.1161 - acc: 0.9590 - val_loss: 0.8604 - val_acc: 0.7371\n",
            "Epoch 20/50\n",
            "56/56 [==============================] - 19s 336ms/step - loss: 0.0839 - acc: 0.9686 - val_loss: 2.1523 - val_acc: 0.5718\n",
            "Epoch 21/50\n",
            "56/56 [==============================] - 19s 334ms/step - loss: 0.0775 - acc: 0.9753 - val_loss: 3.0865 - val_acc: 0.4580\n",
            "Epoch 00021: early stopping\n"
          ]
        }
      ],
      "source": [
        "history = model.fit(\n",
        "    X_train, y_train,\n",
        "    epochs = 50,\n",
        "    batch_size = 32,\n",
        "    validation_data = (X_val, y_val),\n",
        "    callbacks = callback\n",
        ")"
      ]
    },
    {
      "cell_type": "code",
      "execution_count": 12,
      "metadata": {
        "id": "4qcnmutEIbiJ"
      },
      "outputs": [
        {
          "data": {
            "image/png": "[encoded data removed]",
            "text/plain": [
              "<Figure size 720x360 with 2 Axes>"
            ]
          },
          "metadata": {
            "needs_background": "light"
          },
          "output_type": "display_data"
        }
      ],
      "source": [
        "his_dict = history.history\n",
        "loss = his_dict['loss']\n",
        "val_loss = his_dict['val_loss'] \n",
        "epochs = range(1, len(loss) + 1)\n",
        "fig = plt.figure(figsize = (10, 5))\n",
        "# 훈련, 검증 손실\n",
        "ax1 = fig.add_subplot(1, 2, 1)\n",
        "ax1.plot(epochs, loss, color = 'blue', label = 'train_loss')\n",
        "ax1.plot(epochs, val_loss, color = 'orange', label = 'val_loss')\n",
        "ax1.set_title('train and val loss')\n",
        "ax1.set_xlabel('epochs')\n",
        "ax1.set_ylabel('loss')\n",
        "ax1.legend()\n",
        "acc = his_dict['acc']\n",
        "val_acc = his_dict['val_acc']\n",
        "# 훈련, 검증 정확도\n",
        "ax2 = fig.add_subplot(1, 2, 2)\n",
        "ax2.plot(epochs, acc, color = 'blue', label = 'train_acc')\n",
        "ax2.plot(epochs, val_acc, color = 'orange', label = 'val_acc')\n",
        "ax2.set_title('train and val acc')\n",
        "ax2.set_xlabel('epochs')\n",
        "ax2.set_ylabel('acc')\n",
        "ax2.legend()\n",
        "plt.show()"
      ]
    },
    {
      "cell_type": "code",
      "execution_count": 13,
      "metadata": {},
      "outputs": [
        {
          "name": "stdout",
          "output_type": "stream",
          "text": [
            "35/35 [==============================] - 5s 94ms/step - loss: 0.3675 - acc: 0.9115\n",
            "\n",
            " 테스트 정확도: 0.9115\n"
          ]
        }
      ],
      "source": [
        "from tensorflow.keras.models import load_model\n",
        "loaded_model = load_model('data/npz/best_model.h5')\n",
        "print(\"\\n 테스트 정확도: %.4f\" % (loaded_model.evaluate(X_val, y_val)[1]))"
      ]
    },
    {
      "cell_type": "code",
      "execution_count": 20,
      "metadata": {},
      "outputs": [],
      "source": [
        "from keras.preprocessing import image\n",
        "\n",
        "def pred(path):      \n",
        "    img = image.load_img(path, target_size=(224, 224))\n",
        "\n",
        "    x=image.img_to_array(img)\n",
        "    x=np.expand_dims(x, axis=0)\n",
        "    images = np.vstack([x])\n",
        "    print(np.shape(images))\n",
        "    classes = loaded_model.predict(images, batch_size=32)\n",
        "\n",
        "    print(classes[0])\n",
        "\n",
        "    if np.argmax(classes[0])==0:\n",
        "        print(path + \" 정상 오이 입니다.\")\n",
        "    elif np.argmax(classes[0])==1:\n",
        "        print(path + \" 오이흰가루병 입니다.\")\n",
        "    elif np.argmax(classes[0])==2:\n",
        "        print(path + \" 오이노균병 입니다.\")"
      ]
    },
    {
      "cell_type": "code",
      "execution_count": 21,
      "metadata": {},
      "outputs": [
        {
          "name": "stdout",
          "output_type": "stream",
          "text": [
            "[1. 0. 0. 0. 0. 0. 0. 0. 0. 0. 0. 0. 0. 0. 0. 0. 0. 0. 0. 0. 0. 0. 0. 0.\n",
            " 0. 0. 0. 0. 0. 0. 0. 0. 0. 0. 0. 0. 0. 0. 0. 0. 0. 0. 0. 0. 0. 0. 0. 0.\n",
            " 0. 0. 0. 0. 0. 0. 0. 0. 0. 0. 0. 0. 0. 0. 0. 0. 0. 0. 0. 0. 0. 0. 0. 0.\n",
            " 0. 0. 0. 0. 0. 0. 0. 0. 0. 0. 0. 0. 0. 0. 0. 0. 0. 0. 0. 0. 0. 0. 0. 0.\n",
            " 0. 0. 0. 0. 0. 0. 0. 0. 0. 0. 0. 0. 0. 0. 0. 0. 0. 0. 0. 0. 0. 0. 0. 0.\n",
            " 0. 0. 0. 0. 0. 0. 0. 0. 0. 0. 0. 0. 0. 0. 0. 0. 0. 0. 0. 0. 0. 0. 0. 0.\n",
            " 0. 0. 0. 0. 0. 0. 0. 0. 0. 0. 0. 0. 0. 0. 0. 0. 0. 0. 0. 0. 0. 0. 0. 0.\n",
            " 0. 0. 0. 0. 0. 0. 0. 0. 0. 0. 0. 0. 0. 0. 0. 0. 0. 0. 0. 0. 0. 0. 0. 0.\n",
            " 0. 0. 0. 0. 0. 0. 0. 0. 0. 0. 0. 0. 0. 0. 0. 0. 0. 0. 0. 0. 0. 0. 0. 0.\n",
            " 0. 0. 0. 0. 0. 0. 0. 0. 0. 0. 0. 0. 0. 0. 0. 0. 0. 0. 0. 0. 0. 0. 0. 0.\n",
            " 0. 0. 0. 0. 0. 0. 0. 0. 0. 0. 0. 0. 0. 0. 0. 0. 0. 0. 0. 0. 0. 0. 0. 0.\n",
            " 0. 0. 0. 0. 0. 0. 0. 0. 0. 0. 0. 0. 0. 0. 0. 0. 0. 0. 0. 0. 0. 0. 0. 0.\n",
            " 0. 0. 0. 0. 0. 0. 0. 0. 0. 0. 0. 0. 0. 0. 0. 0. 0. 0. 0. 0. 0. 0. 0. 0.\n",
            " 0. 0. 0. 0. 0. 0. 0. 0. 0. 0. 0. 0. 0. 0. 0. 0. 0. 0. 0. 0. 0. 0. 0. 0.\n",
            " 0. 0. 0. 0. 0. 0. 0. 0. 0. 0. 0. 0. 0. 0. 0. 0. 0. 0. 0. 0. 0. 0. 0. 0.\n",
            " 0. 0. 0. 0. 0. 0. 0. 0. 0. 0. 0. 0. 0. 0. 0. 0. 0. 0. 0. 0. 0. 0. 0. 0.\n",
            " 0. 0. 0. 0. 0. 0. 0. 0. 0. 0. 0. 0. 0. 0. 0. 0. 0. 0. 0. 0. 0. 0. 0. 0.\n",
            " 0. 0. 0. 0. 0. 0. 0. 0. 0. 0. 0. 0. 0. 0. 0. 0. 0. 0. 0. 0. 0. 0. 0. 0.\n",
            " 0. 0. 0. 0. 0. 0. 0. 0. 0. 0. 0. 0. 0. 0. 0. 0. 0. 0. 0. 0. 0. 0. 0. 0.\n",
            " 0. 0. 0. 0. 0. 0. 0. 0. 0. 0. 0. 0. 0. 0. 0. 0. 0. 0. 0. 0. 0. 0. 0. 0.\n",
            " 0. 0. 0. 0. 0. 0. 0. 0. 0. 0. 0. 0. 0. 0. 0. 0. 0. 0. 0. 0. 0. 0. 0. 0.\n",
            " 0. 0. 0. 0. 0. 0. 0. 0. 0. 0. 0. 0. 0. 0. 0. 0. 0. 0. 0. 0. 0. 0. 0. 0.\n",
            " 0. 0. 0. 0. 0. 0. 0. 0. 0. 0. 0. 0. 0. 0. 0. 0. 0. 0. 0. 0. 0. 0. 0. 0.\n",
            " 0. 0. 0. 0. 0. 0. 0. 0. 0. 0. 0. 0. 0. 0. 0. 0. 0. 0. 0. 0. 0. 0. 0. 0.\n",
            " 0. 0. 0. 0. 0. 0. 0. 0. 0. 0. 0. 0. 0. 0. 0. 0. 0. 0. 0. 0. 0. 0. 0. 0.\n",
            " 0. 0. 0. 0. 0. 0. 0. 0. 0. 0. 0. 0. 0. 0. 0. 0. 0. 0. 0. 0. 0. 0. 0. 0.\n",
            " 0. 0. 0. 0. 0. 0. 0. 0. 0. 0. 0. 0. 0. 0. 0. 0. 0. 0. 0. 0. 0. 0. 0. 0.\n",
            " 0. 0. 0. 0. 0. 0. 0. 0. 0. 0. 0. 0. 0. 0. 0. 0. 0. 0. 0. 0. 0. 0. 0. 0.\n",
            " 0. 0. 0. 0. 0. 0. 0. 0. 0. 0. 0. 0. 0. 0. 0. 0. 0. 0. 0. 0. 0. 0. 0. 0.\n",
            " 0. 0. 0. 0. 0. 0. 0. 0. 0. 0. 0. 0. 0. 0. 0. 0. 0. 0. 0. 0. 0. 0. 0. 0.\n",
            " 0. 0. 0. 0. 0. 0. 0. 0. 0. 0. 0. 0. 0. 0. 0. 0. 0. 0. 0. 0. 0. 0. 0. 0.\n",
            " 0. 0. 0. 0. 0. 0. 0. 0. 0. 0. 0. 0. 0. 0. 0. 0. 0. 0. 0. 0. 0. 0. 0. 0.\n",
            " 0. 0. 0. 0. 0. 0. 0. 0. 0. 0. 0. 0. 0. 0. 0. 0. 0. 0. 0. 0. 0. 0. 0. 0.\n",
            " 0. 0. 0. 0. 0. 0. 0. 0. 0. 0. 0. 0. 0. 0. 0. 0. 0. 0. 0. 0. 0. 0. 0. 0.\n",
            " 0. 0. 0. 0. 0. 0. 0. 0. 0. 0. 0. 0. 0. 0. 0. 0. 0. 0. 0. 0. 0. 0. 0. 0.\n",
            " 0. 0. 0. 0. 0. 0. 0. 0. 0. 0. 0. 0. 0. 0. 0. 0. 0. 0. 0. 0. 0. 0. 0. 0.\n",
            " 0. 0. 0. 0. 0. 0. 0. 0. 0. 0. 0. 0. 0. 0. 0. 0. 0. 0. 0. 0. 0. 0. 0. 0.\n",
            " 0. 0. 0. 0. 0. 0. 0. 0. 0. 0. 0. 0. 0. 0. 0. 0. 0. 0. 0. 0. 0. 0. 0. 0.\n",
            " 0. 0. 0. 0. 0. 0. 0. 0. 0. 0. 0. 0. 0. 0. 0. 0. 0. 0. 0. 0. 0. 0. 0. 0.\n",
            " 0. 0. 0. 0. 0. 0. 0. 0. 0. 0. 0. 0. 0. 0. 0. 0. 0. 0. 0. 0. 0. 0. 0. 0.\n",
            " 0. 0. 0. 0. 0. 0. 0. 0. 0. 0. 0. 0. 0. 0. 0. 0. 0. 0. 0. 0. 0. 0. 0. 0.\n",
            " 0. 0. 0. 0. 0. 0. 0. 0. 0. 0. 0. 0. 0. 0. 0. 0.]\n",
            "data/testimg/0.jpg 정상 오이 입니다.\n"
          ]
        }
      ],
      "source": [
        "pred('data/testimg/0.jpg')"
      ]
    },
    {
      "cell_type": "code",
      "execution_count": 22,
      "metadata": {},
      "outputs": [
        {
          "name": "stdout",
          "output_type": "stream",
          "text": [
            "[1. 0. 0. 0. 0. 0. 0. 0. 0. 0. 0. 0. 0. 0. 0. 0. 0. 0. 0. 0. 0. 0. 0. 0.\n",
            " 0. 0. 0. 0. 0. 0. 0. 0. 0. 0. 0. 0. 0. 0. 0. 0. 0. 0. 0. 0. 0. 0. 0. 0.\n",
            " 0. 0. 0. 0. 0. 0. 0. 0. 0. 0. 0. 0. 0. 0. 0. 0. 0. 0. 0. 0. 0. 0. 0. 0.\n",
            " 0. 0. 0. 0. 0. 0. 0. 0. 0. 0. 0. 0. 0. 0. 0. 0. 0. 0. 0. 0. 0. 0. 0. 0.\n",
            " 0. 0. 0. 0. 0. 0. 0. 0. 0. 0. 0. 0. 0. 0. 0. 0. 0. 0. 0. 0. 0. 0. 0. 0.\n",
            " 0. 0. 0. 0. 0. 0. 0. 0. 0. 0. 0. 0. 0. 0. 0. 0. 0. 0. 0. 0. 0. 0. 0. 0.\n",
            " 0. 0. 0. 0. 0. 0. 0. 0. 0. 0. 0. 0. 0. 0. 0. 0. 0. 0. 0. 0. 0. 0. 0. 0.\n",
            " 0. 0. 0. 0. 0. 0. 0. 0. 0. 0. 0. 0. 0. 0. 0. 0. 0. 0. 0. 0. 0. 0. 0. 0.\n",
            " 0. 0. 0. 0. 0. 0. 0. 0. 0. 0. 0. 0. 0. 0. 0. 0. 0. 0. 0. 0. 0. 0. 0. 0.\n",
            " 0. 0. 0. 0. 0. 0. 0. 0. 0. 0. 0. 0. 0. 0. 0. 0. 0. 0. 0. 0. 0. 0. 0. 0.\n",
            " 0. 0. 0. 0. 0. 0. 0. 0. 0. 0. 0. 0. 0. 0. 0. 0. 0. 0. 0. 0. 0. 0. 0. 0.\n",
            " 0. 0. 0. 0. 0. 0. 0. 0. 0. 0. 0. 0. 0. 0. 0. 0. 0. 0. 0. 0. 0. 0. 0. 0.\n",
            " 0. 0. 0. 0. 0. 0. 0. 0. 0. 0. 0. 0. 0. 0. 0. 0. 0. 0. 0. 0. 0. 0. 0. 0.\n",
            " 0. 0. 0. 0. 0. 0. 0. 0. 0. 0. 0. 0. 0. 0. 0. 0. 0. 0. 0. 0. 0. 0. 0. 0.\n",
            " 0. 0. 0. 0. 0. 0. 0. 0. 0. 0. 0. 0. 0. 0. 0. 0. 0. 0. 0. 0. 0. 0. 0. 0.\n",
            " 0. 0. 0. 0. 0. 0. 0. 0. 0. 0. 0. 0. 0. 0. 0. 0. 0. 0. 0. 0. 0. 0. 0. 0.\n",
            " 0. 0. 0. 0. 0. 0. 0. 0. 0. 0. 0. 0. 0. 0. 0. 0. 0. 0. 0. 0. 0. 0. 0. 0.\n",
            " 0. 0. 0. 0. 0. 0. 0. 0. 0. 0. 0. 0. 0. 0. 0. 0. 0. 0. 0. 0. 0. 0. 0. 0.\n",
            " 0. 0. 0. 0. 0. 0. 0. 0. 0. 0. 0. 0. 0. 0. 0. 0. 0. 0. 0. 0. 0. 0. 0. 0.\n",
            " 0. 0. 0. 0. 0. 0. 0. 0. 0. 0. 0. 0. 0. 0. 0. 0. 0. 0. 0. 0. 0. 0. 0. 0.\n",
            " 0. 0. 0. 0. 0. 0. 0. 0. 0. 0. 0. 0. 0. 0. 0. 0. 0. 0. 0. 0. 0. 0. 0. 0.\n",
            " 0. 0. 0. 0. 0. 0. 0. 0. 0. 0. 0. 0. 0. 0. 0. 0. 0. 0. 0. 0. 0. 0. 0. 0.\n",
            " 0. 0. 0. 0. 0. 0. 0. 0. 0. 0. 0. 0. 0. 0. 0. 0. 0. 0. 0. 0. 0. 0. 0. 0.\n",
            " 0. 0. 0. 0. 0. 0. 0. 0. 0. 0. 0. 0. 0. 0. 0. 0. 0. 0. 0. 0. 0. 0. 0. 0.\n",
            " 0. 0. 0. 0. 0. 0. 0. 0. 0. 0. 0. 0. 0. 0. 0. 0. 0. 0. 0. 0. 0. 0. 0. 0.\n",
            " 0. 0. 0. 0. 0. 0. 0. 0. 0. 0. 0. 0. 0. 0. 0. 0. 0. 0. 0. 0. 0. 0. 0. 0.\n",
            " 0. 0. 0. 0. 0. 0. 0. 0. 0. 0. 0. 0. 0. 0. 0. 0. 0. 0. 0. 0. 0. 0. 0. 0.\n",
            " 0. 0. 0. 0. 0. 0. 0. 0. 0. 0. 0. 0. 0. 0. 0. 0. 0. 0. 0. 0. 0. 0. 0. 0.\n",
            " 0. 0. 0. 0. 0. 0. 0. 0. 0. 0. 0. 0. 0. 0. 0. 0. 0. 0. 0. 0. 0. 0. 0. 0.\n",
            " 0. 0. 0. 0. 0. 0. 0. 0. 0. 0. 0. 0. 0. 0. 0. 0. 0. 0. 0. 0. 0. 0. 0. 0.\n",
            " 0. 0. 0. 0. 0. 0. 0. 0. 0. 0. 0. 0. 0. 0. 0. 0. 0. 0. 0. 0. 0. 0. 0. 0.\n",
            " 0. 0. 0. 0. 0. 0. 0. 0. 0. 0. 0. 0. 0. 0. 0. 0. 0. 0. 0. 0. 0. 0. 0. 0.\n",
            " 0. 0. 0. 0. 0. 0. 0. 0. 0. 0. 0. 0. 0. 0. 0. 0. 0. 0. 0. 0. 0. 0. 0. 0.\n",
            " 0. 0. 0. 0. 0. 0. 0. 0. 0. 0. 0. 0. 0. 0. 0. 0. 0. 0. 0. 0. 0. 0. 0. 0.\n",
            " 0. 0. 0. 0. 0. 0. 0. 0. 0. 0. 0. 0. 0. 0. 0. 0. 0. 0. 0. 0. 0. 0. 0. 0.\n",
            " 0. 0. 0. 0. 0. 0. 0. 0. 0. 0. 0. 0. 0. 0. 0. 0. 0. 0. 0. 0. 0. 0. 0. 0.\n",
            " 0. 0. 0. 0. 0. 0. 0. 0. 0. 0. 0. 0. 0. 0. 0. 0. 0. 0. 0. 0. 0. 0. 0. 0.\n",
            " 0. 0. 0. 0. 0. 0. 0. 0. 0. 0. 0. 0. 0. 0. 0. 0. 0. 0. 0. 0. 0. 0. 0. 0.\n",
            " 0. 0. 0. 0. 0. 0. 0. 0. 0. 0. 0. 0. 0. 0. 0. 0. 0. 0. 0. 0. 0. 0. 0. 0.\n",
            " 0. 0. 0. 0. 0. 0. 0. 0. 0. 0. 0. 0. 0. 0. 0. 0. 0. 0. 0. 0. 0. 0. 0. 0.\n",
            " 0. 0. 0. 0. 0. 0. 0. 0. 0. 0. 0. 0. 0. 0. 0. 0. 0. 0. 0. 0. 0. 0. 0. 0.\n",
            " 0. 0. 0. 0. 0. 0. 0. 0. 0. 0. 0. 0. 0. 0. 0. 0.]\n",
            "data/testimg/1.jpg 정상 오이 입니다.\n"
          ]
        }
      ],
      "source": [
        "pred('data/testimg/1.jpg')"
      ]
    },
    {
      "cell_type": "code",
      "execution_count": 23,
      "metadata": {},
      "outputs": [
        {
          "name": "stdout",
          "output_type": "stream",
          "text": [
            "[1. 0. 0. 0. 0. 0. 0. 0. 0. 0. 0. 0. 0. 0. 0. 0. 0. 0. 0. 0. 0. 0. 0. 0.\n",
            " 0. 0. 0. 0. 0. 0. 0. 0. 0. 0. 0. 0. 0. 0. 0. 0. 0. 0. 0. 0. 0. 0. 0. 0.\n",
            " 0. 0. 0. 0. 0. 0. 0. 0. 0. 0. 0. 0. 0. 0. 0. 0. 0. 0. 0. 0. 0. 0. 0. 0.\n",
            " 0. 0. 0. 0. 0. 0. 0. 0. 0. 0. 0. 0. 0. 0. 0. 0. 0. 0. 0. 0. 0. 0. 0. 0.\n",
            " 0. 0. 0. 0. 0. 0. 0. 0. 0. 0. 0. 0. 0. 0. 0. 0. 0. 0. 0. 0. 0. 0. 0. 0.\n",
            " 0. 0. 0. 0. 0. 0. 0. 0. 0. 0. 0. 0. 0. 0. 0. 0. 0. 0. 0. 0. 0. 0. 0. 0.\n",
            " 0. 0. 0. 0. 0. 0. 0. 0. 0. 0. 0. 0. 0. 0. 0. 0. 0. 0. 0. 0. 0. 0. 0. 0.\n",
            " 0. 0. 0. 0. 0. 0. 0. 0. 0. 0. 0. 0. 0. 0. 0. 0. 0. 0. 0. 0. 0. 0. 0. 0.\n",
            " 0. 0. 0. 0. 0. 0. 0. 0. 0. 0. 0. 0. 0. 0. 0. 0. 0. 0. 0. 0. 0. 0. 0. 0.\n",
            " 0. 0. 0. 0. 0. 0. 0. 0. 0. 0. 0. 0. 0. 0. 0. 0. 0. 0. 0. 0. 0. 0. 0. 0.\n",
            " 0. 0. 0. 0. 0. 0. 0. 0. 0. 0. 0. 0. 0. 0. 0. 0. 0. 0. 0. 0. 0. 0. 0. 0.\n",
            " 0. 0. 0. 0. 0. 0. 0. 0. 0. 0. 0. 0. 0. 0. 0. 0. 0. 0. 0. 0. 0. 0. 0. 0.\n",
            " 0. 0. 0. 0. 0. 0. 0. 0. 0. 0. 0. 0. 0. 0. 0. 0. 0. 0. 0. 0. 0. 0. 0. 0.\n",
            " 0. 0. 0. 0. 0. 0. 0. 0. 0. 0. 0. 0. 0. 0. 0. 0. 0. 0. 0. 0. 0. 0. 0. 0.\n",
            " 0. 0. 0. 0. 0. 0. 0. 0. 0. 0. 0. 0. 0. 0. 0. 0. 0. 0. 0. 0. 0. 0. 0. 0.\n",
            " 0. 0. 0. 0. 0. 0. 0. 0. 0. 0. 0. 0. 0. 0. 0. 0. 0. 0. 0. 0. 0. 0. 0. 0.\n",
            " 0. 0. 0. 0. 0. 0. 0. 0. 0. 0. 0. 0. 0. 0. 0. 0. 0. 0. 0. 0. 0. 0. 0. 0.\n",
            " 0. 0. 0. 0. 0. 0. 0. 0. 0. 0. 0. 0. 0. 0. 0. 0. 0. 0. 0. 0. 0. 0. 0. 0.\n",
            " 0. 0. 0. 0. 0. 0. 0. 0. 0. 0. 0. 0. 0. 0. 0. 0. 0. 0. 0. 0. 0. 0. 0. 0.\n",
            " 0. 0. 0. 0. 0. 0. 0. 0. 0. 0. 0. 0. 0. 0. 0. 0. 0. 0. 0. 0. 0. 0. 0. 0.\n",
            " 0. 0. 0. 0. 0. 0. 0. 0. 0. 0. 0. 0. 0. 0. 0. 0. 0. 0. 0. 0. 0. 0. 0. 0.\n",
            " 0. 0. 0. 0. 0. 0. 0. 0. 0. 0. 0. 0. 0. 0. 0. 0. 0. 0. 0. 0. 0. 0. 0. 0.\n",
            " 0. 0. 0. 0. 0. 0. 0. 0. 0. 0. 0. 0. 0. 0. 0. 0. 0. 0. 0. 0. 0. 0. 0. 0.\n",
            " 0. 0. 0. 0. 0. 0. 0. 0. 0. 0. 0. 0. 0. 0. 0. 0. 0. 0. 0. 0. 0. 0. 0. 0.\n",
            " 0. 0. 0. 0. 0. 0. 0. 0. 0. 0. 0. 0. 0. 0. 0. 0. 0. 0. 0. 0. 0. 0. 0. 0.\n",
            " 0. 0. 0. 0. 0. 0. 0. 0. 0. 0. 0. 0. 0. 0. 0. 0. 0. 0. 0. 0. 0. 0. 0. 0.\n",
            " 0. 0. 0. 0. 0. 0. 0. 0. 0. 0. 0. 0. 0. 0. 0. 0. 0. 0. 0. 0. 0. 0. 0. 0.\n",
            " 0. 0. 0. 0. 0. 0. 0. 0. 0. 0. 0. 0. 0. 0. 0. 0. 0. 0. 0. 0. 0. 0. 0. 0.\n",
            " 0. 0. 0. 0. 0. 0. 0. 0. 0. 0. 0. 0. 0. 0. 0. 0. 0. 0. 0. 0. 0. 0. 0. 0.\n",
            " 0. 0. 0. 0. 0. 0. 0. 0. 0. 0. 0. 0. 0. 0. 0. 0. 0. 0. 0. 0. 0. 0. 0. 0.\n",
            " 0. 0. 0. 0. 0. 0. 0. 0. 0. 0. 0. 0. 0. 0. 0. 0. 0. 0. 0. 0. 0. 0. 0. 0.\n",
            " 0. 0. 0. 0. 0. 0. 0. 0. 0. 0. 0. 0. 0. 0. 0. 0. 0. 0. 0. 0. 0. 0. 0. 0.\n",
            " 0. 0. 0. 0. 0. 0. 0. 0. 0. 0. 0. 0. 0. 0. 0. 0. 0. 0. 0. 0. 0. 0. 0. 0.\n",
            " 0. 0. 0. 0. 0. 0. 0. 0. 0. 0. 0. 0. 0. 0. 0. 0. 0. 0. 0. 0. 0. 0. 0. 0.\n",
            " 0. 0. 0. 0. 0. 0. 0. 0. 0. 0. 0. 0. 0. 0. 0. 0. 0. 0. 0. 0. 0. 0. 0. 0.\n",
            " 0. 0. 0. 0. 0. 0. 0. 0. 0. 0. 0. 0. 0. 0. 0. 0. 0. 0. 0. 0. 0. 0. 0. 0.\n",
            " 0. 0. 0. 0. 0. 0. 0. 0. 0. 0. 0. 0. 0. 0. 0. 0. 0. 0. 0. 0. 0. 0. 0. 0.\n",
            " 0. 0. 0. 0. 0. 0. 0. 0. 0. 0. 0. 0. 0. 0. 0. 0. 0. 0. 0. 0. 0. 0. 0. 0.\n",
            " 0. 0. 0. 0. 0. 0. 0. 0. 0. 0. 0. 0. 0. 0. 0. 0. 0. 0. 0. 0. 0. 0. 0. 0.\n",
            " 0. 0. 0. 0. 0. 0. 0. 0. 0. 0. 0. 0. 0. 0. 0. 0. 0. 0. 0. 0. 0. 0. 0. 0.\n",
            " 0. 0. 0. 0. 0. 0. 0. 0. 0. 0. 0. 0. 0. 0. 0. 0. 0. 0. 0. 0. 0. 0. 0. 0.\n",
            " 0. 0. 0. 0. 0. 0. 0. 0. 0. 0. 0. 0. 0. 0. 0. 0.]\n",
            "data/testimg/2.jpg 정상 오이 입니다.\n"
          ]
        }
      ],
      "source": [
        "pred('data/testimg/2.jpg')"
      ]
    },
    {
      "cell_type": "code",
      "execution_count": null,
      "metadata": {},
      "outputs": [],
      "source": []
    }
  ],
  "metadata": {
    "accelerator": "TPU",
    "colab": {
      "collapsed_sections": [],
      "machine_shape": "hm",
      "name": "15_cucumber_RES.ipynb",
      "provenance": []
    },
    "interpreter": {
      "hash": "b3ba2566441a7c06988d0923437866b63cedc61552a5af99d1f4fb67d367b25f"
    },
    "kernelspec": {
      "display_name": "Python 3.8.11 64-bit ('base': conda)",
      "name": "python3"
    },
    "language_info": {
      "codemirror_mode": {
        "name": "ipython",
        "version": 3
      },
      "file_extension": ".py",
      "mimetype": "text/x-python",
      "name": "python",
      "nbconvert_exporter": "python",
      "pygments_lexer": "ipython3",
      "version": "3.8.11"
    }
  },
  "nbformat": 4,
  "nbformat_minor": 0
}
