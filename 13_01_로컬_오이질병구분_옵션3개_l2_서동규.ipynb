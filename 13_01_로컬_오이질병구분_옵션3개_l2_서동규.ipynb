{
  "cells": [
    {
      "cell_type": "markdown",
      "metadata": {
        "id": "r2m1RshB3aNo"
      },
      "source": [
        "# 병충해 분석 AI 프로젝트"
      ]
    },
    {
      "cell_type": "code",
      "execution_count": 33,
      "metadata": {
        "id": "5Tvj7ePMuiJU",
        "outputId": "602d4a93-04ab-46e8-ff82-f6ade2240908"
      },
      "outputs": [
        {
          "name": "stderr",
          "output_type": "stream",
          "text": [
            "������ ��θ� ã�� �� �����ϴ�.\n",
            "������ ��θ� ã�� �� �����ϴ�.\n",
            "������ ��θ� ã�� �� �����ϴ�.\n"
          ]
        }
      ],
      "source": [
        "import numpy as np\n",
        "import pandas as pd\n",
        "import seaborn as sns\n",
        "import matplotlib as mpl\n",
        "import matplotlib.pyplot as plt\n",
        "!apt-get install -y fonts-nanum > /dev/null\n",
        "!fc-cache -fv > /dev/null\n",
        "!rm -rf ~/.cache/matplotlib > /dev/null\n",
        "mpl.rcParams['axes.unicode_minus'] = False\n",
        "plt.rc('font', family = 'NanumBarunGothic')\n",
        "import warnings\n",
        "warnings.filterwarnings('ignore')"
      ]
    },
    {
      "cell_type": "code",
      "execution_count": 34,
      "metadata": {
        "id": "HphTAmsRujLj"
      },
      "outputs": [],
      "source": [
        "import os\n",
        "import cv2\n",
        "from PIL import Image\n",
        "from tqdm import tqdm\n",
        "import tensorflow as tf\n",
        "from tensorflow import keras"
      ]
    },
    {
      "cell_type": "code",
      "execution_count": null,
      "metadata": {
        "colab": {
          "base_uri": "https://localhost:8080/"
        },
        "id": "Fzc-UD9dujrs",
        "outputId": "fe5b7a20-7ab9-4b90-bc79-be8d7b679b97"
      },
      "outputs": [
        {
          "name": "stdout",
          "output_type": "stream",
          "text": [
            "Mounted at /content/drive\n"
          ]
        }
      ],
      "source": [
        "from google.colab import drive\n",
        "drive.mount('/content/drive')"
      ]
    },
    {
      "cell_type": "code",
      "execution_count": null,
      "metadata": {
        "colab": {
          "base_uri": "https://localhost:8080/"
        },
        "id": "nDjsFa6tukzT",
        "outputId": "c14f3ff6-ed56-4c7f-fb91-5de835624025"
      },
      "outputs": [
        {
          "name": "stdout",
          "output_type": "stream",
          "text": [
            "/content/drive/MyDrive/data/project02\n"
          ]
        }
      ],
      "source": [
        "cd /content/drive/MyDrive/data/project02"
      ]
    },
    {
      "cell_type": "markdown",
      "metadata": {
        "id": "3kKHu9gP3aNu"
      },
      "source": [
        "## 1. 파일읽기"
      ]
    },
    {
      "cell_type": "code",
      "execution_count": 35,
      "metadata": {
        "colab": {
          "base_uri": "https://localhost:8080/"
        },
        "id": "0AT_HPle3aNw",
        "outputId": "15d65f68-cf43-4584-b649-2a5881738d3b"
      },
      "outputs": [
        {
          "name": "stdout",
          "output_type": "stream",
          "text": [
            "end\n"
          ]
        }
      ],
      "source": [
        "import numpy as np\n",
        "import pandas as pd\n",
        "import os\n",
        "\n",
        "\n",
        "train_csv = pd.read_csv('data/train_df_csv.csv')\n",
        "val_csv = pd.read_csv('data/val_df_csv.csv')\n",
        "\n",
        "print('end')"
      ]
    },
    {
      "cell_type": "markdown",
      "metadata": {
        "id": "J9v-bOrXug9s"
      },
      "source": [
        "# for문으로 각 작물당 2000개씩 샘플 묶기\n",
        "- 1 고추\n",
        "- 2 무\n",
        "- 3 배추\n",
        "- 4 애호박 삭제\n",
        "- 5 양배추\n",
        "- 6 오이\n",
        "- 7 토마토\n",
        "- 8 콩\n",
        "- 9 파\n",
        "- 10 호박 삭제\n",
        "\n",
        "> 총 8개의 작물 (곤충과 겹치는 작물)\n"
      ]
    },
    {
      "cell_type": "code",
      "execution_count": 36,
      "metadata": {
        "colab": {
          "base_uri": "https://localhost:8080/",
          "height": 419
        },
        "id": "UjznFz2hug9t",
        "outputId": "e9100b4c-b4c6-4ede-d652-cc76b1ccc7f9"
      },
      "outputs": [
        {
          "data": {
            "text/html": [
              "<div>\n",
              "<style scoped>\n",
              "    .dataframe tbody tr th:only-of-type {\n",
              "        vertical-align: middle;\n",
              "    }\n",
              "\n",
              "    .dataframe tbody tr th {\n",
              "        vertical-align: top;\n",
              "    }\n",
              "\n",
              "    .dataframe thead th {\n",
              "        text-align: right;\n",
              "    }\n",
              "</style>\n",
              "<table border=\"1\" class=\"dataframe\">\n",
              "  <thead>\n",
              "    <tr style=\"text-align: right;\">\n",
              "      <th></th>\n",
              "      <th>image</th>\n",
              "      <th>disease</th>\n",
              "      <th>crop</th>\n",
              "      <th>grow</th>\n",
              "      <th>risk</th>\n",
              "      <th>points</th>\n",
              "      <th>name</th>\n",
              "    </tr>\n",
              "  </thead>\n",
              "  <tbody>\n",
              "    <tr>\n",
              "      <th>0</th>\n",
              "      <td>V006_79_0_00_01_01_13_0_a01_20201102_0000_S01_...</td>\n",
              "      <td>0</td>\n",
              "      <td>1</td>\n",
              "      <td>13</td>\n",
              "      <td>0</td>\n",
              "      <td>[{'xtl': 1118, 'ytl': 1294, 'xbr': 2900, 'ybr'...</td>\n",
              "      <td>고추_0.정상</td>\n",
              "    </tr>\n",
              "    <tr>\n",
              "      <th>1</th>\n",
              "      <td>V006_79_0_00_01_01_13_0_a01_20201102_0002_S01_...</td>\n",
              "      <td>0</td>\n",
              "      <td>1</td>\n",
              "      <td>13</td>\n",
              "      <td>0</td>\n",
              "      <td>[{'xtl': 1033, 'ytl': 1533, 'xbr': 2829, 'ybr'...</td>\n",
              "      <td>고추_0.정상</td>\n",
              "    </tr>\n",
              "    <tr>\n",
              "      <th>2</th>\n",
              "      <td>V006_79_0_00_01_01_13_0_a01_20201103_0001_S01_...</td>\n",
              "      <td>0</td>\n",
              "      <td>1</td>\n",
              "      <td>13</td>\n",
              "      <td>0</td>\n",
              "      <td>[{'xtl': 484, 'ytl': 1227, 'xbr': 3879, 'ybr':...</td>\n",
              "      <td>고추_0.정상</td>\n",
              "    </tr>\n",
              "    <tr>\n",
              "      <th>3</th>\n",
              "      <td>V006_79_0_00_01_01_13_0_a01_20201103_0003_S01_...</td>\n",
              "      <td>0</td>\n",
              "      <td>1</td>\n",
              "      <td>13</td>\n",
              "      <td>0</td>\n",
              "      <td>[{'xtl': 1241, 'ytl': 103, 'xbr': 2344, 'ybr':...</td>\n",
              "      <td>고추_0.정상</td>\n",
              "    </tr>\n",
              "    <tr>\n",
              "      <th>4</th>\n",
              "      <td>V006_79_0_00_01_01_13_0_a05_20201111_0000_S01_...</td>\n",
              "      <td>0</td>\n",
              "      <td>1</td>\n",
              "      <td>13</td>\n",
              "      <td>0</td>\n",
              "      <td>[{'xtl': 1382, 'ytl': 978, 'xbr': 3226, 'ybr':...</td>\n",
              "      <td>고추_0.정상</td>\n",
              "    </tr>\n",
              "    <tr>\n",
              "      <th>...</th>\n",
              "      <td>...</td>\n",
              "      <td>...</td>\n",
              "      <td>...</td>\n",
              "      <td>...</td>\n",
              "      <td>...</td>\n",
              "      <td>...</td>\n",
              "      <td>...</td>\n",
              "    </tr>\n",
              "    <tr>\n",
              "      <th>14434</th>\n",
              "      <td>V006_79_1_18_09_03_13_1_0819e_20201117_133.jpg</td>\n",
              "      <td>18</td>\n",
              "      <td>9</td>\n",
              "      <td>13</td>\n",
              "      <td>1</td>\n",
              "      <td>[{'xtl': 135, 'ytl': 0, 'xbr': 875, 'ybr': 961}]</td>\n",
              "      <td>파_1.질병</td>\n",
              "    </tr>\n",
              "    <tr>\n",
              "      <th>14435</th>\n",
              "      <td>V006_79_1_18_09_03_13_1_0819e_20201117_134.jpg</td>\n",
              "      <td>18</td>\n",
              "      <td>9</td>\n",
              "      <td>13</td>\n",
              "      <td>1</td>\n",
              "      <td>[{'xtl': 293, 'ytl': 0, 'xbr': 520, 'ybr': 961}]</td>\n",
              "      <td>파_1.질병</td>\n",
              "    </tr>\n",
              "    <tr>\n",
              "      <th>14436</th>\n",
              "      <td>V006_79_1_18_09_03_13_1_0819e_20201118_137.jpg</td>\n",
              "      <td>18</td>\n",
              "      <td>9</td>\n",
              "      <td>13</td>\n",
              "      <td>1</td>\n",
              "      <td>[{'xtl': 2, 'ytl': 0, 'xbr': 722, 'ybr': 878}]</td>\n",
              "      <td>파_1.질병</td>\n",
              "    </tr>\n",
              "    <tr>\n",
              "      <th>14437</th>\n",
              "      <td>V006_79_1_18_09_03_13_1_0819e_20201118_139.jpg</td>\n",
              "      <td>18</td>\n",
              "      <td>9</td>\n",
              "      <td>13</td>\n",
              "      <td>1</td>\n",
              "      <td>[{'xtl': 192, 'ytl': 0, 'xbr': 636, 'ybr': 961}]</td>\n",
              "      <td>파_1.질병</td>\n",
              "    </tr>\n",
              "    <tr>\n",
              "      <th>14438</th>\n",
              "      <td>V006_79_1_18_09_03_13_1_0819e_20201118_140.jpg</td>\n",
              "      <td>18</td>\n",
              "      <td>9</td>\n",
              "      <td>13</td>\n",
              "      <td>1</td>\n",
              "      <td>[{'xtl': 294, 'ytl': 0, 'xbr': 961, 'ybr': 961}]</td>\n",
              "      <td>파_1.질병</td>\n",
              "    </tr>\n",
              "  </tbody>\n",
              "</table>\n",
              "<p>14439 rows × 7 columns</p>\n",
              "</div>"
            ],
            "text/plain": [
              "                                                   image  disease  crop  grow  \\\n",
              "0      V006_79_0_00_01_01_13_0_a01_20201102_0000_S01_...        0     1    13   \n",
              "1      V006_79_0_00_01_01_13_0_a01_20201102_0002_S01_...        0     1    13   \n",
              "2      V006_79_0_00_01_01_13_0_a01_20201103_0001_S01_...        0     1    13   \n",
              "3      V006_79_0_00_01_01_13_0_a01_20201103_0003_S01_...        0     1    13   \n",
              "4      V006_79_0_00_01_01_13_0_a05_20201111_0000_S01_...        0     1    13   \n",
              "...                                                  ...      ...   ...   ...   \n",
              "14434     V006_79_1_18_09_03_13_1_0819e_20201117_133.jpg       18     9    13   \n",
              "14435     V006_79_1_18_09_03_13_1_0819e_20201117_134.jpg       18     9    13   \n",
              "14436     V006_79_1_18_09_03_13_1_0819e_20201118_137.jpg       18     9    13   \n",
              "14437     V006_79_1_18_09_03_13_1_0819e_20201118_139.jpg       18     9    13   \n",
              "14438     V006_79_1_18_09_03_13_1_0819e_20201118_140.jpg       18     9    13   \n",
              "\n",
              "       risk                                             points     name  \n",
              "0         0  [{'xtl': 1118, 'ytl': 1294, 'xbr': 2900, 'ybr'...  고추_0.정상  \n",
              "1         0  [{'xtl': 1033, 'ytl': 1533, 'xbr': 2829, 'ybr'...  고추_0.정상  \n",
              "2         0  [{'xtl': 484, 'ytl': 1227, 'xbr': 3879, 'ybr':...  고추_0.정상  \n",
              "3         0  [{'xtl': 1241, 'ytl': 103, 'xbr': 2344, 'ybr':...  고추_0.정상  \n",
              "4         0  [{'xtl': 1382, 'ytl': 978, 'xbr': 3226, 'ybr':...  고추_0.정상  \n",
              "...     ...                                                ...      ...  \n",
              "14434     1   [{'xtl': 135, 'ytl': 0, 'xbr': 875, 'ybr': 961}]   파_1.질병  \n",
              "14435     1   [{'xtl': 293, 'ytl': 0, 'xbr': 520, 'ybr': 961}]   파_1.질병  \n",
              "14436     1     [{'xtl': 2, 'ytl': 0, 'xbr': 722, 'ybr': 878}]   파_1.질병  \n",
              "14437     1   [{'xtl': 192, 'ytl': 0, 'xbr': 636, 'ybr': 961}]   파_1.질병  \n",
              "14438     1   [{'xtl': 294, 'ytl': 0, 'xbr': 961, 'ybr': 961}]   파_1.질병  \n",
              "\n",
              "[14439 rows x 7 columns]"
            ]
          },
          "execution_count": 36,
          "metadata": {},
          "output_type": "execute_result"
        }
      ],
      "source": [
        "tc = train_csv[['image', 'disease', 'crop', 'grow', 'risk', 'points', 'name']]\n",
        "tc"
      ]
    },
    {
      "cell_type": "code",
      "execution_count": 48,
      "metadata": {},
      "outputs": [
        {
          "data": {
            "text/html": [
              "<div>\n",
              "<style scoped>\n",
              "    .dataframe tbody tr th:only-of-type {\n",
              "        vertical-align: middle;\n",
              "    }\n",
              "\n",
              "    .dataframe tbody tr th {\n",
              "        vertical-align: top;\n",
              "    }\n",
              "\n",
              "    .dataframe thead th {\n",
              "        text-align: right;\n",
              "    }\n",
              "</style>\n",
              "<table border=\"1\" class=\"dataframe\">\n",
              "  <thead>\n",
              "    <tr style=\"text-align: right;\">\n",
              "      <th></th>\n",
              "      <th>image</th>\n",
              "      <th>disease</th>\n",
              "      <th>crop</th>\n",
              "      <th>grow</th>\n",
              "      <th>risk</th>\n",
              "      <th>points</th>\n",
              "      <th>name</th>\n",
              "    </tr>\n",
              "  </thead>\n",
              "  <tbody>\n",
              "    <tr>\n",
              "      <th>7183</th>\n",
              "      <td>V006_79_0_00_06_01_13_0_b02_20201014_0000_S01_...</td>\n",
              "      <td>0</td>\n",
              "      <td>6</td>\n",
              "      <td>13</td>\n",
              "      <td>0</td>\n",
              "      <td>[{'xtl': 548, 'ytl': 1022, 'xbr': 3760, 'ybr':...</td>\n",
              "      <td>오이_0.정상</td>\n",
              "    </tr>\n",
              "    <tr>\n",
              "      <th>7184</th>\n",
              "      <td>V006_79_0_00_06_01_13_0_b02_20201014_0001_S01_...</td>\n",
              "      <td>0</td>\n",
              "      <td>6</td>\n",
              "      <td>13</td>\n",
              "      <td>0</td>\n",
              "      <td>[{'xtl': 470, 'ytl': 1431, 'xbr': 3235, 'ybr':...</td>\n",
              "      <td>오이_0.정상</td>\n",
              "    </tr>\n",
              "    <tr>\n",
              "      <th>7185</th>\n",
              "      <td>V006_79_0_00_06_01_13_0_b02_20201014_0002_S01_...</td>\n",
              "      <td>0</td>\n",
              "      <td>6</td>\n",
              "      <td>13</td>\n",
              "      <td>0</td>\n",
              "      <td>[{'xtl': 440, 'ytl': 1041, 'xbr': 3486, 'ybr':...</td>\n",
              "      <td>오이_0.정상</td>\n",
              "    </tr>\n",
              "    <tr>\n",
              "      <th>7186</th>\n",
              "      <td>V006_79_0_00_06_01_13_0_b02_20201014_0003_S01_...</td>\n",
              "      <td>0</td>\n",
              "      <td>6</td>\n",
              "      <td>13</td>\n",
              "      <td>0</td>\n",
              "      <td>[{'xtl': 768, 'ytl': 1260, 'xbr': 3050, 'ybr':...</td>\n",
              "      <td>오이_0.정상</td>\n",
              "    </tr>\n",
              "    <tr>\n",
              "      <th>7187</th>\n",
              "      <td>V006_79_0_00_06_01_13_0_b02_20201014_0004_S01_...</td>\n",
              "      <td>0</td>\n",
              "      <td>6</td>\n",
              "      <td>13</td>\n",
              "      <td>0</td>\n",
              "      <td>[{'xtl': 736, 'ytl': 1194, 'xbr': 3473, 'ybr':...</td>\n",
              "      <td>오이_0.정상</td>\n",
              "    </tr>\n",
              "    <tr>\n",
              "      <th>...</th>\n",
              "      <td>...</td>\n",
              "      <td>...</td>\n",
              "      <td>...</td>\n",
              "      <td>...</td>\n",
              "      <td>...</td>\n",
              "      <td>...</td>\n",
              "      <td>...</td>\n",
              "    </tr>\n",
              "    <tr>\n",
              "      <th>8959</th>\n",
              "      <td>V006_79_1_12_06_03_13_3_7390w_20201207_56.jpeg</td>\n",
              "      <td>12</td>\n",
              "      <td>6</td>\n",
              "      <td>13</td>\n",
              "      <td>3</td>\n",
              "      <td>[{'xtl': 545, 'ytl': 432, 'xbr': 2905, 'ybr': ...</td>\n",
              "      <td>오이_1.질병</td>\n",
              "    </tr>\n",
              "    <tr>\n",
              "      <th>8960</th>\n",
              "      <td>V006_79_1_12_06_03_13_3_7390w_20201207_6.jpeg</td>\n",
              "      <td>12</td>\n",
              "      <td>6</td>\n",
              "      <td>13</td>\n",
              "      <td>3</td>\n",
              "      <td>[{'xtl': 929, 'ytl': 268, 'xbr': 3209, 'ybr': ...</td>\n",
              "      <td>오이_1.질병</td>\n",
              "    </tr>\n",
              "    <tr>\n",
              "      <th>8961</th>\n",
              "      <td>V006_79_1_12_06_03_13_3_7390w_20201207_61.jpeg</td>\n",
              "      <td>12</td>\n",
              "      <td>6</td>\n",
              "      <td>13</td>\n",
              "      <td>3</td>\n",
              "      <td>[{'xtl': 533, 'ytl': 232, 'xbr': 2761, 'ybr': ...</td>\n",
              "      <td>오이_1.질병</td>\n",
              "    </tr>\n",
              "    <tr>\n",
              "      <th>8962</th>\n",
              "      <td>V006_79_1_12_06_05_13_1_0502bb_20201102_2.jpeg</td>\n",
              "      <td>12</td>\n",
              "      <td>6</td>\n",
              "      <td>13</td>\n",
              "      <td>1</td>\n",
              "      <td>[{'xtl': 1135, 'ytl': 838, 'xbr': 3008, 'ybr':...</td>\n",
              "      <td>오이_1.질병</td>\n",
              "    </tr>\n",
              "    <tr>\n",
              "      <th>8963</th>\n",
              "      <td>V006_79_1_12_06_05_13_1_0502bb_20201102_3.jpeg</td>\n",
              "      <td>12</td>\n",
              "      <td>6</td>\n",
              "      <td>13</td>\n",
              "      <td>1</td>\n",
              "      <td>[{'xtl': 1546, 'ytl': 277, 'xbr': 3729, 'ybr':...</td>\n",
              "      <td>오이_1.질병</td>\n",
              "    </tr>\n",
              "  </tbody>\n",
              "</table>\n",
              "<p>1781 rows × 7 columns</p>\n",
              "</div>"
            ],
            "text/plain": [
              "                                                  image  disease  crop  grow  \\\n",
              "7183  V006_79_0_00_06_01_13_0_b02_20201014_0000_S01_...        0     6    13   \n",
              "7184  V006_79_0_00_06_01_13_0_b02_20201014_0001_S01_...        0     6    13   \n",
              "7185  V006_79_0_00_06_01_13_0_b02_20201014_0002_S01_...        0     6    13   \n",
              "7186  V006_79_0_00_06_01_13_0_b02_20201014_0003_S01_...        0     6    13   \n",
              "7187  V006_79_0_00_06_01_13_0_b02_20201014_0004_S01_...        0     6    13   \n",
              "...                                                 ...      ...   ...   ...   \n",
              "8959     V006_79_1_12_06_03_13_3_7390w_20201207_56.jpeg       12     6    13   \n",
              "8960      V006_79_1_12_06_03_13_3_7390w_20201207_6.jpeg       12     6    13   \n",
              "8961     V006_79_1_12_06_03_13_3_7390w_20201207_61.jpeg       12     6    13   \n",
              "8962     V006_79_1_12_06_05_13_1_0502bb_20201102_2.jpeg       12     6    13   \n",
              "8963     V006_79_1_12_06_05_13_1_0502bb_20201102_3.jpeg       12     6    13   \n",
              "\n",
              "      risk                                             points     name  \n",
              "7183     0  [{'xtl': 548, 'ytl': 1022, 'xbr': 3760, 'ybr':...  오이_0.정상  \n",
              "7184     0  [{'xtl': 470, 'ytl': 1431, 'xbr': 3235, 'ybr':...  오이_0.정상  \n",
              "7185     0  [{'xtl': 440, 'ytl': 1041, 'xbr': 3486, 'ybr':...  오이_0.정상  \n",
              "7186     0  [{'xtl': 768, 'ytl': 1260, 'xbr': 3050, 'ybr':...  오이_0.정상  \n",
              "7187     0  [{'xtl': 736, 'ytl': 1194, 'xbr': 3473, 'ybr':...  오이_0.정상  \n",
              "...    ...                                                ...      ...  \n",
              "8959     3  [{'xtl': 545, 'ytl': 432, 'xbr': 2905, 'ybr': ...  오이_1.질병  \n",
              "8960     3  [{'xtl': 929, 'ytl': 268, 'xbr': 3209, 'ybr': ...  오이_1.질병  \n",
              "8961     3  [{'xtl': 533, 'ytl': 232, 'xbr': 2761, 'ybr': ...  오이_1.질병  \n",
              "8962     1  [{'xtl': 1135, 'ytl': 838, 'xbr': 3008, 'ybr':...  오이_1.질병  \n",
              "8963     1  [{'xtl': 1546, 'ytl': 277, 'xbr': 3729, 'ybr':...  오이_1.질병  \n",
              "\n",
              "[1781 rows x 7 columns]"
            ]
          },
          "execution_count": 48,
          "metadata": {},
          "output_type": "execute_result"
        }
      ],
      "source": [
        "train_csv[train_csv['crop']==6]"
      ]
    },
    {
      "cell_type": "code",
      "execution_count": 37,
      "metadata": {
        "id": "d-kNZKUOug9t"
      },
      "outputs": [],
      "source": [
        "tc = train_csv[['image', 'disease', 'crop', 'grow', 'risk', 'points', 'name']]\n",
        "df = pd.DataFrame(index=range(0,), columns=['image', 'disease', 'crop', 'grow', 'risk', 'points', 'name'])\n",
        "# [] 안에 작물 코드 넣기\n",
        "for i in [6]:\n",
        "    for k in range(19):\n",
        "        if k == 0:\n",
        "            tmp = tc[(tc['crop'] == i)&(tc['disease'] == k)][:1000]\n",
        "            df = pd.concat([df, tmp])\n",
        "        else:\n",
        "            tmp = tc[(tc['crop'] == i)&(tc['disease'] == k)][:500]\n",
        "            df = pd.concat([df, tmp])\n",
        "\n",
        "\n",
        "train_df = df"
      ]
    },
    {
      "cell_type": "code",
      "execution_count": 38,
      "metadata": {
        "id": "mpQ5PGivug9t"
      },
      "outputs": [],
      "source": [
        "train_df = train_df[['image', 'disease', 'crop', 'grow', 'risk']]\n",
        "train_df.reset_index(drop=True, inplace=True)"
      ]
    },
    {
      "cell_type": "code",
      "execution_count": 39,
      "metadata": {
        "colab": {
          "base_uri": "https://localhost:8080/",
          "height": 419
        },
        "id": "5nhYfCx5zErB",
        "outputId": "a2163d68-3078-4c1a-a58b-d84f3502ec3d"
      },
      "outputs": [
        {
          "data": {
            "text/html": [
              "<div>\n",
              "<style scoped>\n",
              "    .dataframe tbody tr th:only-of-type {\n",
              "        vertical-align: middle;\n",
              "    }\n",
              "\n",
              "    .dataframe tbody tr th {\n",
              "        vertical-align: top;\n",
              "    }\n",
              "\n",
              "    .dataframe thead th {\n",
              "        text-align: right;\n",
              "    }\n",
              "</style>\n",
              "<table border=\"1\" class=\"dataframe\">\n",
              "  <thead>\n",
              "    <tr style=\"text-align: right;\">\n",
              "      <th></th>\n",
              "      <th>image</th>\n",
              "      <th>disease</th>\n",
              "      <th>crop</th>\n",
              "      <th>grow</th>\n",
              "      <th>risk</th>\n",
              "    </tr>\n",
              "  </thead>\n",
              "  <tbody>\n",
              "    <tr>\n",
              "      <th>0</th>\n",
              "      <td>V006_79_0_00_06_01_13_0_b02_20201014_0000_S01_...</td>\n",
              "      <td>0</td>\n",
              "      <td>6</td>\n",
              "      <td>13</td>\n",
              "      <td>0</td>\n",
              "    </tr>\n",
              "    <tr>\n",
              "      <th>1</th>\n",
              "      <td>V006_79_0_00_06_01_13_0_b02_20201014_0001_S01_...</td>\n",
              "      <td>0</td>\n",
              "      <td>6</td>\n",
              "      <td>13</td>\n",
              "      <td>0</td>\n",
              "    </tr>\n",
              "    <tr>\n",
              "      <th>2</th>\n",
              "      <td>V006_79_0_00_06_01_13_0_b02_20201014_0002_S01_...</td>\n",
              "      <td>0</td>\n",
              "      <td>6</td>\n",
              "      <td>13</td>\n",
              "      <td>0</td>\n",
              "    </tr>\n",
              "    <tr>\n",
              "      <th>3</th>\n",
              "      <td>V006_79_0_00_06_01_13_0_b02_20201014_0003_S01_...</td>\n",
              "      <td>0</td>\n",
              "      <td>6</td>\n",
              "      <td>13</td>\n",
              "      <td>0</td>\n",
              "    </tr>\n",
              "    <tr>\n",
              "      <th>4</th>\n",
              "      <td>V006_79_0_00_06_01_13_0_b02_20201014_0004_S01_...</td>\n",
              "      <td>0</td>\n",
              "      <td>6</td>\n",
              "      <td>13</td>\n",
              "      <td>0</td>\n",
              "    </tr>\n",
              "    <tr>\n",
              "      <th>...</th>\n",
              "      <td>...</td>\n",
              "      <td>...</td>\n",
              "      <td>...</td>\n",
              "      <td>...</td>\n",
              "      <td>...</td>\n",
              "    </tr>\n",
              "    <tr>\n",
              "      <th>1776</th>\n",
              "      <td>V006_79_1_12_06_03_13_3_7390w_20201207_56.jpeg</td>\n",
              "      <td>12</td>\n",
              "      <td>6</td>\n",
              "      <td>13</td>\n",
              "      <td>3</td>\n",
              "    </tr>\n",
              "    <tr>\n",
              "      <th>1777</th>\n",
              "      <td>V006_79_1_12_06_03_13_3_7390w_20201207_6.jpeg</td>\n",
              "      <td>12</td>\n",
              "      <td>6</td>\n",
              "      <td>13</td>\n",
              "      <td>3</td>\n",
              "    </tr>\n",
              "    <tr>\n",
              "      <th>1778</th>\n",
              "      <td>V006_79_1_12_06_03_13_3_7390w_20201207_61.jpeg</td>\n",
              "      <td>12</td>\n",
              "      <td>6</td>\n",
              "      <td>13</td>\n",
              "      <td>3</td>\n",
              "    </tr>\n",
              "    <tr>\n",
              "      <th>1779</th>\n",
              "      <td>V006_79_1_12_06_05_13_1_0502bb_20201102_2.jpeg</td>\n",
              "      <td>12</td>\n",
              "      <td>6</td>\n",
              "      <td>13</td>\n",
              "      <td>1</td>\n",
              "    </tr>\n",
              "    <tr>\n",
              "      <th>1780</th>\n",
              "      <td>V006_79_1_12_06_05_13_1_0502bb_20201102_3.jpeg</td>\n",
              "      <td>12</td>\n",
              "      <td>6</td>\n",
              "      <td>13</td>\n",
              "      <td>1</td>\n",
              "    </tr>\n",
              "  </tbody>\n",
              "</table>\n",
              "<p>1781 rows × 5 columns</p>\n",
              "</div>"
            ],
            "text/plain": [
              "                                                  image disease crop grow risk\n",
              "0     V006_79_0_00_06_01_13_0_b02_20201014_0000_S01_...       0    6   13    0\n",
              "1     V006_79_0_00_06_01_13_0_b02_20201014_0001_S01_...       0    6   13    0\n",
              "2     V006_79_0_00_06_01_13_0_b02_20201014_0002_S01_...       0    6   13    0\n",
              "3     V006_79_0_00_06_01_13_0_b02_20201014_0003_S01_...       0    6   13    0\n",
              "4     V006_79_0_00_06_01_13_0_b02_20201014_0004_S01_...       0    6   13    0\n",
              "...                                                 ...     ...  ...  ...  ...\n",
              "1776     V006_79_1_12_06_03_13_3_7390w_20201207_56.jpeg      12    6   13    3\n",
              "1777      V006_79_1_12_06_03_13_3_7390w_20201207_6.jpeg      12    6   13    3\n",
              "1778     V006_79_1_12_06_03_13_3_7390w_20201207_61.jpeg      12    6   13    3\n",
              "1779     V006_79_1_12_06_05_13_1_0502bb_20201102_2.jpeg      12    6   13    1\n",
              "1780     V006_79_1_12_06_05_13_1_0502bb_20201102_3.jpeg      12    6   13    1\n",
              "\n",
              "[1781 rows x 5 columns]"
            ]
          },
          "execution_count": 39,
          "metadata": {},
          "output_type": "execute_result"
        }
      ],
      "source": [
        "train_df"
      ]
    },
    {
      "cell_type": "code",
      "execution_count": 40,
      "metadata": {
        "colab": {
          "base_uri": "https://localhost:8080/",
          "height": 419
        },
        "id": "nKFuV0bJug9t",
        "outputId": "a854b9b0-fadf-499d-a7c3-54790186c9d7"
      },
      "outputs": [
        {
          "data": {
            "text/html": [
              "<div>\n",
              "<style scoped>\n",
              "    .dataframe tbody tr th:only-of-type {\n",
              "        vertical-align: middle;\n",
              "    }\n",
              "\n",
              "    .dataframe tbody tr th {\n",
              "        vertical-align: top;\n",
              "    }\n",
              "\n",
              "    .dataframe thead th {\n",
              "        text-align: right;\n",
              "    }\n",
              "</style>\n",
              "<table border=\"1\" class=\"dataframe\">\n",
              "  <thead>\n",
              "    <tr style=\"text-align: right;\">\n",
              "      <th></th>\n",
              "      <th>image</th>\n",
              "      <th>disease</th>\n",
              "      <th>crop</th>\n",
              "      <th>grow</th>\n",
              "      <th>risk</th>\n",
              "      <th>points</th>\n",
              "      <th>name</th>\n",
              "    </tr>\n",
              "  </thead>\n",
              "  <tbody>\n",
              "    <tr>\n",
              "      <th>0</th>\n",
              "      <td>V006_79_0_00_01_01_13_0_a01_20201103_0000_S01_...</td>\n",
              "      <td>0</td>\n",
              "      <td>1</td>\n",
              "      <td>13</td>\n",
              "      <td>0</td>\n",
              "      <td>[{'xtl': 502, 'ytl': 1261, 'xbr': 3781, 'ybr':...</td>\n",
              "      <td>고추_0.정상</td>\n",
              "    </tr>\n",
              "    <tr>\n",
              "      <th>1</th>\n",
              "      <td>V006_79_0_00_01_01_13_0_a01_20201103_0002_S01_...</td>\n",
              "      <td>0</td>\n",
              "      <td>1</td>\n",
              "      <td>13</td>\n",
              "      <td>0</td>\n",
              "      <td>[{'xtl': 817, 'ytl': 1564, 'xbr': 3693, 'ybr':...</td>\n",
              "      <td>고추_0.정상</td>\n",
              "    </tr>\n",
              "    <tr>\n",
              "      <th>2</th>\n",
              "      <td>V006_79_0_00_01_01_13_0_a05_20201111_0009_S01_...</td>\n",
              "      <td>0</td>\n",
              "      <td>1</td>\n",
              "      <td>13</td>\n",
              "      <td>0</td>\n",
              "      <td>[{'xtl': 697, 'ytl': 967, 'xbr': 3797, 'ybr': ...</td>\n",
              "      <td>고추_0.정상</td>\n",
              "    </tr>\n",
              "    <tr>\n",
              "      <th>3</th>\n",
              "      <td>V006_79_0_00_01_01_13_0_a05_20201111_0014_S01_...</td>\n",
              "      <td>0</td>\n",
              "      <td>1</td>\n",
              "      <td>13</td>\n",
              "      <td>0</td>\n",
              "      <td>[{'xtl': 627, 'ytl': 1294, 'xbr': 3783, 'ybr':...</td>\n",
              "      <td>고추_0.정상</td>\n",
              "    </tr>\n",
              "    <tr>\n",
              "      <th>4</th>\n",
              "      <td>V006_79_0_00_01_01_13_0_a05_20201111_0024_S01_...</td>\n",
              "      <td>0</td>\n",
              "      <td>1</td>\n",
              "      <td>13</td>\n",
              "      <td>0</td>\n",
              "      <td>[{'xtl': 1002, 'ytl': 458, 'xbr': 3380, 'ybr':...</td>\n",
              "      <td>고추_0.정상</td>\n",
              "    </tr>\n",
              "    <tr>\n",
              "      <th>...</th>\n",
              "      <td>...</td>\n",
              "      <td>...</td>\n",
              "      <td>...</td>\n",
              "      <td>...</td>\n",
              "      <td>...</td>\n",
              "      <td>...</td>\n",
              "      <td>...</td>\n",
              "    </tr>\n",
              "    <tr>\n",
              "      <th>9100</th>\n",
              "      <td>V006_79_1_18_09_03_13_3_0819e_20201112_151.jpg</td>\n",
              "      <td>18</td>\n",
              "      <td>9</td>\n",
              "      <td>13</td>\n",
              "      <td>3</td>\n",
              "      <td>[{'xtl': 308, 'ytl': 468, 'xbr': 542, 'ybr': 1...</td>\n",
              "      <td>파_1.질병</td>\n",
              "    </tr>\n",
              "    <tr>\n",
              "      <th>9101</th>\n",
              "      <td>V006_79_1_18_09_03_13_3_0819e_20201127_172.jpg</td>\n",
              "      <td>18</td>\n",
              "      <td>9</td>\n",
              "      <td>13</td>\n",
              "      <td>3</td>\n",
              "      <td>[{'xtl': 0, 'ytl': 341, 'xbr': 960, 'ybr': 960}]</td>\n",
              "      <td>파_1.질병</td>\n",
              "    </tr>\n",
              "    <tr>\n",
              "      <th>9102</th>\n",
              "      <td>V006_79_1_18_09_03_13_3_6734e_20201030_50.jpg</td>\n",
              "      <td>18</td>\n",
              "      <td>9</td>\n",
              "      <td>13</td>\n",
              "      <td>3</td>\n",
              "      <td>[{'xtl': 79, 'ytl': 2, 'xbr': 433, 'ybr': 960}]</td>\n",
              "      <td>파_1.질병</td>\n",
              "    </tr>\n",
              "    <tr>\n",
              "      <th>9103</th>\n",
              "      <td>V006_79_1_18_09_03_13_3_6734e_20201117_48.jpg</td>\n",
              "      <td>18</td>\n",
              "      <td>9</td>\n",
              "      <td>13</td>\n",
              "      <td>3</td>\n",
              "      <td>[{'xtl': 355, 'ytl': 0, 'xbr': 657, 'ybr': 960}]</td>\n",
              "      <td>파_1.질병</td>\n",
              "    </tr>\n",
              "    <tr>\n",
              "      <th>9104</th>\n",
              "      <td>V006_79_1_18_09_03_13_3_6734e_20201117_55.jpg</td>\n",
              "      <td>18</td>\n",
              "      <td>9</td>\n",
              "      <td>13</td>\n",
              "      <td>3</td>\n",
              "      <td>[{'xtl': 0, 'ytl': 621, 'xbr': 1559, 'ybr': 993}]</td>\n",
              "      <td>파_1.질병</td>\n",
              "    </tr>\n",
              "  </tbody>\n",
              "</table>\n",
              "<p>9105 rows × 7 columns</p>\n",
              "</div>"
            ],
            "text/plain": [
              "                                                  image  disease  crop  grow  \\\n",
              "0     V006_79_0_00_01_01_13_0_a01_20201103_0000_S01_...        0     1    13   \n",
              "1     V006_79_0_00_01_01_13_0_a01_20201103_0002_S01_...        0     1    13   \n",
              "2     V006_79_0_00_01_01_13_0_a05_20201111_0009_S01_...        0     1    13   \n",
              "3     V006_79_0_00_01_01_13_0_a05_20201111_0014_S01_...        0     1    13   \n",
              "4     V006_79_0_00_01_01_13_0_a05_20201111_0024_S01_...        0     1    13   \n",
              "...                                                 ...      ...   ...   ...   \n",
              "9100     V006_79_1_18_09_03_13_3_0819e_20201112_151.jpg       18     9    13   \n",
              "9101     V006_79_1_18_09_03_13_3_0819e_20201127_172.jpg       18     9    13   \n",
              "9102      V006_79_1_18_09_03_13_3_6734e_20201030_50.jpg       18     9    13   \n",
              "9103      V006_79_1_18_09_03_13_3_6734e_20201117_48.jpg       18     9    13   \n",
              "9104      V006_79_1_18_09_03_13_3_6734e_20201117_55.jpg       18     9    13   \n",
              "\n",
              "      risk                                             points     name  \n",
              "0        0  [{'xtl': 502, 'ytl': 1261, 'xbr': 3781, 'ybr':...  고추_0.정상  \n",
              "1        0  [{'xtl': 817, 'ytl': 1564, 'xbr': 3693, 'ybr':...  고추_0.정상  \n",
              "2        0  [{'xtl': 697, 'ytl': 967, 'xbr': 3797, 'ybr': ...  고추_0.정상  \n",
              "3        0  [{'xtl': 627, 'ytl': 1294, 'xbr': 3783, 'ybr':...  고추_0.정상  \n",
              "4        0  [{'xtl': 1002, 'ytl': 458, 'xbr': 3380, 'ybr':...  고추_0.정상  \n",
              "...    ...                                                ...      ...  \n",
              "9100     3  [{'xtl': 308, 'ytl': 468, 'xbr': 542, 'ybr': 1...   파_1.질병  \n",
              "9101     3   [{'xtl': 0, 'ytl': 341, 'xbr': 960, 'ybr': 960}]   파_1.질병  \n",
              "9102     3    [{'xtl': 79, 'ytl': 2, 'xbr': 433, 'ybr': 960}]   파_1.질병  \n",
              "9103     3   [{'xtl': 355, 'ytl': 0, 'xbr': 657, 'ybr': 960}]   파_1.질병  \n",
              "9104     3  [{'xtl': 0, 'ytl': 621, 'xbr': 1559, 'ybr': 993}]   파_1.질병  \n",
              "\n",
              "[9105 rows x 7 columns]"
            ]
          },
          "execution_count": 40,
          "metadata": {},
          "output_type": "execute_result"
        }
      ],
      "source": [
        "vc = val_csv[['image', 'disease', 'crop', 'grow', 'risk', 'points', 'name']]\n",
        "vc"
      ]
    },
    {
      "cell_type": "code",
      "execution_count": 41,
      "metadata": {
        "id": "3HYh5ySFug9t"
      },
      "outputs": [],
      "source": [
        "vc = val_csv[['image', 'disease', 'crop', 'grow', 'risk', 'points', 'name']]\n",
        "df = pd.DataFrame(index=range(0,), columns=['image', 'disease', 'crop', 'grow', 'risk', 'points', 'name'])\n",
        "# [] 안에 작물 코드 넣기\n",
        "for i in [6]:\n",
        "    for k in range(19):\n",
        "        if k == 0:\n",
        "            tmp = vc[(vc['crop'] == i)&(vc['disease'] == k)][:1000]\n",
        "            df = pd.concat([df, tmp])\n",
        "        else:\n",
        "            tmp = vc[(vc['crop'] == i)&(vc['disease'] == k)][:500]\n",
        "            df = pd.concat([df, tmp])\n",
        "\n",
        "\n",
        "val_df = df"
      ]
    },
    {
      "cell_type": "code",
      "execution_count": 42,
      "metadata": {
        "colab": {
          "base_uri": "https://localhost:8080/",
          "height": 419
        },
        "id": "2uza97yeug9t",
        "outputId": "47919a02-8238-4eb0-ad32-f8d8acb0d1ee"
      },
      "outputs": [
        {
          "data": {
            "text/html": [
              "<div>\n",
              "<style scoped>\n",
              "    .dataframe tbody tr th:only-of-type {\n",
              "        vertical-align: middle;\n",
              "    }\n",
              "\n",
              "    .dataframe tbody tr th {\n",
              "        vertical-align: top;\n",
              "    }\n",
              "\n",
              "    .dataframe thead th {\n",
              "        text-align: right;\n",
              "    }\n",
              "</style>\n",
              "<table border=\"1\" class=\"dataframe\">\n",
              "  <thead>\n",
              "    <tr style=\"text-align: right;\">\n",
              "      <th></th>\n",
              "      <th>image</th>\n",
              "      <th>disease</th>\n",
              "      <th>crop</th>\n",
              "      <th>grow</th>\n",
              "      <th>risk</th>\n",
              "    </tr>\n",
              "  </thead>\n",
              "  <tbody>\n",
              "    <tr>\n",
              "      <th>0</th>\n",
              "      <td>V006_79_0_00_06_01_13_0_b02_20201014_0005_S01_...</td>\n",
              "      <td>0</td>\n",
              "      <td>6</td>\n",
              "      <td>13</td>\n",
              "      <td>0</td>\n",
              "    </tr>\n",
              "    <tr>\n",
              "      <th>1</th>\n",
              "      <td>V006_79_0_00_06_01_13_0_b02_20201014_0016_S01_...</td>\n",
              "      <td>0</td>\n",
              "      <td>6</td>\n",
              "      <td>13</td>\n",
              "      <td>0</td>\n",
              "    </tr>\n",
              "    <tr>\n",
              "      <th>2</th>\n",
              "      <td>V006_79_0_00_06_01_13_0_b02_20201014_0023_S01_...</td>\n",
              "      <td>0</td>\n",
              "      <td>6</td>\n",
              "      <td>13</td>\n",
              "      <td>0</td>\n",
              "    </tr>\n",
              "    <tr>\n",
              "      <th>3</th>\n",
              "      <td>V006_79_0_00_06_01_13_0_b02_20201014_0024_S01_...</td>\n",
              "      <td>0</td>\n",
              "      <td>6</td>\n",
              "      <td>13</td>\n",
              "      <td>0</td>\n",
              "    </tr>\n",
              "    <tr>\n",
              "      <th>4</th>\n",
              "      <td>V006_79_0_00_06_01_13_0_b02_20201014_0028_S01_...</td>\n",
              "      <td>0</td>\n",
              "      <td>6</td>\n",
              "      <td>13</td>\n",
              "      <td>0</td>\n",
              "    </tr>\n",
              "    <tr>\n",
              "      <th>...</th>\n",
              "      <td>...</td>\n",
              "      <td>...</td>\n",
              "      <td>...</td>\n",
              "      <td>...</td>\n",
              "      <td>...</td>\n",
              "    </tr>\n",
              "    <tr>\n",
              "      <th>1102</th>\n",
              "      <td>V006_79_1_12_06_03_13_3_3221w_20201115_73.JPEG</td>\n",
              "      <td>12</td>\n",
              "      <td>6</td>\n",
              "      <td>13</td>\n",
              "      <td>3</td>\n",
              "    </tr>\n",
              "    <tr>\n",
              "      <th>1103</th>\n",
              "      <td>V006_79_1_12_06_03_13_3_3221w_20201115_82.jpg</td>\n",
              "      <td>12</td>\n",
              "      <td>6</td>\n",
              "      <td>13</td>\n",
              "      <td>3</td>\n",
              "    </tr>\n",
              "    <tr>\n",
              "      <th>1104</th>\n",
              "      <td>V006_79_1_12_06_03_13_3_3221w_20201115_86.jpg</td>\n",
              "      <td>12</td>\n",
              "      <td>6</td>\n",
              "      <td>13</td>\n",
              "      <td>3</td>\n",
              "    </tr>\n",
              "    <tr>\n",
              "      <th>1105</th>\n",
              "      <td>V006_79_1_12_06_03_13_3_3244w_20201104_15.jpeg</td>\n",
              "      <td>12</td>\n",
              "      <td>6</td>\n",
              "      <td>13</td>\n",
              "      <td>3</td>\n",
              "    </tr>\n",
              "    <tr>\n",
              "      <th>1106</th>\n",
              "      <td>V006_79_1_12_06_03_13_3_7390w_20201207_53.jpeg</td>\n",
              "      <td>12</td>\n",
              "      <td>6</td>\n",
              "      <td>13</td>\n",
              "      <td>3</td>\n",
              "    </tr>\n",
              "  </tbody>\n",
              "</table>\n",
              "<p>1107 rows × 5 columns</p>\n",
              "</div>"
            ],
            "text/plain": [
              "                                                  image disease crop grow risk\n",
              "0     V006_79_0_00_06_01_13_0_b02_20201014_0005_S01_...       0    6   13    0\n",
              "1     V006_79_0_00_06_01_13_0_b02_20201014_0016_S01_...       0    6   13    0\n",
              "2     V006_79_0_00_06_01_13_0_b02_20201014_0023_S01_...       0    6   13    0\n",
              "3     V006_79_0_00_06_01_13_0_b02_20201014_0024_S01_...       0    6   13    0\n",
              "4     V006_79_0_00_06_01_13_0_b02_20201014_0028_S01_...       0    6   13    0\n",
              "...                                                 ...     ...  ...  ...  ...\n",
              "1102     V006_79_1_12_06_03_13_3_3221w_20201115_73.JPEG      12    6   13    3\n",
              "1103      V006_79_1_12_06_03_13_3_3221w_20201115_82.jpg      12    6   13    3\n",
              "1104      V006_79_1_12_06_03_13_3_3221w_20201115_86.jpg      12    6   13    3\n",
              "1105     V006_79_1_12_06_03_13_3_3244w_20201104_15.jpeg      12    6   13    3\n",
              "1106     V006_79_1_12_06_03_13_3_7390w_20201207_53.jpeg      12    6   13    3\n",
              "\n",
              "[1107 rows x 5 columns]"
            ]
          },
          "execution_count": 42,
          "metadata": {},
          "output_type": "execute_result"
        }
      ],
      "source": [
        "val_df = val_df[['image', 'disease', 'crop', 'grow', 'risk']]\n",
        "val_df.reset_index(drop=True, inplace=True)\n",
        "val_df"
      ]
    },
    {
      "cell_type": "markdown",
      "metadata": {
        "id": "iFXBqF2i3aOH"
      },
      "source": [
        "# x y 데이터셋 제작\n",
        "- x: train 이미지\n",
        "- y: train disease 번호"
      ]
    },
    {
      "cell_type": "markdown",
      "metadata": {
        "id": "_h7nH0VE3aOH"
      },
      "source": [
        "## train"
      ]
    },
    {
      "cell_type": "code",
      "execution_count": 43,
      "metadata": {
        "id": "caeY5vGl3aOI"
      },
      "outputs": [],
      "source": [
        "# 폴더 리스트 가져오기\n",
        "from glob import glob\n",
        "from PIL import Image\n",
        "import numpy as np\n",
        "\n",
        "\n",
        "X=[]\n",
        "train_dis = list(train_df['disease'])\n",
        "train_img = list(train_df['image'])\n",
        "train_cro = list(train_df['crop'])\n",
        "path = 'data/project/'\n",
        "\n",
        "\n",
        "for i in range(len(train_df)):\n",
        "    img = Image.open(path + str(train_cro[i])+ '/train/' + str(train_dis[i]) + '/' + train_img[i])\n",
        "    img = img.resize((255, 255)) ## 혹시몰라 한번더 리사이즈\n",
        "    imgarr = np.array(img)/255 # 스케일링\n",
        "    X.append(imgarr)"
      ]
    },
    {
      "cell_type": "code",
      "execution_count": 44,
      "metadata": {
        "id": "el6L0uU33aOI",
        "outputId": "ab6e2ee4-fa05-422b-a01f-815cce08d3aa"
      },
      "outputs": [
        {
          "name": "stdout",
          "output_type": "stream",
          "text": [
            "(1781, 255, 255, 3)\n"
          ]
        }
      ],
      "source": [
        "print(np.shape(X))"
      ]
    },
    {
      "cell_type": "code",
      "execution_count": 45,
      "metadata": {
        "id": "80nt3Q5G3aOI"
      },
      "outputs": [],
      "source": [
        "y = []\n",
        "for item in train_df['disease']:\n",
        "  y.append(item)"
      ]
    },
    {
      "cell_type": "code",
      "execution_count": 46,
      "metadata": {
        "id": "wmlNysPh3aOJ",
        "outputId": "519176b4-a656-4cda-c8e3-070d8b986a81"
      },
      "outputs": [
        {
          "name": "stdout",
          "output_type": "stream",
          "text": [
            "(1781,)\n"
          ]
        }
      ],
      "source": [
        "print(np.shape(y))"
      ]
    },
    {
      "cell_type": "code",
      "execution_count": 47,
      "metadata": {
        "id": "MCdBlSbH3aOJ",
        "outputId": "4ca136fc-272d-4d14-cde8-7c132c90650d"
      },
      "outputs": [
        {
          "data": {
            "text/plain": [
              "array([ 0, 11, 12])"
            ]
          },
          "execution_count": 47,
          "metadata": {},
          "output_type": "execute_result"
        }
      ],
      "source": [
        "np.unique(y)"
      ]
    },
    {
      "cell_type": "code",
      "execution_count": 49,
      "metadata": {
        "id": "Y_ohPxIaIf-H"
      },
      "outputs": [],
      "source": [
        "# 작물 질병 확인하여 질병 순서대로 레이블 변경\n",
        "# 오이 5 : 오이흰가루병\n",
        "# 오이 6 : 오이노균병\n",
        "for i in range(len(y)):\n",
        "        if y[i] == 11.0:\n",
        "            y[i] = 1.0\n",
        "        elif y[i] == 12.0:\n",
        "            y[i] = 2.0"
      ]
    },
    {
      "cell_type": "code",
      "execution_count": 50,
      "metadata": {
        "id": "AI5K_AHOIf-H",
        "outputId": "1680c738-0aec-4523-b025-0a6e5d48834c"
      },
      "outputs": [
        {
          "data": {
            "text/plain": [
              "array([0., 1., 2.])"
            ]
          },
          "execution_count": 50,
          "metadata": {},
          "output_type": "execute_result"
        }
      ],
      "source": [
        "np.unique(y)"
      ]
    },
    {
      "cell_type": "code",
      "execution_count": 51,
      "metadata": {
        "id": "uSfesDmR3aOJ",
        "outputId": "bdc6ad38-0c47-4753-cbad-72b6e04314ee"
      },
      "outputs": [
        {
          "data": {
            "text/plain": [
              "(list, list)"
            ]
          },
          "execution_count": 51,
          "metadata": {},
          "output_type": "execute_result"
        }
      ],
      "source": [
        "type(X), type(y)"
      ]
    },
    {
      "cell_type": "code",
      "execution_count": 52,
      "metadata": {
        "id": "8KwxQRID3aOK"
      },
      "outputs": [],
      "source": [
        "# np.array 로 변환해야 작업 가능\n",
        "X_train = np.array(X, dtype='float32')\n",
        "y_train = np.array(y, dtype='float32')"
      ]
    },
    {
      "cell_type": "code",
      "execution_count": 53,
      "metadata": {
        "id": "jT8s2bbw3aOK"
      },
      "outputs": [],
      "source": [
        "# npz 파일 제작\n",
        "np.savez('data/train_cucumber.npz', X=X_train, Y=y_train)"
      ]
    },
    {
      "cell_type": "markdown",
      "metadata": {
        "id": "CoRjddGB3aOK"
      },
      "source": [
        "## validation"
      ]
    },
    {
      "cell_type": "code",
      "execution_count": 54,
      "metadata": {
        "id": "ACwpmk8cug9y"
      },
      "outputs": [],
      "source": [
        "# 폴더 리스트 가져오기\n",
        "from glob import glob\n",
        "from PIL import Image\n",
        "import numpy as np\n",
        "\n",
        "\n",
        "X=[]\n",
        "val_dis = list(val_df['disease'])\n",
        "val_img = list(val_df['image'])\n",
        "val_cro = list(val_df['crop'])\n",
        "path = 'data/project/'\n",
        "\n",
        "\n",
        "for i in range(len(val_df)):\n",
        "    img = Image.open(path + str(val_cro[i])+ '/validation/' + str(val_dis[i]) + '/' + val_img[i])\n",
        "    img = img.resize((255, 255)) ## 혹시몰라 한번더 리사이즈\n",
        "    imgarr = np.array(img)/255 # 스케일링\n",
        "    X.append(imgarr)"
      ]
    },
    {
      "cell_type": "code",
      "execution_count": 55,
      "metadata": {
        "id": "Dd1EAd8iug9y",
        "outputId": "98bfe6ae-cdec-47c7-be53-b3208edee5ff"
      },
      "outputs": [
        {
          "name": "stdout",
          "output_type": "stream",
          "text": [
            "(1107, 255, 255, 3)\n"
          ]
        }
      ],
      "source": [
        "print(np.shape(X))"
      ]
    },
    {
      "cell_type": "code",
      "execution_count": 56,
      "metadata": {
        "id": "D_s-ctEZug9y"
      },
      "outputs": [],
      "source": [
        "y = []\n",
        "for item in val_df['disease']:\n",
        "  y.append(item)"
      ]
    },
    {
      "cell_type": "code",
      "execution_count": 57,
      "metadata": {
        "id": "mN3GEbUBug9y",
        "outputId": "09a9be90-0e82-41d6-8d77-d806f7153709"
      },
      "outputs": [
        {
          "name": "stdout",
          "output_type": "stream",
          "text": [
            "(1107,)\n"
          ]
        }
      ],
      "source": [
        "print(np.shape(y))"
      ]
    },
    {
      "cell_type": "code",
      "execution_count": 58,
      "metadata": {
        "id": "mxx0EJ-Lug9y",
        "outputId": "fbbb92d6-b8bf-4dde-fe0b-c7328b52eeda"
      },
      "outputs": [
        {
          "data": {
            "text/plain": [
              "array([ 0, 11, 12])"
            ]
          },
          "execution_count": 58,
          "metadata": {},
          "output_type": "execute_result"
        }
      ],
      "source": [
        "np.unique(y)"
      ]
    },
    {
      "cell_type": "code",
      "execution_count": 59,
      "metadata": {
        "id": "xrsj4J7uIf-I"
      },
      "outputs": [],
      "source": [
        "# 작물 질병 확인하여 질병 순서대로 레이블 변경\n",
        "# 오이 5 : 오이흰가루병\n",
        "# 오이 6 : 오이노균병\n",
        "for i in range(len(y)):\n",
        "        if y[i] == 11.0:\n",
        "            y[i] = 1.0\n",
        "        elif y[i] == 12.0:\n",
        "            y[i] = 2.0"
      ]
    },
    {
      "cell_type": "code",
      "execution_count": 60,
      "metadata": {
        "id": "VpMe9uaPIf-I",
        "outputId": "2c035b91-f99a-4113-ec1e-2215a9ad7d67"
      },
      "outputs": [
        {
          "data": {
            "text/plain": [
              "array([0., 1., 2.])"
            ]
          },
          "execution_count": 60,
          "metadata": {},
          "output_type": "execute_result"
        }
      ],
      "source": [
        "np.unique(y)"
      ]
    },
    {
      "cell_type": "code",
      "execution_count": 61,
      "metadata": {
        "id": "Aql59YOe3aOM",
        "outputId": "fb598bb7-582e-40a9-b1aa-bf15ad46fcf7"
      },
      "outputs": [
        {
          "data": {
            "text/plain": [
              "(list, list)"
            ]
          },
          "execution_count": 61,
          "metadata": {},
          "output_type": "execute_result"
        }
      ],
      "source": [
        "type(X), type(y)"
      ]
    },
    {
      "cell_type": "code",
      "execution_count": 62,
      "metadata": {
        "id": "kx7sQOWO3aON"
      },
      "outputs": [],
      "source": [
        "# np.array 로 변환해야 작업 가능\n",
        "X_val = np.array(X)\n",
        "y_val = np.array(y)"
      ]
    },
    {
      "cell_type": "code",
      "execution_count": 63,
      "metadata": {
        "id": "xOBDEWbk3aON"
      },
      "outputs": [],
      "source": [
        "# npz 파일 제작\n",
        "np.savez('data/val_cucumber.npz', X=X_val, Y=y_val)"
      ]
    },
    {
      "cell_type": "code",
      "execution_count": 64,
      "metadata": {
        "id": "BpZOekx13aON",
        "outputId": "7206e51a-7acd-4afe-e1d2-f389e023fcf4"
      },
      "outputs": [
        {
          "name": "stdout",
          "output_type": "stream",
          "text": [
            "--x값--\n"
          ]
        },
        {
          "data": {
            "image/png": "[encoded data removed]",
            "text/plain": [
              "<Figure size 432x288 with 1 Axes>"
            ]
          },
          "metadata": {
            "needs_background": "light"
          },
          "output_type": "display_data"
        },
        {
          "name": "stdout",
          "output_type": "stream",
          "text": [
            "--y value--\n",
            "[0, 0, 0, 0, 0]\n"
          ]
        }
      ],
      "source": [
        "# 5개의 이미지를 수평으로 나란히 출력\n",
        "import matplotlib.pyplot as plt\n",
        "\n",
        "print('--x값--')\n",
        "plt.imshow(np.hstack(X[:5]))\n",
        "plt.show()\n",
        "\n",
        "print('--y value--')\n",
        "print(y[:5])"
      ]
    },
    {
      "cell_type": "markdown",
      "metadata": {
        "id": "kygpISkx3aOP"
      },
      "source": [
        "## CNN"
      ]
    },
    {
      "cell_type": "code",
      "execution_count": 1,
      "metadata": {
        "id": "Ioa-s0Iu3aOP"
      },
      "outputs": [],
      "source": [
        "# 메모리 변수 모두 제거\n",
        "all = [var for var in globals() if var[0] != '_']\n",
        "for var in all:\n",
        "    del globals()[var]"
      ]
    },
    {
      "cell_type": "markdown",
      "metadata": {
        "id": "-J_B4gC33aOP"
      },
      "source": [
        "## 사용 패키지"
      ]
    },
    {
      "cell_type": "code",
      "execution_count": 1,
      "metadata": {
        "id": "isR5vSQ83aOP"
      },
      "outputs": [
        {
          "name": "stderr",
          "output_type": "stream",
          "text": [
            "������ ��θ� ã�� �� �����ϴ�.\n",
            "������ ��θ� ã�� �� �����ϴ�.\n",
            "������ ��θ� ã�� �� �����ϴ�.\n"
          ]
        }
      ],
      "source": [
        "import numpy as np\n",
        "import pandas as pd\n",
        "import seaborn as sns\n",
        "import matplotlib as mpl\n",
        "import matplotlib.pyplot as plt\n",
        "!apt-get install -y fonts-nanum > /dev/null\n",
        "!fc-cache -fv > /dev/null\n",
        "!rm -rf ~/.cache/matplotlib > /dev/null\n",
        "mpl.rcParams['axes.unicode_minus'] = False\n",
        "plt.rc('font', family = 'NanumBarunGothic')\n",
        "import warnings\n",
        "warnings.filterwarnings('ignore')"
      ]
    },
    {
      "cell_type": "code",
      "execution_count": 2,
      "metadata": {
        "id": "aW2jxoBp3aOQ"
      },
      "outputs": [],
      "source": [
        "import os\n",
        "import cv2\n",
        "from PIL import Image\n",
        "from tqdm import tqdm\n",
        "import tensorflow as tf\n",
        "from tensorflow import keras"
      ]
    },
    {
      "cell_type": "markdown",
      "metadata": {
        "id": "Ve00o1CW3aOQ"
      },
      "source": [
        "## 데이터 로드"
      ]
    },
    {
      "cell_type": "code",
      "execution_count": null,
      "metadata": {
        "colab": {
          "base_uri": "https://localhost:8080/"
        },
        "id": "lhcsftZZ_VWL",
        "outputId": "f39e939a-1e06-4efd-fc8e-d6b8758f99da"
      },
      "outputs": [],
      "source": [
        "from google.colab import drive\n",
        "drive.mount('/content/drive')"
      ]
    },
    {
      "cell_type": "code",
      "execution_count": 6,
      "metadata": {
        "colab": {
          "base_uri": "https://localhost:8080/"
        },
        "id": "wb_edCmK_VMk",
        "outputId": "c9dae3ca-e1ba-4da1-b64d-084a64d101a4"
      },
      "outputs": [
        {
          "name": "stdout",
          "output_type": "stream",
          "text": [
            "/content/drive/MyDrive/data/project02\n"
          ]
        }
      ],
      "source": [
        "cd /content/drive/MyDrive/data/project02"
      ]
    },
    {
      "cell_type": "code",
      "execution_count": 7,
      "metadata": {
        "colab": {
          "base_uri": "https://localhost:8080/"
        },
        "id": "-Ls8YDimJ03t",
        "outputId": "fe4657b6-d207-43a1-a2f0-fee0fab594c7"
      },
      "outputs": [
        {
          "name": "stdout",
          "output_type": "stream",
          "text": [
            "best_model.h5  train_cucumber.npz   train_plant.npz   val_plant_all.npz\n",
            "data\t       train_df_csv.csv     val_cucumber.npz  val_plant.npz\n",
            "data.zip       train_plant_5.npz    val_df_csv.csv\n",
            "model\t       train_plant_all.npz  val_plant_5.npz\n"
          ]
        }
      ],
      "source": [
        "!ls"
      ]
    },
    {
      "cell_type": "code",
      "execution_count": 3,
      "metadata": {
        "colab": {
          "base_uri": "https://localhost:8080/"
        },
        "id": "U46pot6a3aOQ",
        "outputId": "ffda600f-a6c2-4968-855d-fb5cddc140ae"
      },
      "outputs": [
        {
          "name": "stdout",
          "output_type": "stream",
          "text": [
            "['X', 'Y']\n",
            "['X', 'Y']\n"
          ]
        }
      ],
      "source": [
        "train_npz = np.load('data/train_cucumber.npz')\n",
        "test_npz = np.load('data/val_cucumber.npz')\n",
        "print(list(train_npz))\n",
        "print(list(test_npz))"
      ]
    },
    {
      "cell_type": "code",
      "execution_count": 4,
      "metadata": {
        "id": "_RYxTVRX3aOQ"
      },
      "outputs": [],
      "source": [
        "X_train = train_npz['X']\n",
        "y_train = train_npz['Y']"
      ]
    },
    {
      "cell_type": "code",
      "execution_count": 5,
      "metadata": {
        "id": "-EBsx8xB8-OT"
      },
      "outputs": [],
      "source": [
        "X_val = test_npz['X']\n",
        "y_val = test_npz['Y']"
      ]
    },
    {
      "cell_type": "code",
      "execution_count": 6,
      "metadata": {
        "colab": {
          "base_uri": "https://localhost:8080/"
        },
        "id": "p78W5B4q3aOR",
        "outputId": "028db031-8071-4997-fd66-9416be6c4fcb"
      },
      "outputs": [
        {
          "name": "stdout",
          "output_type": "stream",
          "text": [
            "(1781, 255, 255, 3) 1781\n",
            "(1107, 255, 255, 3) 1107\n"
          ]
        }
      ],
      "source": [
        "print(np.shape(X_train), len(y_train))\n",
        "print(np.shape(X_val), len(y_val))"
      ]
    },
    {
      "cell_type": "code",
      "execution_count": 7,
      "metadata": {
        "colab": {
          "base_uri": "https://localhost:8080/"
        },
        "id": "ximoCHON3aOR",
        "outputId": "cdf76a81-c3bd-4fb7-a779-bb1476a26fa6"
      },
      "outputs": [
        {
          "data": {
            "text/plain": [
              "{0.0: 1000, 1.0: 392, 2.0: 389}"
            ]
          },
          "execution_count": 7,
          "metadata": {},
          "output_type": "execute_result"
        }
      ],
      "source": [
        "# y데이터의 분할은 편향없이 잘 되었는가 확인작업\n",
        "\n",
        "unique, counts = np.unique(y_train, return_counts=True)\n",
        "\n",
        "unique_yt = dict(zip(unique, counts))\n",
        "unique_yt"
      ]
    },
    {
      "cell_type": "code",
      "execution_count": 8,
      "metadata": {
        "colab": {
          "base_uri": "https://localhost:8080/"
        },
        "id": "yfcxqGJF3aOR",
        "outputId": "8803f06c-e8c3-4aab-b51f-3f7a8e85fbb9"
      },
      "outputs": [
        {
          "data": {
            "text/plain": [
              "{0.0: 1000, 1.0: 51, 2.0: 56}"
            ]
          },
          "execution_count": 8,
          "metadata": {},
          "output_type": "execute_result"
        }
      ],
      "source": [
        "# y데이터의 분할은 편향없이 잘 되었는가 확인작업\n",
        "\n",
        "unique, counts = np.unique(y_val, return_counts=True)\n",
        "\n",
        "unique_yv = dict(zip(unique, counts))\n",
        "unique_yv"
      ]
    },
    {
      "cell_type": "markdown",
      "metadata": {
        "id": "rv-wgDXB3aOS"
      },
      "source": [
        "# 5. CNN\n",
        "- 컨볼루션 신경망\n",
        "- 컴퓨터 비전 (Computer Vision) 에서 사용\n",
        "- 텍스트, 시계열 데이터 등에서도 성능 좋음\n",
        "- 오버피팅 회피\n",
        "    - 규제화 함수\n",
        "        - 가중치 감쇠 (Weight Decay)\n",
        "        - 모델 복잡도 제한\n",
        "        - L1, L2 노름, 엘라스틱 넷 (Elastic Net)\n",
        "        - 기능에 맞춰 가중치 합 구해 손실 함수에 더함\n",
        "        - tensorflow.keras.regularizers.l1(l = 0.01) : 가중치 절대값 합 (릿지)\n",
        "        - tensorflow.keras.regularizers.l2(l = 0.01) : 가중치 제곱값 합 (라쏘)\n",
        "        - tensorflow.keras.regularizers.l1_l2(l1 = 0.01, l2 = 0.01) : 가중치 절대값 합 (릿지) + 가중치 제곱값 합 (라쏘) = (엘라스틱 넷)\n",
        "    - 드롭 아웃\n",
        "        - 학습 진행 중 신경망 일부 유닛 제외\n",
        "        - 테스트 중 작동 하지 않고 모든 유닛 활성화\n",
        "        - 출력을 드롭 아웃 비율만큼 제외\n",
        "        - 드롭 아웃 비율 0.2 ~ 0.5\n",
        "    - 배치 정규화\n",
        "        - 드롭 아웃과 비교\n",
        "        - 내부 공선성 (Internal Covariance Shift) 해결 방법\n",
        "        - 출력값 범위 제한 -> 불확실성 감소 목적\n",
        "        - 그래디언트 손실, 폭주 없이 높은 학습률 사용 가능\n",
        "        - 자체적 규제화 효과 포함\n",
        "        - Dense or Conv2D -> BatchNormalization() -> Activation()"
      ]
    },
    {
      "cell_type": "code",
      "execution_count": 9,
      "metadata": {
        "id": "-4oLLb0P3aOS"
      },
      "outputs": [],
      "source": [
        "from tensorflow.keras.models import Sequential\n",
        "from tensorflow.keras.layers import Conv2D, MaxPool2D, Dense, Flatten\n",
        "from tensorflow.keras.layers import Dropout, Activation, BatchNormalization\n",
        "from tensorflow.keras.optimizers import Adam\n",
        "from tensorflow.keras.regularizers import l2\n",
        "model = Sequential()\n",
        "# (255, 255, 3)\n",
        "model.add(Conv2D(filters = 32, kernel_size = 3, padding = 'same',\n",
        "                 input_shape = (255, 255, 3)))\n",
        "model.add(BatchNormalization())\n",
        "model.add(Activation('relu'))\n",
        "model.add(Conv2D(filters = 32, kernel_size = 3, padding = 'same',\n",
        "                 kernel_regularizer = l2(0.001)))\n",
        "model.add(BatchNormalization())\n",
        "model.add(Activation('relu'))\n",
        "model.add(MaxPool2D(pool_size = (2, 2), strides = 2, padding = 'same'))\n",
        "model.add(Dropout(0.2))\n",
        "model.add(Conv2D(filters = 64, kernel_size = 3, padding = 'same',\n",
        "                 kernel_regularizer = l2(0.001)))\n",
        "model.add(BatchNormalization())\n",
        "model.add(Activation('relu'))\n",
        "model.add(Conv2D(filters = 64, kernel_size = 3, padding = 'same',\n",
        "                 kernel_regularizer = l2(0.001)))\n",
        "model.add(BatchNormalization())\n",
        "model.add(Activation('relu'))\n",
        "model.add(MaxPool2D(pool_size = (2, 2), strides = 2, padding = 'same'))\n",
        "model.add(Dropout(0.2))\n",
        "model.add(Conv2D(filters = 128, kernel_size = 3, padding = 'same',\n",
        "                 kernel_regularizer = l2(0.001)))\n",
        "model.add(BatchNormalization())\n",
        "model.add(Activation('relu'))\n",
        "model.add(Conv2D(filters = 128, kernel_size = 3, padding = 'same',\n",
        "                 kernel_regularizer = l2(0.001)))\n",
        "model.add(BatchNormalization())\n",
        "model.add(Activation('relu'))\n",
        "model.add(MaxPool2D(pool_size = (2, 2), strides = 2, padding = 'same'))\n",
        "model.add(Dropout(0.2))\n",
        "model.add(Flatten())\n",
        "model.add(Dense(256, kernel_regularizer = l2(0.001)))\n",
        "model.add(BatchNormalization())\n",
        "model.add(Activation('relu'))\n",
        "model.add(Dense(3, activation = 'softmax'))"
      ]
    },
    {
      "cell_type": "code",
      "execution_count": 10,
      "metadata": {
        "colab": {
          "base_uri": "https://localhost:8080/"
        },
        "id": "rbblj7SY3aOS",
        "outputId": "ff31e480-6fab-463c-c56d-eddeab38beec"
      },
      "outputs": [
        {
          "name": "stdout",
          "output_type": "stream",
          "text": [
            "Model: \"sequential\"\n",
            "_________________________________________________________________\n",
            "Layer (type)                 Output Shape              Param #   \n",
            "=================================================================\n",
            "conv2d (Conv2D)              (None, 255, 255, 32)      896       \n",
            "_________________________________________________________________\n",
            "batch_normalization (BatchNo (None, 255, 255, 32)      128       \n",
            "_________________________________________________________________\n",
            "activation (Activation)      (None, 255, 255, 32)      0         \n",
            "_________________________________________________________________\n",
            "conv2d_1 (Conv2D)            (None, 255, 255, 32)      9248      \n",
            "_________________________________________________________________\n",
            "batch_normalization_1 (Batch (None, 255, 255, 32)      128       \n",
            "_________________________________________________________________\n",
            "activation_1 (Activation)    (None, 255, 255, 32)      0         \n",
            "_________________________________________________________________\n",
            "max_pooling2d (MaxPooling2D) (None, 128, 128, 32)      0         \n",
            "_________________________________________________________________\n",
            "dropout (Dropout)            (None, 128, 128, 32)      0         \n",
            "_________________________________________________________________\n",
            "conv2d_2 (Conv2D)            (None, 128, 128, 64)      18496     \n",
            "_________________________________________________________________\n",
            "batch_normalization_2 (Batch (None, 128, 128, 64)      256       \n",
            "_________________________________________________________________\n",
            "activation_2 (Activation)    (None, 128, 128, 64)      0         \n",
            "_________________________________________________________________\n",
            "conv2d_3 (Conv2D)            (None, 128, 128, 64)      36928     \n",
            "_________________________________________________________________\n",
            "batch_normalization_3 (Batch (None, 128, 128, 64)      256       \n",
            "_________________________________________________________________\n",
            "activation_3 (Activation)    (None, 128, 128, 64)      0         \n",
            "_________________________________________________________________\n",
            "max_pooling2d_1 (MaxPooling2 (None, 64, 64, 64)        0         \n",
            "_________________________________________________________________\n",
            "dropout_1 (Dropout)          (None, 64, 64, 64)        0         \n",
            "_________________________________________________________________\n",
            "conv2d_4 (Conv2D)            (None, 64, 64, 128)       73856     \n",
            "_________________________________________________________________\n",
            "batch_normalization_4 (Batch (None, 64, 64, 128)       512       \n",
            "_________________________________________________________________\n",
            "activation_4 (Activation)    (None, 64, 64, 128)       0         \n",
            "_________________________________________________________________\n",
            "conv2d_5 (Conv2D)            (None, 64, 64, 128)       147584    \n",
            "_________________________________________________________________\n",
            "batch_normalization_5 (Batch (None, 64, 64, 128)       512       \n",
            "_________________________________________________________________\n",
            "activation_5 (Activation)    (None, 64, 64, 128)       0         \n",
            "_________________________________________________________________\n",
            "max_pooling2d_2 (MaxPooling2 (None, 32, 32, 128)       0         \n",
            "_________________________________________________________________\n",
            "dropout_2 (Dropout)          (None, 32, 32, 128)       0         \n",
            "_________________________________________________________________\n",
            "flatten (Flatten)            (None, 131072)            0         \n",
            "_________________________________________________________________\n",
            "dense (Dense)                (None, 256)               33554688  \n",
            "_________________________________________________________________\n",
            "batch_normalization_6 (Batch (None, 256)               1024      \n",
            "_________________________________________________________________\n",
            "activation_6 (Activation)    (None, 256)               0         \n",
            "_________________________________________________________________\n",
            "dense_1 (Dense)              (None, 3)                 771       \n",
            "=================================================================\n",
            "Total params: 33,845,283\n",
            "Trainable params: 33,843,875\n",
            "Non-trainable params: 1,408\n",
            "_________________________________________________________________\n"
          ]
        }
      ],
      "source": [
        "model.summary()"
      ]
    },
    {
      "cell_type": "code",
      "execution_count": 11,
      "metadata": {
        "id": "NmRHZ0jm_Ltg"
      },
      "outputs": [],
      "source": [
        "from tensorflow.keras.callbacks import EarlyStopping, ModelCheckpoint\n",
        "#es = EarlyStopping(monitor='val_loss', mode='min', verbose=1, patience=10)\n",
        "mc = ModelCheckpoint('data/model/cucumber_best.h5', monitor='val_acc', mode='max', verbose=1, save_best_only=True)\n",
        "# es : 검증 데이터 손실(val_loss)이 증가하면, 과적합 징후므로 검증 데이터 손실이 10회 증가하면 학습을 조기 종료(Early Stopping)합니다. \n",
        "# mc : 또한, ModelCheckpoint를 사용하여 검증 데이터의 정확도(val_acc)가 이전보다 좋아질 경우에만 모델을 저장합니다."
      ]
    },
    {
      "cell_type": "code",
      "execution_count": 12,
      "metadata": {
        "id": "5tOEcFQW3aOS"
      },
      "outputs": [],
      "source": [
        "model.compile(\n",
        "    optimizer = Adam(1e-4),\n",
        "    loss = 'sparse_categorical_crossentropy',\n",
        "    metrics = ['acc']\n",
        ")"
      ]
    },
    {
      "cell_type": "code",
      "execution_count": 13,
      "metadata": {
        "colab": {
          "base_uri": "https://localhost:8080/"
        },
        "id": "VO6Zhvea3aOT",
        "outputId": "f7f5b27d-4638-4a14-cb00-a0abb07f3ecf"
      },
      "outputs": [
        {
          "name": "stdout",
          "output_type": "stream",
          "text": [
            "Epoch 1/100\n",
            "56/56 [==============================] - 20s 280ms/step - loss: 1.3485 - acc: 0.8473 - val_loss: 1.3640 - val_acc: 0.9033\n",
            "\n",
            "Epoch 00001: val_acc improved from -inf to 0.90334, saving model to data/model\\cucmber_best.h5\n",
            "Epoch 2/100\n",
            "56/56 [==============================] - 13s 234ms/step - loss: 0.9650 - acc: 0.9730 - val_loss: 1.4736 - val_acc: 0.9033\n",
            "\n",
            "Epoch 00002: val_acc did not improve from 0.90334\n",
            "Epoch 3/100\n",
            "56/56 [==============================] - 13s 235ms/step - loss: 0.9253 - acc: 0.9843 - val_loss: 1.5547 - val_acc: 0.9033\n",
            "\n",
            "Epoch 00003: val_acc did not improve from 0.90334\n",
            "Epoch 4/100\n",
            "56/56 [==============================] - 13s 234ms/step - loss: 0.8937 - acc: 0.9910 - val_loss: 1.5730 - val_acc: 0.9033\n",
            "\n",
            "Epoch 00004: val_acc did not improve from 0.90334\n",
            "Epoch 5/100\n",
            "56/56 [==============================] - 13s 235ms/step - loss: 0.8622 - acc: 0.9961 - val_loss: 1.5307 - val_acc: 0.9033\n",
            "\n",
            "Epoch 00005: val_acc did not improve from 0.90334\n",
            "Epoch 6/100\n",
            "56/56 [==============================] - 13s 234ms/step - loss: 0.8407 - acc: 0.9978 - val_loss: 1.4548 - val_acc: 0.9033\n",
            "\n",
            "Epoch 00006: val_acc did not improve from 0.90334\n",
            "Epoch 7/100\n",
            "56/56 [==============================] - 13s 234ms/step - loss: 0.8275 - acc: 0.9949 - val_loss: 1.3920 - val_acc: 0.9051\n",
            "\n",
            "Epoch 00007: val_acc improved from 0.90334 to 0.90515, saving model to data/model\\cucmber_best.h5\n",
            "Epoch 8/100\n",
            "56/56 [==============================] - 15s 263ms/step - loss: 0.8055 - acc: 0.9978 - val_loss: 1.3211 - val_acc: 0.9079\n",
            "\n",
            "Epoch 00008: val_acc improved from 0.90515 to 0.90786, saving model to data/model\\cucmber_best.h5\n",
            "Epoch 9/100\n",
            "56/56 [==============================] - 16s 281ms/step - loss: 0.7887 - acc: 0.9978 - val_loss: 1.2869 - val_acc: 0.9079\n",
            "\n",
            "Epoch 00009: val_acc did not improve from 0.90786\n",
            "Epoch 10/100\n",
            "56/56 [==============================] - 16s 283ms/step - loss: 0.7755 - acc: 0.9938 - val_loss: 1.1736 - val_acc: 0.9033\n",
            "\n",
            "Epoch 00010: val_acc did not improve from 0.90786\n",
            "Epoch 11/100\n",
            "56/56 [==============================] - 17s 299ms/step - loss: 0.7591 - acc: 0.9966 - val_loss: 1.1101 - val_acc: 0.8907\n",
            "\n",
            "Epoch 00011: val_acc did not improve from 0.90786\n",
            "Epoch 12/100\n",
            "56/56 [==============================] - 17s 299ms/step - loss: 0.7385 - acc: 0.9978 - val_loss: 1.1194 - val_acc: 0.8744\n",
            "\n",
            "Epoch 00012: val_acc did not improve from 0.90786\n",
            "Epoch 13/100\n",
            "56/56 [==============================] - 16s 287ms/step - loss: 0.7267 - acc: 0.9961 - val_loss: 1.2985 - val_acc: 0.8338\n",
            "\n",
            "Epoch 00013: val_acc did not improve from 0.90786\n",
            "Epoch 14/100\n",
            "56/56 [==============================] - 16s 287ms/step - loss: 0.7026 - acc: 0.9989 - val_loss: 1.0153 - val_acc: 0.8880\n",
            "\n",
            "Epoch 00014: val_acc did not improve from 0.90786\n",
            "Epoch 15/100\n",
            "56/56 [==============================] - 17s 303ms/step - loss: 0.6902 - acc: 0.9966 - val_loss: 1.0639 - val_acc: 0.8844\n",
            "\n",
            "Epoch 00015: val_acc did not improve from 0.90786\n",
            "Epoch 16/100\n",
            "56/56 [==============================] - 16s 281ms/step - loss: 0.6825 - acc: 0.9944 - val_loss: 1.0807 - val_acc: 0.8699\n",
            "\n",
            "Epoch 00016: val_acc did not improve from 0.90786\n",
            "Epoch 17/100\n",
            "56/56 [==============================] - 16s 285ms/step - loss: 0.6825 - acc: 0.9927 - val_loss: 1.4517 - val_acc: 0.7696\n",
            "\n",
            "Epoch 00017: val_acc did not improve from 0.90786\n",
            "Epoch 18/100\n",
            "56/56 [==============================] - 16s 288ms/step - loss: 0.6484 - acc: 0.9989 - val_loss: 1.0520 - val_acc: 0.8600\n",
            "\n",
            "Epoch 00018: val_acc did not improve from 0.90786\n",
            "Epoch 19/100\n",
            "56/56 [==============================] - 14s 254ms/step - loss: 0.6316 - acc: 0.9983 - val_loss: 0.8747 - val_acc: 0.9160\n",
            "\n",
            "Epoch 00019: val_acc improved from 0.90786 to 0.91599, saving model to data/model\\cucmber_best.h5\n",
            "Epoch 20/100\n",
            "56/56 [==============================] - 14s 250ms/step - loss: 0.6157 - acc: 0.9978 - val_loss: 1.0899 - val_acc: 0.8500\n",
            "\n",
            "Epoch 00020: val_acc did not improve from 0.91599\n",
            "Epoch 21/100\n",
            "56/56 [==============================] - 14s 247ms/step - loss: 0.5995 - acc: 0.9983 - val_loss: 0.8667 - val_acc: 0.9079\n",
            "\n",
            "Epoch 00021: val_acc did not improve from 0.91599\n",
            "Epoch 22/100\n",
            "56/56 [==============================] - 14s 257ms/step - loss: 0.5920 - acc: 0.9966 - val_loss: 0.9408 - val_acc: 0.8826\n",
            "\n",
            "Epoch 00022: val_acc did not improve from 0.91599\n",
            "Epoch 23/100\n",
            "56/56 [==============================] - 14s 245ms/step - loss: 0.5734 - acc: 0.9972 - val_loss: 1.1441 - val_acc: 0.8428\n",
            "\n",
            "Epoch 00023: val_acc did not improve from 0.91599\n",
            "Epoch 24/100\n",
            "56/56 [==============================] - 14s 245ms/step - loss: 0.5561 - acc: 0.9994 - val_loss: 0.9004 - val_acc: 0.8943\n",
            "\n",
            "Epoch 00024: val_acc did not improve from 0.91599\n",
            "Epoch 25/100\n",
            "56/56 [==============================] - 14s 244ms/step - loss: 0.5502 - acc: 0.9978 - val_loss: 1.3559 - val_acc: 0.8076\n",
            "\n",
            "Epoch 00025: val_acc did not improve from 0.91599\n",
            "Epoch 26/100\n",
            "56/56 [==============================] - 14s 244ms/step - loss: 0.5326 - acc: 0.9978 - val_loss: 1.0115 - val_acc: 0.8609\n",
            "\n",
            "Epoch 00026: val_acc did not improve from 0.91599\n",
            "Epoch 27/100\n",
            "56/56 [==============================] - 14s 246ms/step - loss: 0.5240 - acc: 0.9972 - val_loss: 0.8684 - val_acc: 0.8988\n",
            "\n",
            "Epoch 00027: val_acc did not improve from 0.91599\n",
            "Epoch 28/100\n",
            "56/56 [==============================] - 14s 244ms/step - loss: 0.5098 - acc: 0.9994 - val_loss: 0.9516 - val_acc: 0.8717\n",
            "\n",
            "Epoch 00028: val_acc did not improve from 0.91599\n",
            "Epoch 29/100\n",
            "56/56 [==============================] - 14s 246ms/step - loss: 0.4958 - acc: 0.9989 - val_loss: 1.0196 - val_acc: 0.8347\n",
            "\n",
            "Epoch 00029: val_acc did not improve from 0.91599\n",
            "Epoch 30/100\n",
            "56/56 [==============================] - 14s 244ms/step - loss: 0.4805 - acc: 1.0000 - val_loss: 0.8549 - val_acc: 0.8907\n",
            "\n",
            "Epoch 00030: val_acc did not improve from 0.91599\n",
            "Epoch 31/100\n",
            "56/56 [==============================] - 14s 244ms/step - loss: 0.4682 - acc: 0.9989 - val_loss: 0.8095 - val_acc: 0.8943\n",
            "\n",
            "Epoch 00031: val_acc did not improve from 0.91599\n",
            "Epoch 32/100\n",
            "56/56 [==============================] - 14s 244ms/step - loss: 0.4745 - acc: 0.9949 - val_loss: 1.2958 - val_acc: 0.8166\n",
            "\n",
            "Epoch 00032: val_acc did not improve from 0.91599\n",
            "Epoch 33/100\n",
            "56/56 [==============================] - 14s 244ms/step - loss: 0.4743 - acc: 0.9933 - val_loss: 1.1162 - val_acc: 0.8248\n",
            "\n",
            "Epoch 00033: val_acc did not improve from 0.91599\n",
            "Epoch 34/100\n",
            "56/56 [==============================] - 14s 244ms/step - loss: 0.4749 - acc: 0.9938 - val_loss: 1.0041 - val_acc: 0.8410\n",
            "\n",
            "Epoch 00034: val_acc did not improve from 0.91599\n",
            "Epoch 35/100\n",
            "56/56 [==============================] - 14s 244ms/step - loss: 0.4656 - acc: 0.9972 - val_loss: 1.1913 - val_acc: 0.8085\n",
            "\n",
            "Epoch 00035: val_acc did not improve from 0.91599\n",
            "Epoch 36/100\n",
            "56/56 [==============================] - 14s 245ms/step - loss: 0.4574 - acc: 0.9966 - val_loss: 1.2869 - val_acc: 0.7949\n",
            "\n",
            "Epoch 00036: val_acc did not improve from 0.91599\n",
            "Epoch 37/100\n",
            "56/56 [==============================] - 14s 244ms/step - loss: 0.4485 - acc: 0.9966 - val_loss: 0.9629 - val_acc: 0.8780\n",
            "\n",
            "Epoch 00037: val_acc did not improve from 0.91599\n",
            "Epoch 38/100\n",
            "56/56 [==============================] - 14s 244ms/step - loss: 0.4299 - acc: 0.9989 - val_loss: 0.8811 - val_acc: 0.8482\n",
            "\n",
            "Epoch 00038: val_acc did not improve from 0.91599\n",
            "Epoch 39/100\n",
            "56/56 [==============================] - 14s 244ms/step - loss: 0.4147 - acc: 1.0000 - val_loss: 0.9843 - val_acc: 0.8320\n",
            "\n",
            "Epoch 00039: val_acc did not improve from 0.91599\n",
            "Epoch 40/100\n",
            "56/56 [==============================] - 14s 244ms/step - loss: 0.4033 - acc: 0.9994 - val_loss: 0.8841 - val_acc: 0.8564\n",
            "\n",
            "Epoch 00040: val_acc did not improve from 0.91599\n",
            "Epoch 41/100\n",
            "56/56 [==============================] - 14s 244ms/step - loss: 0.3927 - acc: 0.9994 - val_loss: 1.2365 - val_acc: 0.7977\n",
            "\n",
            "Epoch 00041: val_acc did not improve from 0.91599\n",
            "Epoch 42/100\n",
            "56/56 [==============================] - 14s 244ms/step - loss: 0.3999 - acc: 0.9972 - val_loss: 0.9420 - val_acc: 0.8374\n",
            "\n",
            "Epoch 00042: val_acc did not improve from 0.91599\n",
            "Epoch 43/100\n",
            "56/56 [==============================] - 14s 246ms/step - loss: 0.3899 - acc: 0.9983 - val_loss: 0.8801 - val_acc: 0.8419\n",
            "\n",
            "Epoch 00043: val_acc did not improve from 0.91599\n",
            "Epoch 44/100\n",
            "56/56 [==============================] - 15s 272ms/step - loss: 0.3763 - acc: 0.9983 - val_loss: 1.7691 - val_acc: 0.7082\n",
            "\n",
            "Epoch 00044: val_acc did not improve from 0.91599\n",
            "Epoch 45/100\n",
            "56/56 [==============================] - 14s 256ms/step - loss: 0.3808 - acc: 0.9955 - val_loss: 1.3377 - val_acc: 0.7886\n",
            "\n",
            "Epoch 00045: val_acc did not improve from 0.91599\n",
            "Epoch 46/100\n",
            "56/56 [==============================] - 14s 249ms/step - loss: 0.3760 - acc: 0.9978 - val_loss: 2.5412 - val_acc: 0.6414\n",
            "\n",
            "Epoch 00046: val_acc did not improve from 0.91599\n",
            "Epoch 47/100\n",
            "56/56 [==============================] - 13s 240ms/step - loss: 0.3611 - acc: 1.0000 - val_loss: 1.2013 - val_acc: 0.7651\n",
            "\n",
            "Epoch 00047: val_acc did not improve from 0.91599\n",
            "Epoch 48/100\n",
            "56/56 [==============================] - 13s 237ms/step - loss: 0.3486 - acc: 1.0000 - val_loss: 0.7486 - val_acc: 0.8699\n",
            "\n",
            "Epoch 00048: val_acc did not improve from 0.91599\n",
            "Epoch 49/100\n",
            "56/56 [==============================] - 13s 240ms/step - loss: 0.3410 - acc: 0.9983 - val_loss: 0.9207 - val_acc: 0.8356\n",
            "\n",
            "Epoch 00049: val_acc did not improve from 0.91599\n",
            "Epoch 50/100\n",
            "56/56 [==============================] - 13s 239ms/step - loss: 0.3398 - acc: 0.9961 - val_loss: 0.5902 - val_acc: 0.9106\n",
            "\n",
            "Epoch 00050: val_acc did not improve from 0.91599\n",
            "Epoch 51/100\n",
            "56/56 [==============================] - 14s 250ms/step - loss: 0.3482 - acc: 0.9961 - val_loss: 0.9554 - val_acc: 0.8175\n",
            "\n",
            "Epoch 00051: val_acc did not improve from 0.91599\n",
            "Epoch 52/100\n",
            "56/56 [==============================] - 15s 260ms/step - loss: 0.3565 - acc: 0.9927 - val_loss: 0.9813 - val_acc: 0.8148\n",
            "\n",
            "Epoch 00052: val_acc did not improve from 0.91599\n",
            "Epoch 53/100\n",
            "56/56 [==============================] - 14s 242ms/step - loss: 0.3446 - acc: 0.9983 - val_loss: 0.7356 - val_acc: 0.8708\n",
            "\n",
            "Epoch 00053: val_acc did not improve from 0.91599\n",
            "Epoch 54/100\n",
            "56/56 [==============================] - 14s 243ms/step - loss: 0.3420 - acc: 0.9966 - val_loss: 0.7875 - val_acc: 0.8609\n",
            "\n",
            "Epoch 00054: val_acc did not improve from 0.91599\n",
            "Epoch 55/100\n",
            "56/56 [==============================] - 13s 230ms/step - loss: 0.3384 - acc: 0.9944 - val_loss: 0.6383 - val_acc: 0.8988\n",
            "\n",
            "Epoch 00055: val_acc did not improve from 0.91599\n",
            "Epoch 56/100\n",
            "56/56 [==============================] - 13s 229ms/step - loss: 0.3292 - acc: 0.9983 - val_loss: 0.5999 - val_acc: 0.9115\n",
            "\n",
            "Epoch 00056: val_acc did not improve from 0.91599\n",
            "Epoch 57/100\n",
            "56/56 [==============================] - 13s 226ms/step - loss: 0.3150 - acc: 1.0000 - val_loss: 0.6243 - val_acc: 0.8934\n",
            "\n",
            "Epoch 00057: val_acc did not improve from 0.91599\n",
            "Epoch 58/100\n",
            "56/56 [==============================] - 13s 234ms/step - loss: 0.3046 - acc: 0.9994 - val_loss: 0.7822 - val_acc: 0.8491\n",
            "\n",
            "Epoch 00058: val_acc did not improve from 0.91599\n",
            "Epoch 59/100\n",
            "56/56 [==============================] - 13s 239ms/step - loss: 0.3010 - acc: 0.9989 - val_loss: 0.5975 - val_acc: 0.9142\n",
            "\n",
            "Epoch 00059: val_acc did not improve from 0.91599\n",
            "Epoch 60/100\n",
            "56/56 [==============================] - 13s 241ms/step - loss: 0.2933 - acc: 1.0000 - val_loss: 0.5353 - val_acc: 0.9169\n",
            "\n",
            "Epoch 00060: val_acc improved from 0.91599 to 0.91689, saving model to data/model\\cucmber_best.h5\n",
            "Epoch 61/100\n",
            "56/56 [==============================] - 14s 247ms/step - loss: 0.2859 - acc: 0.9989 - val_loss: 0.8535 - val_acc: 0.8401\n",
            "\n",
            "Epoch 00061: val_acc did not improve from 0.91689\n",
            "Epoch 62/100\n",
            "56/56 [==============================] - 15s 265ms/step - loss: 0.3071 - acc: 0.9938 - val_loss: 3.1020 - val_acc: 0.5673\n",
            "\n",
            "Epoch 00062: val_acc did not improve from 0.91689\n",
            "Epoch 63/100\n",
            "56/56 [==============================] - 14s 249ms/step - loss: 0.3225 - acc: 0.9944 - val_loss: 2.7102 - val_acc: 0.5474\n",
            "\n",
            "Epoch 00063: val_acc did not improve from 0.91689\n",
            "Epoch 64/100\n",
            "56/56 [==============================] - 14s 259ms/step - loss: 0.3276 - acc: 0.9921 - val_loss: 0.9570 - val_acc: 0.8103\n",
            "\n",
            "Epoch 00064: val_acc did not improve from 0.91689\n",
            "Epoch 65/100\n",
            "56/56 [==============================] - 15s 263ms/step - loss: 0.3174 - acc: 0.9978 - val_loss: 0.7409 - val_acc: 0.8609\n",
            "\n",
            "Epoch 00065: val_acc did not improve from 0.91689\n",
            "Epoch 66/100\n",
            "56/56 [==============================] - 15s 266ms/step - loss: 0.3091 - acc: 0.9978 - val_loss: 0.6236 - val_acc: 0.8961\n",
            "\n",
            "Epoch 00066: val_acc did not improve from 0.91689\n",
            "Epoch 67/100\n",
            "56/56 [==============================] - 15s 260ms/step - loss: 0.3265 - acc: 0.9921 - val_loss: 2.7043 - val_acc: 0.6748\n",
            "\n",
            "Epoch 00067: val_acc did not improve from 0.91689\n",
            "Epoch 68/100\n",
            "56/56 [==============================] - 14s 243ms/step - loss: 0.3246 - acc: 0.9949 - val_loss: 0.9315 - val_acc: 0.8284\n",
            "\n",
            "Epoch 00068: val_acc did not improve from 0.91689\n",
            "Epoch 69/100\n",
            "56/56 [==============================] - 13s 239ms/step - loss: 0.3082 - acc: 0.9978 - val_loss: 0.8799 - val_acc: 0.8284\n",
            "\n",
            "Epoch 00069: val_acc did not improve from 0.91689\n",
            "Epoch 70/100\n",
            "56/56 [==============================] - 13s 234ms/step - loss: 0.3030 - acc: 0.9966 - val_loss: 0.9126 - val_acc: 0.8004\n",
            "\n",
            "Epoch 00070: val_acc did not improve from 0.91689\n",
            "Epoch 71/100\n",
            "56/56 [==============================] - 13s 233ms/step - loss: 0.2925 - acc: 0.9989 - val_loss: 0.7002 - val_acc: 0.8537\n",
            "\n",
            "Epoch 00071: val_acc did not improve from 0.91689\n",
            "Epoch 72/100\n",
            "56/56 [==============================] - 13s 237ms/step - loss: 0.2777 - acc: 1.0000 - val_loss: 0.7733 - val_acc: 0.8365\n",
            "\n",
            "Epoch 00072: val_acc did not improve from 0.91689\n",
            "Epoch 73/100\n",
            "56/56 [==============================] - 13s 235ms/step - loss: 0.2651 - acc: 1.0000 - val_loss: 0.7087 - val_acc: 0.8473\n",
            "\n",
            "Epoch 00073: val_acc did not improve from 0.91689\n",
            "Epoch 74/100\n",
            "56/56 [==============================] - 13s 230ms/step - loss: 0.2579 - acc: 0.9994 - val_loss: 0.7769 - val_acc: 0.8374\n",
            "\n",
            "Epoch 00074: val_acc did not improve from 0.91689\n",
            "Epoch 75/100\n",
            "56/56 [==============================] - 13s 230ms/step - loss: 0.2507 - acc: 1.0000 - val_loss: 0.6631 - val_acc: 0.8645\n",
            "\n",
            "Epoch 00075: val_acc did not improve from 0.91689\n",
            "Epoch 76/100\n",
            "56/56 [==============================] - 13s 230ms/step - loss: 0.2409 - acc: 1.0000 - val_loss: 0.6457 - val_acc: 0.8717\n",
            "\n",
            "Epoch 00076: val_acc did not improve from 0.91689\n",
            "Epoch 77/100\n",
            "56/56 [==============================] - 13s 230ms/step - loss: 0.2319 - acc: 1.0000 - val_loss: 0.7138 - val_acc: 0.8564\n",
            "\n",
            "Epoch 00077: val_acc did not improve from 0.91689\n",
            "Epoch 78/100\n",
            "56/56 [==============================] - 13s 230ms/step - loss: 0.2271 - acc: 0.9994 - val_loss: 0.7886 - val_acc: 0.8446\n",
            "\n",
            "Epoch 00078: val_acc did not improve from 0.91689\n",
            "Epoch 79/100\n",
            "56/56 [==============================] - 13s 239ms/step - loss: 0.2510 - acc: 0.9949 - val_loss: 2.8840 - val_acc: 0.6007\n",
            "\n",
            "Epoch 00079: val_acc did not improve from 0.91689\n",
            "Epoch 80/100\n",
            "56/56 [==============================] - 14s 242ms/step - loss: 0.2767 - acc: 0.9921 - val_loss: 1.2910 - val_acc: 0.7615\n",
            "\n",
            "Epoch 00080: val_acc did not improve from 0.91689\n",
            "Epoch 81/100\n",
            "56/56 [==============================] - 14s 243ms/step - loss: 0.3206 - acc: 0.9843 - val_loss: 0.8413 - val_acc: 0.8600\n",
            "\n",
            "Epoch 00081: val_acc did not improve from 0.91689\n",
            "Epoch 82/100\n",
            "56/56 [==============================] - 13s 225ms/step - loss: 0.3141 - acc: 0.9899 - val_loss: 2.9457 - val_acc: 0.6197\n",
            "\n",
            "Epoch 00082: val_acc did not improve from 0.91689\n",
            "Epoch 83/100\n",
            "56/56 [==============================] - 13s 225ms/step - loss: 0.3117 - acc: 0.9927 - val_loss: 2.3702 - val_acc: 0.6649\n",
            "\n",
            "Epoch 00083: val_acc did not improve from 0.91689\n",
            "Epoch 84/100\n",
            "56/56 [==============================] - 13s 225ms/step - loss: 0.2934 - acc: 0.9966 - val_loss: 1.0841 - val_acc: 0.7751\n",
            "\n",
            "Epoch 00084: val_acc did not improve from 0.91689\n",
            "Epoch 85/100\n",
            "56/56 [==============================] - 13s 225ms/step - loss: 0.2731 - acc: 0.9994 - val_loss: 0.7972 - val_acc: 0.8293\n",
            "\n",
            "Epoch 00085: val_acc did not improve from 0.91689\n",
            "Epoch 86/100\n",
            "56/56 [==============================] - 13s 224ms/step - loss: 0.2611 - acc: 0.9994 - val_loss: 0.6796 - val_acc: 0.8672\n",
            "\n",
            "Epoch 00086: val_acc did not improve from 0.91689\n",
            "Epoch 87/100\n",
            "56/56 [==============================] - 13s 224ms/step - loss: 0.2471 - acc: 1.0000 - val_loss: 0.6934 - val_acc: 0.8537\n",
            "\n",
            "Epoch 00087: val_acc did not improve from 0.91689\n",
            "Epoch 88/100\n",
            "56/56 [==============================] - 13s 224ms/step - loss: 0.2338 - acc: 1.0000 - val_loss: 0.7729 - val_acc: 0.8211\n",
            "\n",
            "Epoch 00088: val_acc did not improve from 0.91689\n",
            "Epoch 89/100\n",
            "56/56 [==============================] - 13s 224ms/step - loss: 0.2222 - acc: 1.0000 - val_loss: 0.7998 - val_acc: 0.8139\n",
            "\n",
            "Epoch 00089: val_acc did not improve from 0.91689\n",
            "Epoch 90/100\n",
            "56/56 [==============================] - 13s 225ms/step - loss: 0.2123 - acc: 1.0000 - val_loss: 0.7121 - val_acc: 0.8329\n",
            "\n",
            "Epoch 00090: val_acc did not improve from 0.91689\n",
            "Epoch 91/100\n",
            "56/56 [==============================] - 13s 225ms/step - loss: 0.2041 - acc: 1.0000 - val_loss: 0.7670 - val_acc: 0.8202\n",
            "\n",
            "Epoch 00091: val_acc did not improve from 0.91689\n",
            "Epoch 92/100\n",
            "56/56 [==============================] - 13s 224ms/step - loss: 0.1971 - acc: 1.0000 - val_loss: 0.8352 - val_acc: 0.8130\n",
            "\n",
            "Epoch 00092: val_acc did not improve from 0.91689\n",
            "Epoch 93/100\n",
            "56/56 [==============================] - 13s 224ms/step - loss: 0.1979 - acc: 0.9989 - val_loss: 3.0160 - val_acc: 0.5375\n",
            "\n",
            "Epoch 00093: val_acc did not improve from 0.91689\n",
            "Epoch 94/100\n",
            "56/56 [==============================] - 13s 224ms/step - loss: 0.2334 - acc: 0.9921 - val_loss: 1.6393 - val_acc: 0.7678\n",
            "\n",
            "Epoch 00094: val_acc did not improve from 0.91689\n",
            "Epoch 95/100\n",
            "56/56 [==============================] - 13s 224ms/step - loss: 0.2674 - acc: 0.9910 - val_loss: 2.1755 - val_acc: 0.6856\n",
            "\n",
            "Epoch 00095: val_acc did not improve from 0.91689\n",
            "Epoch 96/100\n",
            "56/56 [==============================] - 13s 224ms/step - loss: 0.2873 - acc: 0.9854 - val_loss: 2.0135 - val_acc: 0.6965\n",
            "\n",
            "Epoch 00096: val_acc did not improve from 0.91689\n",
            "Epoch 97/100\n",
            "56/56 [==============================] - 13s 224ms/step - loss: 0.3020 - acc: 0.9871 - val_loss: 2.8101 - val_acc: 0.5944\n",
            "\n",
            "Epoch 00097: val_acc did not improve from 0.91689\n",
            "Epoch 98/100\n",
            "56/56 [==============================] - 13s 225ms/step - loss: 0.2873 - acc: 0.9955 - val_loss: 0.8460 - val_acc: 0.8275\n",
            "\n",
            "Epoch 00098: val_acc did not improve from 0.91689\n",
            "Epoch 99/100\n",
            "56/56 [==============================] - 13s 224ms/step - loss: 0.2657 - acc: 0.9989 - val_loss: 1.5091 - val_acc: 0.7064\n",
            "\n",
            "Epoch 00099: val_acc did not improve from 0.91689\n",
            "Epoch 100/100\n",
            "56/56 [==============================] - 13s 224ms/step - loss: 0.2495 - acc: 0.9989 - val_loss: 0.9415 - val_acc: 0.7995\n",
            "\n",
            "Epoch 00100: val_acc did not improve from 0.91689\n"
          ]
        }
      ],
      "source": [
        "history = model.fit(\n",
        "    X_train, y_train,\n",
        "    epochs = 100,\n",
        "    batch_size = 32,\n",
        "    callbacks=[mc],\n",
        "    validation_data = (X_val, y_val)\n",
        ")"
      ]
    },
    {
      "cell_type": "markdown",
      "metadata": {
        "id": "habGg4u03aOT"
      },
      "source": [
        "## 그래프"
      ]
    },
    {
      "cell_type": "code",
      "execution_count": 14,
      "metadata": {
        "id": "VlNd7zuo3aOT"
      },
      "outputs": [
        {
          "data": {
            "image/png": "[encoded data removed]",
            "text/plain": [
              "<Figure size 720x360 with 2 Axes>"
            ]
          },
          "metadata": {
            "needs_background": "light"
          },
          "output_type": "display_data"
        }
      ],
      "source": [
        "his_dict = history.history\n",
        "loss = his_dict['loss']\n",
        "val_loss = his_dict['val_loss'] \n",
        "epochs = range(1, len(loss) + 1)\n",
        "fig = plt.figure(figsize = (10, 5))\n",
        "# 훈련, 검증 손실\n",
        "ax1 = fig.add_subplot(1, 2, 1)\n",
        "ax1.plot(epochs, loss, color = 'blue', label = 'train_loss')\n",
        "ax1.plot(epochs, val_loss, color = 'orange', label = 'val_loss')\n",
        "ax1.set_title('train and val loss')\n",
        "ax1.set_xlabel('epochs')\n",
        "ax1.set_ylabel('loss')\n",
        "ax1.legend()\n",
        "acc = his_dict['acc']\n",
        "val_acc = his_dict['val_acc']\n",
        "# 훈련, 검증 정확도\n",
        "ax2 = fig.add_subplot(1, 2, 2)\n",
        "ax2.plot(epochs, acc, color = 'blue', label = 'train_acc')\n",
        "ax2.plot(epochs, val_acc, color = 'orange', label = 'val_acc')\n",
        "ax2.set_title('train and val acc')\n",
        "ax2.set_xlabel('epochs')\n",
        "ax2.set_ylabel('acc')\n",
        "ax2.legend()\n",
        "plt.show()"
      ]
    },
    {
      "cell_type": "code",
      "execution_count": 15,
      "metadata": {
        "id": "EMteGjnpACcT"
      },
      "outputs": [
        {
          "name": "stdout",
          "output_type": "stream",
          "text": [
            "35/35 [==============================] - 3s 59ms/step - loss: 0.5353 - acc: 0.9169\n",
            "\n",
            " 테스트 정확도: 0.9169\n"
          ]
        }
      ],
      "source": [
        "from tensorflow.keras.models import load_model\n",
        "loaded_model = load_model('data/model/cucumber_best.h5')\n",
        "print(\"\\n 테스트 정확도: %.4f\" % (loaded_model.evaluate(X_val, y_val)[1]))"
      ]
    },
    {
      "cell_type": "code",
      "execution_count": 22,
      "metadata": {},
      "outputs": [],
      "source": [
        "from keras.models import load_model\n",
        "model.save('data/model/cucumber_last.h5')"
      ]
    },
    {
      "cell_type": "code",
      "execution_count": 23,
      "metadata": {},
      "outputs": [
        {
          "name": "stdout",
          "output_type": "stream",
          "text": [
            "35/35 [==============================] - 2s 58ms/step - loss: 0.9415 - acc: 0.7995\n",
            "\n",
            " 테스트 정확도: 0.7995\n"
          ]
        }
      ],
      "source": [
        "from tensorflow.keras.models import load_model\n",
        "loaded_model = load_model('data/model/cucumber_last.h5')\n",
        "print(\"\\n 테스트 정확도: %.4f\" % (loaded_model.evaluate(X_val, y_val)[1]))"
      ]
    }
  ],
  "metadata": {
    "accelerator": "TPU",
    "colab": {
      "collapsed_sections": [],
      "machine_shape": "hm",
      "name": "13_로컬_오이질병구분_서동규.ipynb",
      "provenance": []
    },
    "interpreter": {
      "hash": "b3ba2566441a7c06988d0923437866b63cedc61552a5af99d1f4fb67d367b25f"
    },
    "kernelspec": {
      "display_name": "Python 3.8.11 64-bit ('base': conda)",
      "name": "python3"
    },
    "language_info": {
      "codemirror_mode": {
        "name": "ipython",
        "version": 3
      },
      "file_extension": ".py",
      "mimetype": "text/x-python",
      "name": "python",
      "nbconvert_exporter": "python",
      "pygments_lexer": "ipython3",
      "version": "3.8.11"
    },
    "orig_nbformat": 4
  },
  "nbformat": 4,
  "nbformat_minor": 0
}
