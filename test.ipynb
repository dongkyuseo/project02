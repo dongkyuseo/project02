{
 "cells": [
  {
   "cell_type": "code",
   "execution_count": 54,
   "metadata": {},
   "outputs": [],
   "source": [
    "# 압축파일 폴더별 정리\n",
    "import os\n",
    "import zipfile\n",
    "path = 'D:/Workspace/04.Project/project_02/data/label/Training' # 폴더 경로 설정\n",
    "file_list = os.listdir(path) # 압축파일 이름 리스트화\n",
    "\n",
    "for file_name in file_list[2:]: # 압축파일 리스트화한걸 이름으로 하나씩 넘김\n",
    "      with zipfile.ZipFile(f'{file_name}', 'r') as existing_zip: # 압축파일 경로 설정\n",
    "        foldername = file_name[:-4] # 폴더 이름 추출\n",
    "        os.mkdir(foldername) # 폴더 생성\n",
    "        existing_zip.extractall(foldername) #압축을 풀어 폴더에 넣기"
   ]
  },
  {
   "cell_type": "code",
   "execution_count": 123,
   "metadata": {},
   "outputs": [
    {
     "name": "stderr",
     "output_type": "stream",
     "text": [
      "<ipython-input-123-fd3c92ce8677>:15: TqdmDeprecationWarning: This function will be removed in tqdm==5.0.0\n",
      "Please use `tqdm.notebook.tqdm` instead of `tqdm.tqdm_notebook`\n",
      "  for folder_name in tqdm_notebook(folder_list):\n"
     ]
    },
    {
     "data": {
      "application/vnd.jupyter.widget-view+json": {
       "model_id": "1aa24957b4c341feaf528e445369a420",
       "version_major": 2,
       "version_minor": 0
      },
      "text/plain": [
       "  0%|          | 0/20 [00:00<?, ?it/s]"
      ]
     },
     "metadata": {},
     "output_type": "display_data"
    },
    {
     "name": "stdout",
     "output_type": "stream",
     "text": [
      "[라벨]고추_0.정상\n",
      "[라벨]고추_1.질병\n",
      "[라벨]무_0.정상\n",
      "[라벨]무_1.질병\n",
      "[라벨]배추_0.정상\n",
      "[라벨]배추_1.질병\n",
      "[라벨]애호박_0.정상\n",
      "[라벨]애호박_1.질병\n",
      "[라벨]양배추_0.정상\n",
      "[라벨]양배추_1.질병\n",
      "[라벨]오이_0.정상\n",
      "[라벨]오이_1.질병\n",
      "[라벨]잎마름병(토마토)_0.정상\n"
     ]
    }
   ],
   "source": [
    "# 라벨링 파일 DF 로 변환 작업\n",
    "# 작업 진행률 확인 tqdm_notebook 추가\n",
    "import pandas as pd\n",
    "import json\n",
    "from tqdm import tqdm_notebook \n",
    "path = 'D:/Workspace/04.Project/project_02/data/label/Training' # 폴더 경로 설정\n",
    "folder_list = os.listdir(path) # 폴더 이름 리스트화\n",
    "\n",
    "# 최종 모든 라벨링 데이터 모음 데이터프레임\n",
    "df_raw = pd.DataFrame(index=range(0,), columns=['image', 'date', 'worker', 'height', 'width', 'task', 'type', 'region',\n",
    "       'disease', 'crop', 'area', 'grow', 'risk', 'points', 'name']) # 폴더내용 저장할 빈 데이터프레임 생성\n",
    "\n",
    "\n",
    "       \n",
    "for folder_name in tqdm_notebook(folder_list):\n",
    "    print(folder_name)\n",
    "    file_list = os.listdir(f'{path}/{folder_name}/')\n",
    "    for file_name in file_list:\n",
    "        # 각 폴더별 라벨링을 위한 임시 데이터 프레임\n",
    "        df = pd.DataFrame(index=range(0,), columns=['image', 'date', 'worker', 'height', 'width', 'task', 'type', 'region',\n",
    "       'disease', 'crop', 'area', 'grow', 'risk', 'points']) # 폴더내용 저장할 빈 데이터프레임 생성\n",
    "        with open(f'{path}/{folder_name}/{file_name}', 'r') as f:\n",
    "            json_data = json.load(f)\n",
    "            tmp = pd.DataFrame(json_data)\n",
    "            tmp = tmp[['description', 'annotations']][:15]\n",
    "            tmp['description'][8:15] = tmp['annotations'][8:15] # 데이터프레임 내용 병합\n",
    "            del(tmp['annotations']) # 필요없는 열 삭제\n",
    "            tmp = tmp.T # 전치\n",
    "            df = df.append(tmp) # df에 추가\n",
    "            df['name'] = folder_name[4:] # 구분을 위한 name 열 생성\n",
    "            df_raw = df_raw.append(df) # 최종 데이터 프레임에 추가\n",
    "\n",
    "df_raw"
   ]
  },
  {
   "cell_type": "code",
   "execution_count": 100,
   "metadata": {},
   "outputs": [],
   "source": [
    "# 최종파일 csv 저장\n",
    "df_raw.to_csv('D:/Workspace/04.Project/project_02/data/train_label.csv', index=False)"
   ]
  },
  {
   "cell_type": "code",
   "execution_count": null,
   "metadata": {},
   "outputs": [],
   "source": []
  }
 ],
 "metadata": {
  "interpreter": {
   "hash": "b3ba2566441a7c06988d0923437866b63cedc61552a5af99d1f4fb67d367b25f"
  },
  "kernelspec": {
   "display_name": "Python 3.8.11 64-bit ('base': conda)",
   "name": "python3"
  },
  "language_info": {
   "codemirror_mode": {
    "name": "ipython",
    "version": 3
   },
   "file_extension": ".py",
   "mimetype": "text/x-python",
   "name": "python",
   "nbconvert_exporter": "python",
   "pygments_lexer": "ipython3",
   "version": "3.8.11"
  },
  "orig_nbformat": 4
 },
 "nbformat": 4,
 "nbformat_minor": 2
}
