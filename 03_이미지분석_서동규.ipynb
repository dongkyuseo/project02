{
 "cells": [
  {
   "cell_type": "markdown",
   "metadata": {},
   "source": [
    "# 병충해 분석 AI 프로젝트"
   ]
  },
  {
   "cell_type": "markdown",
   "metadata": {},
   "source": [
    "## 1. 파일읽기"
   ]
  },
  {
   "cell_type": "code",
   "execution_count": 12,
   "metadata": {},
   "outputs": [
    {
     "name": "stdout",
     "output_type": "stream",
     "text": [
      "end\n"
     ]
    }
   ],
   "source": [
    "import numpy as np\n",
    "import pandas as pd\n",
    "import os\n",
    "\n",
    "# 작업경로 설정\n",
    "\n",
    "#-----------기본경로\n",
    "base_dir = 'data/'\n",
    "\n",
    "# 기본경로+폴더명 작성  (폴더명을 os.listdir 로 가져와서 작업해도 됨)\n",
    "train_imgs = os.path.join(base_dir,'img/Training')\n",
    "test_imgs = os.path.join(base_dir,'img/Validation')\n",
    "\n",
    "train_csv = pd.read_csv('data/train_label.csv')\n",
    "val_csv = pd.read_csv('data/validation_label.csv')\n",
    "\n",
    "print('end')"
   ]
  },
  {
   "cell_type": "code",
   "execution_count": 13,
   "metadata": {},
   "outputs": [
    {
     "data": {
      "text/plain": [
       "'data/img/Training'"
      ]
     },
     "execution_count": 13,
     "metadata": {},
     "output_type": "execute_result"
    }
   ],
   "source": [
    "train_imgs"
   ]
  },
  {
   "cell_type": "code",
   "execution_count": 14,
   "metadata": {},
   "outputs": [
    {
     "name": "stdout",
     "output_type": "stream",
     "text": [
      "133636\n"
     ]
    },
    {
     "data": {
      "text/html": [
       "<div>\n",
       "<style scoped>\n",
       "    .dataframe tbody tr th:only-of-type {\n",
       "        vertical-align: middle;\n",
       "    }\n",
       "\n",
       "    .dataframe tbody tr th {\n",
       "        vertical-align: top;\n",
       "    }\n",
       "\n",
       "    .dataframe thead th {\n",
       "        text-align: right;\n",
       "    }\n",
       "</style>\n",
       "<table border=\"1\" class=\"dataframe\">\n",
       "  <thead>\n",
       "    <tr style=\"text-align: right;\">\n",
       "      <th></th>\n",
       "      <th>image</th>\n",
       "      <th>date</th>\n",
       "      <th>worker</th>\n",
       "      <th>height</th>\n",
       "      <th>width</th>\n",
       "      <th>task</th>\n",
       "      <th>type</th>\n",
       "      <th>region</th>\n",
       "      <th>disease</th>\n",
       "      <th>crop</th>\n",
       "      <th>area</th>\n",
       "      <th>grow</th>\n",
       "      <th>risk</th>\n",
       "      <th>points</th>\n",
       "      <th>name</th>\n",
       "    </tr>\n",
       "  </thead>\n",
       "  <tbody>\n",
       "    <tr>\n",
       "      <th>0</th>\n",
       "      <td>V006_79_0_00_01_01_13_0_a01_20201102_0000_S01_...</td>\n",
       "      <td>2020/11/02</td>\n",
       "      <td>NaN</td>\n",
       "      <td>3024</td>\n",
       "      <td>4032</td>\n",
       "      <td>79</td>\n",
       "      <td>0</td>\n",
       "      <td>NaN</td>\n",
       "      <td>0</td>\n",
       "      <td>1</td>\n",
       "      <td>1</td>\n",
       "      <td>13</td>\n",
       "      <td>0</td>\n",
       "      <td>[{'xtl': 1118, 'ytl': 1294, 'xbr': 2900, 'ybr'...</td>\n",
       "      <td>고추_0.정상</td>\n",
       "    </tr>\n",
       "    <tr>\n",
       "      <th>1</th>\n",
       "      <td>V006_79_0_00_01_01_13_0_a01_20201102_0002_S01_...</td>\n",
       "      <td>2020/11/02</td>\n",
       "      <td>NaN</td>\n",
       "      <td>3024</td>\n",
       "      <td>4032</td>\n",
       "      <td>79</td>\n",
       "      <td>0</td>\n",
       "      <td>NaN</td>\n",
       "      <td>0</td>\n",
       "      <td>1</td>\n",
       "      <td>1</td>\n",
       "      <td>13</td>\n",
       "      <td>0</td>\n",
       "      <td>[{'xtl': 1033, 'ytl': 1533, 'xbr': 2829, 'ybr'...</td>\n",
       "      <td>고추_0.정상</td>\n",
       "    </tr>\n",
       "  </tbody>\n",
       "</table>\n",
       "</div>"
      ],
      "text/plain": [
       "                                               image        date  worker  \\\n",
       "0  V006_79_0_00_01_01_13_0_a01_20201102_0000_S01_...  2020/11/02     NaN   \n",
       "1  V006_79_0_00_01_01_13_0_a01_20201102_0002_S01_...  2020/11/02     NaN   \n",
       "\n",
       "   height  width  task  type  region  disease  crop  area  grow  risk  \\\n",
       "0    3024   4032    79     0     NaN        0     1     1    13     0   \n",
       "1    3024   4032    79     0     NaN        0     1     1    13     0   \n",
       "\n",
       "                                              points     name  \n",
       "0  [{'xtl': 1118, 'ytl': 1294, 'xbr': 2900, 'ybr'...  고추_0.정상  \n",
       "1  [{'xtl': 1033, 'ytl': 1533, 'xbr': 2829, 'ybr'...  고추_0.정상  "
      ]
     },
     "execution_count": 14,
     "metadata": {},
     "output_type": "execute_result"
    }
   ],
   "source": [
    "print(len(train_csv))\n",
    "\n",
    "train_csv.head(2)"
   ]
  },
  {
   "cell_type": "code",
   "execution_count": 15,
   "metadata": {},
   "outputs": [
    {
     "name": "stdout",
     "output_type": "stream",
     "text": [
      "16701\n"
     ]
    },
    {
     "data": {
      "text/html": [
       "<div>\n",
       "<style scoped>\n",
       "    .dataframe tbody tr th:only-of-type {\n",
       "        vertical-align: middle;\n",
       "    }\n",
       "\n",
       "    .dataframe tbody tr th {\n",
       "        vertical-align: top;\n",
       "    }\n",
       "\n",
       "    .dataframe thead th {\n",
       "        text-align: right;\n",
       "    }\n",
       "</style>\n",
       "<table border=\"1\" class=\"dataframe\">\n",
       "  <thead>\n",
       "    <tr style=\"text-align: right;\">\n",
       "      <th></th>\n",
       "      <th>image</th>\n",
       "      <th>date</th>\n",
       "      <th>worker</th>\n",
       "      <th>height</th>\n",
       "      <th>width</th>\n",
       "      <th>task</th>\n",
       "      <th>type</th>\n",
       "      <th>region</th>\n",
       "      <th>disease</th>\n",
       "      <th>crop</th>\n",
       "      <th>area</th>\n",
       "      <th>grow</th>\n",
       "      <th>risk</th>\n",
       "      <th>points</th>\n",
       "      <th>name</th>\n",
       "    </tr>\n",
       "  </thead>\n",
       "  <tbody>\n",
       "    <tr>\n",
       "      <th>0</th>\n",
       "      <td>V006_79_0_00_01_01_13_0_a01_20201103_0000_S01_...</td>\n",
       "      <td>2020/11/03</td>\n",
       "      <td>NaN</td>\n",
       "      <td>3024</td>\n",
       "      <td>4032</td>\n",
       "      <td>79</td>\n",
       "      <td>0</td>\n",
       "      <td>NaN</td>\n",
       "      <td>0</td>\n",
       "      <td>1</td>\n",
       "      <td>1</td>\n",
       "      <td>13</td>\n",
       "      <td>0</td>\n",
       "      <td>[{'xtl': 502, 'ytl': 1261, 'xbr': 3781, 'ybr':...</td>\n",
       "      <td>고추_0.정상</td>\n",
       "    </tr>\n",
       "    <tr>\n",
       "      <th>1</th>\n",
       "      <td>V006_79_0_00_01_01_13_0_a01_20201103_0002_S01_...</td>\n",
       "      <td>2020/11/03</td>\n",
       "      <td>NaN</td>\n",
       "      <td>3024</td>\n",
       "      <td>4032</td>\n",
       "      <td>79</td>\n",
       "      <td>0</td>\n",
       "      <td>NaN</td>\n",
       "      <td>0</td>\n",
       "      <td>1</td>\n",
       "      <td>1</td>\n",
       "      <td>13</td>\n",
       "      <td>0</td>\n",
       "      <td>[{'xtl': 817, 'ytl': 1564, 'xbr': 3693, 'ybr':...</td>\n",
       "      <td>고추_0.정상</td>\n",
       "    </tr>\n",
       "  </tbody>\n",
       "</table>\n",
       "</div>"
      ],
      "text/plain": [
       "                                               image        date  worker  \\\n",
       "0  V006_79_0_00_01_01_13_0_a01_20201103_0000_S01_...  2020/11/03     NaN   \n",
       "1  V006_79_0_00_01_01_13_0_a01_20201103_0002_S01_...  2020/11/03     NaN   \n",
       "\n",
       "   height  width  task  type  region  disease  crop  area  grow  risk  \\\n",
       "0    3024   4032    79     0     NaN        0     1     1    13     0   \n",
       "1    3024   4032    79     0     NaN        0     1     1    13     0   \n",
       "\n",
       "                                              points     name  \n",
       "0  [{'xtl': 502, 'ytl': 1261, 'xbr': 3781, 'ybr':...  고추_0.정상  \n",
       "1  [{'xtl': 817, 'ytl': 1564, 'xbr': 3693, 'ybr':...  고추_0.정상  "
      ]
     },
     "execution_count": 15,
     "metadata": {},
     "output_type": "execute_result"
    }
   ],
   "source": [
    "print(len(val_csv))\n",
    "val_csv.head(2)"
   ]
  },
  {
   "cell_type": "code",
   "execution_count": 16,
   "metadata": {},
   "outputs": [],
   "source": [
    "train_imgs_list = os.listdir(train_imgs)\n",
    "test_imgs_list = os.listdir(test_imgs)"
   ]
  },
  {
   "cell_type": "code",
   "execution_count": 17,
   "metadata": {},
   "outputs": [
    {
     "data": {
      "text/plain": [
       "['[원천]고추_0.정상',\n",
       " '[원천]고추_1.질병',\n",
       " '[원천]무_0.정상',\n",
       " '[원천]무_1.질병',\n",
       " '[원천]배추_0.정상',\n",
       " '[원천]배추_1.질병',\n",
       " '[원천]애호박_0.정상',\n",
       " '[원천]애호박_1.질병',\n",
       " '[원천]양배추_0.정상',\n",
       " '[원천]양배추_1.질병',\n",
       " '[원천]오이_0.정상',\n",
       " '[원천]오이_1.질병',\n",
       " '[원천]잎마름병(토마토)_0.정상',\n",
       " '[원천]잎마름병(토마토)_1.질병',\n",
       " '[원천]콩_0.정상',\n",
       " '[원천]콩_1.질병',\n",
       " '[원천]파_0.정상',\n",
       " '[원천]파_1.질병',\n",
       " '[원천]호박_0.정상',\n",
       " '[원천]호박_1.질병']"
      ]
     },
     "execution_count": 17,
     "metadata": {},
     "output_type": "execute_result"
    }
   ],
   "source": [
    "train_imgs_list"
   ]
  },
  {
   "cell_type": "code",
   "execution_count": 18,
   "metadata": {},
   "outputs": [
    {
     "name": "stdout",
     "output_type": "stream",
     "text": [
      "[원천]고추_0.정상 8575\n",
      "[원천]고추_1.질병 1888\n"
     ]
    },
    {
     "data": {
      "text/plain": [
       "10463"
      ]
     },
     "execution_count": 18,
     "metadata": {},
     "output_type": "execute_result"
    }
   ],
   "source": [
    "train_imgs_fnames = []\n",
    "\n",
    "for img in train_imgs_list[:2]:\n",
    "    \n",
    "    tmp = []\n",
    "    tmp = os.listdir(f'{train_imgs}/{img}')\n",
    "    tmp = tmp #[:1000]\n",
    "    print(img, len(tmp))\n",
    "    train_imgs_fnames.extend(tmp)\n",
    "\n",
    "len(train_imgs_fnames)\n"
   ]
  },
  {
   "cell_type": "code",
   "execution_count": 19,
   "metadata": {},
   "outputs": [
    {
     "name": "stdout",
     "output_type": "stream",
     "text": [
      "[원천]고추_0.정상 1110\n",
      "[원천]고추_1.질병 229\n"
     ]
    },
    {
     "data": {
      "text/plain": [
       "1339"
      ]
     },
     "execution_count": 19,
     "metadata": {},
     "output_type": "execute_result"
    }
   ],
   "source": [
    "test_imgs_fnames = []\n",
    "\n",
    "for img in test_imgs_list[:2]:\n",
    "    tmp = []\n",
    "    tmp = os.listdir(f'{test_imgs}/{img}')\n",
    "    tmp = tmp#[:1000]\n",
    "    print(img, len(tmp))\n",
    "    test_imgs_fnames.extend(tmp)\n",
    "\n",
    "len(test_imgs_fnames)"
   ]
  },
  {
   "cell_type": "code",
   "execution_count": 20,
   "metadata": {},
   "outputs": [
    {
     "name": "stdout",
     "output_type": "stream",
     "text": [
      "훈련이미지 갯수: 10463\n",
      "테스트이미지 갯수: 1339\n"
     ]
    }
   ],
   "source": [
    "print('훈련이미지 갯수:',  len(train_imgs_fnames))\n",
    "print('테스트이미지 갯수:', len(test_imgs_fnames))"
   ]
  },
  {
   "cell_type": "code",
   "execution_count": 21,
   "metadata": {},
   "outputs": [
    {
     "data": {
      "image/png": "[encoded data removed]",
      "text/plain": [
       "<PIL.Image.Image image mode=RGB size=255x255 at 0x20D08FEF190>"
      ]
     },
     "execution_count": 21,
     "metadata": {},
     "output_type": "execute_result"
    }
   ],
   "source": [
    " #샘플 사진 확인\n",
    "sample = f'{train_imgs}/{train_imgs_list[0]}/{train_imgs_fnames[0]}'\n",
    "from PIL import Image\n",
    "sample_img = Image.open(sample)\n",
    "sample_img = sample_img.resize((255,255))\n",
    "sample_img"
   ]
  },
  {
   "cell_type": "markdown",
   "metadata": {},
   "source": [
    "## csv 필요한 정보로 축약"
   ]
  },
  {
   "cell_type": "code",
   "execution_count": 26,
   "metadata": {},
   "outputs": [
    {
     "data": {
      "text/html": [
       "<div>\n",
       "<style scoped>\n",
       "    .dataframe tbody tr th:only-of-type {\n",
       "        vertical-align: middle;\n",
       "    }\n",
       "\n",
       "    .dataframe tbody tr th {\n",
       "        vertical-align: top;\n",
       "    }\n",
       "\n",
       "    .dataframe thead th {\n",
       "        text-align: right;\n",
       "    }\n",
       "</style>\n",
       "<table border=\"1\" class=\"dataframe\">\n",
       "  <thead>\n",
       "    <tr style=\"text-align: right;\">\n",
       "      <th></th>\n",
       "      <th>image</th>\n",
       "      <th>disease</th>\n",
       "      <th>crop</th>\n",
       "      <th>grow</th>\n",
       "      <th>risk</th>\n",
       "      <th>points</th>\n",
       "      <th>name</th>\n",
       "    </tr>\n",
       "  </thead>\n",
       "  <tbody>\n",
       "    <tr>\n",
       "      <th>8573</th>\n",
       "      <td>V006_79_0_00_01_05_13_0_c32_20201130_0114_S01_...</td>\n",
       "      <td>0</td>\n",
       "      <td>1</td>\n",
       "      <td>13</td>\n",
       "      <td>0</td>\n",
       "      <td>[{'xtl': 0, 'ytl': 0, 'xbr': 2782, 'ybr': 3024}]</td>\n",
       "      <td>고추_0.정상</td>\n",
       "    </tr>\n",
       "    <tr>\n",
       "      <th>8574</th>\n",
       "      <td>V006_79_0_00_01_05_13_0_c32_20201130_0115_S01_...</td>\n",
       "      <td>0</td>\n",
       "      <td>1</td>\n",
       "      <td>13</td>\n",
       "      <td>0</td>\n",
       "      <td>[{'xtl': 0, 'ytl': 0, 'xbr': 2536, 'ybr': 1988}]</td>\n",
       "      <td>고추_0.정상</td>\n",
       "    </tr>\n",
       "  </tbody>\n",
       "</table>\n",
       "</div>"
      ],
      "text/plain": [
       "                                                  image  disease  crop  grow  \\\n",
       "8573  V006_79_0_00_01_05_13_0_c32_20201130_0114_S01_...        0     1    13   \n",
       "8574  V006_79_0_00_01_05_13_0_c32_20201130_0115_S01_...        0     1    13   \n",
       "\n",
       "      risk                                            points     name  \n",
       "8573     0  [{'xtl': 0, 'ytl': 0, 'xbr': 2782, 'ybr': 3024}]  고추_0.정상  \n",
       "8574     0  [{'xtl': 0, 'ytl': 0, 'xbr': 2536, 'ybr': 1988}]  고추_0.정상  "
      ]
     },
     "execution_count": 26,
     "metadata": {},
     "output_type": "execute_result"
    }
   ],
   "source": [
    "train_pepper_0 = train_csv[:8575]\n",
    "train_pepper_0 = train_pepper_0[['image', 'disease', 'crop', 'grow', 'risk', 'points', 'name']]\n",
    "train_pepper_0.tail(2)"
   ]
  },
  {
   "cell_type": "code",
   "execution_count": 27,
   "metadata": {},
   "outputs": [
    {
     "data": {
      "text/html": [
       "<div>\n",
       "<style scoped>\n",
       "    .dataframe tbody tr th:only-of-type {\n",
       "        vertical-align: middle;\n",
       "    }\n",
       "\n",
       "    .dataframe tbody tr th {\n",
       "        vertical-align: top;\n",
       "    }\n",
       "\n",
       "    .dataframe thead th {\n",
       "        text-align: right;\n",
       "    }\n",
       "</style>\n",
       "<table border=\"1\" class=\"dataframe\">\n",
       "  <thead>\n",
       "    <tr style=\"text-align: right;\">\n",
       "      <th></th>\n",
       "      <th>image</th>\n",
       "      <th>disease</th>\n",
       "      <th>crop</th>\n",
       "      <th>grow</th>\n",
       "      <th>risk</th>\n",
       "      <th>points</th>\n",
       "      <th>name</th>\n",
       "    </tr>\n",
       "  </thead>\n",
       "  <tbody>\n",
       "    <tr>\n",
       "      <th>10461</th>\n",
       "      <td>V006_79_1_02_01_03_13_3_9315z_20201126_7.JPG</td>\n",
       "      <td>2</td>\n",
       "      <td>1</td>\n",
       "      <td>13</td>\n",
       "      <td>3</td>\n",
       "      <td>[{'xtl': 406, 'ytl': 452, 'xbr': 5140, 'ybr': ...</td>\n",
       "      <td>고추_1.질병</td>\n",
       "    </tr>\n",
       "    <tr>\n",
       "      <th>10462</th>\n",
       "      <td>V006_79_1_02_01_03_13_3_9315z_20201126_9.JPG</td>\n",
       "      <td>2</td>\n",
       "      <td>1</td>\n",
       "      <td>13</td>\n",
       "      <td>3</td>\n",
       "      <td>[{'xtl': 0, 'ytl': 295, 'xbr': 3634, 'ybr': 26...</td>\n",
       "      <td>고추_1.질병</td>\n",
       "    </tr>\n",
       "  </tbody>\n",
       "</table>\n",
       "</div>"
      ],
      "text/plain": [
       "                                              image  disease  crop  grow  \\\n",
       "10461  V006_79_1_02_01_03_13_3_9315z_20201126_7.JPG        2     1    13   \n",
       "10462  V006_79_1_02_01_03_13_3_9315z_20201126_9.JPG        2     1    13   \n",
       "\n",
       "       risk                                             points     name  \n",
       "10461     3  [{'xtl': 406, 'ytl': 452, 'xbr': 5140, 'ybr': ...  고추_1.질병  \n",
       "10462     3  [{'xtl': 0, 'ytl': 295, 'xbr': 3634, 'ybr': 26...  고추_1.질병  "
      ]
     },
     "execution_count": 27,
     "metadata": {},
     "output_type": "execute_result"
    }
   ],
   "source": [
    "train_pepper_1 = train_csv[8575:10463]\n",
    "train_pepper_1 = train_pepper_1[['image', 'disease', 'crop', 'grow', 'risk', 'points', 'name']]\n",
    "train_pepper_1.tail(2)"
   ]
  },
  {
   "cell_type": "code",
   "execution_count": 28,
   "metadata": {},
   "outputs": [
    {
     "data": {
      "text/html": [
       "<div>\n",
       "<style scoped>\n",
       "    .dataframe tbody tr th:only-of-type {\n",
       "        vertical-align: middle;\n",
       "    }\n",
       "\n",
       "    .dataframe tbody tr th {\n",
       "        vertical-align: top;\n",
       "    }\n",
       "\n",
       "    .dataframe thead th {\n",
       "        text-align: right;\n",
       "    }\n",
       "</style>\n",
       "<table border=\"1\" class=\"dataframe\">\n",
       "  <thead>\n",
       "    <tr style=\"text-align: right;\">\n",
       "      <th></th>\n",
       "      <th>image</th>\n",
       "      <th>disease</th>\n",
       "      <th>crop</th>\n",
       "      <th>grow</th>\n",
       "      <th>risk</th>\n",
       "      <th>points</th>\n",
       "      <th>name</th>\n",
       "    </tr>\n",
       "  </thead>\n",
       "  <tbody>\n",
       "    <tr>\n",
       "      <th>1108</th>\n",
       "      <td>V006_79_0_00_01_05_13_0_c32_20201130_0098_S01_...</td>\n",
       "      <td>0</td>\n",
       "      <td>1</td>\n",
       "      <td>13</td>\n",
       "      <td>0</td>\n",
       "      <td>[{'xtl': 148, 'ytl': 0, 'xbr': 3024, 'ybr': 25...</td>\n",
       "      <td>고추_0.정상</td>\n",
       "    </tr>\n",
       "    <tr>\n",
       "      <th>1109</th>\n",
       "      <td>V006_79_0_00_01_05_13_0_c32_20201130_0101_S01_...</td>\n",
       "      <td>0</td>\n",
       "      <td>1</td>\n",
       "      <td>13</td>\n",
       "      <td>0</td>\n",
       "      <td>[{'xtl': 0, 'ytl': 590, 'xbr': 3024, 'ybr': 39...</td>\n",
       "      <td>고추_0.정상</td>\n",
       "    </tr>\n",
       "  </tbody>\n",
       "</table>\n",
       "</div>"
      ],
      "text/plain": [
       "                                                  image  disease  crop  grow  \\\n",
       "1108  V006_79_0_00_01_05_13_0_c32_20201130_0098_S01_...        0     1    13   \n",
       "1109  V006_79_0_00_01_05_13_0_c32_20201130_0101_S01_...        0     1    13   \n",
       "\n",
       "      risk                                             points     name  \n",
       "1108     0  [{'xtl': 148, 'ytl': 0, 'xbr': 3024, 'ybr': 25...  고추_0.정상  \n",
       "1109     0  [{'xtl': 0, 'ytl': 590, 'xbr': 3024, 'ybr': 39...  고추_0.정상  "
      ]
     },
     "execution_count": 28,
     "metadata": {},
     "output_type": "execute_result"
    }
   ],
   "source": [
    "val_pepper_0 = val_csv[:1110]\n",
    "val_pepper_0 = val_pepper_0[['image', 'disease', 'crop', 'grow', 'risk', 'points', 'name']]\n",
    "val_pepper_0.tail(2)"
   ]
  },
  {
   "cell_type": "code",
   "execution_count": 29,
   "metadata": {},
   "outputs": [
    {
     "data": {
      "text/html": [
       "<div>\n",
       "<style scoped>\n",
       "    .dataframe tbody tr th:only-of-type {\n",
       "        vertical-align: middle;\n",
       "    }\n",
       "\n",
       "    .dataframe tbody tr th {\n",
       "        vertical-align: top;\n",
       "    }\n",
       "\n",
       "    .dataframe thead th {\n",
       "        text-align: right;\n",
       "    }\n",
       "</style>\n",
       "<table border=\"1\" class=\"dataframe\">\n",
       "  <thead>\n",
       "    <tr style=\"text-align: right;\">\n",
       "      <th></th>\n",
       "      <th>image</th>\n",
       "      <th>disease</th>\n",
       "      <th>crop</th>\n",
       "      <th>grow</th>\n",
       "      <th>risk</th>\n",
       "      <th>points</th>\n",
       "      <th>name</th>\n",
       "    </tr>\n",
       "  </thead>\n",
       "  <tbody>\n",
       "    <tr>\n",
       "      <th>1110</th>\n",
       "      <td>V006_79_1_01_01_01_13_1_0424z_20200929_6.JPG</td>\n",
       "      <td>1</td>\n",
       "      <td>1</td>\n",
       "      <td>13</td>\n",
       "      <td>1</td>\n",
       "      <td>[{'xtl': 2370, 'ytl': 1314, 'xbr': 4765, 'ybr'...</td>\n",
       "      <td>고추_1.질병</td>\n",
       "    </tr>\n",
       "    <tr>\n",
       "      <th>1111</th>\n",
       "      <td>V006_79_1_01_01_01_13_1_0424z_20201023_11.JPG</td>\n",
       "      <td>1</td>\n",
       "      <td>1</td>\n",
       "      <td>13</td>\n",
       "      <td>1</td>\n",
       "      <td>[{'xtl': 2890, 'ytl': 308, 'xbr': 3820, 'ybr':...</td>\n",
       "      <td>고추_1.질병</td>\n",
       "    </tr>\n",
       "  </tbody>\n",
       "</table>\n",
       "</div>"
      ],
      "text/plain": [
       "                                              image  disease  crop  grow  \\\n",
       "1110   V006_79_1_01_01_01_13_1_0424z_20200929_6.JPG        1     1    13   \n",
       "1111  V006_79_1_01_01_01_13_1_0424z_20201023_11.JPG        1     1    13   \n",
       "\n",
       "      risk                                             points     name  \n",
       "1110     1  [{'xtl': 2370, 'ytl': 1314, 'xbr': 4765, 'ybr'...  고추_1.질병  \n",
       "1111     1  [{'xtl': 2890, 'ytl': 308, 'xbr': 3820, 'ybr':...  고추_1.질병  "
      ]
     },
     "execution_count": 29,
     "metadata": {},
     "output_type": "execute_result"
    }
   ],
   "source": [
    "val_pepper_1 = val_csv[1110:1339]\n",
    "val_pepper_1 = val_pepper_1[['image', 'disease', 'crop', 'grow', 'risk', 'points', 'name']]\n",
    "val_pepper_1.head(2)"
   ]
  },
  {
   "cell_type": "code",
   "execution_count": 30,
   "metadata": {},
   "outputs": [
    {
     "name": "stdout",
     "output_type": "stream",
     "text": [
      "[0]\n",
      "[1 2]\n",
      "[0]\n",
      "[1 2]\n"
     ]
    }
   ],
   "source": [
    "print(train_pepper_0['disease'].unique())\n",
    "print(train_pepper_1['disease'].unique())\n",
    "print(val_pepper_0['disease'].unique())\n",
    "print(val_pepper_1['disease'].unique())\n"
   ]
  },
  {
   "cell_type": "markdown",
   "metadata": {},
   "source": [
    "## 이미지 사이즈 조절\n",
    "- 용량이 너무커 작업속도가 늦어져 사이즈를 미리 조정해서 저장하는 작업을 진행함"
   ]
  },
  {
   "cell_type": "code",
   "execution_count": null,
   "metadata": {},
   "outputs": [],
   "source": [
    "# train 고추 정상 파일 사이즈 조절 작업\n",
    "import os\n",
    "import glob\n",
    "from PIL import Image\n",
    "# 한글폴더로 할경우 경로를 못읽어 강제로 설정\n",
    "os.chdir('D:/Workspace/04.Project/project_02/data/img/Training/[원천]고추_0.정상')\n",
    "\n",
    "files = glob.glob('*')\n",
    "for f in files:\n",
    "    img = Image.open(f)\n",
    "    img_resize = img.resize((255, 255)) # 이미지 리사이즈\n",
    "    img_resize.save(f) #이미지 경로 설정후 저장"
   ]
  },
  {
   "cell_type": "code",
   "execution_count": 47,
   "metadata": {},
   "outputs": [],
   "source": [
    "# train 고추 질병 파일 사이즈 조절 작업\n",
    "import os\n",
    "import glob\n",
    "from PIL import Image\n",
    "# 한글폴더로 할경우 경로를 못읽어 강제로 설정\n",
    "os.chdir('D:/Workspace/04.Project/project_02/data/img/Training/[원천]고추_1.질병')\n",
    "files = glob.glob('*')\n",
    "len(files)\n",
    "for f in files:\n",
    "    img = Image.open(f)\n",
    "    img_resize = img.resize((255, 255)) # 이미지 리사이즈\n",
    "    img_resize.save(f) #이미지 경로 설정후 저장"
   ]
  },
  {
   "cell_type": "code",
   "execution_count": 50,
   "metadata": {},
   "outputs": [],
   "source": [
    "# validation 고추 정상 파일 사이즈 조절작업\n",
    "import os\n",
    "import glob\n",
    "from PIL import Image\n",
    "# 한글폴더로 할경우 경로를 못읽어 강제로 설정\n",
    "os.chdir('D:/Workspace/04.Project/project_02/data/img/Validation/[원천]고추_0.정상')\n",
    "\n",
    "files = glob.glob('*')\n",
    "len(files)\n",
    "for f in files:\n",
    "    img = Image.open(f)\n",
    "    img_resize = img.resize((255, 255)) # 이미지 리사이즈\n",
    "    img_resize.save(f) #이미지 경로 설정후 저장"
   ]
  },
  {
   "cell_type": "code",
   "execution_count": 51,
   "metadata": {},
   "outputs": [],
   "source": [
    "# validation 고추 질병 파일 사이즈 작업\n",
    "import os\n",
    "import glob\n",
    "from PIL import Image\n",
    "# 한글폴더로 할경우 경로를 못읽어 강제로 설정\n",
    "os.chdir('D:/Workspace/04.Project/project_02/data/img/Validation/[원천]고추_1.질병')\n",
    "\n",
    "files = glob.glob('*')\n",
    "len(files)\n",
    "for f in files:\n",
    "    img = Image.open(f)\n",
    "    img_resize = img.resize((255, 255)) # 이미지 리사이즈\n",
    "    img_resize.save(f) #이미지 경로 설정후 저장"
   ]
  },
  {
   "cell_type": "code",
   "execution_count": null,
   "metadata": {},
   "outputs": [],
   "source": [
    "# 질병코드별 폴더 만들어서 이미지 옴기기 위한 작업\n",
    "#  폴더에 train과 validation폴더를 제작하고\n",
    "# 각각 폴더에 code번호대로 폴더를 제작함\n",
    "import os\n",
    "os.makedirs('data/project/pepper/train')\n",
    "os.makedirs('data/project/pepper/validation')\n",
    "\n",
    "# 질병 코드 폴더 생성\n",
    "for i in train_pepper_0['disease'].unique():\n",
    "  os.mkdir(f'data/project/pepper/train/'+ str(i))\n",
    "  os.mkdir(f'data/project/pepper/validation/'+ str(i))\n",
    "# 질병 코드 폴더 생성\n",
    "for i in train_pepper_1['disease'].unique():\n",
    "    os.mkdir(f'data/project/pepper/train/'+ str(i))\n",
    "    os.mkdir(f'data/project/pepper/validation/'+ str(i))"
   ]
  },
  {
   "cell_type": "code",
   "execution_count": 58,
   "metadata": {},
   "outputs": [],
   "source": [
    "os.chdir('D:/Workspace/04.Project/project_02')"
   ]
  },
  {
   "cell_type": "markdown",
   "metadata": {},
   "source": [
    "# 작물코드, 질병코드 별 폴더 구분"
   ]
  },
  {
   "cell_type": "code",
   "execution_count": 59,
   "metadata": {},
   "outputs": [],
   "source": [
    "# train 정상 폴더 이동\n",
    "import shutil\n",
    "# 이미지와 질병코드로 구분하여 옴기기전(before) 좌표와 옴긴후(target) 좌표를 설정해 질병코드(disease)에 맞게 이동\n",
    "for item,category in zip(train_pepper_0['image'], train_pepper_0['disease']):\n",
    "  source= item\n",
    "  before= 'data/img/Training/[원천]고추_0.정상/' + item\n",
    "  target='data/project/1/train/' + str(category) + '/'+item\n",
    "\n",
    "  #print(source,target)\n",
    "  try:\n",
    "    shutil.copyfile(before,target)\n",
    "  except:\n",
    "    print('error==>'+source )\n"
   ]
  },
  {
   "cell_type": "code",
   "execution_count": 60,
   "metadata": {},
   "outputs": [],
   "source": [
    "# train 질병 폴더 이동\n",
    "import shutil\n",
    "\n",
    "for item,category in zip(train_pepper_1['image'], train_pepper_1['disease']):\n",
    "  source= item\n",
    "  before= 'data/img/Training/[원천]고추_1.질병/' + item\n",
    "  target='data/project/1/train/' + str(category) + '/'+item\n",
    "\n",
    "  #print(source,target)\n",
    "  try:\n",
    "    shutil.copyfile(before,target)\n",
    "  except:\n",
    "    print('error==>'+source )\n"
   ]
  },
  {
   "cell_type": "code",
   "execution_count": 61,
   "metadata": {},
   "outputs": [],
   "source": [
    "# validation 정상 폴더이동\n",
    "import shutil\n",
    "# 이미지와 질병코드로 구분하여 옴기기전(before) 좌표와 옴긴후(target) 좌표를 설정해 질병코드(disease)에 맞게 이동\n",
    "for item,category in zip(val_pepper_0['image'], val_pepper_0['disease']):\n",
    "  source= item\n",
    "  before= 'data/img/validation/[원천]고추_0.정상/' + item\n",
    "  target='data/project/1/validation/' + str(category) + '/'+item\n",
    "\n",
    "  #print(source,target)\n",
    "  try:\n",
    "    shutil.copyfile(before,target)\n",
    "  except:\n",
    "    print('error==>'+source )\n"
   ]
  },
  {
   "cell_type": "code",
   "execution_count": 62,
   "metadata": {},
   "outputs": [],
   "source": [
    "# validation 질병 폴더이동\n",
    "import shutil\n",
    "# 이미지와 질병코드로 구분하여 옴기기전(before) 좌표와 옴긴후(target) 좌표를 설정해 질병코드(disease)에 맞게 이동\n",
    "for item,category in zip(val_pepper_1['image'], val_pepper_1['disease']):\n",
    "  source= item\n",
    "  before= 'data/img/validation/[원천]고추_1.질병/' + item\n",
    "  target='data/project/1/validation/' + str(category) + '/'+item\n",
    "\n",
    "  #print(source,target)\n",
    "  try:\n",
    "    shutil.copyfile(before,target)\n",
    "  except:\n",
    "    print('error==>'+source )\n"
   ]
  },
  {
   "cell_type": "markdown",
   "metadata": {},
   "source": [
    "# x y 데이터셋 제작\n",
    "- x: train 이미지\n",
    "- y: train disease 번호"
   ]
  },
  {
   "cell_type": "code",
   "execution_count": 86,
   "metadata": {},
   "outputs": [],
   "source": [
    "# 폴더 리스트 가져오기\n",
    "from glob import glob\n",
    "from PIL import Image\n",
    "import numpy as np\n",
    "\n",
    "path = 'data/project/1/train/'\n",
    "X=[]\n",
    "for x in range(3):\n",
    "    imgList = os.listdir(path + str(x))\n",
    "\n",
    "\n",
    "    for item in imgList:\n",
    "        img = Image.open(path + str(x)+'/' + item)\n",
    "        img = img.resize((255, 255)) ## 추가됨\n",
    "        imgarr = np.array(img)/255 # 스케일링\n",
    "        X.append(imgarr)"
   ]
  },
  {
   "cell_type": "code",
   "execution_count": 87,
   "metadata": {},
   "outputs": [
    {
     "name": "stdout",
     "output_type": "stream",
     "text": [
      "(10463, 255, 255, 3)\n"
     ]
    }
   ],
   "source": [
    "print(np.shape(X))"
   ]
  },
  {
   "cell_type": "code",
   "execution_count": 90,
   "metadata": {},
   "outputs": [
    {
     "data": {
      "text/html": [
       "<div>\n",
       "<style scoped>\n",
       "    .dataframe tbody tr th:only-of-type {\n",
       "        vertical-align: middle;\n",
       "    }\n",
       "\n",
       "    .dataframe tbody tr th {\n",
       "        vertical-align: top;\n",
       "    }\n",
       "\n",
       "    .dataframe thead th {\n",
       "        text-align: right;\n",
       "    }\n",
       "</style>\n",
       "<table border=\"1\" class=\"dataframe\">\n",
       "  <thead>\n",
       "    <tr style=\"text-align: right;\">\n",
       "      <th></th>\n",
       "      <th>image</th>\n",
       "      <th>disease</th>\n",
       "      <th>crop</th>\n",
       "      <th>grow</th>\n",
       "      <th>risk</th>\n",
       "      <th>points</th>\n",
       "      <th>name</th>\n",
       "    </tr>\n",
       "  </thead>\n",
       "  <tbody>\n",
       "    <tr>\n",
       "      <th>0</th>\n",
       "      <td>V006_79_0_00_01_01_13_0_a01_20201102_0000_S01_...</td>\n",
       "      <td>0</td>\n",
       "      <td>1</td>\n",
       "      <td>13</td>\n",
       "      <td>0</td>\n",
       "      <td>[{'xtl': 1118, 'ytl': 1294, 'xbr': 2900, 'ybr'...</td>\n",
       "      <td>고추_0.정상</td>\n",
       "    </tr>\n",
       "    <tr>\n",
       "      <th>1</th>\n",
       "      <td>V006_79_0_00_01_01_13_0_a01_20201102_0002_S01_...</td>\n",
       "      <td>0</td>\n",
       "      <td>1</td>\n",
       "      <td>13</td>\n",
       "      <td>0</td>\n",
       "      <td>[{'xtl': 1033, 'ytl': 1533, 'xbr': 2829, 'ybr'...</td>\n",
       "      <td>고추_0.정상</td>\n",
       "    </tr>\n",
       "    <tr>\n",
       "      <th>2</th>\n",
       "      <td>V006_79_0_00_01_01_13_0_a01_20201103_0001_S01_...</td>\n",
       "      <td>0</td>\n",
       "      <td>1</td>\n",
       "      <td>13</td>\n",
       "      <td>0</td>\n",
       "      <td>[{'xtl': 484, 'ytl': 1227, 'xbr': 3879, 'ybr':...</td>\n",
       "      <td>고추_0.정상</td>\n",
       "    </tr>\n",
       "    <tr>\n",
       "      <th>3</th>\n",
       "      <td>V006_79_0_00_01_01_13_0_a01_20201103_0003_S01_...</td>\n",
       "      <td>0</td>\n",
       "      <td>1</td>\n",
       "      <td>13</td>\n",
       "      <td>0</td>\n",
       "      <td>[{'xtl': 1241, 'ytl': 103, 'xbr': 2344, 'ybr':...</td>\n",
       "      <td>고추_0.정상</td>\n",
       "    </tr>\n",
       "    <tr>\n",
       "      <th>4</th>\n",
       "      <td>V006_79_0_00_01_01_13_0_a05_20201111_0000_S01_...</td>\n",
       "      <td>0</td>\n",
       "      <td>1</td>\n",
       "      <td>13</td>\n",
       "      <td>0</td>\n",
       "      <td>[{'xtl': 1382, 'ytl': 978, 'xbr': 3226, 'ybr':...</td>\n",
       "      <td>고추_0.정상</td>\n",
       "    </tr>\n",
       "    <tr>\n",
       "      <th>...</th>\n",
       "      <td>...</td>\n",
       "      <td>...</td>\n",
       "      <td>...</td>\n",
       "      <td>...</td>\n",
       "      <td>...</td>\n",
       "      <td>...</td>\n",
       "      <td>...</td>\n",
       "    </tr>\n",
       "    <tr>\n",
       "      <th>10458</th>\n",
       "      <td>V006_79_1_02_01_03_13_3_9315z_20201126_3.JPG</td>\n",
       "      <td>2</td>\n",
       "      <td>1</td>\n",
       "      <td>13</td>\n",
       "      <td>3</td>\n",
       "      <td>[{'xtl': 598, 'ytl': 469, 'xbr': 5168, 'ybr': ...</td>\n",
       "      <td>고추_1.질병</td>\n",
       "    </tr>\n",
       "    <tr>\n",
       "      <th>10459</th>\n",
       "      <td>V006_79_1_02_01_03_13_3_9315z_20201126_4.JPG</td>\n",
       "      <td>2</td>\n",
       "      <td>1</td>\n",
       "      <td>13</td>\n",
       "      <td>3</td>\n",
       "      <td>[{'xtl': 0, 'ytl': 858, 'xbr': 4927, 'ybr': 30...</td>\n",
       "      <td>고추_1.질병</td>\n",
       "    </tr>\n",
       "    <tr>\n",
       "      <th>10460</th>\n",
       "      <td>V006_79_1_02_01_03_13_3_9315z_20201126_5.JPG</td>\n",
       "      <td>2</td>\n",
       "      <td>1</td>\n",
       "      <td>13</td>\n",
       "      <td>3</td>\n",
       "      <td>[{'xtl': 672, 'ytl': 483, 'xbr': 5277, 'ybr': ...</td>\n",
       "      <td>고추_1.질병</td>\n",
       "    </tr>\n",
       "    <tr>\n",
       "      <th>10461</th>\n",
       "      <td>V006_79_1_02_01_03_13_3_9315z_20201126_7.JPG</td>\n",
       "      <td>2</td>\n",
       "      <td>1</td>\n",
       "      <td>13</td>\n",
       "      <td>3</td>\n",
       "      <td>[{'xtl': 406, 'ytl': 452, 'xbr': 5140, 'ybr': ...</td>\n",
       "      <td>고추_1.질병</td>\n",
       "    </tr>\n",
       "    <tr>\n",
       "      <th>10462</th>\n",
       "      <td>V006_79_1_02_01_03_13_3_9315z_20201126_9.JPG</td>\n",
       "      <td>2</td>\n",
       "      <td>1</td>\n",
       "      <td>13</td>\n",
       "      <td>3</td>\n",
       "      <td>[{'xtl': 0, 'ytl': 295, 'xbr': 3634, 'ybr': 26...</td>\n",
       "      <td>고추_1.질병</td>\n",
       "    </tr>\n",
       "  </tbody>\n",
       "</table>\n",
       "<p>10463 rows × 7 columns</p>\n",
       "</div>"
      ],
      "text/plain": [
       "                                                   image  disease  crop  grow  \\\n",
       "0      V006_79_0_00_01_01_13_0_a01_20201102_0000_S01_...        0     1    13   \n",
       "1      V006_79_0_00_01_01_13_0_a01_20201102_0002_S01_...        0     1    13   \n",
       "2      V006_79_0_00_01_01_13_0_a01_20201103_0001_S01_...        0     1    13   \n",
       "3      V006_79_0_00_01_01_13_0_a01_20201103_0003_S01_...        0     1    13   \n",
       "4      V006_79_0_00_01_01_13_0_a05_20201111_0000_S01_...        0     1    13   \n",
       "...                                                  ...      ...   ...   ...   \n",
       "10458       V006_79_1_02_01_03_13_3_9315z_20201126_3.JPG        2     1    13   \n",
       "10459       V006_79_1_02_01_03_13_3_9315z_20201126_4.JPG        2     1    13   \n",
       "10460       V006_79_1_02_01_03_13_3_9315z_20201126_5.JPG        2     1    13   \n",
       "10461       V006_79_1_02_01_03_13_3_9315z_20201126_7.JPG        2     1    13   \n",
       "10462       V006_79_1_02_01_03_13_3_9315z_20201126_9.JPG        2     1    13   \n",
       "\n",
       "       risk                                             points     name  \n",
       "0         0  [{'xtl': 1118, 'ytl': 1294, 'xbr': 2900, 'ybr'...  고추_0.정상  \n",
       "1         0  [{'xtl': 1033, 'ytl': 1533, 'xbr': 2829, 'ybr'...  고추_0.정상  \n",
       "2         0  [{'xtl': 484, 'ytl': 1227, 'xbr': 3879, 'ybr':...  고추_0.정상  \n",
       "3         0  [{'xtl': 1241, 'ytl': 103, 'xbr': 2344, 'ybr':...  고추_0.정상  \n",
       "4         0  [{'xtl': 1382, 'ytl': 978, 'xbr': 3226, 'ybr':...  고추_0.정상  \n",
       "...     ...                                                ...      ...  \n",
       "10458     3  [{'xtl': 598, 'ytl': 469, 'xbr': 5168, 'ybr': ...  고추_1.질병  \n",
       "10459     3  [{'xtl': 0, 'ytl': 858, 'xbr': 4927, 'ybr': 30...  고추_1.질병  \n",
       "10460     3  [{'xtl': 672, 'ytl': 483, 'xbr': 5277, 'ybr': ...  고추_1.질병  \n",
       "10461     3  [{'xtl': 406, 'ytl': 452, 'xbr': 5140, 'ybr': ...  고추_1.질병  \n",
       "10462     3  [{'xtl': 0, 'ytl': 295, 'xbr': 3634, 'ybr': 26...  고추_1.질병  \n",
       "\n",
       "[10463 rows x 7 columns]"
      ]
     },
     "execution_count": 90,
     "metadata": {},
     "output_type": "execute_result"
    }
   ],
   "source": [
    "pd.concat([train_pepper_0, train_pepper_1])"
   ]
  },
  {
   "cell_type": "code",
   "execution_count": 92,
   "metadata": {},
   "outputs": [
    {
     "data": {
      "text/html": [
       "<div>\n",
       "<style scoped>\n",
       "    .dataframe tbody tr th:only-of-type {\n",
       "        vertical-align: middle;\n",
       "    }\n",
       "\n",
       "    .dataframe tbody tr th {\n",
       "        vertical-align: top;\n",
       "    }\n",
       "\n",
       "    .dataframe thead th {\n",
       "        text-align: right;\n",
       "    }\n",
       "</style>\n",
       "<table border=\"1\" class=\"dataframe\">\n",
       "  <thead>\n",
       "    <tr style=\"text-align: right;\">\n",
       "      <th></th>\n",
       "      <th>image</th>\n",
       "      <th>disease</th>\n",
       "      <th>crop</th>\n",
       "      <th>grow</th>\n",
       "      <th>risk</th>\n",
       "      <th>points</th>\n",
       "      <th>name</th>\n",
       "    </tr>\n",
       "  </thead>\n",
       "  <tbody>\n",
       "    <tr>\n",
       "      <th>0</th>\n",
       "      <td>V006_79_0_00_01_01_13_0_a01_20201102_0000_S01_...</td>\n",
       "      <td>0</td>\n",
       "      <td>1</td>\n",
       "      <td>13</td>\n",
       "      <td>0</td>\n",
       "      <td>[{'xtl': 1118, 'ytl': 1294, 'xbr': 2900, 'ybr'...</td>\n",
       "      <td>고추_0.정상</td>\n",
       "    </tr>\n",
       "    <tr>\n",
       "      <th>1</th>\n",
       "      <td>V006_79_0_00_01_01_13_0_a01_20201102_0002_S01_...</td>\n",
       "      <td>0</td>\n",
       "      <td>1</td>\n",
       "      <td>13</td>\n",
       "      <td>0</td>\n",
       "      <td>[{'xtl': 1033, 'ytl': 1533, 'xbr': 2829, 'ybr'...</td>\n",
       "      <td>고추_0.정상</td>\n",
       "    </tr>\n",
       "    <tr>\n",
       "      <th>2</th>\n",
       "      <td>V006_79_0_00_01_01_13_0_a01_20201103_0001_S01_...</td>\n",
       "      <td>0</td>\n",
       "      <td>1</td>\n",
       "      <td>13</td>\n",
       "      <td>0</td>\n",
       "      <td>[{'xtl': 484, 'ytl': 1227, 'xbr': 3879, 'ybr':...</td>\n",
       "      <td>고추_0.정상</td>\n",
       "    </tr>\n",
       "    <tr>\n",
       "      <th>3</th>\n",
       "      <td>V006_79_0_00_01_01_13_0_a01_20201103_0003_S01_...</td>\n",
       "      <td>0</td>\n",
       "      <td>1</td>\n",
       "      <td>13</td>\n",
       "      <td>0</td>\n",
       "      <td>[{'xtl': 1241, 'ytl': 103, 'xbr': 2344, 'ybr':...</td>\n",
       "      <td>고추_0.정상</td>\n",
       "    </tr>\n",
       "    <tr>\n",
       "      <th>4</th>\n",
       "      <td>V006_79_0_00_01_01_13_0_a05_20201111_0000_S01_...</td>\n",
       "      <td>0</td>\n",
       "      <td>1</td>\n",
       "      <td>13</td>\n",
       "      <td>0</td>\n",
       "      <td>[{'xtl': 1382, 'ytl': 978, 'xbr': 3226, 'ybr':...</td>\n",
       "      <td>고추_0.정상</td>\n",
       "    </tr>\n",
       "    <tr>\n",
       "      <th>...</th>\n",
       "      <td>...</td>\n",
       "      <td>...</td>\n",
       "      <td>...</td>\n",
       "      <td>...</td>\n",
       "      <td>...</td>\n",
       "      <td>...</td>\n",
       "      <td>...</td>\n",
       "    </tr>\n",
       "    <tr>\n",
       "      <th>10458</th>\n",
       "      <td>V006_79_1_02_01_03_13_3_9315z_20201126_3.JPG</td>\n",
       "      <td>2</td>\n",
       "      <td>1</td>\n",
       "      <td>13</td>\n",
       "      <td>3</td>\n",
       "      <td>[{'xtl': 598, 'ytl': 469, 'xbr': 5168, 'ybr': ...</td>\n",
       "      <td>고추_1.질병</td>\n",
       "    </tr>\n",
       "    <tr>\n",
       "      <th>10459</th>\n",
       "      <td>V006_79_1_02_01_03_13_3_9315z_20201126_4.JPG</td>\n",
       "      <td>2</td>\n",
       "      <td>1</td>\n",
       "      <td>13</td>\n",
       "      <td>3</td>\n",
       "      <td>[{'xtl': 0, 'ytl': 858, 'xbr': 4927, 'ybr': 30...</td>\n",
       "      <td>고추_1.질병</td>\n",
       "    </tr>\n",
       "    <tr>\n",
       "      <th>10460</th>\n",
       "      <td>V006_79_1_02_01_03_13_3_9315z_20201126_5.JPG</td>\n",
       "      <td>2</td>\n",
       "      <td>1</td>\n",
       "      <td>13</td>\n",
       "      <td>3</td>\n",
       "      <td>[{'xtl': 672, 'ytl': 483, 'xbr': 5277, 'ybr': ...</td>\n",
       "      <td>고추_1.질병</td>\n",
       "    </tr>\n",
       "    <tr>\n",
       "      <th>10461</th>\n",
       "      <td>V006_79_1_02_01_03_13_3_9315z_20201126_7.JPG</td>\n",
       "      <td>2</td>\n",
       "      <td>1</td>\n",
       "      <td>13</td>\n",
       "      <td>3</td>\n",
       "      <td>[{'xtl': 406, 'ytl': 452, 'xbr': 5140, 'ybr': ...</td>\n",
       "      <td>고추_1.질병</td>\n",
       "    </tr>\n",
       "    <tr>\n",
       "      <th>10462</th>\n",
       "      <td>V006_79_1_02_01_03_13_3_9315z_20201126_9.JPG</td>\n",
       "      <td>2</td>\n",
       "      <td>1</td>\n",
       "      <td>13</td>\n",
       "      <td>3</td>\n",
       "      <td>[{'xtl': 0, 'ytl': 295, 'xbr': 3634, 'ybr': 26...</td>\n",
       "      <td>고추_1.질병</td>\n",
       "    </tr>\n",
       "  </tbody>\n",
       "</table>\n",
       "<p>10463 rows × 7 columns</p>\n",
       "</div>"
      ],
      "text/plain": [
       "                                                   image  disease  crop  grow  \\\n",
       "0      V006_79_0_00_01_01_13_0_a01_20201102_0000_S01_...        0     1    13   \n",
       "1      V006_79_0_00_01_01_13_0_a01_20201102_0002_S01_...        0     1    13   \n",
       "2      V006_79_0_00_01_01_13_0_a01_20201103_0001_S01_...        0     1    13   \n",
       "3      V006_79_0_00_01_01_13_0_a01_20201103_0003_S01_...        0     1    13   \n",
       "4      V006_79_0_00_01_01_13_0_a05_20201111_0000_S01_...        0     1    13   \n",
       "...                                                  ...      ...   ...   ...   \n",
       "10458       V006_79_1_02_01_03_13_3_9315z_20201126_3.JPG        2     1    13   \n",
       "10459       V006_79_1_02_01_03_13_3_9315z_20201126_4.JPG        2     1    13   \n",
       "10460       V006_79_1_02_01_03_13_3_9315z_20201126_5.JPG        2     1    13   \n",
       "10461       V006_79_1_02_01_03_13_3_9315z_20201126_7.JPG        2     1    13   \n",
       "10462       V006_79_1_02_01_03_13_3_9315z_20201126_9.JPG        2     1    13   \n",
       "\n",
       "       risk                                             points     name  \n",
       "0         0  [{'xtl': 1118, 'ytl': 1294, 'xbr': 2900, 'ybr'...  고추_0.정상  \n",
       "1         0  [{'xtl': 1033, 'ytl': 1533, 'xbr': 2829, 'ybr'...  고추_0.정상  \n",
       "2         0  [{'xtl': 484, 'ytl': 1227, 'xbr': 3879, 'ybr':...  고추_0.정상  \n",
       "3         0  [{'xtl': 1241, 'ytl': 103, 'xbr': 2344, 'ybr':...  고추_0.정상  \n",
       "4         0  [{'xtl': 1382, 'ytl': 978, 'xbr': 3226, 'ybr':...  고추_0.정상  \n",
       "...     ...                                                ...      ...  \n",
       "10458     3  [{'xtl': 598, 'ytl': 469, 'xbr': 5168, 'ybr': ...  고추_1.질병  \n",
       "10459     3  [{'xtl': 0, 'ytl': 858, 'xbr': 4927, 'ybr': 30...  고추_1.질병  \n",
       "10460     3  [{'xtl': 672, 'ytl': 483, 'xbr': 5277, 'ybr': ...  고추_1.질병  \n",
       "10461     3  [{'xtl': 406, 'ytl': 452, 'xbr': 5140, 'ybr': ...  고추_1.질병  \n",
       "10462     3  [{'xtl': 0, 'ytl': 295, 'xbr': 3634, 'ybr': 26...  고추_1.질병  \n",
       "\n",
       "[10463 rows x 7 columns]"
      ]
     },
     "execution_count": 92,
     "metadata": {},
     "output_type": "execute_result"
    }
   ],
   "source": [
    "# 정상데이터와 질병데이터 병합\n",
    "train_csv = pd.concat([train_pepper_0, train_pepper_1])\n",
    "train_csv"
   ]
  },
  {
   "cell_type": "code",
   "execution_count": 93,
   "metadata": {},
   "outputs": [],
   "source": [
    "y = []\n",
    "for item in train_csv['disease']:\n",
    "  y.append(item)"
   ]
  },
  {
   "cell_type": "code",
   "execution_count": 94,
   "metadata": {},
   "outputs": [
    {
     "name": "stdout",
     "output_type": "stream",
     "text": [
      "(10463,)\n"
     ]
    }
   ],
   "source": [
    "print(np.shape(y))"
   ]
  },
  {
   "cell_type": "code",
   "execution_count": 95,
   "metadata": {},
   "outputs": [
    {
     "data": {
      "text/plain": [
       "array([0, 1, 2])"
      ]
     },
     "execution_count": 95,
     "metadata": {},
     "output_type": "execute_result"
    }
   ],
   "source": [
    "np.unique(y)"
   ]
  },
  {
   "cell_type": "code",
   "execution_count": 97,
   "metadata": {},
   "outputs": [
    {
     "data": {
      "text/plain": [
       "(list, list)"
      ]
     },
     "execution_count": 97,
     "metadata": {},
     "output_type": "execute_result"
    }
   ],
   "source": [
    "type(X), type(y)"
   ]
  },
  {
   "cell_type": "code",
   "execution_count": null,
   "metadata": {},
   "outputs": [],
   "source": [
    "# np.array 로 변환해야 작업 가능\n",
    "X = np.array(X)\n",
    "y = np.array(y)"
   ]
  },
  {
   "cell_type": "code",
   "execution_count": 98,
   "metadata": {},
   "outputs": [],
   "source": [
    "# npz 파일 제작\n",
    "np.savez('data/test_plant.npz', X=X, Y=y)"
   ]
  },
  {
   "cell_type": "code",
   "execution_count": 102,
   "metadata": {},
   "outputs": [
    {
     "name": "stdout",
     "output_type": "stream",
     "text": [
      "--x값--\n"
     ]
    },
    {
     "data": {
      "image/png": "[encoded data removed]",
      "text/plain": [
       "<Figure size 432x288 with 1 Axes>"
      ]
     },
     "metadata": {
      "needs_background": "light"
     },
     "output_type": "display_data"
    },
    {
     "name": "stdout",
     "output_type": "stream",
     "text": [
      "--y value--\n",
      "[0, 0, 0, 0, 0]\n"
     ]
    }
   ],
   "source": [
    "# 5개의 이미지를 수평으로 나란히 출력\n",
    "import matplotlib.pyplot as plt\n",
    "\n",
    "print('--x값--')\n",
    "plt.imshow(np.hstack(X[:5]))\n",
    "plt.show()\n",
    "\n",
    "print('--y value--')\n",
    "print(y[:5])"
   ]
  },
  {
   "cell_type": "code",
   "execution_count": null,
   "metadata": {},
   "outputs": [],
   "source": []
  }
 ],
 "metadata": {
  "interpreter": {
   "hash": "b3ba2566441a7c06988d0923437866b63cedc61552a5af99d1f4fb67d367b25f"
  },
  "kernelspec": {
   "display_name": "Python 3.8.11 64-bit ('base': conda)",
   "name": "python3"
  },
  "language_info": {
   "codemirror_mode": {
    "name": "ipython",
    "version": 3
   },
   "file_extension": ".py",
   "mimetype": "text/x-python",
   "name": "python",
   "nbconvert_exporter": "python",
   "pygments_lexer": "ipython3",
   "version": "3.8.11"
  },
  "orig_nbformat": 4
 },
 "nbformat": 4,
 "nbformat_minor": 2
}
