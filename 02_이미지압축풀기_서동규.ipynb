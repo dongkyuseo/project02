{
 "cells": [
  {
   "cell_type": "markdown",
   "metadata": {},
   "source": [
    "# train 이미지 압축해제"
   ]
  },
  {
   "cell_type": "code",
   "execution_count": 11,
   "metadata": {},
   "outputs": [],
   "source": [
    "# 압축파일 폴더별 정리\n",
    "import os\n",
    "import zipfile\n",
    "path = 'data/img/zip/Training' # 폴더 경로 설정\n",
    "file_list = os.listdir(path) # 압축파일 이름 리스트화\n",
    "\n",
    "for file_name in file_list: # 압축파일 리스트화한걸 이름으로 하나씩 넘김\n",
    "      with zipfile.ZipFile(f'{path}/{file_name}', 'r') as existing_zip: # 압축파일 경로 설정\n",
    "        foldername = file_name[:-4] # 폴더 이름 추출\n",
    "        os.mkdir(f'data/img/Training/{foldername}') # 폴더 생성\n",
    "        existing_zip.extractall(f'data/img/Training/{foldername}') #압축을 풀어 폴더에 넣기"
   ]
  },
  {
   "cell_type": "markdown",
   "metadata": {},
   "source": [
    "# Validation 이미지 압축해제"
   ]
  },
  {
   "cell_type": "code",
   "execution_count": 12,
   "metadata": {},
   "outputs": [],
   "source": [
    "# 압축파일 폴더별 정리\n",
    "import os\n",
    "import zipfile\n",
    "path = 'data/img/zip/Validation' # 폴더 경로 설정\n",
    "file_list = os.listdir(path) # 압축파일 이름 리스트화\n",
    "\n",
    "for file_name in file_list: # 압축파일 리스트화한걸 이름으로 하나씩 넘김\n",
    "      with zipfile.ZipFile(f'{path}/{file_name}', 'r') as existing_zip: # 압축파일 경로 설정\n",
    "        foldername = file_name[:-4] # 폴더 이름 추출\n",
    "        os.mkdir(f'data/img/Validation/{foldername}') # 폴더 생성\n",
    "        existing_zip.extractall(f'data/img/Validation/{foldername}') #압축을 풀어 폴더에 넣기"
   ]
  }
 ],
 "metadata": {
  "interpreter": {
   "hash": "b3ba2566441a7c06988d0923437866b63cedc61552a5af99d1f4fb67d367b25f"
  },
  "kernelspec": {
   "display_name": "Python 3.8.11 64-bit ('base': conda)",
   "name": "python3"
  },
  "language_info": {
   "codemirror_mode": {
    "name": "ipython",
    "version": 3
   },
   "file_extension": ".py",
   "mimetype": "text/x-python",
   "name": "python",
   "nbconvert_exporter": "python",
   "pygments_lexer": "ipython3",
   "version": "3.8.11"
  },
  "orig_nbformat": 4
 },
 "nbformat": 4,
 "nbformat_minor": 2
}
